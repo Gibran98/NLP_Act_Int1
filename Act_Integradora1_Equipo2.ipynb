{
  "nbformat": 4,
  "nbformat_minor": 0,
  "metadata": {
    "colab": {
      "name": "Act_Integradora1_Equipo2.ipynb",
      "provenance": [],
      "collapsed_sections": [],
      "toc_visible": true
    },
    "kernelspec": {
      "display_name": "Python 3",
      "language": "python",
      "name": "python3"
    },
    "language_info": {
      "codemirror_mode": {
        "name": "ipython",
        "version": 3
      },
      "file_extension": ".py",
      "mimetype": "text/x-python",
      "name": "python",
      "nbconvert_exporter": "python",
      "pygments_lexer": "ipython3",
      "version": "3.7.3"
    },
    "accelerator": "GPU",
    "widgets": {
      "application/vnd.jupyter.widget-state+json": {
        "a56c8e83cd4642b4a88d48b9f77f58cb": {
          "model_module": "@jupyter-widgets/controls",
          "model_name": "HBoxModel",
          "state": {
            "_view_name": "HBoxView",
            "_dom_classes": [],
            "_model_name": "HBoxModel",
            "_view_module": "@jupyter-widgets/controls",
            "_model_module_version": "1.5.0",
            "_view_count": null,
            "_view_module_version": "1.5.0",
            "box_style": "",
            "layout": "IPY_MODEL_2b72013c505e4e7c81252837a3a01dc8",
            "_model_module": "@jupyter-widgets/controls",
            "children": [
              "IPY_MODEL_9de7c4e7091743359219a0424cfbf88f",
              "IPY_MODEL_fa8fb4ef14df4ada8a4715b3895b8a32"
            ]
          }
        },
        "2b72013c505e4e7c81252837a3a01dc8": {
          "model_module": "@jupyter-widgets/base",
          "model_name": "LayoutModel",
          "state": {
            "_view_name": "LayoutView",
            "grid_template_rows": null,
            "right": null,
            "justify_content": null,
            "_view_module": "@jupyter-widgets/base",
            "overflow": null,
            "_model_module_version": "1.2.0",
            "_view_count": null,
            "flex_flow": null,
            "width": null,
            "min_width": null,
            "border": null,
            "align_items": null,
            "bottom": null,
            "_model_module": "@jupyter-widgets/base",
            "top": null,
            "grid_column": null,
            "overflow_y": null,
            "overflow_x": null,
            "grid_auto_flow": null,
            "grid_area": null,
            "grid_template_columns": null,
            "flex": null,
            "_model_name": "LayoutModel",
            "justify_items": null,
            "grid_row": null,
            "max_height": null,
            "align_content": null,
            "visibility": null,
            "align_self": null,
            "height": null,
            "min_height": null,
            "padding": null,
            "grid_auto_rows": null,
            "grid_gap": null,
            "max_width": null,
            "order": null,
            "_view_module_version": "1.2.0",
            "grid_template_areas": null,
            "object_position": null,
            "object_fit": null,
            "grid_auto_columns": null,
            "margin": null,
            "display": null,
            "left": null
          }
        },
        "9de7c4e7091743359219a0424cfbf88f": {
          "model_module": "@jupyter-widgets/controls",
          "model_name": "FloatProgressModel",
          "state": {
            "_view_name": "ProgressView",
            "style": "IPY_MODEL_936d013a35d64a51b8b6abd3959e5584",
            "_dom_classes": [],
            "description": "Downloading: 100%",
            "_model_name": "FloatProgressModel",
            "bar_style": "success",
            "max": 4317,
            "_view_module": "@jupyter-widgets/controls",
            "_model_module_version": "1.5.0",
            "value": 4317,
            "_view_count": null,
            "_view_module_version": "1.5.0",
            "orientation": "horizontal",
            "min": 0,
            "description_tooltip": null,
            "_model_module": "@jupyter-widgets/controls",
            "layout": "IPY_MODEL_ecdffacf33064017a72a08fddf186d4a"
          }
        },
        "fa8fb4ef14df4ada8a4715b3895b8a32": {
          "model_module": "@jupyter-widgets/controls",
          "model_name": "HTMLModel",
          "state": {
            "_view_name": "HTMLView",
            "style": "IPY_MODEL_acd37c3d78ab42b993860c5fb85c4728",
            "_dom_classes": [],
            "description": "",
            "_model_name": "HTMLModel",
            "placeholder": "​",
            "_view_module": "@jupyter-widgets/controls",
            "_model_module_version": "1.5.0",
            "value": " 4.32k/4.32k [00:29&lt;00:00, 148B/s]",
            "_view_count": null,
            "_view_module_version": "1.5.0",
            "description_tooltip": null,
            "_model_module": "@jupyter-widgets/controls",
            "layout": "IPY_MODEL_2ed2afbec4614bccbed27e9aacb76a99"
          }
        },
        "936d013a35d64a51b8b6abd3959e5584": {
          "model_module": "@jupyter-widgets/controls",
          "model_name": "ProgressStyleModel",
          "state": {
            "_view_name": "StyleView",
            "_model_name": "ProgressStyleModel",
            "description_width": "initial",
            "_view_module": "@jupyter-widgets/base",
            "_model_module_version": "1.5.0",
            "_view_count": null,
            "_view_module_version": "1.2.0",
            "bar_color": null,
            "_model_module": "@jupyter-widgets/controls"
          }
        },
        "ecdffacf33064017a72a08fddf186d4a": {
          "model_module": "@jupyter-widgets/base",
          "model_name": "LayoutModel",
          "state": {
            "_view_name": "LayoutView",
            "grid_template_rows": null,
            "right": null,
            "justify_content": null,
            "_view_module": "@jupyter-widgets/base",
            "overflow": null,
            "_model_module_version": "1.2.0",
            "_view_count": null,
            "flex_flow": null,
            "width": null,
            "min_width": null,
            "border": null,
            "align_items": null,
            "bottom": null,
            "_model_module": "@jupyter-widgets/base",
            "top": null,
            "grid_column": null,
            "overflow_y": null,
            "overflow_x": null,
            "grid_auto_flow": null,
            "grid_area": null,
            "grid_template_columns": null,
            "flex": null,
            "_model_name": "LayoutModel",
            "justify_items": null,
            "grid_row": null,
            "max_height": null,
            "align_content": null,
            "visibility": null,
            "align_self": null,
            "height": null,
            "min_height": null,
            "padding": null,
            "grid_auto_rows": null,
            "grid_gap": null,
            "max_width": null,
            "order": null,
            "_view_module_version": "1.2.0",
            "grid_template_areas": null,
            "object_position": null,
            "object_fit": null,
            "grid_auto_columns": null,
            "margin": null,
            "display": null,
            "left": null
          }
        },
        "acd37c3d78ab42b993860c5fb85c4728": {
          "model_module": "@jupyter-widgets/controls",
          "model_name": "DescriptionStyleModel",
          "state": {
            "_view_name": "StyleView",
            "_model_name": "DescriptionStyleModel",
            "description_width": "",
            "_view_module": "@jupyter-widgets/base",
            "_model_module_version": "1.5.0",
            "_view_count": null,
            "_view_module_version": "1.2.0",
            "_model_module": "@jupyter-widgets/controls"
          }
        },
        "2ed2afbec4614bccbed27e9aacb76a99": {
          "model_module": "@jupyter-widgets/base",
          "model_name": "LayoutModel",
          "state": {
            "_view_name": "LayoutView",
            "grid_template_rows": null,
            "right": null,
            "justify_content": null,
            "_view_module": "@jupyter-widgets/base",
            "overflow": null,
            "_model_module_version": "1.2.0",
            "_view_count": null,
            "flex_flow": null,
            "width": null,
            "min_width": null,
            "border": null,
            "align_items": null,
            "bottom": null,
            "_model_module": "@jupyter-widgets/base",
            "top": null,
            "grid_column": null,
            "overflow_y": null,
            "overflow_x": null,
            "grid_auto_flow": null,
            "grid_area": null,
            "grid_template_columns": null,
            "flex": null,
            "_model_name": "LayoutModel",
            "justify_items": null,
            "grid_row": null,
            "max_height": null,
            "align_content": null,
            "visibility": null,
            "align_self": null,
            "height": null,
            "min_height": null,
            "padding": null,
            "grid_auto_rows": null,
            "grid_gap": null,
            "max_width": null,
            "order": null,
            "_view_module_version": "1.2.0",
            "grid_template_areas": null,
            "object_position": null,
            "object_fit": null,
            "grid_auto_columns": null,
            "margin": null,
            "display": null,
            "left": null
          }
        },
        "ab620f9e122243c997da215778965845": {
          "model_module": "@jupyter-widgets/controls",
          "model_name": "HBoxModel",
          "state": {
            "_view_name": "HBoxView",
            "_dom_classes": [],
            "_model_name": "HBoxModel",
            "_view_module": "@jupyter-widgets/controls",
            "_model_module_version": "1.5.0",
            "_view_count": null,
            "_view_module_version": "1.5.0",
            "box_style": "",
            "layout": "IPY_MODEL_74b5c27c46d3483eb878d83582655c0e",
            "_model_module": "@jupyter-widgets/controls",
            "children": [
              "IPY_MODEL_1bd5289598784af599844eae942c3326",
              "IPY_MODEL_1e14cffb33e04cca8b6b5f6279054dc5"
            ]
          }
        },
        "74b5c27c46d3483eb878d83582655c0e": {
          "model_module": "@jupyter-widgets/base",
          "model_name": "LayoutModel",
          "state": {
            "_view_name": "LayoutView",
            "grid_template_rows": null,
            "right": null,
            "justify_content": null,
            "_view_module": "@jupyter-widgets/base",
            "overflow": null,
            "_model_module_version": "1.2.0",
            "_view_count": null,
            "flex_flow": null,
            "width": null,
            "min_width": null,
            "border": null,
            "align_items": null,
            "bottom": null,
            "_model_module": "@jupyter-widgets/base",
            "top": null,
            "grid_column": null,
            "overflow_y": null,
            "overflow_x": null,
            "grid_auto_flow": null,
            "grid_area": null,
            "grid_template_columns": null,
            "flex": null,
            "_model_name": "LayoutModel",
            "justify_items": null,
            "grid_row": null,
            "max_height": null,
            "align_content": null,
            "visibility": null,
            "align_self": null,
            "height": null,
            "min_height": null,
            "padding": null,
            "grid_auto_rows": null,
            "grid_gap": null,
            "max_width": null,
            "order": null,
            "_view_module_version": "1.2.0",
            "grid_template_areas": null,
            "object_position": null,
            "object_fit": null,
            "grid_auto_columns": null,
            "margin": null,
            "display": null,
            "left": null
          }
        },
        "1bd5289598784af599844eae942c3326": {
          "model_module": "@jupyter-widgets/controls",
          "model_name": "FloatProgressModel",
          "state": {
            "_view_name": "ProgressView",
            "style": "IPY_MODEL_caa7b0ba9d7d44d1840737874f1beb6b",
            "_dom_classes": [],
            "description": "Downloading: 100%",
            "_model_name": "FloatProgressModel",
            "bar_style": "success",
            "max": 479555971,
            "_view_module": "@jupyter-widgets/controls",
            "_model_module_version": "1.5.0",
            "value": 479555971,
            "_view_count": null,
            "_view_module_version": "1.5.0",
            "orientation": "horizontal",
            "min": 0,
            "description_tooltip": null,
            "_model_module": "@jupyter-widgets/controls",
            "layout": "IPY_MODEL_1aa198c190e9467da76be636145c8676"
          }
        },
        "1e14cffb33e04cca8b6b5f6279054dc5": {
          "model_module": "@jupyter-widgets/controls",
          "model_name": "HTMLModel",
          "state": {
            "_view_name": "HTMLView",
            "style": "IPY_MODEL_7c92c81ac2de4f77a1197b90f78f7b2a",
            "_dom_classes": [],
            "description": "",
            "_model_name": "HTMLModel",
            "placeholder": "​",
            "_view_module": "@jupyter-widgets/controls",
            "_model_module_version": "1.5.0",
            "value": " 480M/480M [00:14&lt;00:00, 34.1MB/s]",
            "_view_count": null,
            "_view_module_version": "1.5.0",
            "description_tooltip": null,
            "_model_module": "@jupyter-widgets/controls",
            "layout": "IPY_MODEL_7a06f9cef79c4479a77721a3d18aaa3b"
          }
        },
        "caa7b0ba9d7d44d1840737874f1beb6b": {
          "model_module": "@jupyter-widgets/controls",
          "model_name": "ProgressStyleModel",
          "state": {
            "_view_name": "StyleView",
            "_model_name": "ProgressStyleModel",
            "description_width": "initial",
            "_view_module": "@jupyter-widgets/base",
            "_model_module_version": "1.5.0",
            "_view_count": null,
            "_view_module_version": "1.2.0",
            "bar_color": null,
            "_model_module": "@jupyter-widgets/controls"
          }
        },
        "1aa198c190e9467da76be636145c8676": {
          "model_module": "@jupyter-widgets/base",
          "model_name": "LayoutModel",
          "state": {
            "_view_name": "LayoutView",
            "grid_template_rows": null,
            "right": null,
            "justify_content": null,
            "_view_module": "@jupyter-widgets/base",
            "overflow": null,
            "_model_module_version": "1.2.0",
            "_view_count": null,
            "flex_flow": null,
            "width": null,
            "min_width": null,
            "border": null,
            "align_items": null,
            "bottom": null,
            "_model_module": "@jupyter-widgets/base",
            "top": null,
            "grid_column": null,
            "overflow_y": null,
            "overflow_x": null,
            "grid_auto_flow": null,
            "grid_area": null,
            "grid_template_columns": null,
            "flex": null,
            "_model_name": "LayoutModel",
            "justify_items": null,
            "grid_row": null,
            "max_height": null,
            "align_content": null,
            "visibility": null,
            "align_self": null,
            "height": null,
            "min_height": null,
            "padding": null,
            "grid_auto_rows": null,
            "grid_gap": null,
            "max_width": null,
            "order": null,
            "_view_module_version": "1.2.0",
            "grid_template_areas": null,
            "object_position": null,
            "object_fit": null,
            "grid_auto_columns": null,
            "margin": null,
            "display": null,
            "left": null
          }
        },
        "7c92c81ac2de4f77a1197b90f78f7b2a": {
          "model_module": "@jupyter-widgets/controls",
          "model_name": "DescriptionStyleModel",
          "state": {
            "_view_name": "StyleView",
            "_model_name": "DescriptionStyleModel",
            "description_width": "",
            "_view_module": "@jupyter-widgets/base",
            "_model_module_version": "1.5.0",
            "_view_count": null,
            "_view_module_version": "1.2.0",
            "_model_module": "@jupyter-widgets/controls"
          }
        },
        "7a06f9cef79c4479a77721a3d18aaa3b": {
          "model_module": "@jupyter-widgets/base",
          "model_name": "LayoutModel",
          "state": {
            "_view_name": "LayoutView",
            "grid_template_rows": null,
            "right": null,
            "justify_content": null,
            "_view_module": "@jupyter-widgets/base",
            "overflow": null,
            "_model_module_version": "1.2.0",
            "_view_count": null,
            "flex_flow": null,
            "width": null,
            "min_width": null,
            "border": null,
            "align_items": null,
            "bottom": null,
            "_model_module": "@jupyter-widgets/base",
            "top": null,
            "grid_column": null,
            "overflow_y": null,
            "overflow_x": null,
            "grid_auto_flow": null,
            "grid_area": null,
            "grid_template_columns": null,
            "flex": null,
            "_model_name": "LayoutModel",
            "justify_items": null,
            "grid_row": null,
            "max_height": null,
            "align_content": null,
            "visibility": null,
            "align_self": null,
            "height": null,
            "min_height": null,
            "padding": null,
            "grid_auto_rows": null,
            "grid_gap": null,
            "max_width": null,
            "order": null,
            "_view_module_version": "1.2.0",
            "grid_template_areas": null,
            "object_position": null,
            "object_fit": null,
            "grid_auto_columns": null,
            "margin": null,
            "display": null,
            "left": null
          }
        },
        "9d42ef5dd49942e89c3d70c3e6139734": {
          "model_module": "@jupyter-widgets/controls",
          "model_name": "HBoxModel",
          "state": {
            "_view_name": "HBoxView",
            "_dom_classes": [],
            "_model_name": "HBoxModel",
            "_view_module": "@jupyter-widgets/controls",
            "_model_module_version": "1.5.0",
            "_view_count": null,
            "_view_module_version": "1.5.0",
            "box_style": "",
            "layout": "IPY_MODEL_99623c5f50924628883c061706873d50",
            "_model_module": "@jupyter-widgets/controls",
            "children": [
              "IPY_MODEL_7c3079614154459da378b03f5bfbd1f9",
              "IPY_MODEL_855075775fc74d8d9c4d419c97eb4f7a"
            ]
          }
        },
        "99623c5f50924628883c061706873d50": {
          "model_module": "@jupyter-widgets/base",
          "model_name": "LayoutModel",
          "state": {
            "_view_name": "LayoutView",
            "grid_template_rows": null,
            "right": null,
            "justify_content": null,
            "_view_module": "@jupyter-widgets/base",
            "overflow": null,
            "_model_module_version": "1.2.0",
            "_view_count": null,
            "flex_flow": null,
            "width": null,
            "min_width": null,
            "border": null,
            "align_items": null,
            "bottom": null,
            "_model_module": "@jupyter-widgets/base",
            "top": null,
            "grid_column": null,
            "overflow_y": null,
            "overflow_x": null,
            "grid_auto_flow": null,
            "grid_area": null,
            "grid_template_columns": null,
            "flex": null,
            "_model_name": "LayoutModel",
            "justify_items": null,
            "grid_row": null,
            "max_height": null,
            "align_content": null,
            "visibility": null,
            "align_self": null,
            "height": null,
            "min_height": null,
            "padding": null,
            "grid_auto_rows": null,
            "grid_gap": null,
            "max_width": null,
            "order": null,
            "_view_module_version": "1.2.0",
            "grid_template_areas": null,
            "object_position": null,
            "object_fit": null,
            "grid_auto_columns": null,
            "margin": null,
            "display": null,
            "left": null
          }
        },
        "7c3079614154459da378b03f5bfbd1f9": {
          "model_module": "@jupyter-widgets/controls",
          "model_name": "FloatProgressModel",
          "state": {
            "_view_name": "ProgressView",
            "style": "IPY_MODEL_bc97f8115bf248c799eb621597e6942e",
            "_dom_classes": [],
            "description": "Downloading: 100%",
            "_model_name": "FloatProgressModel",
            "bar_style": "success",
            "max": 212420087,
            "_view_module": "@jupyter-widgets/controls",
            "_model_module_version": "1.5.0",
            "value": 212420087,
            "_view_count": null,
            "_view_module_version": "1.5.0",
            "orientation": "horizontal",
            "min": 0,
            "description_tooltip": null,
            "_model_module": "@jupyter-widgets/controls",
            "layout": "IPY_MODEL_8e534266eabe4f9fa7c1f4bde3f8c6c8"
          }
        },
        "855075775fc74d8d9c4d419c97eb4f7a": {
          "model_module": "@jupyter-widgets/controls",
          "model_name": "HTMLModel",
          "state": {
            "_view_name": "HTMLView",
            "style": "IPY_MODEL_8262d6138a4b41e8a5726899bd7659c4",
            "_dom_classes": [],
            "description": "",
            "_model_name": "HTMLModel",
            "placeholder": "​",
            "_view_module": "@jupyter-widgets/controls",
            "_model_module_version": "1.5.0",
            "value": " 212M/212M [00:04&lt;00:00, 48.3MB/s]",
            "_view_count": null,
            "_view_module_version": "1.5.0",
            "description_tooltip": null,
            "_model_module": "@jupyter-widgets/controls",
            "layout": "IPY_MODEL_6e537b02b0394455b0867889061dddbf"
          }
        },
        "bc97f8115bf248c799eb621597e6942e": {
          "model_module": "@jupyter-widgets/controls",
          "model_name": "ProgressStyleModel",
          "state": {
            "_view_name": "StyleView",
            "_model_name": "ProgressStyleModel",
            "description_width": "initial",
            "_view_module": "@jupyter-widgets/base",
            "_model_module_version": "1.5.0",
            "_view_count": null,
            "_view_module_version": "1.2.0",
            "bar_color": null,
            "_model_module": "@jupyter-widgets/controls"
          }
        },
        "8e534266eabe4f9fa7c1f4bde3f8c6c8": {
          "model_module": "@jupyter-widgets/base",
          "model_name": "LayoutModel",
          "state": {
            "_view_name": "LayoutView",
            "grid_template_rows": null,
            "right": null,
            "justify_content": null,
            "_view_module": "@jupyter-widgets/base",
            "overflow": null,
            "_model_module_version": "1.2.0",
            "_view_count": null,
            "flex_flow": null,
            "width": null,
            "min_width": null,
            "border": null,
            "align_items": null,
            "bottom": null,
            "_model_module": "@jupyter-widgets/base",
            "top": null,
            "grid_column": null,
            "overflow_y": null,
            "overflow_x": null,
            "grid_auto_flow": null,
            "grid_area": null,
            "grid_template_columns": null,
            "flex": null,
            "_model_name": "LayoutModel",
            "justify_items": null,
            "grid_row": null,
            "max_height": null,
            "align_content": null,
            "visibility": null,
            "align_self": null,
            "height": null,
            "min_height": null,
            "padding": null,
            "grid_auto_rows": null,
            "grid_gap": null,
            "max_width": null,
            "order": null,
            "_view_module_version": "1.2.0",
            "grid_template_areas": null,
            "object_position": null,
            "object_fit": null,
            "grid_auto_columns": null,
            "margin": null,
            "display": null,
            "left": null
          }
        },
        "8262d6138a4b41e8a5726899bd7659c4": {
          "model_module": "@jupyter-widgets/controls",
          "model_name": "DescriptionStyleModel",
          "state": {
            "_view_name": "StyleView",
            "_model_name": "DescriptionStyleModel",
            "description_width": "",
            "_view_module": "@jupyter-widgets/base",
            "_model_module_version": "1.5.0",
            "_view_count": null,
            "_view_module_version": "1.2.0",
            "_model_module": "@jupyter-widgets/controls"
          }
        },
        "6e537b02b0394455b0867889061dddbf": {
          "model_module": "@jupyter-widgets/base",
          "model_name": "LayoutModel",
          "state": {
            "_view_name": "LayoutView",
            "grid_template_rows": null,
            "right": null,
            "justify_content": null,
            "_view_module": "@jupyter-widgets/base",
            "overflow": null,
            "_model_module_version": "1.2.0",
            "_view_count": null,
            "flex_flow": null,
            "width": null,
            "min_width": null,
            "border": null,
            "align_items": null,
            "bottom": null,
            "_model_module": "@jupyter-widgets/base",
            "top": null,
            "grid_column": null,
            "overflow_y": null,
            "overflow_x": null,
            "grid_auto_flow": null,
            "grid_area": null,
            "grid_template_columns": null,
            "flex": null,
            "_model_name": "LayoutModel",
            "justify_items": null,
            "grid_row": null,
            "max_height": null,
            "align_content": null,
            "visibility": null,
            "align_self": null,
            "height": null,
            "min_height": null,
            "padding": null,
            "grid_auto_rows": null,
            "grid_gap": null,
            "max_width": null,
            "order": null,
            "_view_module_version": "1.2.0",
            "grid_template_areas": null,
            "object_position": null,
            "object_fit": null,
            "grid_auto_columns": null,
            "margin": null,
            "display": null,
            "left": null
          }
        },
        "3f137c6d075b4c7eba9a14f9ebff44a1": {
          "model_module": "@jupyter-widgets/controls",
          "model_name": "HBoxModel",
          "state": {
            "_view_name": "HBoxView",
            "_dom_classes": [],
            "_model_name": "HBoxModel",
            "_view_module": "@jupyter-widgets/controls",
            "_model_module_version": "1.5.0",
            "_view_count": null,
            "_view_module_version": "1.5.0",
            "box_style": "",
            "layout": "IPY_MODEL_7eb95e0a12d44da180b9f5954d0e84cb",
            "_model_module": "@jupyter-widgets/controls",
            "children": [
              "IPY_MODEL_2a4f9aa004f146299e63e540b5015415",
              "IPY_MODEL_4732a415943444029a891bfd65d6f283"
            ]
          }
        },
        "7eb95e0a12d44da180b9f5954d0e84cb": {
          "model_module": "@jupyter-widgets/base",
          "model_name": "LayoutModel",
          "state": {
            "_view_name": "LayoutView",
            "grid_template_rows": null,
            "right": null,
            "justify_content": null,
            "_view_module": "@jupyter-widgets/base",
            "overflow": null,
            "_model_module_version": "1.2.0",
            "_view_count": null,
            "flex_flow": null,
            "width": null,
            "min_width": null,
            "border": null,
            "align_items": null,
            "bottom": null,
            "_model_module": "@jupyter-widgets/base",
            "top": null,
            "grid_column": null,
            "overflow_y": null,
            "overflow_x": null,
            "grid_auto_flow": null,
            "grid_area": null,
            "grid_template_columns": null,
            "flex": null,
            "_model_name": "LayoutModel",
            "justify_items": null,
            "grid_row": null,
            "max_height": null,
            "align_content": null,
            "visibility": null,
            "align_self": null,
            "height": null,
            "min_height": null,
            "padding": null,
            "grid_auto_rows": null,
            "grid_gap": null,
            "max_width": null,
            "order": null,
            "_view_module_version": "1.2.0",
            "grid_template_areas": null,
            "object_position": null,
            "object_fit": null,
            "grid_auto_columns": null,
            "margin": null,
            "display": null,
            "left": null
          }
        },
        "2a4f9aa004f146299e63e540b5015415": {
          "model_module": "@jupyter-widgets/controls",
          "model_name": "FloatProgressModel",
          "state": {
            "_view_name": "ProgressView",
            "style": "IPY_MODEL_fae7362be7c14b6399c09bcb60885677",
            "_dom_classes": [],
            "description": "Downloading: 100%",
            "_model_name": "FloatProgressModel",
            "bar_style": "success",
            "max": 253217,
            "_view_module": "@jupyter-widgets/controls",
            "_model_module_version": "1.5.0",
            "value": 253217,
            "_view_count": null,
            "_view_module_version": "1.5.0",
            "orientation": "horizontal",
            "min": 0,
            "description_tooltip": null,
            "_model_module": "@jupyter-widgets/controls",
            "layout": "IPY_MODEL_02f409dac9e543c59b2862f1e54ffce0"
          }
        },
        "4732a415943444029a891bfd65d6f283": {
          "model_module": "@jupyter-widgets/controls",
          "model_name": "HTMLModel",
          "state": {
            "_view_name": "HTMLView",
            "style": "IPY_MODEL_288872fdf0dd480687e54e3b5f88a633",
            "_dom_classes": [],
            "description": "",
            "_model_name": "HTMLModel",
            "placeholder": "​",
            "_view_module": "@jupyter-widgets/controls",
            "_model_module_version": "1.5.0",
            "value": " 253k/253k [00:08&lt;00:00, 28.9kB/s]",
            "_view_count": null,
            "_view_module_version": "1.5.0",
            "description_tooltip": null,
            "_model_module": "@jupyter-widgets/controls",
            "layout": "IPY_MODEL_83555b10912a458db2aa376dcb47471c"
          }
        },
        "fae7362be7c14b6399c09bcb60885677": {
          "model_module": "@jupyter-widgets/controls",
          "model_name": "ProgressStyleModel",
          "state": {
            "_view_name": "StyleView",
            "_model_name": "ProgressStyleModel",
            "description_width": "initial",
            "_view_module": "@jupyter-widgets/base",
            "_model_module_version": "1.5.0",
            "_view_count": null,
            "_view_module_version": "1.2.0",
            "bar_color": null,
            "_model_module": "@jupyter-widgets/controls"
          }
        },
        "02f409dac9e543c59b2862f1e54ffce0": {
          "model_module": "@jupyter-widgets/base",
          "model_name": "LayoutModel",
          "state": {
            "_view_name": "LayoutView",
            "grid_template_rows": null,
            "right": null,
            "justify_content": null,
            "_view_module": "@jupyter-widgets/base",
            "overflow": null,
            "_model_module_version": "1.2.0",
            "_view_count": null,
            "flex_flow": null,
            "width": null,
            "min_width": null,
            "border": null,
            "align_items": null,
            "bottom": null,
            "_model_module": "@jupyter-widgets/base",
            "top": null,
            "grid_column": null,
            "overflow_y": null,
            "overflow_x": null,
            "grid_auto_flow": null,
            "grid_area": null,
            "grid_template_columns": null,
            "flex": null,
            "_model_name": "LayoutModel",
            "justify_items": null,
            "grid_row": null,
            "max_height": null,
            "align_content": null,
            "visibility": null,
            "align_self": null,
            "height": null,
            "min_height": null,
            "padding": null,
            "grid_auto_rows": null,
            "grid_gap": null,
            "max_width": null,
            "order": null,
            "_view_module_version": "1.2.0",
            "grid_template_areas": null,
            "object_position": null,
            "object_fit": null,
            "grid_auto_columns": null,
            "margin": null,
            "display": null,
            "left": null
          }
        },
        "288872fdf0dd480687e54e3b5f88a633": {
          "model_module": "@jupyter-widgets/controls",
          "model_name": "DescriptionStyleModel",
          "state": {
            "_view_name": "StyleView",
            "_model_name": "DescriptionStyleModel",
            "description_width": "",
            "_view_module": "@jupyter-widgets/base",
            "_model_module_version": "1.5.0",
            "_view_count": null,
            "_view_module_version": "1.2.0",
            "_model_module": "@jupyter-widgets/controls"
          }
        },
        "83555b10912a458db2aa376dcb47471c": {
          "model_module": "@jupyter-widgets/base",
          "model_name": "LayoutModel",
          "state": {
            "_view_name": "LayoutView",
            "grid_template_rows": null,
            "right": null,
            "justify_content": null,
            "_view_module": "@jupyter-widgets/base",
            "overflow": null,
            "_model_module_version": "1.2.0",
            "_view_count": null,
            "flex_flow": null,
            "width": null,
            "min_width": null,
            "border": null,
            "align_items": null,
            "bottom": null,
            "_model_module": "@jupyter-widgets/base",
            "top": null,
            "grid_column": null,
            "overflow_y": null,
            "overflow_x": null,
            "grid_auto_flow": null,
            "grid_area": null,
            "grid_template_columns": null,
            "flex": null,
            "_model_name": "LayoutModel",
            "justify_items": null,
            "grid_row": null,
            "max_height": null,
            "align_content": null,
            "visibility": null,
            "align_self": null,
            "height": null,
            "min_height": null,
            "padding": null,
            "grid_auto_rows": null,
            "grid_gap": null,
            "max_width": null,
            "order": null,
            "_view_module_version": "1.2.0",
            "grid_template_areas": null,
            "object_position": null,
            "object_fit": null,
            "grid_auto_columns": null,
            "margin": null,
            "display": null,
            "left": null
          }
        }
      }
    }
  },
  "cells": [
    {
      "cell_type": "markdown",
      "metadata": {
        "id": "QfH_zTOVEDAz"
      },
      "source": [
        "# Actividad Integradora 1\n",
        "### Equipo 2:\n",
        "Héctor Gibrán González Leal [A01282278]  \n",
        "Julio César García Flores [A00516860]  \n",
        "Gustavo De Los Ríos Alatorre [A01410922]  \n",
        "Jacobo Cruz Romero [A01067040]  \n",
        "David Garza Gonzalez [A00820764]"
      ]
    },
    {
      "cell_type": "markdown",
      "metadata": {
        "id": "sYn1vNmP5hNh"
      },
      "source": [
        "En este notebook estaremos desarrollando una aplicación para realizar **sentiment analysis** sobre tweets tomados directamente de la API de Twitter, así como otras aplicaciones como comentarios de Reddit y Youtube, además de lyrics de canciones de Genius.com."
      ]
    },
    {
      "cell_type": "markdown",
      "metadata": {
        "id": "pMucBuuOaJ6z"
      },
      "source": [
        "Antes que nada, se instalan los módulos necesarios utilizando el archivo de requirements que se proporciona."
      ]
    },
    {
      "cell_type": "code",
      "metadata": {
        "colab": {
          "base_uri": "https://localhost:8080/"
        },
        "id": "AaxBI57YFdb1",
        "outputId": "0b9d43c1-4b23-40de-c0c0-1ae67ff98d3f"
      },
      "source": [
        "pip install -r requirements.txt"
      ],
      "execution_count": 1,
      "outputs": [
        {
          "output_type": "stream",
          "text": [
            "Requirement already satisfied: absl-py==0.12.0 in /usr/local/lib/python3.7/dist-packages (from -r requirements.txt (line 1)) (0.12.0)\n",
            "Requirement already satisfied: alabaster==0.7.12 in /usr/local/lib/python3.7/dist-packages (from -r requirements.txt (line 2)) (0.7.12)\n",
            "Requirement already satisfied: albumentations==0.1.12 in /usr/local/lib/python3.7/dist-packages (from -r requirements.txt (line 3)) (0.1.12)\n",
            "Requirement already satisfied: altair==4.1.0 in /usr/local/lib/python3.7/dist-packages (from -r requirements.txt (line 4)) (4.1.0)\n",
            "Requirement already satisfied: appdirs==1.4.4 in /usr/local/lib/python3.7/dist-packages (from -r requirements.txt (line 5)) (1.4.4)\n",
            "Requirement already satisfied: argon2-cffi==20.1.0 in /usr/local/lib/python3.7/dist-packages (from -r requirements.txt (line 6)) (20.1.0)\n",
            "Requirement already satisfied: astor==0.8.1 in /usr/local/lib/python3.7/dist-packages (from -r requirements.txt (line 7)) (0.8.1)\n",
            "Requirement already satisfied: astropy==4.2.1 in /usr/local/lib/python3.7/dist-packages (from -r requirements.txt (line 8)) (4.2.1)\n",
            "Requirement already satisfied: astunparse==1.6.3 in /usr/local/lib/python3.7/dist-packages (from -r requirements.txt (line 9)) (1.6.3)\n",
            "Requirement already satisfied: async-generator==1.10 in /usr/local/lib/python3.7/dist-packages (from -r requirements.txt (line 10)) (1.10)\n",
            "Requirement already satisfied: atari-py==0.2.6 in /usr/local/lib/python3.7/dist-packages (from -r requirements.txt (line 11)) (0.2.6)\n",
            "Requirement already satisfied: atomicwrites==1.4.0 in /usr/local/lib/python3.7/dist-packages (from -r requirements.txt (line 12)) (1.4.0)\n",
            "Requirement already satisfied: attrs==20.3.0 in /usr/local/lib/python3.7/dist-packages (from -r requirements.txt (line 13)) (20.3.0)\n",
            "Requirement already satisfied: audioread==2.1.9 in /usr/local/lib/python3.7/dist-packages (from -r requirements.txt (line 14)) (2.1.9)\n",
            "Requirement already satisfied: autograd==1.3 in /usr/local/lib/python3.7/dist-packages (from -r requirements.txt (line 15)) (1.3)\n",
            "Requirement already satisfied: Babel==2.9.0 in /usr/local/lib/python3.7/dist-packages (from -r requirements.txt (line 16)) (2.9.0)\n",
            "Requirement already satisfied: backcall==0.2.0 in /usr/local/lib/python3.7/dist-packages (from -r requirements.txt (line 17)) (0.2.0)\n",
            "Requirement already satisfied: beautifulsoup4==4.6.3 in /usr/local/lib/python3.7/dist-packages (from -r requirements.txt (line 18)) (4.6.3)\n",
            "Requirement already satisfied: bleach==3.3.0 in /usr/local/lib/python3.7/dist-packages (from -r requirements.txt (line 19)) (3.3.0)\n",
            "Requirement already satisfied: blis==0.4.1 in /usr/local/lib/python3.7/dist-packages (from -r requirements.txt (line 20)) (0.4.1)\n",
            "Requirement already satisfied: bokeh==2.3.1 in /usr/local/lib/python3.7/dist-packages (from -r requirements.txt (line 21)) (2.3.1)\n",
            "Requirement already satisfied: Bottleneck==1.3.2 in /usr/local/lib/python3.7/dist-packages (from -r requirements.txt (line 22)) (1.3.2)\n",
            "Requirement already satisfied: branca==0.4.2 in /usr/local/lib/python3.7/dist-packages (from -r requirements.txt (line 23)) (0.4.2)\n",
            "Requirement already satisfied: bs4==0.0.1 in /usr/local/lib/python3.7/dist-packages (from -r requirements.txt (line 24)) (0.0.1)\n",
            "Requirement already satisfied: CacheControl==0.12.6 in /usr/local/lib/python3.7/dist-packages (from -r requirements.txt (line 25)) (0.12.6)\n",
            "Requirement already satisfied: cachetools==4.2.1 in /usr/local/lib/python3.7/dist-packages (from -r requirements.txt (line 26)) (4.2.1)\n",
            "Requirement already satisfied: catalogue==1.0.0 in /usr/local/lib/python3.7/dist-packages (from -r requirements.txt (line 27)) (1.0.0)\n",
            "Requirement already satisfied: certifi==2020.12.5 in /usr/local/lib/python3.7/dist-packages (from -r requirements.txt (line 28)) (2020.12.5)\n",
            "Requirement already satisfied: cffi==1.14.5 in /usr/local/lib/python3.7/dist-packages (from -r requirements.txt (line 29)) (1.14.5)\n",
            "Requirement already satisfied: chainer==7.4.0 in /usr/local/lib/python3.7/dist-packages (from -r requirements.txt (line 30)) (7.4.0)\n",
            "Requirement already satisfied: chardet==3.0.4 in /usr/local/lib/python3.7/dist-packages (from -r requirements.txt (line 31)) (3.0.4)\n",
            "Requirement already satisfied: click==7.1.2 in /usr/local/lib/python3.7/dist-packages (from -r requirements.txt (line 32)) (7.1.2)\n",
            "Requirement already satisfied: cloudpickle==1.3.0 in /usr/local/lib/python3.7/dist-packages (from -r requirements.txt (line 33)) (1.3.0)\n",
            "Requirement already satisfied: cmake==3.12.0 in /usr/local/lib/python3.7/dist-packages (from -r requirements.txt (line 34)) (3.12.0)\n",
            "Requirement already satisfied: cmdstanpy==0.9.5 in /usr/local/lib/python3.7/dist-packages (from -r requirements.txt (line 35)) (0.9.5)\n",
            "Requirement already satisfied: colorcet==2.0.6 in /usr/local/lib/python3.7/dist-packages (from -r requirements.txt (line 36)) (2.0.6)\n",
            "Requirement already satisfied: colorlover==0.3.0 in /usr/local/lib/python3.7/dist-packages (from -r requirements.txt (line 37)) (0.3.0)\n",
            "Requirement already satisfied: community==1.0.0b1 in /usr/local/lib/python3.7/dist-packages (from -r requirements.txt (line 38)) (1.0.0b1)\n",
            "Requirement already satisfied: contextlib2==0.5.5 in /usr/local/lib/python3.7/dist-packages (from -r requirements.txt (line 39)) (0.5.5)\n",
            "Requirement already satisfied: convertdate==2.3.2 in /usr/local/lib/python3.7/dist-packages (from -r requirements.txt (line 40)) (2.3.2)\n",
            "Requirement already satisfied: coverage==3.7.1 in /usr/local/lib/python3.7/dist-packages (from -r requirements.txt (line 41)) (3.7.1)\n",
            "Requirement already satisfied: coveralls==0.5 in /usr/local/lib/python3.7/dist-packages (from -r requirements.txt (line 42)) (0.5)\n",
            "Requirement already satisfied: crcmod==1.7 in /usr/local/lib/python3.7/dist-packages (from -r requirements.txt (line 43)) (1.7)\n",
            "Requirement already satisfied: cufflinks==0.17.3 in /usr/local/lib/python3.7/dist-packages (from -r requirements.txt (line 44)) (0.17.3)\n",
            "Requirement already satisfied: cupy-cuda101==7.4.0 in /usr/local/lib/python3.7/dist-packages (from -r requirements.txt (line 45)) (7.4.0)\n",
            "Requirement already satisfied: cvxopt==1.2.6 in /usr/local/lib/python3.7/dist-packages (from -r requirements.txt (line 46)) (1.2.6)\n",
            "Requirement already satisfied: cvxpy==1.0.31 in /usr/local/lib/python3.7/dist-packages (from -r requirements.txt (line 47)) (1.0.31)\n",
            "Requirement already satisfied: cycler==0.10.0 in /usr/local/lib/python3.7/dist-packages (from -r requirements.txt (line 48)) (0.10.0)\n",
            "Requirement already satisfied: cymem==2.0.5 in /usr/local/lib/python3.7/dist-packages (from -r requirements.txt (line 49)) (2.0.5)\n",
            "Requirement already satisfied: Cython==0.29.22 in /usr/local/lib/python3.7/dist-packages (from -r requirements.txt (line 50)) (0.29.22)\n",
            "Requirement already satisfied: daft==0.0.4 in /usr/local/lib/python3.7/dist-packages (from -r requirements.txt (line 51)) (0.0.4)\n",
            "Requirement already satisfied: dask==2.12.0 in /usr/local/lib/python3.7/dist-packages (from -r requirements.txt (line 52)) (2.12.0)\n",
            "Collecting dataclasses==0.6\n",
            "  Downloading https://files.pythonhosted.org/packages/26/2f/1095cdc2868052dd1e64520f7c0d5c8c550ad297e944e641dbf1ffbb9a5d/dataclasses-0.6-py3-none-any.whl\n",
            "Requirement already satisfied: datascience==0.10.6 in /usr/local/lib/python3.7/dist-packages (from -r requirements.txt (line 54)) (0.10.6)\n",
            "Requirement already satisfied: debugpy==1.0.0 in /usr/local/lib/python3.7/dist-packages (from -r requirements.txt (line 55)) (1.0.0)\n",
            "Requirement already satisfied: decorator==4.4.2 in /usr/local/lib/python3.7/dist-packages (from -r requirements.txt (line 56)) (4.4.2)\n",
            "Requirement already satisfied: defusedxml==0.7.1 in /usr/local/lib/python3.7/dist-packages (from -r requirements.txt (line 57)) (0.7.1)\n",
            "Requirement already satisfied: descartes==1.1.0 in /usr/local/lib/python3.7/dist-packages (from -r requirements.txt (line 58)) (1.1.0)\n",
            "Requirement already satisfied: dill==0.3.3 in /usr/local/lib/python3.7/dist-packages (from -r requirements.txt (line 59)) (0.3.3)\n",
            "Requirement already satisfied: distributed==1.25.3 in /usr/local/lib/python3.7/dist-packages (from -r requirements.txt (line 60)) (1.25.3)\n",
            "Requirement already satisfied: dlib==19.18.0 in /usr/local/lib/python3.7/dist-packages (from -r requirements.txt (line 61)) (19.18.0)\n",
            "Requirement already satisfied: dm-tree==0.1.6 in /usr/local/lib/python3.7/dist-packages (from -r requirements.txt (line 62)) (0.1.6)\n",
            "Requirement already satisfied: docopt==0.6.2 in /usr/local/lib/python3.7/dist-packages (from -r requirements.txt (line 63)) (0.6.2)\n",
            "Requirement already satisfied: docutils==0.17 in /usr/local/lib/python3.7/dist-packages (from -r requirements.txt (line 64)) (0.17)\n",
            "Requirement already satisfied: dopamine-rl==1.0.5 in /usr/local/lib/python3.7/dist-packages (from -r requirements.txt (line 65)) (1.0.5)\n",
            "Requirement already satisfied: earthengine-api==0.1.260 in /usr/local/lib/python3.7/dist-packages (from -r requirements.txt (line 66)) (0.1.260)\n",
            "Requirement already satisfied: easydict==1.9 in /usr/local/lib/python3.7/dist-packages (from -r requirements.txt (line 67)) (1.9)\n",
            "Requirement already satisfied: ecos==2.0.7.post1 in /usr/local/lib/python3.7/dist-packages (from -r requirements.txt (line 68)) (2.0.7.post1)\n",
            "Requirement already satisfied: editdistance==0.5.3 in /usr/local/lib/python3.7/dist-packages (from -r requirements.txt (line 69)) (0.5.3)\n",
            "Requirement already satisfied: en-core-web-sm==2.2.5 in /usr/local/lib/python3.7/dist-packages (from -r requirements.txt (line 70)) (2.2.5)\n",
            "Requirement already satisfied: entrypoints==0.3 in /usr/local/lib/python3.7/dist-packages (from -r requirements.txt (line 71)) (0.3)\n",
            "Requirement already satisfied: ephem==3.7.7.1 in /usr/local/lib/python3.7/dist-packages (from -r requirements.txt (line 72)) (3.7.7.1)\n",
            "Requirement already satisfied: et-xmlfile==1.0.1 in /usr/local/lib/python3.7/dist-packages (from -r requirements.txt (line 73)) (1.0.1)\n",
            "Requirement already satisfied: fa2==0.3.5 in /usr/local/lib/python3.7/dist-packages (from -r requirements.txt (line 74)) (0.3.5)\n",
            "Requirement already satisfied: fancyimpute==0.4.3 in /usr/local/lib/python3.7/dist-packages (from -r requirements.txt (line 75)) (0.4.3)\n",
            "Requirement already satisfied: fastai==1.0.61 in /usr/local/lib/python3.7/dist-packages (from -r requirements.txt (line 76)) (1.0.61)\n",
            "Requirement already satisfied: fastdtw==0.3.4 in /usr/local/lib/python3.7/dist-packages (from -r requirements.txt (line 77)) (0.3.4)\n",
            "Requirement already satisfied: fastprogress==1.0.0 in /usr/local/lib/python3.7/dist-packages (from -r requirements.txt (line 78)) (1.0.0)\n",
            "Requirement already satisfied: fastrlock==0.6 in /usr/local/lib/python3.7/dist-packages (from -r requirements.txt (line 79)) (0.6)\n",
            "Requirement already satisfied: fbprophet==0.7.1 in /usr/local/lib/python3.7/dist-packages (from -r requirements.txt (line 80)) (0.7.1)\n",
            "Requirement already satisfied: feather-format==0.4.1 in /usr/local/lib/python3.7/dist-packages (from -r requirements.txt (line 81)) (0.4.1)\n",
            "Requirement already satisfied: filelock==3.0.12 in /usr/local/lib/python3.7/dist-packages (from -r requirements.txt (line 82)) (3.0.12)\n",
            "Requirement already satisfied: firebase-admin==4.4.0 in /usr/local/lib/python3.7/dist-packages (from -r requirements.txt (line 83)) (4.4.0)\n",
            "Requirement already satisfied: fix-yahoo-finance==0.0.22 in /usr/local/lib/python3.7/dist-packages (from -r requirements.txt (line 84)) (0.0.22)\n",
            "Requirement already satisfied: Flask==1.1.2 in /usr/local/lib/python3.7/dist-packages (from -r requirements.txt (line 85)) (1.1.2)\n",
            "Requirement already satisfied: flatbuffers==1.12 in /usr/local/lib/python3.7/dist-packages (from -r requirements.txt (line 86)) (1.12)\n",
            "Requirement already satisfied: folium==0.8.3 in /usr/local/lib/python3.7/dist-packages (from -r requirements.txt (line 87)) (0.8.3)\n",
            "Requirement already satisfied: future==0.16.0 in /usr/local/lib/python3.7/dist-packages (from -r requirements.txt (line 88)) (0.16.0)\n",
            "Requirement already satisfied: gast==0.3.3 in /usr/local/lib/python3.7/dist-packages (from -r requirements.txt (line 89)) (0.3.3)\n",
            "Requirement already satisfied: GDAL==2.2.2 in /usr/local/lib/python3.7/dist-packages (from -r requirements.txt (line 90)) (2.2.2)\n",
            "Requirement already satisfied: gdown==3.6.4 in /usr/local/lib/python3.7/dist-packages (from -r requirements.txt (line 91)) (3.6.4)\n",
            "Requirement already satisfied: gensim==3.6.0 in /usr/local/lib/python3.7/dist-packages (from -r requirements.txt (line 92)) (3.6.0)\n",
            "Requirement already satisfied: geographiclib==1.50 in /usr/local/lib/python3.7/dist-packages (from -r requirements.txt (line 93)) (1.50)\n",
            "Requirement already satisfied: geopy==1.17.0 in /usr/local/lib/python3.7/dist-packages (from -r requirements.txt (line 94)) (1.17.0)\n",
            "Requirement already satisfied: gin-config==0.4.0 in /usr/local/lib/python3.7/dist-packages (from -r requirements.txt (line 95)) (0.4.0)\n",
            "Requirement already satisfied: glob2==0.7 in /usr/local/lib/python3.7/dist-packages (from -r requirements.txt (line 96)) (0.7)\n",
            "Requirement already satisfied: google==2.0.3 in /usr/local/lib/python3.7/dist-packages (from -r requirements.txt (line 97)) (2.0.3)\n",
            "Requirement already satisfied: google-api-core==1.26.3 in /usr/local/lib/python3.7/dist-packages (from -r requirements.txt (line 98)) (1.26.3)\n",
            "Collecting google-api-python-client==2.2.0\n",
            "\u001b[?25l  Downloading https://files.pythonhosted.org/packages/5f/02/ae0c3aa746e2f9574727875e5110700a51f2aa1877c98b78433ad76630aa/google_api_python_client-2.2.0-py2.py3-none-any.whl (7.0MB)\n",
            "\u001b[K     |████████████████████████████████| 7.0MB 8.0MB/s \n",
            "\u001b[?25hRequirement already satisfied: google-auth==1.28.1 in /usr/local/lib/python3.7/dist-packages (from -r requirements.txt (line 100)) (1.28.1)\n",
            "Collecting google-auth-httplib2==0.1.0\n",
            "  Downloading https://files.pythonhosted.org/packages/ba/db/721e2f3f32339080153995d16e46edc3a7657251f167ddcb9327e632783b/google_auth_httplib2-0.1.0-py2.py3-none-any.whl\n",
            "Requirement already satisfied: google-auth-oauthlib==0.4.4 in /usr/local/lib/python3.7/dist-packages (from -r requirements.txt (line 102)) (0.4.4)\n",
            "Requirement already satisfied: google-cloud-bigquery==1.21.0 in /usr/local/lib/python3.7/dist-packages (from -r requirements.txt (line 103)) (1.21.0)\n",
            "Requirement already satisfied: google-cloud-bigquery-storage==1.1.0 in /usr/local/lib/python3.7/dist-packages (from -r requirements.txt (line 104)) (1.1.0)\n",
            "Requirement already satisfied: google-cloud-core==1.0.3 in /usr/local/lib/python3.7/dist-packages (from -r requirements.txt (line 105)) (1.0.3)\n",
            "Requirement already satisfied: google-cloud-datastore==1.8.0 in /usr/local/lib/python3.7/dist-packages (from -r requirements.txt (line 106)) (1.8.0)\n",
            "Requirement already satisfied: google-cloud-firestore==1.7.0 in /usr/local/lib/python3.7/dist-packages (from -r requirements.txt (line 107)) (1.7.0)\n",
            "Requirement already satisfied: google-cloud-language==1.2.0 in /usr/local/lib/python3.7/dist-packages (from -r requirements.txt (line 108)) (1.2.0)\n",
            "Requirement already satisfied: google-cloud-storage==1.18.1 in /usr/local/lib/python3.7/dist-packages (from -r requirements.txt (line 109)) (1.18.1)\n",
            "Requirement already satisfied: google-cloud-translate==1.5.0 in /usr/local/lib/python3.7/dist-packages (from -r requirements.txt (line 110)) (1.5.0)\n",
            "Requirement already satisfied: google-colab==1.0.0 in /usr/local/lib/python3.7/dist-packages (from -r requirements.txt (line 111)) (1.0.0)\n",
            "Requirement already satisfied: google-pasta==0.2.0 in /usr/local/lib/python3.7/dist-packages (from -r requirements.txt (line 112)) (0.2.0)\n",
            "Requirement already satisfied: google-resumable-media==0.4.1 in /usr/local/lib/python3.7/dist-packages (from -r requirements.txt (line 113)) (0.4.1)\n",
            "Requirement already satisfied: googleapis-common-protos==1.53.0 in /usr/local/lib/python3.7/dist-packages (from -r requirements.txt (line 114)) (1.53.0)\n",
            "Requirement already satisfied: googledrivedownloader==0.4 in /usr/local/lib/python3.7/dist-packages (from -r requirements.txt (line 115)) (0.4)\n",
            "Requirement already satisfied: graphviz==0.10.1 in /usr/local/lib/python3.7/dist-packages (from -r requirements.txt (line 116)) (0.10.1)\n",
            "Requirement already satisfied: greenlet==1.0.0 in /usr/local/lib/python3.7/dist-packages (from -r requirements.txt (line 117)) (1.0.0)\n",
            "Requirement already satisfied: grpcio==1.32.0 in /usr/local/lib/python3.7/dist-packages (from -r requirements.txt (line 118)) (1.32.0)\n",
            "Requirement already satisfied: gspread==3.0.1 in /usr/local/lib/python3.7/dist-packages (from -r requirements.txt (line 119)) (3.0.1)\n",
            "Requirement already satisfied: gspread-dataframe==3.0.8 in /usr/local/lib/python3.7/dist-packages (from -r requirements.txt (line 120)) (3.0.8)\n",
            "Requirement already satisfied: gym==0.17.3 in /usr/local/lib/python3.7/dist-packages (from -r requirements.txt (line 121)) (0.17.3)\n",
            "Requirement already satisfied: h5py==2.10.0 in /usr/local/lib/python3.7/dist-packages (from -r requirements.txt (line 122)) (2.10.0)\n",
            "Requirement already satisfied: HeapDict==1.0.1 in /usr/local/lib/python3.7/dist-packages (from -r requirements.txt (line 123)) (1.0.1)\n",
            "Requirement already satisfied: hijri-converter==2.1.1 in /usr/local/lib/python3.7/dist-packages (from -r requirements.txt (line 124)) (2.1.1)\n",
            "Requirement already satisfied: holidays==0.10.5.2 in /usr/local/lib/python3.7/dist-packages (from -r requirements.txt (line 125)) (0.10.5.2)\n",
            "Requirement already satisfied: holoviews==1.14.3 in /usr/local/lib/python3.7/dist-packages (from -r requirements.txt (line 126)) (1.14.3)\n",
            "Requirement already satisfied: html5lib==1.0.1 in /usr/local/lib/python3.7/dist-packages (from -r requirements.txt (line 127)) (1.0.1)\n",
            "Requirement already satisfied: httpimport==0.5.18 in /usr/local/lib/python3.7/dist-packages (from -r requirements.txt (line 128)) (0.5.18)\n",
            "Requirement already satisfied: httplib2==0.17.4 in /usr/local/lib/python3.7/dist-packages (from -r requirements.txt (line 129)) (0.17.4)\n",
            "Requirement already satisfied: httplib2shim==0.0.3 in /usr/local/lib/python3.7/dist-packages (from -r requirements.txt (line 130)) (0.0.3)\n",
            "Collecting huggingface-hub==0.0.8\n",
            "  Downloading https://files.pythonhosted.org/packages/a1/88/7b1e45720ecf59c6c6737ff332f41c955963090a18e72acbcbeac6b25e86/huggingface_hub-0.0.8-py3-none-any.whl\n",
            "Requirement already satisfied: humanize==0.5.1 in /usr/local/lib/python3.7/dist-packages (from -r requirements.txt (line 132)) (0.5.1)\n",
            "Requirement already satisfied: hyperopt==0.1.2 in /usr/local/lib/python3.7/dist-packages (from -r requirements.txt (line 133)) (0.1.2)\n",
            "Collecting HyperPyYAML==1.0.0\n",
            "  Downloading https://files.pythonhosted.org/packages/17/e2/63e6353151cb4359f66e93f52152d7d60c1b32c87f5b2e2e58419d2a3711/HyperPyYAML-1.0.0-py3-none-any.whl\n",
            "Requirement already satisfied: ideep4py==2.0.0.post3 in /usr/local/lib/python3.7/dist-packages (from -r requirements.txt (line 135)) (2.0.0.post3)\n",
            "Requirement already satisfied: idna==2.10 in /usr/local/lib/python3.7/dist-packages (from -r requirements.txt (line 136)) (2.10)\n",
            "Requirement already satisfied: imageio==2.4.1 in /usr/local/lib/python3.7/dist-packages (from -r requirements.txt (line 137)) (2.4.1)\n",
            "Requirement already satisfied: imagesize==1.2.0 in /usr/local/lib/python3.7/dist-packages (from -r requirements.txt (line 138)) (1.2.0)\n",
            "Requirement already satisfied: imbalanced-learn==0.4.3 in /usr/local/lib/python3.7/dist-packages (from -r requirements.txt (line 139)) (0.4.3)\n",
            "Requirement already satisfied: imblearn==0.0 in /usr/local/lib/python3.7/dist-packages (from -r requirements.txt (line 140)) (0.0)\n",
            "Requirement already satisfied: imgaug==0.2.9 in /usr/local/lib/python3.7/dist-packages (from -r requirements.txt (line 141)) (0.2.9)\n",
            "Requirement already satisfied: importlib-metadata==3.10.1 in /usr/local/lib/python3.7/dist-packages (from -r requirements.txt (line 142)) (3.10.1)\n",
            "Requirement already satisfied: importlib-resources==5.1.2 in /usr/local/lib/python3.7/dist-packages (from -r requirements.txt (line 143)) (5.1.2)\n",
            "Requirement already satisfied: imutils==0.5.4 in /usr/local/lib/python3.7/dist-packages (from -r requirements.txt (line 144)) (0.5.4)\n",
            "Requirement already satisfied: inflect==2.1.0 in /usr/local/lib/python3.7/dist-packages (from -r requirements.txt (line 145)) (2.1.0)\n",
            "Requirement already satisfied: iniconfig==1.1.1 in /usr/local/lib/python3.7/dist-packages (from -r requirements.txt (line 146)) (1.1.1)\n",
            "Requirement already satisfied: intel-openmp==2021.2.0 in /usr/local/lib/python3.7/dist-packages (from -r requirements.txt (line 147)) (2021.2.0)\n",
            "Requirement already satisfied: intervaltree==2.1.0 in /usr/local/lib/python3.7/dist-packages (from -r requirements.txt (line 148)) (2.1.0)\n",
            "Requirement already satisfied: ipykernel==4.10.1 in /usr/local/lib/python3.7/dist-packages (from -r requirements.txt (line 149)) (4.10.1)\n",
            "Requirement already satisfied: ipython==5.5.0 in /usr/local/lib/python3.7/dist-packages (from -r requirements.txt (line 150)) (5.5.0)\n",
            "Requirement already satisfied: ipython-genutils==0.2.0 in /usr/local/lib/python3.7/dist-packages (from -r requirements.txt (line 151)) (0.2.0)\n",
            "Requirement already satisfied: ipython-sql==0.3.9 in /usr/local/lib/python3.7/dist-packages (from -r requirements.txt (line 152)) (0.3.9)\n",
            "Requirement already satisfied: ipywidgets==7.6.3 in /usr/local/lib/python3.7/dist-packages (from -r requirements.txt (line 153)) (7.6.3)\n",
            "Requirement already satisfied: itsdangerous==1.1.0 in /usr/local/lib/python3.7/dist-packages (from -r requirements.txt (line 154)) (1.1.0)\n",
            "Requirement already satisfied: jax==0.2.12 in /usr/local/lib/python3.7/dist-packages (from -r requirements.txt (line 155)) (0.2.12)\n",
            "Requirement already satisfied: jaxlib==0.1.65+cuda110 in /usr/local/lib/python3.7/dist-packages (from -r requirements.txt (line 156)) (0.1.65+cuda110)\n",
            "Requirement already satisfied: jdcal==1.4.1 in /usr/local/lib/python3.7/dist-packages (from -r requirements.txt (line 157)) (1.4.1)\n",
            "Requirement already satisfied: jedi==0.18.0 in /usr/local/lib/python3.7/dist-packages (from -r requirements.txt (line 158)) (0.18.0)\n",
            "Requirement already satisfied: jieba==0.42.1 in /usr/local/lib/python3.7/dist-packages (from -r requirements.txt (line 159)) (0.42.1)\n",
            "Requirement already satisfied: Jinja2==2.11.3 in /usr/local/lib/python3.7/dist-packages (from -r requirements.txt (line 160)) (2.11.3)\n",
            "Requirement already satisfied: joblib==1.0.1 in /usr/local/lib/python3.7/dist-packages (from -r requirements.txt (line 161)) (1.0.1)\n",
            "Requirement already satisfied: jpeg4py==0.1.4 in /usr/local/lib/python3.7/dist-packages (from -r requirements.txt (line 162)) (0.1.4)\n",
            "Requirement already satisfied: jsonschema==2.6.0 in /usr/local/lib/python3.7/dist-packages (from -r requirements.txt (line 163)) (2.6.0)\n",
            "Requirement already satisfied: jupyter==1.0.0 in /usr/local/lib/python3.7/dist-packages (from -r requirements.txt (line 164)) (1.0.0)\n",
            "Requirement already satisfied: jupyter-client==5.3.5 in /usr/local/lib/python3.7/dist-packages (from -r requirements.txt (line 165)) (5.3.5)\n",
            "Requirement already satisfied: jupyter-console==5.2.0 in /usr/local/lib/python3.7/dist-packages (from -r requirements.txt (line 166)) (5.2.0)\n",
            "Requirement already satisfied: jupyter-core==4.7.1 in /usr/local/lib/python3.7/dist-packages (from -r requirements.txt (line 167)) (4.7.1)\n",
            "Requirement already satisfied: jupyterlab-pygments==0.1.2 in /usr/local/lib/python3.7/dist-packages (from -r requirements.txt (line 168)) (0.1.2)\n",
            "Requirement already satisfied: jupyterlab-widgets==1.0.0 in /usr/local/lib/python3.7/dist-packages (from -r requirements.txt (line 169)) (1.0.0)\n",
            "Requirement already satisfied: kaggle==1.5.12 in /usr/local/lib/python3.7/dist-packages (from -r requirements.txt (line 170)) (1.5.12)\n",
            "Requirement already satisfied: kapre==0.1.3.1 in /usr/local/lib/python3.7/dist-packages (from -r requirements.txt (line 171)) (0.1.3.1)\n",
            "Requirement already satisfied: Keras==2.4.3 in /usr/local/lib/python3.7/dist-packages (from -r requirements.txt (line 172)) (2.4.3)\n",
            "Requirement already satisfied: Keras-Preprocessing==1.1.2 in /usr/local/lib/python3.7/dist-packages (from -r requirements.txt (line 173)) (1.1.2)\n",
            "Requirement already satisfied: keras-vis==0.4.1 in /usr/local/lib/python3.7/dist-packages (from -r requirements.txt (line 174)) (0.4.1)\n",
            "Requirement already satisfied: kiwisolver==1.3.1 in /usr/local/lib/python3.7/dist-packages (from -r requirements.txt (line 175)) (1.3.1)\n",
            "Requirement already satisfied: knnimpute==0.1.0 in /usr/local/lib/python3.7/dist-packages (from -r requirements.txt (line 176)) (0.1.0)\n",
            "Requirement already satisfied: korean-lunar-calendar==0.2.1 in /usr/local/lib/python3.7/dist-packages (from -r requirements.txt (line 177)) (0.2.1)\n",
            "Requirement already satisfied: librosa==0.8.0 in /usr/local/lib/python3.7/dist-packages (from -r requirements.txt (line 178)) (0.8.0)\n",
            "Requirement already satisfied: lightgbm==2.2.3 in /usr/local/lib/python3.7/dist-packages (from -r requirements.txt (line 179)) (2.2.3)\n",
            "Requirement already satisfied: llvmlite==0.34.0 in /usr/local/lib/python3.7/dist-packages (from -r requirements.txt (line 180)) (0.34.0)\n",
            "Requirement already satisfied: lmdb==0.99 in /usr/local/lib/python3.7/dist-packages (from -r requirements.txt (line 181)) (0.99)\n",
            "Requirement already satisfied: LunarCalendar==0.0.9 in /usr/local/lib/python3.7/dist-packages (from -r requirements.txt (line 182)) (0.0.9)\n",
            "Requirement already satisfied: lxml==4.2.6 in /usr/local/lib/python3.7/dist-packages (from -r requirements.txt (line 183)) (4.2.6)\n",
            "Collecting lyricsgenius==3.0.1\n",
            "\u001b[?25l  Downloading https://files.pythonhosted.org/packages/0d/32/be32f6922f70fd1b9900b50b228f6585cd60a96bdf03589df738f627d388/lyricsgenius-3.0.1-py3-none-any.whl (59kB)\n",
            "\u001b[K     |████████████████████████████████| 61kB 8.7MB/s \n",
            "\u001b[?25hRequirement already satisfied: Markdown==3.3.4 in /usr/local/lib/python3.7/dist-packages (from -r requirements.txt (line 185)) (3.3.4)\n",
            "Requirement already satisfied: MarkupSafe==1.1.1 in /usr/local/lib/python3.7/dist-packages (from -r requirements.txt (line 186)) (1.1.1)\n",
            "Requirement already satisfied: matplotlib==3.2.2 in /usr/local/lib/python3.7/dist-packages (from -r requirements.txt (line 187)) (3.2.2)\n",
            "Requirement already satisfied: matplotlib-venn==0.11.6 in /usr/local/lib/python3.7/dist-packages (from -r requirements.txt (line 188)) (0.11.6)\n",
            "Requirement already satisfied: missingno==0.4.2 in /usr/local/lib/python3.7/dist-packages (from -r requirements.txt (line 189)) (0.4.2)\n",
            "Requirement already satisfied: mistune==0.8.4 in /usr/local/lib/python3.7/dist-packages (from -r requirements.txt (line 190)) (0.8.4)\n",
            "Requirement already satisfied: mizani==0.6.0 in /usr/local/lib/python3.7/dist-packages (from -r requirements.txt (line 191)) (0.6.0)\n",
            "Requirement already satisfied: mkl==2019.0 in /usr/local/lib/python3.7/dist-packages (from -r requirements.txt (line 192)) (2019.0)\n",
            "Requirement already satisfied: mlxtend==0.14.0 in /usr/local/lib/python3.7/dist-packages (from -r requirements.txt (line 193)) (0.14.0)\n",
            "Requirement already satisfied: more-itertools==8.7.0 in /usr/local/lib/python3.7/dist-packages (from -r requirements.txt (line 194)) (8.7.0)\n",
            "Requirement already satisfied: moviepy==0.2.3.5 in /usr/local/lib/python3.7/dist-packages (from -r requirements.txt (line 195)) (0.2.3.5)\n",
            "Requirement already satisfied: mpmath==1.2.1 in /usr/local/lib/python3.7/dist-packages (from -r requirements.txt (line 196)) (1.2.1)\n",
            "Requirement already satisfied: msgpack==1.0.2 in /usr/local/lib/python3.7/dist-packages (from -r requirements.txt (line 197)) (1.0.2)\n",
            "Requirement already satisfied: multiprocess==0.70.11.1 in /usr/local/lib/python3.7/dist-packages (from -r requirements.txt (line 198)) (0.70.11.1)\n",
            "Requirement already satisfied: multitasking==0.0.9 in /usr/local/lib/python3.7/dist-packages (from -r requirements.txt (line 199)) (0.0.9)\n",
            "Requirement already satisfied: murmurhash==1.0.5 in /usr/local/lib/python3.7/dist-packages (from -r requirements.txt (line 200)) (1.0.5)\n",
            "Requirement already satisfied: music21==5.5.0 in /usr/local/lib/python3.7/dist-packages (from -r requirements.txt (line 201)) (5.5.0)\n",
            "Requirement already satisfied: natsort==5.5.0 in /usr/local/lib/python3.7/dist-packages (from -r requirements.txt (line 202)) (5.5.0)\n",
            "Requirement already satisfied: nbclient==0.5.3 in /usr/local/lib/python3.7/dist-packages (from -r requirements.txt (line 203)) (0.5.3)\n",
            "Requirement already satisfied: nbconvert==5.6.1 in /usr/local/lib/python3.7/dist-packages (from -r requirements.txt (line 204)) (5.6.1)\n",
            "Requirement already satisfied: nbformat==5.1.3 in /usr/local/lib/python3.7/dist-packages (from -r requirements.txt (line 205)) (5.1.3)\n",
            "Requirement already satisfied: nest-asyncio==1.5.1 in /usr/local/lib/python3.7/dist-packages (from -r requirements.txt (line 206)) (1.5.1)\n",
            "Requirement already satisfied: networkx==2.5.1 in /usr/local/lib/python3.7/dist-packages (from -r requirements.txt (line 207)) (2.5.1)\n",
            "Requirement already satisfied: nibabel==3.0.2 in /usr/local/lib/python3.7/dist-packages (from -r requirements.txt (line 208)) (3.0.2)\n",
            "Requirement already satisfied: nltk==3.2.5 in /usr/local/lib/python3.7/dist-packages (from -r requirements.txt (line 209)) (3.2.5)\n",
            "Requirement already satisfied: notebook==5.3.1 in /usr/local/lib/python3.7/dist-packages (from -r requirements.txt (line 210)) (5.3.1)\n",
            "Requirement already satisfied: np-utils==0.5.12.1 in /usr/local/lib/python3.7/dist-packages (from -r requirements.txt (line 211)) (0.5.12.1)\n",
            "Requirement already satisfied: numba==0.51.2 in /usr/local/lib/python3.7/dist-packages (from -r requirements.txt (line 212)) (0.51.2)\n",
            "Requirement already satisfied: numexpr==2.7.3 in /usr/local/lib/python3.7/dist-packages (from -r requirements.txt (line 213)) (2.7.3)\n",
            "Requirement already satisfied: numpy==1.19.5 in /usr/local/lib/python3.7/dist-packages (from -r requirements.txt (line 214)) (1.19.5)\n",
            "Requirement already satisfied: nvidia-ml-py3==7.352.0 in /usr/local/lib/python3.7/dist-packages (from -r requirements.txt (line 215)) (7.352.0)\n",
            "Requirement already satisfied: oauth2client==4.1.3 in /usr/local/lib/python3.7/dist-packages (from -r requirements.txt (line 216)) (4.1.3)\n",
            "Requirement already satisfied: oauthlib==3.1.0 in /usr/local/lib/python3.7/dist-packages (from -r requirements.txt (line 217)) (3.1.0)\n",
            "Requirement already satisfied: okgrade==0.4.3 in /usr/local/lib/python3.7/dist-packages (from -r requirements.txt (line 218)) (0.4.3)\n",
            "Requirement already satisfied: opencv-contrib-python==4.1.2.30 in /usr/local/lib/python3.7/dist-packages (from -r requirements.txt (line 219)) (4.1.2.30)\n",
            "Requirement already satisfied: opencv-python==4.1.2.30 in /usr/local/lib/python3.7/dist-packages (from -r requirements.txt (line 220)) (4.1.2.30)\n",
            "Collecting opencv-python-headless==4.5.1.48\n",
            "\u001b[?25l  Downloading https://files.pythonhosted.org/packages/6d/6d/92f377bece9b0ec9c893081dbe073a65b38d7ac12ef572b8f70554d08760/opencv_python_headless-4.5.1.48-cp37-cp37m-manylinux2014_x86_64.whl (37.6MB)\n",
            "\u001b[K     |████████████████████████████████| 37.6MB 74.4MB/s \n",
            "\u001b[?25hRequirement already satisfied: openpyxl==2.5.9 in /usr/local/lib/python3.7/dist-packages (from -r requirements.txt (line 222)) (2.5.9)\n",
            "Requirement already satisfied: opt-einsum==3.3.0 in /usr/local/lib/python3.7/dist-packages (from -r requirements.txt (line 223)) (3.3.0)\n",
            "Requirement already satisfied: osqp==0.6.2.post0 in /usr/local/lib/python3.7/dist-packages (from -r requirements.txt (line 224)) (0.6.2.post0)\n",
            "Requirement already satisfied: packaging==20.9 in /usr/local/lib/python3.7/dist-packages (from -r requirements.txt (line 225)) (20.9)\n",
            "Requirement already satisfied: palettable==3.3.0 in /usr/local/lib/python3.7/dist-packages (from -r requirements.txt (line 226)) (3.3.0)\n",
            "Requirement already satisfied: pandas==1.1.5 in /usr/local/lib/python3.7/dist-packages (from -r requirements.txt (line 227)) (1.1.5)\n",
            "Requirement already satisfied: pandas-datareader==0.9.0 in /usr/local/lib/python3.7/dist-packages (from -r requirements.txt (line 228)) (0.9.0)\n",
            "Requirement already satisfied: pandas-gbq==0.13.3 in /usr/local/lib/python3.7/dist-packages (from -r requirements.txt (line 229)) (0.13.3)\n",
            "Requirement already satisfied: pandas-profiling==1.4.1 in /usr/local/lib/python3.7/dist-packages (from -r requirements.txt (line 230)) (1.4.1)\n",
            "Requirement already satisfied: pandocfilters==1.4.3 in /usr/local/lib/python3.7/dist-packages (from -r requirements.txt (line 231)) (1.4.3)\n",
            "Requirement already satisfied: panel==0.11.2 in /usr/local/lib/python3.7/dist-packages (from -r requirements.txt (line 232)) (0.11.2)\n",
            "Requirement already satisfied: param==1.10.1 in /usr/local/lib/python3.7/dist-packages (from -r requirements.txt (line 233)) (1.10.1)\n",
            "Requirement already satisfied: parso==0.8.2 in /usr/local/lib/python3.7/dist-packages (from -r requirements.txt (line 234)) (0.8.2)\n",
            "Requirement already satisfied: pathlib==1.0.1 in /usr/local/lib/python3.7/dist-packages (from -r requirements.txt (line 235)) (1.0.1)\n",
            "Requirement already satisfied: patsy==0.5.1 in /usr/local/lib/python3.7/dist-packages (from -r requirements.txt (line 236)) (0.5.1)\n",
            "Requirement already satisfied: pexpect==4.8.0 in /usr/local/lib/python3.7/dist-packages (from -r requirements.txt (line 237)) (4.8.0)\n",
            "Requirement already satisfied: pickleshare==0.7.5 in /usr/local/lib/python3.7/dist-packages (from -r requirements.txt (line 238)) (0.7.5)\n",
            "Requirement already satisfied: Pillow==7.1.2 in /usr/local/lib/python3.7/dist-packages (from -r requirements.txt (line 239)) (7.1.2)\n",
            "Requirement already satisfied: pip-tools==4.5.1 in /usr/local/lib/python3.7/dist-packages (from -r requirements.txt (line 240)) (4.5.1)\n",
            "Requirement already satisfied: plac==1.1.3 in /usr/local/lib/python3.7/dist-packages (from -r requirements.txt (line 241)) (1.1.3)\n",
            "Requirement already satisfied: plotly==4.4.1 in /usr/local/lib/python3.7/dist-packages (from -r requirements.txt (line 242)) (4.4.1)\n",
            "Requirement already satisfied: plotnine==0.6.0 in /usr/local/lib/python3.7/dist-packages (from -r requirements.txt (line 243)) (0.6.0)\n",
            "Requirement already satisfied: pluggy==0.7.1 in /usr/local/lib/python3.7/dist-packages (from -r requirements.txt (line 244)) (0.7.1)\n",
            "Requirement already satisfied: pooch==1.3.0 in /usr/local/lib/python3.7/dist-packages (from -r requirements.txt (line 245)) (1.3.0)\n",
            "Requirement already satisfied: portpicker==1.3.1 in /usr/local/lib/python3.7/dist-packages (from -r requirements.txt (line 246)) (1.3.1)\n",
            "Collecting praw==7.2.0\n",
            "\u001b[?25l  Downloading https://files.pythonhosted.org/packages/48/a8/a2e2d0750ee17c7e3d81e4695a0338ad0b3f231853b8c3fa339ff2d25c7c/praw-7.2.0-py3-none-any.whl (159kB)\n",
            "\u001b[K     |████████████████████████████████| 163kB 56.1MB/s \n",
            "\u001b[?25hCollecting prawcore==2.0.0\n",
            "  Downloading https://files.pythonhosted.org/packages/7d/df/4a9106bea0d26689c4b309da20c926a01440ddaf60c09a5ae22684ebd35f/prawcore-2.0.0-py3-none-any.whl\n",
            "Requirement already satisfied: prefetch-generator==1.0.1 in /usr/local/lib/python3.7/dist-packages (from -r requirements.txt (line 249)) (1.0.1)\n",
            "Requirement already satisfied: preshed==3.0.5 in /usr/local/lib/python3.7/dist-packages (from -r requirements.txt (line 250)) (3.0.5)\n",
            "Requirement already satisfied: prettytable==2.1.0 in /usr/local/lib/python3.7/dist-packages (from -r requirements.txt (line 251)) (2.1.0)\n",
            "Requirement already satisfied: progressbar2==3.38.0 in /usr/local/lib/python3.7/dist-packages (from -r requirements.txt (line 252)) (3.38.0)\n",
            "Requirement already satisfied: prometheus-client==0.10.1 in /usr/local/lib/python3.7/dist-packages (from -r requirements.txt (line 253)) (0.10.1)\n",
            "Requirement already satisfied: promise==2.3 in /usr/local/lib/python3.7/dist-packages (from -r requirements.txt (line 254)) (2.3)\n",
            "Requirement already satisfied: prompt-toolkit==1.0.18 in /usr/local/lib/python3.7/dist-packages (from -r requirements.txt (line 255)) (1.0.18)\n",
            "Requirement already satisfied: protobuf==3.12.4 in /usr/local/lib/python3.7/dist-packages (from -r requirements.txt (line 256)) (3.12.4)\n",
            "Requirement already satisfied: psutil==5.4.8 in /usr/local/lib/python3.7/dist-packages (from -r requirements.txt (line 257)) (5.4.8)\n",
            "Requirement already satisfied: psycopg2==2.7.6.1 in /usr/local/lib/python3.7/dist-packages (from -r requirements.txt (line 258)) (2.7.6.1)\n",
            "Requirement already satisfied: ptyprocess==0.7.0 in /usr/local/lib/python3.7/dist-packages (from -r requirements.txt (line 259)) (0.7.0)\n",
            "Requirement already satisfied: py==1.10.0 in /usr/local/lib/python3.7/dist-packages (from -r requirements.txt (line 260)) (1.10.0)\n",
            "Collecting py-cpuinfo==8.0.0\n",
            "\u001b[?25l  Downloading https://files.pythonhosted.org/packages/e6/ba/77120e44cbe9719152415b97d5bfb29f4053ee987d6cb63f55ce7d50fadc/py-cpuinfo-8.0.0.tar.gz (99kB)\n",
            "\u001b[K     |████████████████████████████████| 102kB 12.8MB/s \n",
            "\u001b[?25hRequirement already satisfied: pyarrow==3.0.0 in /usr/local/lib/python3.7/dist-packages (from -r requirements.txt (line 262)) (3.0.0)\n",
            "Requirement already satisfied: pyasn1==0.4.8 in /usr/local/lib/python3.7/dist-packages (from -r requirements.txt (line 263)) (0.4.8)\n",
            "Requirement already satisfied: pyasn1-modules==0.2.8 in /usr/local/lib/python3.7/dist-packages (from -r requirements.txt (line 264)) (0.2.8)\n",
            "Requirement already satisfied: pycocotools==2.0.2 in /usr/local/lib/python3.7/dist-packages (from -r requirements.txt (line 265)) (2.0.2)\n",
            "Requirement already satisfied: pycparser==2.20 in /usr/local/lib/python3.7/dist-packages (from -r requirements.txt (line 266)) (2.20)\n",
            "Requirement already satisfied: pyct==0.4.8 in /usr/local/lib/python3.7/dist-packages (from -r requirements.txt (line 267)) (0.4.8)\n",
            "Requirement already satisfied: pydata-google-auth==1.1.0 in /usr/local/lib/python3.7/dist-packages (from -r requirements.txt (line 268)) (1.1.0)\n",
            "Requirement already satisfied: pydot==1.3.0 in /usr/local/lib/python3.7/dist-packages (from -r requirements.txt (line 269)) (1.3.0)\n",
            "Requirement already satisfied: pydot-ng==2.0.0 in /usr/local/lib/python3.7/dist-packages (from -r requirements.txt (line 270)) (2.0.0)\n",
            "Requirement already satisfied: pydotplus==2.0.2 in /usr/local/lib/python3.7/dist-packages (from -r requirements.txt (line 271)) (2.0.2)\n",
            "Requirement already satisfied: PyDrive==1.3.1 in /usr/local/lib/python3.7/dist-packages (from -r requirements.txt (line 272)) (1.3.1)\n",
            "Requirement already satisfied: pyemd==0.5.1 in /usr/local/lib/python3.7/dist-packages (from -r requirements.txt (line 273)) (0.5.1)\n",
            "Requirement already satisfied: pyerfa==1.7.2 in /usr/local/lib/python3.7/dist-packages (from -r requirements.txt (line 274)) (1.7.2)\n",
            "Requirement already satisfied: pyglet==1.5.0 in /usr/local/lib/python3.7/dist-packages (from -r requirements.txt (line 275)) (1.5.0)\n",
            "Requirement already satisfied: Pygments==2.6.1 in /usr/local/lib/python3.7/dist-packages (from -r requirements.txt (line 276)) (2.6.1)\n",
            "Requirement already satisfied: pygobject==3.26.1 in /usr/lib/python3/dist-packages (from -r requirements.txt (line 277)) (3.26.1)\n",
            "Requirement already satisfied: pymc3==3.7 in /usr/local/lib/python3.7/dist-packages (from -r requirements.txt (line 278)) (3.7)\n",
            "Requirement already satisfied: PyMeeus==0.5.11 in /usr/local/lib/python3.7/dist-packages (from -r requirements.txt (line 279)) (0.5.11)\n",
            "Requirement already satisfied: pymongo==3.11.3 in /usr/local/lib/python3.7/dist-packages (from -r requirements.txt (line 280)) (3.11.3)\n",
            "Requirement already satisfied: pymystem3==0.2.0 in /usr/local/lib/python3.7/dist-packages (from -r requirements.txt (line 281)) (0.2.0)\n",
            "Requirement already satisfied: PyOpenGL==3.1.5 in /usr/local/lib/python3.7/dist-packages (from -r requirements.txt (line 282)) (3.1.5)\n",
            "Requirement already satisfied: pyparsing==2.4.7 in /usr/local/lib/python3.7/dist-packages (from -r requirements.txt (line 283)) (2.4.7)\n",
            "Requirement already satisfied: pyrsistent==0.17.3 in /usr/local/lib/python3.7/dist-packages (from -r requirements.txt (line 284)) (0.17.3)\n",
            "Requirement already satisfied: pysndfile==1.3.8 in /usr/local/lib/python3.7/dist-packages (from -r requirements.txt (line 285)) (1.3.8)\n",
            "Requirement already satisfied: PySocks==1.7.1 in /usr/local/lib/python3.7/dist-packages (from -r requirements.txt (line 286)) (1.7.1)\n",
            "Requirement already satisfied: pystan==2.19.1.1 in /usr/local/lib/python3.7/dist-packages (from -r requirements.txt (line 287)) (2.19.1.1)\n",
            "Requirement already satisfied: pytest==3.6.4 in /usr/local/lib/python3.7/dist-packages (from -r requirements.txt (line 288)) (3.6.4)\n",
            "Requirement already satisfied: python-apt==0.0.0 in /usr/local/lib/python3.7/dist-packages (from -r requirements.txt (line 289)) (0.0.0)\n",
            "Requirement already satisfied: python-chess==0.23.11 in /usr/local/lib/python3.7/dist-packages (from -r requirements.txt (line 290)) (0.23.11)\n",
            "Requirement already satisfied: python-dateutil==2.8.1 in /usr/local/lib/python3.7/dist-packages (from -r requirements.txt (line 291)) (2.8.1)\n",
            "Requirement already satisfied: python-louvain==0.15 in /usr/local/lib/python3.7/dist-packages (from -r requirements.txt (line 292)) (0.15)\n",
            "Requirement already satisfied: python-slugify==4.0.1 in /usr/local/lib/python3.7/dist-packages (from -r requirements.txt (line 293)) (4.0.1)\n",
            "Requirement already satisfied: python-utils==2.5.6 in /usr/local/lib/python3.7/dist-packages (from -r requirements.txt (line 294)) (2.5.6)\n",
            "Requirement already satisfied: pytz==2018.9 in /usr/local/lib/python3.7/dist-packages (from -r requirements.txt (line 295)) (2018.9)\n",
            "Requirement already satisfied: pyviz-comms==2.0.1 in /usr/local/lib/python3.7/dist-packages (from -r requirements.txt (line 296)) (2.0.1)\n",
            "Requirement already satisfied: PyWavelets==1.1.1 in /usr/local/lib/python3.7/dist-packages (from -r requirements.txt (line 297)) (1.1.1)\n",
            "Collecting PyYAML==5.4.1\n",
            "\u001b[?25l  Downloading https://files.pythonhosted.org/packages/7a/a5/393c087efdc78091afa2af9f1378762f9821c9c1d7a22c5753fb5ac5f97a/PyYAML-5.4.1-cp37-cp37m-manylinux1_x86_64.whl (636kB)\n",
            "\u001b[K     |████████████████████████████████| 645kB 44.4MB/s \n",
            "\u001b[?25hRequirement already satisfied: pyzmq==22.0.3 in /usr/local/lib/python3.7/dist-packages (from -r requirements.txt (line 299)) (22.0.3)\n",
            "Requirement already satisfied: qdldl==0.1.5.post0 in /usr/local/lib/python3.7/dist-packages (from -r requirements.txt (line 300)) (0.1.5.post0)\n",
            "Requirement already satisfied: qtconsole==5.0.3 in /usr/local/lib/python3.7/dist-packages (from -r requirements.txt (line 301)) (5.0.3)\n",
            "Requirement already satisfied: QtPy==1.9.0 in /usr/local/lib/python3.7/dist-packages (from -r requirements.txt (line 302)) (1.9.0)\n",
            "Requirement already satisfied: regex==2019.12.20 in /usr/local/lib/python3.7/dist-packages (from -r requirements.txt (line 303)) (2019.12.20)\n",
            "Requirement already satisfied: requests==2.23.0 in /usr/local/lib/python3.7/dist-packages (from -r requirements.txt (line 304)) (2.23.0)\n",
            "Requirement already satisfied: requests-oauthlib==1.3.0 in /usr/local/lib/python3.7/dist-packages (from -r requirements.txt (line 305)) (1.3.0)\n",
            "Requirement already satisfied: resampy==0.2.2 in /usr/local/lib/python3.7/dist-packages (from -r requirements.txt (line 306)) (0.2.2)\n",
            "Requirement already satisfied: retrying==1.3.3 in /usr/local/lib/python3.7/dist-packages (from -r requirements.txt (line 307)) (1.3.3)\n",
            "Requirement already satisfied: rpy2==3.4.3 in /usr/local/lib/python3.7/dist-packages (from -r requirements.txt (line 308)) (3.4.3)\n",
            "Requirement already satisfied: rsa==4.7.2 in /usr/local/lib/python3.7/dist-packages (from -r requirements.txt (line 309)) (4.7.2)\n",
            "Collecting ruamel.yaml==0.17.4\n",
            "\u001b[?25l  Downloading https://files.pythonhosted.org/packages/29/4e/c3105bbbbc662f6a671a505f00ec771e93b5254f09fbb06002af9087071a/ruamel.yaml-0.17.4-py3-none-any.whl (101kB)\n",
            "\u001b[K     |████████████████████████████████| 102kB 11.9MB/s \n",
            "\u001b[?25hCollecting ruamel.yaml.clib==0.2.2\n",
            "\u001b[?25l  Downloading https://files.pythonhosted.org/packages/5e/6e/f652c56bbb2c3d3fca252ffc7c0358597f57a1bbdf484dac683054950c63/ruamel.yaml.clib-0.2.2-cp37-cp37m-manylinux1_x86_64.whl (547kB)\n",
            "\u001b[K     |████████████████████████████████| 552kB 47.1MB/s \n",
            "\u001b[?25hRequirement already satisfied: scikit-image==0.16.2 in /usr/local/lib/python3.7/dist-packages (from -r requirements.txt (line 312)) (0.16.2)\n",
            "Requirement already satisfied: scikit-learn==0.22.2.post1 in /usr/local/lib/python3.7/dist-packages (from -r requirements.txt (line 313)) (0.22.2.post1)\n",
            "Requirement already satisfied: scipy==1.4.1 in /usr/local/lib/python3.7/dist-packages (from -r requirements.txt (line 314)) (1.4.1)\n",
            "Requirement already satisfied: screen-resolution-extra==0.0.0 in /usr/lib/python3/dist-packages (from -r requirements.txt (line 315)) (0.0.0)\n",
            "Requirement already satisfied: scs==2.1.3 in /usr/local/lib/python3.7/dist-packages (from -r requirements.txt (line 316)) (2.1.3)\n",
            "Requirement already satisfied: seaborn==0.11.1 in /usr/local/lib/python3.7/dist-packages (from -r requirements.txt (line 317)) (0.11.1)\n",
            "Requirement already satisfied: Send2Trash==1.5.0 in /usr/local/lib/python3.7/dist-packages (from -r requirements.txt (line 318)) (1.5.0)\n",
            "Collecting sentencepiece==0.1.95\n",
            "\u001b[?25l  Downloading https://files.pythonhosted.org/packages/f5/99/e0808cb947ba10f575839c43e8fafc9cc44e4a7a2c8f79c60db48220a577/sentencepiece-0.1.95-cp37-cp37m-manylinux2014_x86_64.whl (1.2MB)\n",
            "\u001b[K     |████████████████████████████████| 1.2MB 44.2MB/s \n",
            "\u001b[?25hCollecting seqeval==1.2.2\n",
            "\u001b[?25l  Downloading https://files.pythonhosted.org/packages/9d/2d/233c79d5b4e5ab1dbf111242299153f3caddddbb691219f363ad55ce783d/seqeval-1.2.2.tar.gz (43kB)\n",
            "\u001b[K     |████████████████████████████████| 51kB 7.7MB/s \n",
            "\u001b[?25hRequirement already satisfied: setuptools-git==1.2 in /usr/local/lib/python3.7/dist-packages (from -r requirements.txt (line 321)) (1.2)\n",
            "Requirement already satisfied: Shapely==1.7.1 in /usr/local/lib/python3.7/dist-packages (from -r requirements.txt (line 322)) (1.7.1)\n",
            "Requirement already satisfied: simplegeneric==0.8.1 in /usr/local/lib/python3.7/dist-packages (from -r requirements.txt (line 323)) (0.8.1)\n",
            "Requirement already satisfied: six==1.15.0 in /usr/local/lib/python3.7/dist-packages (from -r requirements.txt (line 324)) (1.15.0)\n",
            "Requirement already satisfied: sklearn==0.0 in /usr/local/lib/python3.7/dist-packages (from -r requirements.txt (line 325)) (0.0)\n",
            "Requirement already satisfied: sklearn-pandas==1.8.0 in /usr/local/lib/python3.7/dist-packages (from -r requirements.txt (line 326)) (1.8.0)\n",
            "Requirement already satisfied: smart-open==5.0.0 in /usr/local/lib/python3.7/dist-packages (from -r requirements.txt (line 327)) (5.0.0)\n",
            "Requirement already satisfied: snowballstemmer==2.1.0 in /usr/local/lib/python3.7/dist-packages (from -r requirements.txt (line 328)) (2.1.0)\n",
            "Requirement already satisfied: sortedcontainers==2.3.0 in /usr/local/lib/python3.7/dist-packages (from -r requirements.txt (line 329)) (2.3.0)\n",
            "Requirement already satisfied: SoundFile==0.10.3.post1 in /usr/local/lib/python3.7/dist-packages (from -r requirements.txt (line 330)) (0.10.3.post1)\n",
            "Requirement already satisfied: spacy==2.2.4 in /usr/local/lib/python3.7/dist-packages (from -r requirements.txt (line 331)) (2.2.4)\n",
            "Collecting speechbrain==0.5.5\n",
            "\u001b[?25l  Downloading https://files.pythonhosted.org/packages/27/a0/16623a27ceddd5c96dbf1f0ce3393c5266a8276a805f1a111382f8a46efb/speechbrain-0.5.5-py3-none-any.whl (350kB)\n",
            "\u001b[K     |████████████████████████████████| 358kB 40.0MB/s \n",
            "\u001b[?25hRequirement already satisfied: Sphinx==1.8.5 in /usr/local/lib/python3.7/dist-packages (from -r requirements.txt (line 333)) (1.8.5)\n",
            "Requirement already satisfied: sphinxcontrib-serializinghtml==1.1.4 in /usr/local/lib/python3.7/dist-packages (from -r requirements.txt (line 334)) (1.1.4)\n",
            "Requirement already satisfied: sphinxcontrib-websupport==1.2.4 in /usr/local/lib/python3.7/dist-packages (from -r requirements.txt (line 335)) (1.2.4)\n",
            "Requirement already satisfied: SQLAlchemy==1.4.7 in /usr/local/lib/python3.7/dist-packages (from -r requirements.txt (line 336)) (1.4.7)\n",
            "Requirement already satisfied: sqlparse==0.4.1 in /usr/local/lib/python3.7/dist-packages (from -r requirements.txt (line 337)) (0.4.1)\n",
            "Requirement already satisfied: srsly==1.0.5 in /usr/local/lib/python3.7/dist-packages (from -r requirements.txt (line 338)) (1.0.5)\n",
            "Requirement already satisfied: statsmodels==0.10.2 in /usr/local/lib/python3.7/dist-packages (from -r requirements.txt (line 339)) (0.10.2)\n",
            "Requirement already satisfied: sympy==1.7.1 in /usr/local/lib/python3.7/dist-packages (from -r requirements.txt (line 340)) (1.7.1)\n",
            "Requirement already satisfied: tables==3.4.4 in /usr/local/lib/python3.7/dist-packages (from -r requirements.txt (line 341)) (3.4.4)\n",
            "Requirement already satisfied: tabulate==0.8.9 in /usr/local/lib/python3.7/dist-packages (from -r requirements.txt (line 342)) (0.8.9)\n",
            "Requirement already satisfied: tblib==1.7.0 in /usr/local/lib/python3.7/dist-packages (from -r requirements.txt (line 343)) (1.7.0)\n",
            "Requirement already satisfied: tensorboard==2.4.1 in /usr/local/lib/python3.7/dist-packages (from -r requirements.txt (line 344)) (2.4.1)\n",
            "Requirement already satisfied: tensorboard-plugin-wit==1.8.0 in /usr/local/lib/python3.7/dist-packages (from -r requirements.txt (line 345)) (1.8.0)\n",
            "Requirement already satisfied: tensorflow==2.4.1 in /usr/local/lib/python3.7/dist-packages (from -r requirements.txt (line 346)) (2.4.1)\n",
            "Collecting tensorflow-addons==0.12.1\n",
            "\u001b[?25l  Downloading https://files.pythonhosted.org/packages/74/e3/56d2fe76f0bb7c88ed9b2a6a557e25e83e252aec08f13de34369cd850a0b/tensorflow_addons-0.12.1-cp37-cp37m-manylinux2010_x86_64.whl (703kB)\n",
            "\u001b[K     |████████████████████████████████| 706kB 44.5MB/s \n",
            "\u001b[?25hRequirement already satisfied: tensorflow-datasets==4.0.1 in /usr/local/lib/python3.7/dist-packages (from -r requirements.txt (line 348)) (4.0.1)\n",
            "Requirement already satisfied: tensorflow-estimator==2.4.0 in /usr/local/lib/python3.7/dist-packages (from -r requirements.txt (line 349)) (2.4.0)\n",
            "Requirement already satisfied: tensorflow-gcs-config==2.4.0 in /usr/local/lib/python3.7/dist-packages (from -r requirements.txt (line 350)) (2.4.0)\n",
            "Requirement already satisfied: tensorflow-hub==0.12.0 in /usr/local/lib/python3.7/dist-packages (from -r requirements.txt (line 351)) (0.12.0)\n",
            "Requirement already satisfied: tensorflow-metadata==0.29.0 in /usr/local/lib/python3.7/dist-packages (from -r requirements.txt (line 352)) (0.29.0)\n",
            "Collecting tensorflow-model-optimization==0.5.0\n",
            "\u001b[?25l  Downloading https://files.pythonhosted.org/packages/55/38/4fd48ea1bfcb0b6e36d949025200426fe9c3a8bfae029f0973d85518fa5a/tensorflow_model_optimization-0.5.0-py2.py3-none-any.whl (172kB)\n",
            "\u001b[K     |████████████████████████████████| 174kB 56.5MB/s \n",
            "\u001b[?25hRequirement already satisfied: tensorflow-probability==0.12.1 in /usr/local/lib/python3.7/dist-packages (from -r requirements.txt (line 354)) (0.12.1)\n",
            "Collecting tensorflow-text==2.4.3\n",
            "\u001b[?25l  Downloading https://files.pythonhosted.org/packages/b6/c0/c0fed4301f592c3b56638ae7292612c17d91a43891ba1aaf9636d535beae/tensorflow_text-2.4.3-cp37-cp37m-manylinux1_x86_64.whl (3.4MB)\n",
            "\u001b[K     |████████████████████████████████| 3.4MB 48.1MB/s \n",
            "\u001b[?25hRequirement already satisfied: termcolor==1.1.0 in /usr/local/lib/python3.7/dist-packages (from -r requirements.txt (line 356)) (1.1.0)\n",
            "Requirement already satisfied: terminado==0.9.4 in /usr/local/lib/python3.7/dist-packages (from -r requirements.txt (line 357)) (0.9.4)\n",
            "Requirement already satisfied: testpath==0.4.4 in /usr/local/lib/python3.7/dist-packages (from -r requirements.txt (line 358)) (0.4.4)\n",
            "Requirement already satisfied: text-unidecode==1.3 in /usr/local/lib/python3.7/dist-packages (from -r requirements.txt (line 359)) (1.3)\n",
            "Requirement already satisfied: textblob==0.15.3 in /usr/local/lib/python3.7/dist-packages (from -r requirements.txt (line 360)) (0.15.3)\n",
            "Requirement already satisfied: textgenrnn==1.4.1 in /usr/local/lib/python3.7/dist-packages (from -r requirements.txt (line 361)) (1.4.1)\n",
            "Collecting tf-models-official==2.4.0\n",
            "\u001b[?25l  Downloading https://files.pythonhosted.org/packages/57/4a/23a08f8fd2747867ee223612e219eeb0d11c36116601d99b55ef3c72e707/tf_models_official-2.4.0-py2.py3-none-any.whl (1.1MB)\n",
            "\u001b[K     |████████████████████████████████| 1.1MB 40.9MB/s \n",
            "\u001b[?25hCollecting tf-slim==1.1.0\n",
            "\u001b[?25l  Downloading https://files.pythonhosted.org/packages/02/97/b0f4a64df018ca018cc035d44f2ef08f91e2e8aa67271f6f19633a015ff7/tf_slim-1.1.0-py2.py3-none-any.whl (352kB)\n",
            "\u001b[K     |████████████████████████████████| 358kB 50.7MB/s \n",
            "\u001b[?25hRequirement already satisfied: Theano==1.0.5 in /usr/local/lib/python3.7/dist-packages (from -r requirements.txt (line 364)) (1.0.5)\n",
            "Requirement already satisfied: thinc==7.4.0 in /usr/local/lib/python3.7/dist-packages (from -r requirements.txt (line 365)) (7.4.0)\n",
            "Requirement already satisfied: tifffile==2021.4.8 in /usr/local/lib/python3.7/dist-packages (from -r requirements.txt (line 366)) (2021.4.8)\n",
            "Requirement already satisfied: toml==0.10.2 in /usr/local/lib/python3.7/dist-packages (from -r requirements.txt (line 367)) (0.10.2)\n",
            "Requirement already satisfied: toolz==0.11.1 in /usr/local/lib/python3.7/dist-packages (from -r requirements.txt (line 368)) (0.11.1)\n",
            "Requirement already satisfied: torch==1.8.1+cu101 in /usr/local/lib/python3.7/dist-packages (from -r requirements.txt (line 369)) (1.8.1+cu101)\n",
            "Collecting torchaudio==0.8.1\n",
            "\u001b[?25l  Downloading https://files.pythonhosted.org/packages/aa/55/01ad9244bcd595e39cea5ce30726a7fe02fd963d07daeb136bfe7e23f0a5/torchaudio-0.8.1-cp37-cp37m-manylinux1_x86_64.whl (1.9MB)\n",
            "\u001b[K     |████████████████████████████████| 1.9MB 37.7MB/s \n",
            "\u001b[?25hRequirement already satisfied: torchsummary==1.5.1 in /usr/local/lib/python3.7/dist-packages (from -r requirements.txt (line 371)) (1.5.1)\n",
            "Requirement already satisfied: torchtext==0.9.1 in /usr/local/lib/python3.7/dist-packages (from -r requirements.txt (line 372)) (0.9.1)\n",
            "Requirement already satisfied: torchvision==0.9.1+cu101 in /usr/local/lib/python3.7/dist-packages (from -r requirements.txt (line 373)) (0.9.1+cu101)\n",
            "Requirement already satisfied: tornado==5.1.1 in /usr/local/lib/python3.7/dist-packages (from -r requirements.txt (line 374)) (5.1.1)\n",
            "Requirement already satisfied: tqdm==4.41.1 in /usr/local/lib/python3.7/dist-packages (from -r requirements.txt (line 375)) (4.41.1)\n",
            "Requirement already satisfied: traitlets==5.0.5 in /usr/local/lib/python3.7/dist-packages (from -r requirements.txt (line 376)) (5.0.5)\n",
            "Requirement already satisfied: tweepy==3.10.0 in /usr/local/lib/python3.7/dist-packages (from -r requirements.txt (line 377)) (3.10.0)\n",
            "Requirement already satisfied: typeguard==2.7.1 in /usr/local/lib/python3.7/dist-packages (from -r requirements.txt (line 378)) (2.7.1)\n",
            "Requirement already satisfied: typing-extensions==3.7.4.3 in /usr/local/lib/python3.7/dist-packages (from -r requirements.txt (line 379)) (3.7.4.3)\n",
            "Requirement already satisfied: tzlocal==1.5.1 in /usr/local/lib/python3.7/dist-packages (from -r requirements.txt (line 380)) (1.5.1)\n",
            "Collecting update-checker==0.18.0\n",
            "  Downloading https://files.pythonhosted.org/packages/0c/ba/8dd7fa5f0b1c6a8ac62f8f57f7e794160c1f86f31c6d0fb00f582372a3e4/update_checker-0.18.0-py3-none-any.whl\n",
            "Requirement already satisfied: uritemplate==3.0.1 in /usr/local/lib/python3.7/dist-packages (from -r requirements.txt (line 382)) (3.0.1)\n",
            "Requirement already satisfied: urllib3==1.24.3 in /usr/local/lib/python3.7/dist-packages (from -r requirements.txt (line 383)) (1.24.3)\n",
            "Requirement already satisfied: vega-datasets==0.9.0 in /usr/local/lib/python3.7/dist-packages (from -r requirements.txt (line 384)) (0.9.0)\n",
            "Requirement already satisfied: wasabi==0.8.2 in /usr/local/lib/python3.7/dist-packages (from -r requirements.txt (line 385)) (0.8.2)\n",
            "Requirement already satisfied: wcwidth==0.2.5 in /usr/local/lib/python3.7/dist-packages (from -r requirements.txt (line 386)) (0.2.5)\n",
            "Requirement already satisfied: webencodings==0.5.1 in /usr/local/lib/python3.7/dist-packages (from -r requirements.txt (line 387)) (0.5.1)\n",
            "Collecting websocket-client==0.58.0\n",
            "\u001b[?25l  Downloading https://files.pythonhosted.org/packages/08/33/80e0d4f60e84a1ddd9a03f340be1065a2a363c47ce65c4bd3bae65ce9631/websocket_client-0.58.0-py2.py3-none-any.whl (61kB)\n",
            "\u001b[K     |████████████████████████████████| 61kB 9.2MB/s \n",
            "\u001b[?25hRequirement already satisfied: Werkzeug==1.0.1 in /usr/local/lib/python3.7/dist-packages (from -r requirements.txt (line 389)) (1.0.1)\n",
            "Requirement already satisfied: widgetsnbextension==3.5.1 in /usr/local/lib/python3.7/dist-packages (from -r requirements.txt (line 390)) (3.5.1)\n",
            "Requirement already satisfied: wordcloud==1.5.0 in /usr/local/lib/python3.7/dist-packages (from -r requirements.txt (line 391)) (1.5.0)\n",
            "Requirement already satisfied: wrapt==1.12.1 in /usr/local/lib/python3.7/dist-packages (from -r requirements.txt (line 392)) (1.12.1)\n",
            "Requirement already satisfied: xarray==0.15.1 in /usr/local/lib/python3.7/dist-packages (from -r requirements.txt (line 393)) (0.15.1)\n",
            "Requirement already satisfied: xgboost==0.90 in /usr/local/lib/python3.7/dist-packages (from -r requirements.txt (line 394)) (0.90)\n",
            "Requirement already satisfied: xkit==0.0.0 in /usr/lib/python3/dist-packages (from -r requirements.txt (line 395)) (0.0.0)\n",
            "Requirement already satisfied: xlrd==1.1.0 in /usr/local/lib/python3.7/dist-packages (from -r requirements.txt (line 396)) (1.1.0)\n",
            "Requirement already satisfied: xlwt==1.3.0 in /usr/local/lib/python3.7/dist-packages (from -r requirements.txt (line 397)) (1.3.0)\n",
            "Requirement already satisfied: yellowbrick==0.9.1 in /usr/local/lib/python3.7/dist-packages (from -r requirements.txt (line 398)) (0.9.1)\n",
            "Requirement already satisfied: zict==2.0.0 in /usr/local/lib/python3.7/dist-packages (from -r requirements.txt (line 399)) (2.0.0)\n",
            "Requirement already satisfied: zipp==3.4.1 in /usr/local/lib/python3.7/dist-packages (from -r requirements.txt (line 400)) (3.4.1)\n",
            "Requirement already satisfied: wheel<1.0,>=0.23.0 in /usr/local/lib/python3.7/dist-packages (from astunparse==1.6.3->-r requirements.txt (line 9)) (0.36.2)\n",
            "Requirement already satisfied: setuptools in /usr/local/lib/python3.7/dist-packages (from chainer==7.4.0->-r requirements.txt (line 30)) (54.2.0)\n",
            "Building wheels for collected packages: py-cpuinfo, seqeval\n",
            "  Building wheel for py-cpuinfo (setup.py) ... \u001b[?25l\u001b[?25hdone\n",
            "  Created wheel for py-cpuinfo: filename=py_cpuinfo-8.0.0-cp37-none-any.whl size=22245 sha256=49e71d05ec43ee5a43de95e7a93bbb59a52abe8033f5bbda1abbf4ee4518d9e6\n",
            "  Stored in directory: /root/.cache/pip/wheels/2e/15/f5/aa2a056d223903b52cf4870134e3a01df0c723816835dd08db\n",
            "  Building wheel for seqeval (setup.py) ... \u001b[?25l\u001b[?25hdone\n",
            "  Created wheel for seqeval: filename=seqeval-1.2.2-cp37-none-any.whl size=16172 sha256=9f9752ad1a7be5a41aba49618f2c9f32f9928ce00ffc58933d4da9c27f32c0a0\n",
            "  Stored in directory: /root/.cache/pip/wheels/52/df/1b/45d75646c37428f7e626214704a0e35bd3cfc32eda37e59e5f\n",
            "Successfully built py-cpuinfo seqeval\n",
            "\u001b[31mERROR: earthengine-api 0.1.260 has requirement google-api-python-client<2,>=1.12.1, but you'll have google-api-python-client 2.2.0 which is incompatible.\u001b[0m\n",
            "Installing collected packages: dataclasses, google-auth-httplib2, google-api-python-client, huggingface-hub, ruamel.yaml.clib, ruamel.yaml, PyYAML, HyperPyYAML, lyricsgenius, opencv-python-headless, prawcore, update-checker, websocket-client, praw, py-cpuinfo, sentencepiece, seqeval, torchaudio, speechbrain, tensorflow-addons, tensorflow-model-optimization, tensorflow-text, tf-slim, tf-models-official\n",
            "  Found existing installation: google-auth-httplib2 0.0.4\n",
            "    Uninstalling google-auth-httplib2-0.0.4:\n",
            "      Successfully uninstalled google-auth-httplib2-0.0.4\n",
            "  Found existing installation: google-api-python-client 1.12.8\n",
            "    Uninstalling google-api-python-client-1.12.8:\n",
            "      Successfully uninstalled google-api-python-client-1.12.8\n",
            "  Found existing installation: PyYAML 3.13\n",
            "    Uninstalling PyYAML-3.13:\n",
            "      Successfully uninstalled PyYAML-3.13\n",
            "Successfully installed HyperPyYAML-1.0.0 PyYAML-5.4.1 dataclasses-0.6 google-api-python-client-2.2.0 google-auth-httplib2-0.1.0 huggingface-hub-0.0.8 lyricsgenius-3.0.1 opencv-python-headless-4.5.1.48 praw-7.2.0 prawcore-2.0.0 py-cpuinfo-8.0.0 ruamel.yaml-0.17.4 ruamel.yaml.clib-0.2.2 sentencepiece-0.1.95 seqeval-1.2.2 speechbrain-0.5.5 tensorflow-addons-0.12.1 tensorflow-model-optimization-0.5.0 tensorflow-text-2.4.3 tf-models-official-2.4.0 tf-slim-1.1.0 torchaudio-0.8.1 update-checker-0.18.0 websocket-client-0.58.0\n"
          ],
          "name": "stdout"
        }
      ]
    },
    {
      "cell_type": "markdown",
      "metadata": {
        "id": "aC9wHopfcphc"
      },
      "source": [
        "Se importan los módulos que se estarán usando"
      ]
    },
    {
      "cell_type": "code",
      "metadata": {
        "colab": {
          "base_uri": "https://localhost:8080/"
        },
        "id": "mnnsABR-5rOV",
        "outputId": "2f81d1c0-4fb1-4e0c-cffe-26d34f8bae1a"
      },
      "source": [
        "# Módulos de NLTK\n",
        "import nltk\n",
        "from nltk.corpus import words, stopwords\n",
        "from nltk.tokenize import word_tokenize, sent_tokenize\n",
        "from nltk.classify import ClassifierI\n",
        "from nltk.stem import WordNetLemmatizer\n",
        "\n",
        "# Módulos de SKLearn\n",
        "from sklearn.naive_bayes import MultinomialNB, GaussianNB, BernoulliNB\n",
        "from sklearn.linear_model import LogisticRegression, SGDClassifier\n",
        "from sklearn.metrics import accuracy_score, precision_score, recall_score, plot_confusion_matrix, log_loss\n",
        "\n",
        "# Módulos de Tensorflow\n",
        "import tensorflow as tf\n",
        "import tensorflow_hub as hub\n",
        "import tensorflow_text as text\n",
        "from official.nlp import optimization  # to create AdamW optmizer\n",
        "\n",
        "# Módulos del Twitter API\n",
        "from tweepy import API\n",
        "from tweepy import Stream\n",
        "from tweepy import OAuthHandler\n",
        "from tweepy.streaming import StreamListener\n",
        "import json\n",
        "#import sentiment_mod as s\n",
        "import time\n",
        "\n",
        "# Módulos para la API de Genius\n",
        "from lyricsgenius import Genius\n",
        "\n",
        "# Módulo para speech recognition con SpeechBrain\n",
        "from speechbrain.pretrained import EncoderDecoderASR\n",
        "\n",
        "# Módulo para el API de Youtube\n",
        "from googleapiclient.discovery import build\n",
        "\n",
        "# Módulo para API de Reddit\n",
        "import praw\n",
        "from praw.models import MoreComments\n",
        "\n",
        "# Módulos generales\n",
        "import io\n",
        "import os\n",
        "import pandas as pd\n",
        "import numpy as np\n",
        "import re\n",
        "import random\n",
        "import pickle\n",
        "import shutil\n",
        "from statistics import mode\n",
        "%matplotlib inline\n",
        "import matplotlib.pyplot as plt\n",
        "import matplotlib.animation as animation\n",
        "import time\n",
        "from matplotlib import style\n",
        "\n",
        "# Descargar paquetes necesarios por si acaso\n",
        "nltk.download('words')\n",
        "nltk.download('stopwords')\n",
        "nltk.download('punkt')\n",
        "nltk.download('wordnet')\n",
        "nltk.download('averaged_perceptron_tagger')"
      ],
      "execution_count": 2,
      "outputs": [
        {
          "output_type": "stream",
          "text": [
            "[nltk_data] Downloading package words to /root/nltk_data...\n",
            "[nltk_data]   Unzipping corpora/words.zip.\n",
            "[nltk_data] Downloading package stopwords to /root/nltk_data...\n",
            "[nltk_data]   Unzipping corpora/stopwords.zip.\n",
            "[nltk_data] Downloading package punkt to /root/nltk_data...\n",
            "[nltk_data]   Unzipping tokenizers/punkt.zip.\n",
            "[nltk_data] Downloading package wordnet to /root/nltk_data...\n",
            "[nltk_data]   Unzipping corpora/wordnet.zip.\n",
            "[nltk_data] Downloading package averaged_perceptron_tagger to\n",
            "[nltk_data]     /root/nltk_data...\n",
            "[nltk_data]   Unzipping taggers/averaged_perceptron_tagger.zip.\n"
          ],
          "name": "stdout"
        },
        {
          "output_type": "execute_result",
          "data": {
            "text/plain": [
              "True"
            ]
          },
          "metadata": {
            "tags": []
          },
          "execution_count": 2
        }
      ]
    },
    {
      "cell_type": "markdown",
      "metadata": {
        "id": "Ro5jqfJMGhmj"
      },
      "source": [
        "# 1. Gathering Data\n",
        "\n",
        "Lo primero que se hará es importar el dataset con los tweets ya clasificados. Nosotros incorporamos el dataset de Kaggle llamado 'Tweets Sentiment Analysis' (https://www.kaggle.com/youben/tweets-sentiment-analysis). Más especificamente, estamos utilizando el archivo de 'Train.csv', que contiene alrededor de 100,000 tweets, para generar los sets de training, validation y testing."
      ]
    },
    {
      "cell_type": "code",
      "metadata": {
        "id": "ApN-hQA_5UL5"
      },
      "source": [
        "pd.options.display.max_colwidth = 200\n",
        "data = pd.read_csv('train.csv', encoding='ISO-8859-1')"
      ],
      "execution_count": 3,
      "outputs": []
    },
    {
      "cell_type": "markdown",
      "metadata": {
        "id": "fuN5cZTn1aWU"
      },
      "source": [
        "# 2. Preparing the Data\n",
        "Antes de hacer cualquier modificación, vamos a mostrar algunas filas del dataset aleatorias para inspeccionar más de cerca su contenido"
      ]
    },
    {
      "cell_type": "code",
      "metadata": {
        "colab": {
          "base_uri": "https://localhost:8080/",
          "height": 639
        },
        "id": "IXj_07HiCEJv",
        "outputId": "8cbb0de3-486d-43e1-81bc-4ec78dbe8bb8"
      },
      "source": [
        "random.seed(12345)\n",
        "indexes = np.random.randint(1, len(data), 20).tolist()\n",
        "data.iloc[indexes]"
      ],
      "execution_count": 4,
      "outputs": [
        {
          "output_type": "execute_result",
          "data": {
            "text/html": [
              "<div>\n",
              "<style scoped>\n",
              "    .dataframe tbody tr th:only-of-type {\n",
              "        vertical-align: middle;\n",
              "    }\n",
              "\n",
              "    .dataframe tbody tr th {\n",
              "        vertical-align: top;\n",
              "    }\n",
              "\n",
              "    .dataframe thead th {\n",
              "        text-align: right;\n",
              "    }\n",
              "</style>\n",
              "<table border=\"1\" class=\"dataframe\">\n",
              "  <thead>\n",
              "    <tr style=\"text-align: right;\">\n",
              "      <th></th>\n",
              "      <th>ItemID</th>\n",
              "      <th>Sentiment</th>\n",
              "      <th>SentimentText</th>\n",
              "    </tr>\n",
              "  </thead>\n",
              "  <tbody>\n",
              "    <tr>\n",
              "      <th>13868</th>\n",
              "      <td>13880</td>\n",
              "      <td>1</td>\n",
              "      <td>..... a cool day lying in the sun at hyde park with my sweet mandy</td>\n",
              "    </tr>\n",
              "    <tr>\n",
              "      <th>90533</th>\n",
              "      <td>90545</td>\n",
              "      <td>1</td>\n",
              "      <td>@ChinaBlue79 Awww you don't look a day older than Sonic The Hedgehog</td>\n",
              "    </tr>\n",
              "    <tr>\n",
              "      <th>90850</th>\n",
              "      <td>90862</td>\n",
              "      <td>0</td>\n",
              "      <td>@CNICELB me to fam... i had many tears earlier from my friends funeral  how was ur dai?</td>\n",
              "    </tr>\n",
              "    <tr>\n",
              "      <th>6712</th>\n",
              "      <td>6715</td>\n",
              "      <td>0</td>\n",
              "      <td>#followfriday @mikegrant Twitter is too quiet without him, miss ya dude</td>\n",
              "    </tr>\n",
              "    <tr>\n",
              "      <th>73527</th>\n",
              "      <td>73539</td>\n",
              "      <td>1</td>\n",
              "      <td>@ankit_a Professional work costs more!  English-Hindi translation will be a big business in next few years. Keep tuned in.</td>\n",
              "    </tr>\n",
              "    <tr>\n",
              "      <th>90339</th>\n",
              "      <td>90351</td>\n",
              "      <td>1</td>\n",
              "      <td>@chiefsanjay I thought aap US mein ho..and you did not inform us</td>\n",
              "    </tr>\n",
              "    <tr>\n",
              "      <th>28498</th>\n",
              "      <td>28510</td>\n",
              "      <td>1</td>\n",
              "      <td>@air1radio Absolutely.  It's nice to get the verses daily  Thanks!</td>\n",
              "    </tr>\n",
              "    <tr>\n",
              "      <th>92571</th>\n",
              "      <td>92583</td>\n",
              "      <td>1</td>\n",
              "      <td>@chriskey They found me - I've no idea where they've even come from!  I only know you</td>\n",
              "    </tr>\n",
              "    <tr>\n",
              "      <th>6266</th>\n",
              "      <td>6269</td>\n",
              "      <td>0</td>\n",
              "      <td>#DontYouHate when your favorite member of a music group is no longer part of the group?! HEATED! I loved her  @Tifflicious *sigh*</td>\n",
              "    </tr>\n",
              "    <tr>\n",
              "      <th>73657</th>\n",
              "      <td>73669</td>\n",
              "      <td>0</td>\n",
              "      <td>smoked prime rib working...</td>\n",
              "    </tr>\n",
              "    <tr>\n",
              "      <th>13590</th>\n",
              "      <td>13602</td>\n",
              "      <td>1</td>\n",
              "      <td>... cooking..</td>\n",
              "    </tr>\n",
              "    <tr>\n",
              "      <th>18928</th>\n",
              "      <td>18940</td>\n",
              "      <td>0</td>\n",
              "      <td>@_adrenalinerush http://twitpic.com/7or7w - Twitter is being EVIL!  Maybe all of us broke it? And I see me ::shifty::</td>\n",
              "    </tr>\n",
              "    <tr>\n",
              "      <th>31873</th>\n",
              "      <td>31885</td>\n",
              "      <td>0</td>\n",
              "      <td>@AerithG7 My World of Warcraft guild is a low-med Rping, Instance, and leveling guild. Its still a small guild.</td>\n",
              "    </tr>\n",
              "    <tr>\n",
              "      <th>57549</th>\n",
              "      <td>57561</td>\n",
              "      <td>1</td>\n",
              "      <td>@bbhgeneral08 all them 'o's tho?</td>\n",
              "    </tr>\n",
              "    <tr>\n",
              "      <th>89057</th>\n",
              "      <td>89069</td>\n",
              "      <td>1</td>\n",
              "      <td>@Cherrim DON'T DO IT. It will spoil the fun of opening it in the mail</td>\n",
              "    </tr>\n",
              "    <tr>\n",
              "      <th>8326</th>\n",
              "      <td>8329</td>\n",
              "      <td>0</td>\n",
              "      <td>thunder and lightning. One Thing I Am Scared Of. Even Bear Is Scared</td>\n",
              "    </tr>\n",
              "    <tr>\n",
              "      <th>44543</th>\n",
              "      <td>44555</td>\n",
              "      <td>0</td>\n",
              "      <td>@annATL I'm kinda glad no one's there, cause I'd be missing most of it. I have to leave now and get back on my makeup work.</td>\n",
              "    </tr>\n",
              "    <tr>\n",
              "      <th>57323</th>\n",
              "      <td>57335</td>\n",
              "      <td>0</td>\n",
              "      <td>@beckinelson lolz same, i would re-creat it in a video but like non ov my friends watch swac</td>\n",
              "    </tr>\n",
              "    <tr>\n",
              "      <th>41315</th>\n",
              "      <td>41327</td>\n",
              "      <td>1</td>\n",
              "      <td>@amystats it's so good! I can't wait to talk about it on Monday!</td>\n",
              "    </tr>\n",
              "    <tr>\n",
              "      <th>22129</th>\n",
              "      <td>22141</td>\n",
              "      <td>0</td>\n",
              "      <td>@49diamond I miss you way more than you can imagine</td>\n",
              "    </tr>\n",
              "  </tbody>\n",
              "</table>\n",
              "</div>"
            ],
            "text/plain": [
              "       ItemID  ...                                                                                                                      SentimentText\n",
              "13868   13880  ...                                                                ..... a cool day lying in the sun at hyde park with my sweet mandy \n",
              "90533   90545  ...                                                              @ChinaBlue79 Awww you don't look a day older than Sonic The Hedgehog \n",
              "90850   90862  ...                                            @CNICELB me to fam... i had many tears earlier from my friends funeral  how was ur dai?\n",
              "6712     6715  ...                                                           #followfriday @mikegrant Twitter is too quiet without him, miss ya dude \n",
              "73527   73539  ...         @ankit_a Professional work costs more!  English-Hindi translation will be a big business in next few years. Keep tuned in.\n",
              "90339   90351  ...                                                                  @chiefsanjay I thought aap US mein ho..and you did not inform us \n",
              "28498   28510  ...                                                                 @air1radio Absolutely.  It's nice to get the verses daily  Thanks!\n",
              "92571   92583  ...                                             @chriskey They found me - I've no idea where they've even come from!  I only know you \n",
              "6266     6269  ...  #DontYouHate when your favorite member of a music group is no longer part of the group?! HEATED! I loved her  @Tifflicious *sigh*\n",
              "73657   73669  ...                                                                                                        smoked prime rib working...\n",
              "13590   13602  ...                                                                                                                     ... cooking.. \n",
              "18928   18940  ...              @_adrenalinerush http://twitpic.com/7or7w - Twitter is being EVIL!  Maybe all of us broke it? And I see me ::shifty::\n",
              "31873   31885  ...                   @AerithG7 My World of Warcraft guild is a low-med Rping, Instance, and leveling guild. Its still a small guild. \n",
              "57549   57561  ...                                                                                                  @bbhgeneral08 all them 'o's tho? \n",
              "89057   89069  ...                                                             @Cherrim DON'T DO IT. It will spoil the fun of opening it in the mail \n",
              "8326     8329  ...                                                               thunder and lightning. One Thing I Am Scared Of. Even Bear Is Scared\n",
              "44543   44555  ...       @annATL I'm kinda glad no one's there, cause I'd be missing most of it. I have to leave now and get back on my makeup work. \n",
              "57323   57335  ...                                      @beckinelson lolz same, i would re-creat it in a video but like non ov my friends watch swac \n",
              "41315   41327  ...                                                                  @amystats it's so good! I can't wait to talk about it on Monday! \n",
              "22129   22141  ...                                                                               @49diamond I miss you way more than you can imagine \n",
              "\n",
              "[20 rows x 3 columns]"
            ]
          },
          "metadata": {
            "tags": []
          },
          "execution_count": 4
        }
      ]
    },
    {
      "cell_type": "markdown",
      "metadata": {
        "id": "oN5mmoQLeAJC"
      },
      "source": [
        "Como se puede observar, el dataset contiene 3 cosas: **un id, la clasificación (positiva o negativa) y el texto del tweet**. De las cuales, nos estaremos enfocando en las últimas dos."
      ]
    },
    {
      "cell_type": "markdown",
      "metadata": {
        "id": "AC16cGqAE6XW"
      },
      "source": [
        "Ahora bien, queremos enfocarnos un poco en el texto de los tweets. Viendo algunos de los textos, es claro que hay ciertas cosas que no ayudan mucho a definir la clasificación del tweet. Por lo tanto, haremos algo de **pre-procesamiento** antes de meter los tweets al modelo."
      ]
    },
    {
      "cell_type": "markdown",
      "metadata": {
        "id": "QzBy6m60i1p-"
      },
      "source": [
        "La primera función cumple dos propósitos: **'lemmatizar' y 'tokenizar'** los tweets. Con la primera, lo que queremos es regresar las palabras a su raíz, con el objetivo de que palabras como 'running' y 'ran' se tomen como la misma. Y la segunda, va a dividir el texto del tweet en palabras, y estas se regresarán en una lista. Además de esto, es importante mencionar que sólo vamos a incluir palabras que **no sean stopwords**, por la razón que estas no terminan aportando al sentimiento del tweet."
      ]
    },
    {
      "cell_type": "code",
      "metadata": {
        "id": "2sR-xf6X6ewK"
      },
      "source": [
        "stop_words = set(stopwords.words(\"english\") + [',', '...', '.', '..', \"'\", '’', 'rt', ':']) - set(words.words())"
      ],
      "execution_count": 5,
      "outputs": []
    },
    {
      "cell_type": "code",
      "metadata": {
        "id": "FziXY5Umr48D"
      },
      "source": [
        "def lemmatize_tokenize(text):\n",
        "    lemmatizer = WordNetLemmatizer()\n",
        "    return ' '.join([lemmatizer.lemmatize(token.lower()) for token in word_tokenize(text) if token not in stop_words])"
      ],
      "execution_count": 6,
      "outputs": []
    },
    {
      "cell_type": "markdown",
      "metadata": {
        "id": "zYuMZf0xjhmp"
      },
      "source": [
        "La segunda función va a quitar o arreglar ciertas cosas que notamos en los textos que creemos que no aportan mucho para determinar su clasificación. Más específicamente, haremos lo siguiente:\n",
        "\n",
        "\n",
        "*   **Sustituir los @tags por 'tag'**, dado que las menciones específicas no terminan aportando mucho, pero el hecho de que haya una mención puede que sí afecte.\n",
        "*   **Remover los hashtags (#)**, nadamás se removerá el signo de #, la palabra que viene después se queda igual.\n",
        "*   **Remover los caracteres especiales de HTML**, notamos que hay cosas como '&quot', que no vienen sirviendo mucho.\n",
        "*   **Sustituir los emojis**, al igual que los hashtags, creemos que sería mucho más útil agrupar todos los emojis positivos y separarlos de los negativos.\n",
        "*   **Remover los urls**, en el sentido de que se removerán los caracteres especiales y sólo se dejarán las palabras importantes de este.\n",
        "*   **Remover caracteres repetidos**, para agrupar palabras como 'heelloooo' en una sola\n",
        "*   **Remover menciones a otros subreddits**\n",
        "*   **Remover menciones a usuarios de Reddit**\n",
        "\n",
        "Finalmente, esta función regresa el texto procesado por la función anterior para así guardarlo. Esta función será usada para procesar todos los textos que rcibamos. Esto incluye **el dataset, API de Twitter, Youtube, Reddit y Genius**."
      ]
    },
    {
      "cell_type": "code",
      "metadata": {
        "id": "0igy9wRFsNKt"
      },
      "source": [
        "def process_text(text):\n",
        "    # Remover los @ tags\n",
        "    text = re.sub(r\"@[a-zA-Z0-9_]*\", \"tag\", text)\n",
        "\n",
        "    # Remover los hashtags y dejar solo la palabra\n",
        "    text = re.sub(r\"#\", \"\", text)\n",
        "\n",
        "    # Remover los caracteres especiales de HTML\n",
        "    text = re.sub(r\"\\&\\w+;\", \"\", text)\n",
        "\n",
        "    # Remover las tags de HTML\n",
        "    text = re.sub(r\"<[^>]+>\", \"\", text)\n",
        "\n",
        "    # Reemplazar los emojis\n",
        "    HAPPY_EMO = r\"([xX;:]-?[dD\\)]|:-?[\\\\\\)]|[;:][pP])\" # tomada de https://stackoverflow.com/questions/28077049/regex-matching-emoticons\n",
        "    SAD_EMO = SAD_EMO = r\"(:'?[/|\\(])\" # tomada de https://stackoverflow.com/questions/28077049/regex-matching-emoticons\n",
        "\n",
        "    text = re.sub(HAPPY_EMO, \" happyemoticon \", text)\n",
        "    text = re.sub(SAD_EMO, \" sademoticon \", text)\n",
        "\n",
        "    # Remover los hyperlinks\n",
        "    text = re.sub(r\"htpps?://\\S+|www\\.\\S+\", \"\", text)\n",
        "\n",
        "    # Remover caracteres repetidos\n",
        "    text = re.sub(r\"(.)\\1+\", r\"\\1\\1\", text)\n",
        "\n",
        "    # Remover menciones a subreddits\n",
        "    text = re.sub(r\"r\\/([^\\s/]+)\", r\"\", text) # regex tomada de https://stackoverflow.com/questions/21109968/python-regex-to-match-subreddit-names\n",
        "\n",
        "    # Remover menciones a otros usuarios de Reddit\n",
        "    text = re.sub(r\"\\/([^\\s/]+)\", r\"\", text) # regex tomada de https://stackoverflow.com/questions/46104630/regex-to-identify-reddit-usernames\n",
        "\n",
        "    return text"
      ],
      "execution_count": 7,
      "outputs": []
    },
    {
      "cell_type": "markdown",
      "metadata": {
        "id": "GVpDh8dHnuWL"
      },
      "source": [
        "Ya con las funciones definidas, tomamos los tweets y los pasamos por ambas funciones para generar los tweets procesados. Ya con estos podemos proceder a utilizarlos para entrenar los modelos. Al final de esta celda se muestra el porcentaje de tweets negativos vs. positivos, para mostrar una mejor idea del dataset."
      ]
    },
    {
      "cell_type": "code",
      "metadata": {
        "colab": {
          "base_uri": "https://localhost:8080/"
        },
        "id": "QneAI6Boeofb",
        "outputId": "50d9a418-6959-443a-bb0e-cf9166a9b752"
      },
      "source": [
        "processed_ds = data.SentimentText.map(lambda tweet: lemmatize_tokenize(process_text(tweet)))\n",
        "\n",
        "n_pos = data.Sentiment[(data['Sentiment'] == 1)].shape[0]\n",
        "n_neg = data.Sentiment[(data['Sentiment'] == 0)].shape[0]\n",
        "print(f\"Negativos: {n_neg / len(data) * 100} %, \\nPositivos: {n_pos / len(data) * 100} %\")"
      ],
      "execution_count": 8,
      "outputs": [
        {
          "output_type": "stream",
          "text": [
            "Negativos: 43.53678904679515 %, \n",
            "Positivos: 56.46321095320486 %\n"
          ],
          "name": "stdout"
        }
      ]
    },
    {
      "cell_type": "markdown",
      "metadata": {
        "id": "NBxFTjex1jfv"
      },
      "source": [
        "# 3. Words as Features\n",
        "Ahora que los tweets ya están listos, podemos armar nuestra lista de todas las palabras relevantes, de las cuales se usarán las 5000 más frecuentes. También, se restrigirán las palabras permitidas a solo **verbos**, **adjetivos** y **adverbios**."
      ]
    },
    {
      "cell_type": "code",
      "metadata": {
        "id": "mjVyGt9GHYdo"
      },
      "source": [
        "documents = []\n",
        "all_words = []\n",
        "allowed_word_types = ['J', 'R', 'V']\n",
        "\n",
        "for tweet, sent in zip(processed_ds, data.Sentiment):\n",
        "    documents.append((tweet, sent))\n",
        "    pos = nltk.pos_tag(word_tokenize(tweet))\n",
        "    for w in pos:\n",
        "        if w[1][0] in allowed_word_types:\n",
        "            all_words.append(w[0].lower())\n",
        "\n",
        "all_words = nltk.FreqDist(all_words)\n",
        "word_features = list(all_words.keys())[:5000] # lista con las 5000 palabras permitidas mas frecuentes"
      ],
      "execution_count": 9,
      "outputs": []
    },
    {
      "cell_type": "markdown",
      "metadata": {
        "id": "phRyQDZ0MZ2B"
      },
      "source": [
        "Definimos una función para sacar las **'features'** de un texto, es decir, una lista donde se indica cuales de las palabras están presentes en las más frecuentes. "
      ]
    },
    {
      "cell_type": "code",
      "metadata": {
        "id": "To6-3bS6MaYF"
      },
      "source": [
        "def find_features(words):\n",
        "    features = []\n",
        "    unknown = 1\n",
        "    for index, w in enumerate(word_features):\n",
        "        if w in words:\n",
        "          val = 1\n",
        "          unknown = 0\n",
        "        else:\n",
        "          val = 0\n",
        "\n",
        "        features.append(val)\n",
        "    features.append(unknown)\n",
        "    return features"
      ],
      "execution_count": 10,
      "outputs": []
    },
    {
      "cell_type": "markdown",
      "metadata": {
        "id": "7IAVPKn6NQ5-"
      },
      "source": [
        "Usamos esta función para sacar los sets de features para todos los tweets."
      ]
    },
    {
      "cell_type": "code",
      "metadata": {
        "id": "Z2zb_EG_NRSj",
        "colab": {
          "base_uri": "https://localhost:8080/"
        },
        "outputId": "0c3038f4-1912-4afe-8dd1-f3bf7923ccb0"
      },
      "source": [
        "featuresets = np.array([find_features(word_tokenize(tweet)) for (tweet, sent) in documents])\n",
        "featuresets.shape"
      ],
      "execution_count": 11,
      "outputs": [
        {
          "output_type": "execute_result",
          "data": {
            "text/plain": [
              "(99989, 5001)"
            ]
          },
          "metadata": {
            "tags": []
          },
          "execution_count": 11
        }
      ]
    },
    {
      "cell_type": "markdown",
      "metadata": {
        "id": "gzORVo2FNt2I"
      },
      "source": [
        "# 4. Training, Validation and Testing Sets\n",
        "Esta es una parte importante, ya que la manera en que se construyan estos 3 sets de datos puede afectar los resultados de los modelos que se construyan más adelante. Para empezar, es importante mencionar que se van a construir dos tipos de modelos principales: **modelos básicos de ScikitLearn** y **redes neuronales recurrentes (RNNs) con Keras**. Debido a que estos trabajan de diferente forma, se construirán sets distintos entre los dos tipos de modelos. A continuación se describe la estructura de los datos para cada tipo, así como el razonamiento para hacerlo de esta forma."
      ]
    },
    {
      "cell_type": "markdown",
      "metadata": {
        "id": "ugbELt67CrAt"
      },
      "source": [
        "Antes que nada, vamos a definir los tamaños que tendrá cada set de datos. Nosotros optamos por la siguiente distribución:\n",
        "- 60% para **Training**\n",
        "- 20% para **Validation**\n",
        "- 20% para **Testing**"
      ]
    },
    {
      "cell_type": "code",
      "metadata": {
        "id": "xBn5UgoWDa1P"
      },
      "source": [
        "training_percentage = 0.60\n",
        "validation_percentage = 0.20\n",
        "training_set_size = int(len(data) * training_percentage)\n",
        "validation_set_size = int(len(data) * validation_percentage)"
      ],
      "execution_count": 12,
      "outputs": []
    },
    {
      "cell_type": "markdown",
      "metadata": {
        "id": "JaB4qobrkiOy"
      },
      "source": [
        "### Modelos de ScikitLearn\n",
        "Estos son modelos sencillos, que para entrenarlos les vamos a alimentar los vectores de features que se crearon previamente. Es decir, cada ejemplo del dataset será un **one-hot encoding** del tweet, donde cada posición representa una de las 5 mil palabras más frecuentes, y el valor indica si está presente en el tweet o no. Y como ya sabemos, esta representacion es la que se generó con los **featuresets**. Se define de la siguiente forma:"
      ]
    },
    {
      "cell_type": "code",
      "metadata": {
        "id": "I-BWq1MjNuHH",
        "colab": {
          "base_uri": "https://localhost:8080/"
        },
        "outputId": "009fc1b7-970c-416d-8197-d7d990d68a15"
      },
      "source": [
        "training_set_sk = featuresets[:training_set_size]\n",
        "validation_set_sk = featuresets[training_set_size : (training_set_size+validation_set_size)]\n",
        "testing_set_sk = featuresets[(training_set_size+validation_set_size):]\n",
        "\n",
        "training_sents_sk = np.array(data.Sentiment[:training_set_size])\n",
        "validation_sents_sk = np.array(data.Sentiment[training_set_size : (training_set_size+validation_set_size)])\n",
        "testing_sents_sk = np.array(data.Sentiment[(training_set_size+validation_set_size):])\n",
        "\n",
        "print(training_set_sk.shape)\n",
        "print(validation_set_sk.shape)\n",
        "print(testing_set_sk.shape)"
      ],
      "execution_count": 13,
      "outputs": [
        {
          "output_type": "stream",
          "text": [
            "(59993, 5001)\n",
            "(19997, 5001)\n",
            "(19999, 5001)\n"
          ],
          "name": "stdout"
        }
      ]
    },
    {
      "cell_type": "markdown",
      "metadata": {
        "id": "xOcJzF_gkv8p"
      },
      "source": [
        "### RNNs con Keras\n",
        "Ahora bien, la segunda clase de modelos que implementaremos son diferentes arquitecturas de Redes Neuronales Recurrentes (RNNs) que implementaremos con el API de Keras. Una característica muy importante de este tipo de arquitecturas es que trabajan muy bien con **secuencias**, de ahí que sean tan populares para trabajar con texto. No obstante, en la representación de los featuresets no se puede apreciar ninguna clase de secuencia, dado que los ejempos sólo son vectores de 0s y 1s.\n",
        "\n",
        "Por esta razón, cambiamos la estructura de la entrada de la siguiente forma: apoyándonos de Keras, vamos a contruir un vocabulario para las palabras más frecuentes, de tal manera que nos ayude a mapear palabras con índices. Entonces, nuestros vectores pasarían de ser booleanos a una lista de diferentes índices, en donde en claro que se está manteniendo la **secuencia de las palabras**, sólo que en una representación numérica para poder alimentarla a las redes."
      ]
    },
    {
      "cell_type": "markdown",
      "metadata": {
        "id": "g8kcdJZUGuSy"
      },
      "source": [
        "Para lograr esto, primero creamos los datasets con tensores de Tensorflow. Algo que vale la pena mencionar es que los sets de datos contienen tuplas que agrupan el texto con su clasificación, por lo que ya no se necesita tener las labels en un set de datos aparte."
      ]
    },
    {
      "cell_type": "code",
      "metadata": {
        "colab": {
          "base_uri": "https://localhost:8080/"
        },
        "id": "UPxqmnMMEr3Z",
        "outputId": "b35f951c-eb95-4cca-c0a4-7c32880e910e"
      },
      "source": [
        "train_dataset = tf.data.Dataset.from_tensor_slices((processed_ds[:training_set_size], data.Sentiment[:training_set_size]))\n",
        "valid_dataset = tf.data.Dataset.from_tensor_slices((processed_ds[training_set_size : (training_set_size+validation_set_size)], data.Sentiment[training_set_size : (training_set_size+validation_set_size)]))\n",
        "test_dataset = tf.data.Dataset.from_tensor_slices((processed_ds[(training_set_size+validation_set_size):], data.Sentiment[(training_set_size+validation_set_size):]))\n",
        "\n",
        "print(len(train_dataset))\n",
        "print(len(valid_dataset))\n",
        "print(len(test_dataset))"
      ],
      "execution_count": 14,
      "outputs": [
        {
          "output_type": "stream",
          "text": [
            "59993\n",
            "19997\n",
            "19999\n"
          ],
          "name": "stdout"
        }
      ]
    },
    {
      "cell_type": "markdown",
      "metadata": {
        "id": "NQGWYwsyHGSw"
      },
      "source": [
        "Ahora lo que se hace es dividir los sets de datos en batches para poder llevar a cabo el entrenamiento. También, se hace un shuffle en los datos de entrenamiento."
      ]
    },
    {
      "cell_type": "code",
      "metadata": {
        "id": "DTKNX4enEr3k"
      },
      "source": [
        "BUFFER_SIZE = 1000\n",
        "BATCH_SIZE = 64\n",
        "\n",
        "train_dataset = train_dataset.shuffle(BUFFER_SIZE).batch(BATCH_SIZE)\n",
        "valid_dataset = valid_dataset.batch(BATCH_SIZE)\n",
        "test_dataset = test_dataset.batch(BATCH_SIZE)"
      ],
      "execution_count": 15,
      "outputs": []
    },
    {
      "cell_type": "markdown",
      "metadata": {
        "id": "7QeqzqRPHsRx"
      },
      "source": [
        "Ahora sí, apoyándonos de Keras, creamos el vocabulario que contendrá las **2000 palabras más frecuentes** (número definido por nosotros) a partir de training set. Al final de esta celda se muestran las 20 palabras más frecuentes en el set de entrenamiento. Aquí se puede ver que se está haciendo algo muy similar a lo que se hizo con NLTK en los featuresets, sólo que más apropiado para las RNNs."
      ]
    },
    {
      "cell_type": "code",
      "metadata": {
        "colab": {
          "base_uri": "https://localhost:8080/"
        },
        "id": "vhUckEmAEr3l",
        "outputId": "332b3711-7be6-47d5-c27d-1957cbec2f48"
      },
      "source": [
        "VOCAB_SIZE = 2000\n",
        "encoder = tf.keras.layers.experimental.preprocessing.TextVectorization(\n",
        "    max_tokens=VOCAB_SIZE)\n",
        "encoder.adapt(train_dataset.map(lambda text, label: text))\n",
        "\n",
        "vocab = np.array(encoder.get_vocabulary())\n",
        "vocab[:20]"
      ],
      "execution_count": 16,
      "outputs": [
        {
          "output_type": "execute_result",
          "data": {
            "text/plain": [
              "array(['', '[UNK]', 'tag', 'i', 'the', 'to', 'you', 'a', 'it', 'and',\n",
              "       'my', 'is', 'that', 'for', 's', 'in', 'nt', 'me', 'of', 'have'],\n",
              "      dtype='<U15')"
            ]
          },
          "metadata": {
            "tags": []
          },
          "execution_count": 16
        }
      ]
    },
    {
      "cell_type": "markdown",
      "metadata": {
        "id": "PvgnjbMx1RVk"
      },
      "source": [
        "# 5. Models and Extra Functionality\n",
        "Procedemos a crear los modelos que vamos a utilizar y también creamos funcionalidades adicionales para guardar y cargar los modelos ya entrenados, así como obtner métricas de desempeño y graficar los valores de loss."
      ]
    },
    {
      "cell_type": "markdown",
      "metadata": {
        "id": "v2ZlwN5iNd-k"
      },
      "source": [
        "Lo primero que definimos es la clase que representará el modelo principal, el **Vote Classifier**. El punto de este modelo es que va a englobar todos los demás modelos que construyamos, de tal forma que al querer clasificar un nuevo texto, este tomará las predicciones de todos los modelos y de acuerdo a la mayoría sacará la predicción definitiva.\n",
        "\n",
        "Como se puede ver, debido a que este incluye modelos simples y complejos, escribimos dos funciones separadas para sacar las predicciones para cada tipo de modelo, después juntamos todos los votos para sacar la predicción definitiva."
      ]
    },
    {
      "cell_type": "code",
      "metadata": {
        "id": "uTdreKLbb--t"
      },
      "source": [
        "class VoteClassifier(ClassifierI):\n",
        "    def __init__(self, NB, multi_Nb, bern_NB, LR, SGD, rnn_one, rnn_two, rnn_three, bert_model):\n",
        "        self.simple_classifiers = [NB, multi_Nb, bern_NB, LR, SGD]\n",
        "        self.complex_classifiers = [rnn_one, rnn_two, rnn_three, bert_model]\n",
        "        \n",
        "    def classify(self, text):\n",
        "        votes = self.classify_simple(text) + self.classify_complex(text)\n",
        "        c_ones = sum(1 for v in votes if v == 1)\n",
        "        c_zeros = sum(1 for v in votes if v == 0)\n",
        "        confidence = c_ones / len(votes)\n",
        "\n",
        "        if c_ones < c_zeros:\n",
        "            confidence = 1 - confidence\n",
        "\n",
        "        return mode(votes), confidence\n",
        "\n",
        "    def classify_simple(self, text):\n",
        "        votes = []\n",
        "        feats = np.array(find_features(text)).reshape(1, -1)\n",
        "\n",
        "        for c in self.simple_classifiers:\n",
        "            v = c.predict(feats)[0]\n",
        "            votes.append(v)\n",
        "        return votes\n",
        "\n",
        "    def classify_complex(self, text):\n",
        "        votes = []\n",
        "\n",
        "        for c in self.complex_classifiers:\n",
        "            pred = c.predict(np.array([text]))\n",
        "            v = 1 if pred >= 0.5 else 0\n",
        "            votes.append(v)\n",
        "        return votes"
      ],
      "execution_count": 17,
      "outputs": []
    },
    {
      "cell_type": "markdown",
      "metadata": {
        "id": "giPABk64dySL"
      },
      "source": [
        "Aquí se presentan dos funciones que fueron muy útiles durante el desarrollo de este trabajo. Estas sirven para guardar el estado actual de los modelos, así como cargarlo nuevamente, con la finalidad de ahorrarse el tiempo de tener que entrenar los modelos varias veces."
      ]
    },
    {
      "cell_type": "code",
      "metadata": {
        "id": "_c--7ya-1vzm"
      },
      "source": [
        "def save_classifier(classifier, name):\n",
        "    _name = os.path.join(\"/content/drive/MyDrive/SentDex\", name + \".pickle\")\n",
        "    save_classifier = open(_name,\"wb\")\n",
        "    pickle.dump(classifier, save_classifier)\n",
        "    save_classifier.close()\n",
        "    print(_name + \" saved!\")\n",
        "\n",
        "def load_classifier(name):\n",
        "    _name = os.path.join(\"/content/drive/MyDrive/SentDex\", name + \".pickle\")\n",
        "    classifier_f = open(_name,\"rb\")\n",
        "    classifier = pickle.load(classifier_f)\n",
        "    classifier_f.close()\n",
        "    print(_name + \"loaded!\")\n",
        "    return classifier"
      ],
      "execution_count": 18,
      "outputs": []
    },
    {
      "cell_type": "markdown",
      "metadata": {
        "id": "ZWPjZ9bl2EKb"
      },
      "source": [
        "# 6. Training, Evaluation, and Metrics\n",
        "En este apartado entrenamos todos los modelos que formarán parte del vote classifier. Cuando se terminen de entrenar, se obtienen las siguientes métricas para valorar su desempeño:\n",
        "- Accuracy\n",
        "- Precision\n",
        "- Recall\n",
        "\n",
        "Asimismo, en caso de que sea posible se muestra la matriz de confusión graficada, así como otra gráfica con los valores de loss a lo largo del entrenamiento."
      ]
    },
    {
      "cell_type": "markdown",
      "metadata": {
        "id": "6yFwzfN7lE67"
      },
      "source": [
        "### Clasificadores de ScikitLearn"
      ]
    },
    {
      "cell_type": "markdown",
      "metadata": {
        "id": "-VIT_ljxb_1e"
      },
      "source": [
        "Decidimos crear los siguientes clasificadores de ScikitLearn:\n",
        "\n",
        "\n",
        "*   Naive Bayes (Regular, Multinomial y Bernoulli)\n",
        "*   Logistic Regression\n",
        "*   Stochastic Gradient Descent\n",
        "\n",
        "Antes de crealos, las siguientes celdas muestran varias algunas funciones útiles para estos modelos.\n"
      ]
    },
    {
      "cell_type": "markdown",
      "metadata": {
        "id": "iiC_oIpkBGDV"
      },
      "source": [
        "Como se mencionó antes, el set de datos contiene alrededor de 100,000 tweets. Dado que es una cantidad muy grande, tenemos que hacer el entrenamiento de los modelos en batches. En esta celda dividimos el set de entrenamiento en 60 batches, cada uno con sólo 1,000 tweets. "
      ]
    },
    {
      "cell_type": "code",
      "metadata": {
        "id": "zOaHz2tIBoS5"
      },
      "source": [
        "# Tamaño del batch\n",
        "n = 1000\n",
        "\n",
        "# using list comprehension \n",
        "X_batches = [training_set_sk[i*n : (i + 1)*n] for i in range((len(training_set_sk) + n - 1) // n )]\n",
        "Y_batches = [training_sents_sk[i*n : (i + 1)*n] for i in range((len(training_sents_sk) + n - 1) // n )]"
      ],
      "execution_count": 19,
      "outputs": []
    },
    {
      "cell_type": "markdown",
      "metadata": {
        "id": "zRzGuBpGBsjB"
      },
      "source": [
        "Ya con el set de datos partido en batches, definimos una función que realizará el entrenamiento del modelo. Además del entrenamiento, también va guardando los valores loss por batch, y los regresa al terminar."
      ]
    },
    {
      "cell_type": "code",
      "metadata": {
        "id": "fvu_9KEHBtGt"
      },
      "source": [
        "\n",
        "def train_mini_batch(classifier):\n",
        "    index = 0\n",
        "    losses = []\n",
        "\n",
        "    for X,Y in zip(X_batches, Y_batches):\n",
        "        classifier.partial_fit(X,Y, classes = [1, 0])\n",
        "\n",
        "        preds = classifier.predict(validation_set_sk)\n",
        "        losses.append(log_loss(validation_sents_sk, preds))\n",
        "\n",
        "        index += 1\n",
        "        if index % 10 == 0:\n",
        "          print(f\"Epoch: {index}\")\n",
        "\n",
        "    return losses"
      ],
      "execution_count": 20,
      "outputs": []
    },
    {
      "cell_type": "markdown",
      "metadata": {
        "id": "KgKfR-5wQbVf"
      },
      "source": [
        "Esta es una función para englobar las 3 métricas de desempeño que se quieren mostrar por modelo. También, despliega la matriz de confusión."
      ]
    },
    {
      "cell_type": "code",
      "metadata": {
        "id": "7yH6NnQ8GmD8"
      },
      "source": [
        "def get_classifier_metrics(classifier):\n",
        "    preds = classifier.predict(testing_set_sk)\n",
        "\n",
        "    print(\"\\tAccuracy: \", accuracy_score(testing_sents_sk, preds) * 100)\n",
        "    print(\"\\tPrecision: \", precision_score(testing_sents_sk, preds) * 100)\n",
        "    print(\"\\tRecall: \", recall_score(testing_sents_sk, preds) * 100)\n",
        "    print()\n",
        "    print(\"Confusion matrix: \")\n",
        "    plot_confusion_matrix(classifier, testing_set_sk, testing_sents_sk)\n",
        "  "
      ],
      "execution_count": 21,
      "outputs": []
    },
    {
      "cell_type": "markdown",
      "metadata": {
        "id": "u4GG00WlQygh"
      },
      "source": [
        "La siguiente función es sólo para crear la gráfica para los valores de loss."
      ]
    },
    {
      "cell_type": "code",
      "metadata": {
        "id": "98t8xzNjJ_HJ"
      },
      "source": [
        "def plot_classifier_loss(classifier, losses):\n",
        "    plt.figure(figsize=(4.8, 4))\n",
        "    plt.plot(losses, 'red')\n",
        "    plt.ylabel('Loss')\n",
        "    plt.xlabel('Epoch')\n",
        "    plt.title(f\"Log loss for {classifier}\")\n",
        "    plt.show()"
      ],
      "execution_count": 22,
      "outputs": []
    },
    {
      "cell_type": "markdown",
      "metadata": {
        "id": "IsEPLzlUB9AJ"
      },
      "source": [
        "Ahora sí, podemos entrenar los 5 modelos que se mencionaron antes. Al terminar, se muestran todas las métricas y gráficas que se especificaron previamente."
      ]
    },
    {
      "cell_type": "code",
      "metadata": {
        "id": "JF0jSY2uB9gg",
        "colab": {
          "base_uri": "https://localhost:8080/",
          "height": 775
        },
        "outputId": "57bcf70c-5e88-4223-bf3b-455c5769e7e2"
      },
      "source": [
        "NB_classifier = GaussianNB()\n",
        "losses = train_mini_batch(NB_classifier)\n",
        "print()\n",
        "print(\"Simple Naive Bayes metrics:\")\n",
        "get_classifier_metrics(NB_classifier)\n",
        "plot_classifier_loss(\"Simple Naive Bayes\", losses)"
      ],
      "execution_count": 23,
      "outputs": [
        {
          "output_type": "stream",
          "text": [
            "Epoch: 10\n",
            "Epoch: 20\n",
            "Epoch: 30\n",
            "Epoch: 40\n",
            "Epoch: 50\n",
            "Epoch: 60\n",
            "\n",
            "Simple Naive Bayes metrics:\n",
            "\tAccuracy:  60.583029151457566\n",
            "\tPrecision:  60.53093578762569\n",
            "\tRecall:  96.0817429488262\n",
            "\n",
            "Confusion matrix: \n"
          ],
          "name": "stdout"
        },
        {
          "output_type": "display_data",
          "data": {
            "image/png": "[encoded data removed]",
            "text/plain": [
              "<Figure size 432x288 with 2 Axes>"
            ]
          },
          "metadata": {
            "tags": [],
            "needs_background": "light"
          }
        },
        {
          "output_type": "display_data",
          "data": {
            "image/png": "[encoded data removed]",
            "text/plain": [
              "<Figure size 345.6x288 with 1 Axes>"
            ]
          },
          "metadata": {
            "tags": [],
            "needs_background": "light"
          }
        }
      ]
    },
    {
      "cell_type": "code",
      "metadata": {
        "id": "hjJ_uCU8CRhm",
        "colab": {
          "base_uri": "https://localhost:8080/",
          "height": 775
        },
        "outputId": "0079ebd3-f765-4ea2-a0fb-a0a55862b7c8"
      },
      "source": [
        "MNB_classifier = MultinomialNB()\n",
        "losses = train_mini_batch(MNB_classifier)\n",
        "print()\n",
        "print(\"Multinomial Naive Bayes metrics:\")\n",
        "get_classifier_metrics(MNB_classifier)\n",
        "plot_classifier_loss(\"Multinomial Naive Bayes\", losses)"
      ],
      "execution_count": 24,
      "outputs": [
        {
          "output_type": "stream",
          "text": [
            "Epoch: 10\n",
            "Epoch: 20\n",
            "Epoch: 30\n",
            "Epoch: 40\n",
            "Epoch: 50\n",
            "Epoch: 60\n",
            "\n",
            "Multinomial Naive Bayes metrics:\n",
            "\tAccuracy:  74.00370018500925\n",
            "\tPrecision:  76.80142015653998\n",
            "\tRecall:  80.37493666610371\n",
            "\n",
            "Confusion matrix: \n"
          ],
          "name": "stdout"
        },
        {
          "output_type": "display_data",
          "data": {
            "image/png": "[encoded data removed]",
            "text/plain": [
              "<Figure size 432x288 with 2 Axes>"
            ]
          },
          "metadata": {
            "tags": [],
            "needs_background": "light"
          }
        },
        {
          "output_type": "display_data",
          "data": {
            "image/png": "[encoded data removed]",
            "text/plain": [
              "<Figure size 345.6x288 with 1 Axes>"
            ]
          },
          "metadata": {
            "tags": [],
            "needs_background": "light"
          }
        }
      ]
    },
    {
      "cell_type": "code",
      "metadata": {
        "id": "lmcIqUfwCRdq",
        "colab": {
          "base_uri": "https://localhost:8080/",
          "height": 775
        },
        "outputId": "92835592-68c8-4b2e-9ec6-c4dd68414004"
      },
      "source": [
        "BNB_classifier = BernoulliNB()\n",
        "losses = train_mini_batch(BNB_classifier)\n",
        "print()\n",
        "print(\"Bernoulli Naive Bayes metrics:\")\n",
        "get_classifier_metrics(BNB_classifier)\n",
        "plot_classifier_loss(\"Bernoulli Naive Bayes\", losses)"
      ],
      "execution_count": 25,
      "outputs": [
        {
          "output_type": "stream",
          "text": [
            "Epoch: 10\n",
            "Epoch: 20\n",
            "Epoch: 30\n",
            "Epoch: 40\n",
            "Epoch: 50\n",
            "Epoch: 60\n",
            "\n",
            "Bernoulli Naive Bayes metrics:\n",
            "\tAccuracy:  73.38866943347168\n",
            "\tPrecision:  75.60879811468972\n",
            "\tRecall:  81.27850025333558\n",
            "\n",
            "Confusion matrix: \n"
          ],
          "name": "stdout"
        },
        {
          "output_type": "display_data",
          "data": {
            "image/png": "[encoded data removed]",
            "text/plain": [
              "<Figure size 432x288 with 2 Axes>"
            ]
          },
          "metadata": {
            "tags": [],
            "needs_background": "light"
          }
        },
        {
          "output_type": "display_data",
          "data": {
            "image/png": "[encoded data removed]",
            "text/plain": [
              "<Figure size 345.6x288 with 1 Axes>"
            ]
          },
          "metadata": {
            "tags": [],
            "needs_background": "light"
          }
        }
      ]
    },
    {
      "cell_type": "code",
      "metadata": {
        "id": "XanpGkmwCRTh",
        "colab": {
          "base_uri": "https://localhost:8080/",
          "height": 775
        },
        "outputId": "e780dd78-e9a9-4a86-8331-e9ff9e513fc9"
      },
      "source": [
        "LogisticRegression_classifier = SGDClassifier(loss='log')\n",
        "losses = train_mini_batch(LogisticRegression_classifier)\n",
        "print()\n",
        "print(\"Logistic Regression metrics:\")\n",
        "get_classifier_metrics(LogisticRegression_classifier)\n",
        "plot_classifier_loss(\"Logistic Regression\", losses)"
      ],
      "execution_count": 26,
      "outputs": [
        {
          "output_type": "stream",
          "text": [
            "Epoch: 10\n",
            "Epoch: 20\n",
            "Epoch: 30\n",
            "Epoch: 40\n",
            "Epoch: 50\n",
            "Epoch: 60\n",
            "\n",
            "Logistic Regression metrics:\n",
            "\tAccuracy:  71.35856792839643\n",
            "\tPrecision:  78.41078066914498\n",
            "\tRecall:  71.2464110792096\n",
            "\n",
            "Confusion matrix: \n"
          ],
          "name": "stdout"
        },
        {
          "output_type": "display_data",
          "data": {
            "image/png": "[encoded data removed]",
            "text/plain": [
              "<Figure size 432x288 with 2 Axes>"
            ]
          },
          "metadata": {
            "tags": [],
            "needs_background": "light"
          }
        },
        {
          "output_type": "display_data",
          "data": {
            "image/png": "[encoded data removed]",
            "text/plain": [
              "<Figure size 345.6x288 with 1 Axes>"
            ]
          },
          "metadata": {
            "tags": [],
            "needs_background": "light"
          }
        }
      ]
    },
    {
      "cell_type": "code",
      "metadata": {
        "id": "WOMdyv3iCRIx",
        "colab": {
          "base_uri": "https://localhost:8080/",
          "height": 775
        },
        "outputId": "5c33e86a-ee43-497c-f723-e5e355739c8d"
      },
      "source": [
        "SGDClassifier_classifier = SGDClassifier()\n",
        "losses = train_mini_batch(SGDClassifier_classifier)\n",
        "print()\n",
        "print(\"SGDC metrics:\")\n",
        "get_classifier_metrics(SGDClassifier_classifier)\n",
        "plot_classifier_loss(\"SGDC\", losses)"
      ],
      "execution_count": 27,
      "outputs": [
        {
          "output_type": "stream",
          "text": [
            "Epoch: 10\n",
            "Epoch: 20\n",
            "Epoch: 30\n",
            "Epoch: 40\n",
            "Epoch: 50\n",
            "Epoch: 60\n",
            "\n",
            "SGDC metrics:\n",
            "\tAccuracy:  72.16860843042153\n",
            "\tPrecision:  77.30595196658545\n",
            "\tRecall:  75.0211112987671\n",
            "\n",
            "Confusion matrix: \n"
          ],
          "name": "stdout"
        },
        {
          "output_type": "display_data",
          "data": {
            "image/png": "[encoded data removed]",
            "text/plain": [
              "<Figure size 432x288 with 2 Axes>"
            ]
          },
          "metadata": {
            "tags": [],
            "needs_background": "light"
          }
        },
        {
          "output_type": "display_data",
          "data": {
            "image/png": "[encoded data removed]",
            "text/plain": [
              "<Figure size 345.6x288 with 1 Axes>"
            ]
          },
          "metadata": {
            "tags": [],
            "needs_background": "light"
          }
        }
      ]
    },
    {
      "cell_type": "markdown",
      "metadata": {
        "id": "SYVTw4zcfigR"
      },
      "source": [
        "Aquí se cargan los modelos ya entrenados, en caso de que ya se tengan los archivos pickle."
      ]
    },
    {
      "cell_type": "code",
      "metadata": {
        "id": "WVdnV0CG0krk",
        "colab": {
          "base_uri": "https://localhost:8080/",
          "height": 69
        },
        "outputId": "88422432-2e06-49d0-bf31-d4811576d713"
      },
      "source": [
        "\"\"\"\n",
        "NB_classifier = load_classifier(\"NB_classifier\")\n",
        "MNB_classifier = load_classifier(\"MNB_classifier\")\n",
        "BNB_classifier = load_classifier(\"BNB_classifier\")\n",
        "LogisticRegression_classifier = load_classifier(\"LogisticRegression_classifier\")\n",
        "SGDClassifier_classifier = load_classifier(\"SGDClassifier_classifier\")\n",
        "\"\"\""
      ],
      "execution_count": 28,
      "outputs": [
        {
          "output_type": "execute_result",
          "data": {
            "application/vnd.google.colaboratory.intrinsic+json": {
              "type": "string"
            },
            "text/plain": [
              "'\\nNB_classifier = load_classifier(\"NB_classifier\")\\nMNB_classifier = load_classifier(\"MNB_classifier\")\\nBNB_classifier = load_classifier(\"BNB_classifier\")\\nLogisticRegression_classifier = load_classifier(\"LogisticRegression_classifier\")\\nSGDClassifier_classifier = load_classifier(\"SGDClassifier_classifier\")\\n'"
            ]
          },
          "metadata": {
            "tags": []
          },
          "execution_count": 28
        }
      ]
    },
    {
      "cell_type": "markdown",
      "metadata": {
        "id": "hSjDAySDlPW0"
      },
      "source": [
        "### RNNs con Keras\n",
        "Ahora bien, ya que se crearon los modelos de Scikit, pasamos con las Redes Neuronales Recurrentes con Keras. A continuación se muestran 3 modelos con arquitecturas distintas. Para cada uno, se muestra el resumen de las capas que contiene, y después ya el procedimiento de entrenamiento y evaluación. Cabe mencionar que para el proceso de entrenamiento, se muestran las métricas de desempeño por epoch, tanto del training set como del validation set. También, se muestra una gráfica con el historial de loss para el training y validation set.\n",
        "\n",
        "Aquí se muestra la función para crear la gráfica de loss a partir del historial de un modelo."
      ]
    },
    {
      "cell_type": "code",
      "metadata": {
        "id": "6W__tLbwlwDd"
      },
      "source": [
        "def plot_history_loss(history):\n",
        "    plt.plot(history.history['loss'])\n",
        "    plt.plot(history.history['val_loss'])\n",
        "    plt.title('model loss')\n",
        "    plt.ylabel('loss')\n",
        "    plt.xlabel('epoch')\n",
        "    plt.legend(['train', 'val'], loc='upper right')\n",
        "    plt.show()"
      ],
      "execution_count": 29,
      "outputs": []
    },
    {
      "cell_type": "markdown",
      "metadata": {
        "id": "zICFwwgHZmri"
      },
      "source": [
        "Aquí se define la aquitectura y proceso del primer modelo."
      ]
    },
    {
      "cell_type": "code",
      "metadata": {
        "id": "FS0pW9MjleQt"
      },
      "source": [
        "model_one = tf.keras.Sequential([\n",
        "    encoder,\n",
        "    tf.keras.layers.Embedding(\n",
        "        input_dim=len(encoder.get_vocabulary()),\n",
        "        output_dim=64,\n",
        "        # Use masking to handle the variable sequence lengths\n",
        "        mask_zero=True),\n",
        "\n",
        "    tf.keras.layers.Bidirectional(tf.keras.layers.SimpleRNN(64)),\n",
        "    tf.keras.layers.Dense(64, activation='relu'),\n",
        "    # Agregamos dropout para reducir overfitting.\n",
        "    tf.keras.layers.Dropout(0.8),\n",
        "    tf.keras.layers.Dense(1, activation='sigmoid')\n",
        "])"
      ],
      "execution_count": 30,
      "outputs": []
    },
    {
      "cell_type": "code",
      "metadata": {
        "id": "rZWm0cTYyz1B"
      },
      "source": [
        "precision = tf.keras.metrics.Precision()\n",
        "recall = tf.keras.metrics.Recall()"
      ],
      "execution_count": 31,
      "outputs": []
    },
    {
      "cell_type": "code",
      "metadata": {
        "id": "b9jju-L5leRO"
      },
      "source": [
        "model_one.compile(loss=tf.keras.losses.BinaryCrossentropy(from_logits=True),\n",
        "              optimizer=tf.keras.optimizers.Adam(1e-4),\n",
        "              metrics=['accuracy', precision, recall])"
      ],
      "execution_count": 32,
      "outputs": []
    },
    {
      "cell_type": "code",
      "metadata": {
        "colab": {
          "base_uri": "https://localhost:8080/"
        },
        "id": "D452hG42leRP",
        "outputId": "d4780278-68f9-412c-9faf-b7bacd0faa89"
      },
      "source": [
        "history_one = model_one.fit(train_dataset, epochs=5,\n",
        "                    validation_data=valid_dataset,\n",
        "                    validation_steps=30)"
      ],
      "execution_count": 33,
      "outputs": [
        {
          "output_type": "stream",
          "text": [
            "Epoch 1/5\n",
            "938/938 [==============================] - 73s 73ms/step - loss: 0.6849 - accuracy: 0.5491 - precision: 0.5115 - recall: 0.5120 - val_loss: 0.5642 - val_accuracy: 0.7036 - val_precision: 0.7209 - val_recall: 0.8342\n",
            "Epoch 2/5\n",
            "938/938 [==============================] - 67s 71ms/step - loss: 0.5694 - accuracy: 0.7233 - precision: 0.6979 - recall: 0.7020 - val_loss: 0.4994 - val_accuracy: 0.7609 - val_precision: 0.7878 - val_recall: 0.8290\n",
            "Epoch 3/5\n",
            "938/938 [==============================] - 67s 72ms/step - loss: 0.5083 - accuracy: 0.7650 - precision: 0.7517 - recall: 0.7310 - val_loss: 0.4982 - val_accuracy: 0.7635 - val_precision: 0.8092 - val_recall: 0.7981\n",
            "Epoch 4/5\n",
            "938/938 [==============================] - 68s 72ms/step - loss: 0.4847 - accuracy: 0.7744 - precision: 0.7610 - recall: 0.7461 - val_loss: 0.4938 - val_accuracy: 0.7651 - val_precision: 0.7978 - val_recall: 0.8204\n",
            "Epoch 5/5\n",
            "938/938 [==============================] - 66s 70ms/step - loss: 0.4752 - accuracy: 0.7823 - precision: 0.7693 - recall: 0.7546 - val_loss: 0.4979 - val_accuracy: 0.7583 - val_precision: 0.7869 - val_recall: 0.8247\n"
          ],
          "name": "stdout"
        }
      ]
    },
    {
      "cell_type": "code",
      "metadata": {
        "colab": {
          "base_uri": "https://localhost:8080/",
          "height": 396
        },
        "id": "a1tf9gl6lwDb",
        "outputId": "4724b531-19d1-4415-9ce6-1fb0f75fb3ea"
      },
      "source": [
        "l, a, p, r = model_one.evaluate(test_dataset)\n",
        "\n",
        "print('Test Loss:', l)\n",
        "print('Test Accuracy:', a)\n",
        "print('Test Precision:', p)\n",
        "print('Test Recall:', r)\n",
        "print()\n",
        "plot_history_loss(history_one)"
      ],
      "execution_count": 34,
      "outputs": [
        {
          "output_type": "stream",
          "text": [
            "313/313 [==============================] - 3s 9ms/step - loss: 0.4892 - accuracy: 0.7622 - precision: 0.7902 - recall: 0.8148\n",
            "Test Loss: 0.48924267292022705\n",
            "Test Accuracy: 0.762238085269928\n",
            "Test Precision: 0.7901891469955444\n",
            "Test Recall: 0.8148117065429688\n",
            "\n"
          ],
          "name": "stdout"
        },
        {
          "output_type": "display_data",
          "data": {
            "image/png": "[encoded data removed]",
            "text/plain": [
              "<Figure size 432x288 with 1 Axes>"
            ]
          },
          "metadata": {
            "tags": [],
            "needs_background": "light"
          }
        }
      ]
    },
    {
      "cell_type": "markdown",
      "metadata": {
        "id": "7NmIOTi0Z1_3"
      },
      "source": [
        "Aquí se define la aquitectura y proceso del segundo modelo."
      ]
    },
    {
      "cell_type": "code",
      "metadata": {
        "id": "BN4apTIOlwDe"
      },
      "source": [
        "model_two = tf.keras.Sequential([\n",
        "    encoder,\n",
        "    tf.keras.layers.Embedding(\n",
        "        input_dim=len(encoder.get_vocabulary()),\n",
        "        output_dim=64,\n",
        "        # Use masking to handle the variable sequence lengths\n",
        "        mask_zero=True),\n",
        "    tf.keras.layers.Bidirectional(tf.keras.layers.LSTM(64)),\n",
        "    tf.keras.layers.Dense(64, activation='relu'),\n",
        "    # Agregamos dropout para reducir el overfitting\n",
        "    tf.keras.layers.Dropout(0.5),\n",
        "    tf.keras.layers.Dense(1, activation='sigmoid')\n",
        "])"
      ],
      "execution_count": 35,
      "outputs": []
    },
    {
      "cell_type": "code",
      "metadata": {
        "id": "TdDtChdylwDf"
      },
      "source": [
        "model_two.compile(loss=tf.keras.losses.BinaryCrossentropy(from_logits=True),\n",
        "              optimizer=tf.keras.optimizers.Adam(1e-4),\n",
        "              metrics=['accuracy', precision, recall])"
      ],
      "execution_count": 36,
      "outputs": []
    },
    {
      "cell_type": "code",
      "metadata": {
        "colab": {
          "base_uri": "https://localhost:8080/"
        },
        "id": "Qmit0vq5lwDg",
        "outputId": "3b1835a7-c132-4a83-ed94-64b51b13692e"
      },
      "source": [
        "history_two = model_two.fit(train_dataset, epochs=10,\n",
        "                    validation_data=valid_dataset,\n",
        "                    validation_steps=30)"
      ],
      "execution_count": 37,
      "outputs": [
        {
          "output_type": "stream",
          "text": [
            "Epoch 1/10\n",
            "938/938 [==============================] - 56s 21ms/step - loss: 0.6528 - accuracy: 0.6368 - precision: 0.7473 - recall: 0.6724 - val_loss: 0.5093 - val_accuracy: 0.7510 - val_precision: 0.7825 - val_recall: 0.8162\n",
            "Epoch 2/10\n",
            "938/938 [==============================] - 17s 18ms/step - loss: 0.5038 - accuracy: 0.7698 - precision: 0.7612 - recall: 0.7298 - val_loss: 0.4922 - val_accuracy: 0.7625 - val_precision: 0.8031 - val_recall: 0.8058\n",
            "Epoch 3/10\n",
            "938/938 [==============================] - 18s 19ms/step - loss: 0.4763 - accuracy: 0.7769 - precision: 0.7687 - recall: 0.7371 - val_loss: 0.4890 - val_accuracy: 0.7698 - val_precision: 0.7979 - val_recall: 0.8308\n",
            "Epoch 4/10\n",
            "938/938 [==============================] - 18s 19ms/step - loss: 0.4668 - accuracy: 0.7823 - precision: 0.7758 - recall: 0.7436 - val_loss: 0.4899 - val_accuracy: 0.7656 - val_precision: 0.7893 - val_recall: 0.8368\n",
            "Epoch 5/10\n",
            "938/938 [==============================] - 18s 19ms/step - loss: 0.4603 - accuracy: 0.7866 - precision: 0.7823 - recall: 0.7508 - val_loss: 0.4886 - val_accuracy: 0.7630 - val_precision: 0.7972 - val_recall: 0.8170\n",
            "Epoch 6/10\n",
            "938/938 [==============================] - 18s 19ms/step - loss: 0.4555 - accuracy: 0.7862 - precision: 0.7804 - recall: 0.7510 - val_loss: 0.4903 - val_accuracy: 0.7604 - val_precision: 0.7993 - val_recall: 0.8076\n",
            "Epoch 7/10\n",
            "938/938 [==============================] - 18s 19ms/step - loss: 0.4520 - accuracy: 0.7877 - precision: 0.7841 - recall: 0.7468 - val_loss: 0.4907 - val_accuracy: 0.7641 - val_precision: 0.7975 - val_recall: 0.8187\n",
            "Epoch 8/10\n",
            "938/938 [==============================] - 18s 19ms/step - loss: 0.4470 - accuracy: 0.7911 - precision: 0.7884 - recall: 0.7513 - val_loss: 0.4911 - val_accuracy: 0.7599 - val_precision: 0.8002 - val_recall: 0.8050\n",
            "Epoch 9/10\n",
            "938/938 [==============================] - 18s 19ms/step - loss: 0.4453 - accuracy: 0.7909 - precision: 0.7869 - recall: 0.7531 - val_loss: 0.4930 - val_accuracy: 0.7635 - val_precision: 0.7915 - val_recall: 0.8282\n",
            "Epoch 10/10\n",
            "938/938 [==============================] - 18s 19ms/step - loss: 0.4403 - accuracy: 0.7928 - precision: 0.7891 - recall: 0.7524 - val_loss: 0.4966 - val_accuracy: 0.7578 - val_precision: 0.8026 - val_recall: 0.7964\n"
          ],
          "name": "stdout"
        }
      ]
    },
    {
      "cell_type": "code",
      "metadata": {
        "colab": {
          "base_uri": "https://localhost:8080/",
          "height": 396
        },
        "id": "sjkaJqELlwDh",
        "outputId": "4ef1da97-593e-4eb9-96cd-4e1808f4e274"
      },
      "source": [
        "l, a, p, r = model_two.evaluate(test_dataset)\n",
        "\n",
        "print('Test Loss:', l)\n",
        "print('Test Accuracy:', a)\n",
        "print('Test Precision:', p)\n",
        "print('Test Recall:', r)\n",
        "print()\n",
        "plot_history_loss(history_two)"
      ],
      "execution_count": 38,
      "outputs": [
        {
          "output_type": "stream",
          "text": [
            "313/313 [==============================] - 2s 7ms/step - loss: 0.4844 - accuracy: 0.7640 - precision: 0.8056 - recall: 0.7928\n",
            "Test Loss: 0.4844164550304413\n",
            "Test Accuracy: 0.763988196849823\n",
            "Test Precision: 0.8055603504180908\n",
            "Test Recall: 0.7927715182304382\n",
            "\n"
          ],
          "name": "stdout"
        },
        {
          "output_type": "display_data",
          "data": {
            "image/png": "[encoded data removed]",
            "text/plain": [
              "<Figure size 432x288 with 1 Axes>"
            ]
          },
          "metadata": {
            "tags": [],
            "needs_background": "light"
          }
        }
      ]
    },
    {
      "cell_type": "markdown",
      "metadata": {
        "id": "wK9fRG7IZ48I"
      },
      "source": [
        "Aquí se define la aquitectura y proceso del tercer modelo."
      ]
    },
    {
      "cell_type": "code",
      "metadata": {
        "id": "aOuoRdR3lwDj"
      },
      "source": [
        "model_three = tf.keras.Sequential([\n",
        "    encoder,\n",
        "    tf.keras.layers.Embedding(\n",
        "        input_dim=len(encoder.get_vocabulary()),\n",
        "        output_dim=64,\n",
        "        # Use masking to handle the variable sequence lengths\n",
        "        mask_zero=True),\n",
        "    tf.keras.layers.Bidirectional(tf.keras.layers.LSTM(64, return_sequences=True)),\n",
        "    tf.keras.layers.Bidirectional(tf.keras.layers.LSTM(32)),\n",
        "    tf.keras.layers.Dense(64, activation='relu'),\n",
        "    tf.keras.layers.Dropout(0.8),\n",
        "    tf.keras.layers.Dense(1, activation='sigmoid')\n",
        "])"
      ],
      "execution_count": 39,
      "outputs": []
    },
    {
      "cell_type": "code",
      "metadata": {
        "id": "bEoU06qXlwDj"
      },
      "source": [
        "precision = tf.keras.metrics.Precision()\n",
        "recall = tf.keras.metrics.Recall()\n",
        "model_three.compile(loss=tf.keras.losses.BinaryCrossentropy(from_logits=True),\n",
        "              optimizer=tf.keras.optimizers.Adam(1e-4),\n",
        "              metrics=['accuracy', precision, recall])"
      ],
      "execution_count": 40,
      "outputs": []
    },
    {
      "cell_type": "code",
      "metadata": {
        "colab": {
          "base_uri": "https://localhost:8080/"
        },
        "id": "jhNAzdFulwDk",
        "outputId": "8d2c3abb-1872-461d-fb5b-7a8c9fe4df5d"
      },
      "source": [
        "history_three = model_three.fit(train_dataset, epochs=5,\n",
        "                    validation_data=valid_dataset,\n",
        "                    validation_steps=30)"
      ],
      "execution_count": 41,
      "outputs": [
        {
          "output_type": "stream",
          "text": [
            "Epoch 1/5\n",
            "938/938 [==============================] - 45s 31ms/step - loss: 0.6622 - accuracy: 0.6190 - precision_1: 0.5893 - recall_1: 0.4295 - val_loss: 0.5175 - val_accuracy: 0.7505 - val_precision_1: 0.7787 - val_recall_1: 0.8222\n",
            "Epoch 2/5\n",
            "938/938 [==============================] - 26s 27ms/step - loss: 0.5269 - accuracy: 0.7616 - precision_1: 0.7562 - recall_1: 0.7121 - val_loss: 0.4946 - val_accuracy: 0.7625 - val_precision_1: 0.7980 - val_recall_1: 0.8144\n",
            "Epoch 3/5\n",
            "938/938 [==============================] - 26s 28ms/step - loss: 0.4945 - accuracy: 0.7786 - precision_1: 0.7773 - recall_1: 0.7310 - val_loss: 0.4920 - val_accuracy: 0.7615 - val_precision_1: 0.7947 - val_recall_1: 0.8179\n",
            "Epoch 4/5\n",
            "938/938 [==============================] - 25s 26ms/step - loss: 0.4796 - accuracy: 0.7846 - precision_1: 0.7844 - recall_1: 0.7398 - val_loss: 0.4919 - val_accuracy: 0.7599 - val_precision_1: 0.8038 - val_recall_1: 0.7990\n",
            "Epoch 5/5\n",
            "938/938 [==============================] - 25s 26ms/step - loss: 0.4735 - accuracy: 0.7885 - precision_1: 0.7885 - recall_1: 0.7436 - val_loss: 0.4936 - val_accuracy: 0.7604 - val_precision_1: 0.8040 - val_recall_1: 0.7998\n"
          ],
          "name": "stdout"
        }
      ]
    },
    {
      "cell_type": "code",
      "metadata": {
        "colab": {
          "base_uri": "https://localhost:8080/",
          "height": 396
        },
        "id": "nzFQgxkElwDl",
        "outputId": "0dc23932-be39-49fa-8900-20e6331617f1"
      },
      "source": [
        "l, a, p, r = model_three.evaluate(test_dataset)\n",
        "\n",
        "print('Test Loss:', l)\n",
        "print('Test Accuracy:', a)\n",
        "print('Test Precision:', p)\n",
        "print('Test Recall:', r)\n",
        "print()\n",
        "plot_history_loss(history_three)"
      ],
      "execution_count": 42,
      "outputs": [
        {
          "output_type": "stream",
          "text": [
            "313/313 [==============================] - 3s 11ms/step - loss: 0.4872 - accuracy: 0.7609 - precision_1: 0.7983 - recall_1: 0.7977\n",
            "Test Loss: 0.48723042011260986\n",
            "Test Accuracy: 0.7608880400657654\n",
            "Test Precision: 0.7983434796333313\n",
            "Test Recall: 0.7976692914962769\n",
            "\n"
          ],
          "name": "stdout"
        },
        {
          "output_type": "display_data",
          "data": {
            "image/png": "[encoded data removed]",
            "text/plain": [
              "<Figure size 432x288 with 1 Axes>"
            ]
          },
          "metadata": {
            "tags": [],
            "needs_background": "light"
          }
        }
      ]
    },
    {
      "cell_type": "markdown",
      "metadata": {
        "id": "50ENgP_q3sJ4"
      },
      "source": [
        "Para terminar con los modelos de Keras, aquí se muestran los resumen para cada modelo."
      ]
    },
    {
      "cell_type": "code",
      "metadata": {
        "colab": {
          "base_uri": "https://localhost:8080/"
        },
        "id": "60BT2zCx30Oa",
        "outputId": "aa40bb64-1760-4766-80d9-b8913d418085"
      },
      "source": [
        "model_one.summary()"
      ],
      "execution_count": 43,
      "outputs": [
        {
          "output_type": "stream",
          "text": [
            "Model: \"sequential\"\n",
            "_________________________________________________________________\n",
            "Layer (type)                 Output Shape              Param #   \n",
            "=================================================================\n",
            "text_vectorization (TextVect (None, None)              0         \n",
            "_________________________________________________________________\n",
            "embedding (Embedding)        (None, None, 64)          128000    \n",
            "_________________________________________________________________\n",
            "bidirectional (Bidirectional (None, 128)               16512     \n",
            "_________________________________________________________________\n",
            "dense (Dense)                (None, 64)                8256      \n",
            "_________________________________________________________________\n",
            "dropout (Dropout)            (None, 64)                0         \n",
            "_________________________________________________________________\n",
            "dense_1 (Dense)              (None, 1)                 65        \n",
            "=================================================================\n",
            "Total params: 152,833\n",
            "Trainable params: 152,833\n",
            "Non-trainable params: 0\n",
            "_________________________________________________________________\n"
          ],
          "name": "stdout"
        }
      ]
    },
    {
      "cell_type": "code",
      "metadata": {
        "colab": {
          "base_uri": "https://localhost:8080/"
        },
        "id": "P6KA6_cC33Sy",
        "outputId": "54a0efeb-41a8-4e69-bf6e-203ee6d3772a"
      },
      "source": [
        "model_two.summary()"
      ],
      "execution_count": 44,
      "outputs": [
        {
          "output_type": "stream",
          "text": [
            "Model: \"sequential_1\"\n",
            "_________________________________________________________________\n",
            "Layer (type)                 Output Shape              Param #   \n",
            "=================================================================\n",
            "text_vectorization (TextVect (None, None)              0         \n",
            "_________________________________________________________________\n",
            "embedding_1 (Embedding)      (None, None, 64)          128000    \n",
            "_________________________________________________________________\n",
            "bidirectional_1 (Bidirection (None, 128)               66048     \n",
            "_________________________________________________________________\n",
            "dense_2 (Dense)              (None, 64)                8256      \n",
            "_________________________________________________________________\n",
            "dropout_1 (Dropout)          (None, 64)                0         \n",
            "_________________________________________________________________\n",
            "dense_3 (Dense)              (None, 1)                 65        \n",
            "=================================================================\n",
            "Total params: 202,369\n",
            "Trainable params: 202,369\n",
            "Non-trainable params: 0\n",
            "_________________________________________________________________\n"
          ],
          "name": "stdout"
        }
      ]
    },
    {
      "cell_type": "code",
      "metadata": {
        "colab": {
          "base_uri": "https://localhost:8080/"
        },
        "id": "ofhdXxzV36S8",
        "outputId": "e0212b20-1dd5-435f-f2c1-9519b88e67b5"
      },
      "source": [
        "model_three.summary()"
      ],
      "execution_count": 45,
      "outputs": [
        {
          "output_type": "stream",
          "text": [
            "Model: \"sequential_2\"\n",
            "_________________________________________________________________\n",
            "Layer (type)                 Output Shape              Param #   \n",
            "=================================================================\n",
            "text_vectorization (TextVect (None, None)              0         \n",
            "_________________________________________________________________\n",
            "embedding_2 (Embedding)      (None, None, 64)          128000    \n",
            "_________________________________________________________________\n",
            "bidirectional_2 (Bidirection (None, None, 128)         66048     \n",
            "_________________________________________________________________\n",
            "bidirectional_3 (Bidirection (None, 64)                41216     \n",
            "_________________________________________________________________\n",
            "dense_4 (Dense)              (None, 64)                4160      \n",
            "_________________________________________________________________\n",
            "dropout_2 (Dropout)          (None, 64)                0         \n",
            "_________________________________________________________________\n",
            "dense_5 (Dense)              (None, 1)                 65        \n",
            "=================================================================\n",
            "Total params: 239,489\n",
            "Trainable params: 239,489\n",
            "Non-trainable params: 0\n",
            "_________________________________________________________________\n"
          ],
          "name": "stdout"
        }
      ]
    },
    {
      "cell_type": "markdown",
      "metadata": {
        "id": "LYNZuJYs79FT"
      },
      "source": [
        "### Adicional 1: BERT\n",
        "Como contenido agregado, decidimos incorporar también un modelo de BERT al vote classifier. Naturalmente, la manera en que se está haciendo esto es importando el modelo pre-entrenado de los servidores de TensorFlow, para después hacer 'Transfer Learning' con nuestro set de datos particular. En las siguientes celdas vamos explicando la construcción y entrenamiento del modelo."
      ]
    },
    {
      "cell_type": "markdown",
      "metadata": {
        "id": "gDFU28aH9iex"
      },
      "source": [
        "Primero definimos específicamente el tipo de BERT que vamos a implementar. De acuerdo con un ejemplo de la documentación de TF (https://www.tensorflow.org/tutorials/text/classify_text_with_bert), existen varios modelos distintos de BERT, donde se varía el tamaño, número de capas, etc, pero manteniendo la esencia que propone BERT. Nosotros escogimos la variante más pequeña, llamada 'Small BERT' dado que es un caso relativamente sencillo."
      ]
    },
    {
      "cell_type": "code",
      "metadata": {
        "id": "lehCrDnR79F4"
      },
      "source": [
        "bert_model_name = 'small_bert/bert_en_uncased_L-4_H-512_A-8'\n",
        "\n",
        "tfhub_handle_encoder = 'https://tfhub.dev/tensorflow/small_bert/bert_en_uncased_L-4_H-512_A-8/1'\n",
        "tfhub_handle_preprocess = 'https://tfhub.dev/tensorflow/bert_en_uncased_preprocess/3'"
      ],
      "execution_count": 46,
      "outputs": []
    },
    {
      "cell_type": "markdown",
      "metadata": {
        "id": "DxmEXm_6-SN_"
      },
      "source": [
        "Aquí, utilizando el segundo URL, cargamos el **preprocesador del modelo**. Este en sí ya es un modelo de BERT, pero se encarga sólo del procesamiento de los datos. Va a hacer algo muy similar a lo que hicimos aquí con Keras, es decir, ir armando un vocabulario de los datos para generar los vectores de índices."
      ]
    },
    {
      "cell_type": "code",
      "metadata": {
        "id": "1y5S_mTJ79F4"
      },
      "source": [
        "bert_preprocess_model = hub.KerasLayer(tfhub_handle_preprocess)"
      ],
      "execution_count": 47,
      "outputs": []
    },
    {
      "cell_type": "markdown",
      "metadata": {
        "id": "fZP3Lysg-qiV"
      },
      "source": [
        "Y aquí se muestran algunas cosas que contiene este módulo de preprocesamiento."
      ]
    },
    {
      "cell_type": "code",
      "metadata": {
        "colab": {
          "base_uri": "https://localhost:8080/"
        },
        "id": "NyxbZSri79F5",
        "outputId": "040ae603-3a79-4461-d7a5-f6b208027c8f"
      },
      "source": [
        "text_test = ['this is such an amazing movie!']\n",
        "text_preprocessed = bert_preprocess_model(text_test)\n",
        "\n",
        "print(f'Keys       : {list(text_preprocessed.keys())}')\n",
        "print(f'Shape      : {text_preprocessed[\"input_word_ids\"].shape}')\n",
        "print(f'Word Ids   : {text_preprocessed[\"input_word_ids\"][0, :12]}')\n",
        "print(f'Input Mask : {text_preprocessed[\"input_mask\"][0, :12]}')\n",
        "print(f'Type Ids   : {text_preprocessed[\"input_type_ids\"][0, :12]}')"
      ],
      "execution_count": 48,
      "outputs": [
        {
          "output_type": "stream",
          "text": [
            "Keys       : ['input_word_ids', 'input_mask', 'input_type_ids']\n",
            "Shape      : (1, 128)\n",
            "Word Ids   : [ 101 2023 2003 2107 2019 6429 3185  999  102    0    0    0]\n",
            "Input Mask : [1 1 1 1 1 1 1 1 1 0 0 0]\n",
            "Type Ids   : [0 0 0 0 0 0 0 0 0 0 0 0]\n"
          ],
          "name": "stdout"
        }
      ]
    },
    {
      "cell_type": "markdown",
      "metadata": {
        "id": "0XuUPkov-wC2"
      },
      "source": [
        "Aquí, utilizando el primer URL, se trae la otra parte del modelo de BERT. Esta parte será la encargada de ir aprendiendo de los datos para generar las predicciones."
      ]
    },
    {
      "cell_type": "code",
      "metadata": {
        "id": "eqChlawe79F6"
      },
      "source": [
        "bert_model = hub.KerasLayer(tfhub_handle_encoder)"
      ],
      "execution_count": 49,
      "outputs": []
    },
    {
      "cell_type": "markdown",
      "metadata": {
        "id": "JoC7aK9A_ASX"
      },
      "source": [
        "Y se muestran algunas partes importantes que contiene este sub-modelo."
      ]
    },
    {
      "cell_type": "code",
      "metadata": {
        "colab": {
          "base_uri": "https://localhost:8080/"
        },
        "id": "yjRtiD-T79F7",
        "outputId": "1ab75586-7ed7-4806-ee64-6f04ade4ae1d"
      },
      "source": [
        "bert_results = bert_model(text_preprocessed)\n",
        "\n",
        "print(f'Loaded BERT: {tfhub_handle_encoder}')\n",
        "print(f'Pooled Outputs Shape:{bert_results[\"pooled_output\"].shape}')\n",
        "print(f'Pooled Outputs Values:{bert_results[\"pooled_output\"][0, :12]}')\n",
        "print(f'Sequence Outputs Shape:{bert_results[\"sequence_output\"].shape}')\n",
        "print(f'Sequence Outputs Values:{bert_results[\"sequence_output\"][0, :12]}')"
      ],
      "execution_count": 50,
      "outputs": [
        {
          "output_type": "stream",
          "text": [
            "Loaded BERT: https://tfhub.dev/tensorflow/small_bert/bert_en_uncased_L-4_H-512_A-8/1\n",
            "Pooled Outputs Shape:(1, 512)\n",
            "Pooled Outputs Values:[ 0.7626284   0.9928099  -0.18611862  0.36673862  0.15233698  0.6550447\n",
            "  0.9681154  -0.94862705  0.00216154 -0.98777324  0.0684273  -0.97630596]\n",
            "Sequence Outputs Shape:(1, 128, 512)\n",
            "Sequence Outputs Values:[[-0.28946292  0.3432122   0.3323146  ...  0.2130091   0.7102076\n",
            "  -0.05771127]\n",
            " [-0.28742066  0.31980988 -0.23018472 ...  0.58454984 -0.21329743\n",
            "   0.7269208 ]\n",
            " [-0.6615696   0.688769   -0.87432975 ...  0.1087725  -0.26173288\n",
            "   0.47855526]\n",
            " ...\n",
            " [-0.22561064 -0.28925598 -0.07064444 ...  0.4756608   0.832771\n",
            "   0.40025362]\n",
            " [-0.2982425  -0.27473134 -0.05450555 ...  0.48849788  1.0955352\n",
            "   0.18163432]\n",
            " [-0.44378024  0.00930739  0.07223781 ...  0.1729011   1.1833246\n",
            "   0.0789801 ]]\n"
          ],
          "name": "stdout"
        }
      ]
    },
    {
      "cell_type": "markdown",
      "metadata": {
        "id": "AhWwmnga_GOv"
      },
      "source": [
        "Ahora sí, en la siguiente función se combinan ambos sub-modelos tener un modelo completo, además de que se agregan algunas capas adicionales."
      ]
    },
    {
      "cell_type": "code",
      "metadata": {
        "id": "am6tvGY779F8"
      },
      "source": [
        "def build_classifier_model():\n",
        "  text_input = tf.keras.layers.Input(shape=(), dtype=tf.string, name='text')\n",
        "  preprocessing_layer = hub.KerasLayer(tfhub_handle_preprocess, name='preprocessing')\n",
        "  encoder_inputs = preprocessing_layer(text_input)\n",
        "  encoder = hub.KerasLayer(tfhub_handle_encoder, trainable=True, name='BERT_encoder')\n",
        "  outputs = encoder(encoder_inputs)\n",
        "  net = outputs['pooled_output']\n",
        "  net = tf.keras.layers.Dropout(0.1)(net)\n",
        "  net = tf.keras.layers.Dense(1, activation='sigmoid', name='classifier')(net)\n",
        "  return tf.keras.Model(text_input, net)"
      ],
      "execution_count": 51,
      "outputs": []
    },
    {
      "cell_type": "markdown",
      "metadata": {
        "id": "M6nDJjbk_VoV"
      },
      "source": [
        "Se construye el modelo con la función, y se saca una predicción inicial utilizando uno de los ejemplos definidos antes. Naturalmente, esta predicción aún no tiene valor dado que el modelo no ha sido entrenado."
      ]
    },
    {
      "cell_type": "code",
      "metadata": {
        "colab": {
          "base_uri": "https://localhost:8080/"
        },
        "id": "FuOSDyIN79F9",
        "outputId": "f6cf5a9f-7c36-46ae-919c-54fcfbd7071b"
      },
      "source": [
        "bert_classifier_model = build_classifier_model()\n",
        "bert_raw_result = bert_classifier_model(tf.constant(text_test))\n",
        "print(tf.sigmoid(bert_raw_result))"
      ],
      "execution_count": 52,
      "outputs": [
        {
          "output_type": "stream",
          "text": [
            "WARNING:tensorflow:5 out of the last 5 calls to <function recreate_function.<locals>.restored_function_body at 0x7f00e9545290> triggered tf.function retracing. Tracing is expensive and the excessive number of tracings could be due to (1) creating @tf.function repeatedly in a loop, (2) passing tensors with different shapes, (3) passing Python objects instead of tensors. For (1), please define your @tf.function outside of the loop. For (2), @tf.function has experimental_relax_shapes=True option that relaxes argument shapes that can avoid unnecessary retracing. For (3), please refer to https://www.tensorflow.org/guide/function#controlling_retracing and https://www.tensorflow.org/api_docs/python/tf/function for  more details.\n"
          ],
          "name": "stdout"
        },
        {
          "output_type": "stream",
          "text": [
            "WARNING:tensorflow:5 out of the last 5 calls to <function recreate_function.<locals>.restored_function_body at 0x7f00e9545290> triggered tf.function retracing. Tracing is expensive and the excessive number of tracings could be due to (1) creating @tf.function repeatedly in a loop, (2) passing tensors with different shapes, (3) passing Python objects instead of tensors. For (1), please define your @tf.function outside of the loop. For (2), @tf.function has experimental_relax_shapes=True option that relaxes argument shapes that can avoid unnecessary retracing. For (3), please refer to https://www.tensorflow.org/guide/function#controlling_retracing and https://www.tensorflow.org/api_docs/python/tf/function for  more details.\n"
          ],
          "name": "stderr"
        },
        {
          "output_type": "stream",
          "text": [
            "WARNING:tensorflow:6 out of the last 6 calls to <function recreate_function.<locals>.restored_function_body at 0x7f00e9545950> triggered tf.function retracing. Tracing is expensive and the excessive number of tracings could be due to (1) creating @tf.function repeatedly in a loop, (2) passing tensors with different shapes, (3) passing Python objects instead of tensors. For (1), please define your @tf.function outside of the loop. For (2), @tf.function has experimental_relax_shapes=True option that relaxes argument shapes that can avoid unnecessary retracing. For (3), please refer to https://www.tensorflow.org/guide/function#controlling_retracing and https://www.tensorflow.org/api_docs/python/tf/function for  more details.\n"
          ],
          "name": "stdout"
        },
        {
          "output_type": "stream",
          "text": [
            "WARNING:tensorflow:6 out of the last 6 calls to <function recreate_function.<locals>.restored_function_body at 0x7f00e9545950> triggered tf.function retracing. Tracing is expensive and the excessive number of tracings could be due to (1) creating @tf.function repeatedly in a loop, (2) passing tensors with different shapes, (3) passing Python objects instead of tensors. For (1), please define your @tf.function outside of the loop. For (2), @tf.function has experimental_relax_shapes=True option that relaxes argument shapes that can avoid unnecessary retracing. For (3), please refer to https://www.tensorflow.org/guide/function#controlling_retracing and https://www.tensorflow.org/api_docs/python/tf/function for  more details.\n"
          ],
          "name": "stderr"
        },
        {
          "output_type": "stream",
          "text": [
            "WARNING:tensorflow:7 out of the last 7 calls to <function recreate_function.<locals>.restored_function_body at 0x7f00e95a7cb0> triggered tf.function retracing. Tracing is expensive and the excessive number of tracings could be due to (1) creating @tf.function repeatedly in a loop, (2) passing tensors with different shapes, (3) passing Python objects instead of tensors. For (1), please define your @tf.function outside of the loop. For (2), @tf.function has experimental_relax_shapes=True option that relaxes argument shapes that can avoid unnecessary retracing. For (3), please refer to https://www.tensorflow.org/guide/function#controlling_retracing and https://www.tensorflow.org/api_docs/python/tf/function for  more details.\n"
          ],
          "name": "stdout"
        },
        {
          "output_type": "stream",
          "text": [
            "WARNING:tensorflow:7 out of the last 7 calls to <function recreate_function.<locals>.restored_function_body at 0x7f00e95a7cb0> triggered tf.function retracing. Tracing is expensive and the excessive number of tracings could be due to (1) creating @tf.function repeatedly in a loop, (2) passing tensors with different shapes, (3) passing Python objects instead of tensors. For (1), please define your @tf.function outside of the loop. For (2), @tf.function has experimental_relax_shapes=True option that relaxes argument shapes that can avoid unnecessary retracing. For (3), please refer to https://www.tensorflow.org/guide/function#controlling_retracing and https://www.tensorflow.org/api_docs/python/tf/function for  more details.\n"
          ],
          "name": "stderr"
        },
        {
          "output_type": "stream",
          "text": [
            "WARNING:tensorflow:8 out of the last 8 calls to <function recreate_function.<locals>.restored_function_body at 0x7f00d33e2440> triggered tf.function retracing. Tracing is expensive and the excessive number of tracings could be due to (1) creating @tf.function repeatedly in a loop, (2) passing tensors with different shapes, (3) passing Python objects instead of tensors. For (1), please define your @tf.function outside of the loop. For (2), @tf.function has experimental_relax_shapes=True option that relaxes argument shapes that can avoid unnecessary retracing. For (3), please refer to https://www.tensorflow.org/guide/function#controlling_retracing and https://www.tensorflow.org/api_docs/python/tf/function for  more details.\n"
          ],
          "name": "stdout"
        },
        {
          "output_type": "stream",
          "text": [
            "WARNING:tensorflow:8 out of the last 8 calls to <function recreate_function.<locals>.restored_function_body at 0x7f00d33e2440> triggered tf.function retracing. Tracing is expensive and the excessive number of tracings could be due to (1) creating @tf.function repeatedly in a loop, (2) passing tensors with different shapes, (3) passing Python objects instead of tensors. For (1), please define your @tf.function outside of the loop. For (2), @tf.function has experimental_relax_shapes=True option that relaxes argument shapes that can avoid unnecessary retracing. For (3), please refer to https://www.tensorflow.org/guide/function#controlling_retracing and https://www.tensorflow.org/api_docs/python/tf/function for  more details.\n"
          ],
          "name": "stderr"
        },
        {
          "output_type": "stream",
          "text": [
            "tf.Tensor([[0.62119114]], shape=(1, 1), dtype=float32)\n"
          ],
          "name": "stdout"
        }
      ]
    },
    {
      "cell_type": "markdown",
      "metadata": {
        "id": "82yB0Sjs_jbG"
      },
      "source": [
        "Aquí se muestra de mejor manera la arquitectura que se generó para este modelo."
      ]
    },
    {
      "cell_type": "code",
      "metadata": {
        "colab": {
          "base_uri": "https://localhost:8080/",
          "height": 466
        },
        "id": "75_SrbSM79F-",
        "outputId": "11afe30b-44e9-44ca-bd62-1a5b8d7ebb39"
      },
      "source": [
        "tf.keras.utils.plot_model(bert_classifier_model)"
      ],
      "execution_count": 53,
      "outputs": [
        {
          "output_type": "execute_result",
          "data": {
            "image/png": "[encoded data removed]",
            "text/plain": [
              "<IPython.core.display.Image object>"
            ]
          },
          "metadata": {
            "tags": []
          },
          "execution_count": 53
        }
      ]
    },
    {
      "cell_type": "markdown",
      "metadata": {
        "id": "8btuWylC_4GF"
      },
      "source": [
        "Definimos la función de loss, así como las métricas que queremos llevar."
      ]
    },
    {
      "cell_type": "code",
      "metadata": {
        "id": "EoFqGqI579F_"
      },
      "source": [
        "loss = tf.keras.losses.BinaryCrossentropy(from_logits=True)\n",
        "metrics = [tf.metrics.BinaryAccuracy(), precision, recall]"
      ],
      "execution_count": 54,
      "outputs": []
    },
    {
      "cell_type": "markdown",
      "metadata": {
        "id": "yhPkOyn2_-1R"
      },
      "source": [
        "Y aquí se define el optimizador para el modelo. Este fue tomado directamente de la documentación, dado que es lo que recomiendanque se use para el modelo de Small BERT, es especial el tipo de **AdamW**."
      ]
    },
    {
      "cell_type": "code",
      "metadata": {
        "id": "65DqJ0kC79GA"
      },
      "source": [
        "epochs = 5\n",
        "steps_per_epoch = tf.data.experimental.cardinality(train_dataset).numpy()\n",
        "num_train_steps = steps_per_epoch * epochs\n",
        "num_warmup_steps = int(0.1*num_train_steps)\n",
        "\n",
        "init_lr = 3e-5\n",
        "optimizer = optimization.create_optimizer(init_lr=init_lr,\n",
        "                                          num_train_steps=num_train_steps,\n",
        "                                          num_warmup_steps=num_warmup_steps,\n",
        "                                          optimizer_type='adamw')"
      ],
      "execution_count": 55,
      "outputs": []
    },
    {
      "cell_type": "markdown",
      "metadata": {
        "id": "qC4yGUmkAQxA"
      },
      "source": [
        "Se compila el modelo y se pone a entrenar"
      ]
    },
    {
      "cell_type": "code",
      "metadata": {
        "id": "FLlhRzw879GA"
      },
      "source": [
        "bert_classifier_model.compile(optimizer=optimizer,\n",
        "                         loss=loss,\n",
        "                         metrics=metrics)"
      ],
      "execution_count": 56,
      "outputs": []
    },
    {
      "cell_type": "code",
      "metadata": {
        "colab": {
          "base_uri": "https://localhost:8080/"
        },
        "id": "pg4lAd0H79GB",
        "outputId": "1e5346de-b65b-41f4-a516-e18b30b8d7dd"
      },
      "source": [
        "history = bert_classifier_model.fit(x=train_dataset,\n",
        "                               validation_data=valid_dataset,\n",
        "                               epochs=epochs)"
      ],
      "execution_count": 57,
      "outputs": [
        {
          "output_type": "stream",
          "text": [
            "Epoch 1/5\n",
            "938/938 [==============================] - 498s 524ms/step - loss: 0.5736 - binary_accuracy: 0.7049 - precision_1: 0.7666 - recall_1: 0.7358 - val_loss: 0.4544 - val_binary_accuracy: 0.7847 - val_precision_1: 0.8419 - val_recall_1: 0.7850\n",
            "Epoch 2/5\n",
            "938/938 [==============================] - 491s 524ms/step - loss: 0.4388 - binary_accuracy: 0.7980 - precision_1: 0.7917 - recall_1: 0.7625 - val_loss: 0.4417 - val_binary_accuracy: 0.7958 - val_precision_1: 0.8295 - val_recall_1: 0.8260\n",
            "Epoch 3/5\n",
            "938/938 [==============================] - 493s 526ms/step - loss: 0.3830 - binary_accuracy: 0.8300 - precision_1: 0.8229 - recall_1: 0.8067 - val_loss: 0.4548 - val_binary_accuracy: 0.7930 - val_precision_1: 0.8536 - val_recall_1: 0.7862\n",
            "Epoch 4/5\n",
            "938/938 [==============================] - 492s 524ms/step - loss: 0.3453 - binary_accuracy: 0.8508 - precision_1: 0.8460 - recall_1: 0.8289 - val_loss: 0.4599 - val_binary_accuracy: 0.7987 - val_precision_1: 0.8351 - val_recall_1: 0.8236\n",
            "Epoch 5/5\n",
            "938/938 [==============================] - 491s 523ms/step - loss: 0.3160 - binary_accuracy: 0.8645 - precision_1: 0.8574 - recall_1: 0.8494 - val_loss: 0.4788 - val_binary_accuracy: 0.7960 - val_precision_1: 0.8402 - val_recall_1: 0.8107\n"
          ],
          "name": "stdout"
        }
      ]
    },
    {
      "cell_type": "markdown",
      "metadata": {
        "id": "46bf_ZfNAY5M"
      },
      "source": [
        "Finalmente, se evalúa el modelo utilizando el testing set, además de que muestra la gráfica de los valores de loss, tanto para el set de training como el de validation."
      ]
    },
    {
      "cell_type": "code",
      "metadata": {
        "id": "n6XE48Cj79GC",
        "colab": {
          "base_uri": "https://localhost:8080/",
          "height": 396
        },
        "outputId": "c0e9e578-ec18-4e90-b360-f84cc1e4a6fb"
      },
      "source": [
        "l, a, p, r = bert_classifier_model.evaluate(test_dataset)\n",
        "\n",
        "print('Test Loss:', l)\n",
        "print('Test Accuracy:', a)\n",
        "print('Test Precision:', p)\n",
        "print('Test Recall:', r)\n",
        "print()\n",
        "plot_history_loss(history)"
      ],
      "execution_count": 58,
      "outputs": [
        {
          "output_type": "stream",
          "text": [
            "313/313 [==============================] - 75s 239ms/step - loss: 0.4787 - binary_accuracy: 0.7972 - precision_1: 0.8404 - recall_1: 0.8116\n",
            "Test Loss: 0.47870805859565735\n",
            "Test Accuracy: 0.7971898317337036\n",
            "Test Precision: 0.8404162526130676\n",
            "Test Recall: 0.811602771282196\n",
            "\n"
          ],
          "name": "stdout"
        },
        {
          "output_type": "display_data",
          "data": {
            "image/png": "[encoded data removed]",
            "text/plain": [
              "<Figure size 432x288 with 1 Axes>"
            ]
          },
          "metadata": {
            "tags": [],
            "needs_background": "light"
          }
        }
      ]
    },
    {
      "cell_type": "markdown",
      "metadata": {
        "id": "rgckzko7iydF"
      },
      "source": [
        "Ahora sí, con los modelos ya entrenados podemos construir el vote classifier."
      ]
    },
    {
      "cell_type": "code",
      "metadata": {
        "id": "v2RbuPSOiyKs"
      },
      "source": [
        "voted_classifier = VoteClassifier(NB_classifier, \n",
        "                                  MNB_classifier, \n",
        "                                  BNB_classifier, \n",
        "                                  LogisticRegression_classifier, \n",
        "                                  SGDClassifier_classifier,\n",
        "                                  model_one,\n",
        "                                  model_two,\n",
        "                                  model_three,\n",
        "                                  bert_classifier_model)"
      ],
      "execution_count": 62,
      "outputs": []
    },
    {
      "cell_type": "markdown",
      "metadata": {
        "id": "ZL6abyVFjRb1"
      },
      "source": [
        "También, vamos a definir una función que utilice este objeto del vote classifier para que, dado un texto, regrese su clasificación definitiva y el porcentaje de confidence"
      ]
    },
    {
      "cell_type": "code",
      "metadata": {
        "id": "EKW1genujR4v"
      },
      "source": [
        "def sentiment(text):\n",
        "    pred, conf = voted_classifier.classify(text)\n",
        "    return pred, conf"
      ],
      "execution_count": 63,
      "outputs": []
    },
    {
      "cell_type": "code",
      "metadata": {
        "id": "Fta03AQHCLOg",
        "colab": {
          "base_uri": "https://localhost:8080/"
        },
        "outputId": "4e7a74f9-bdef-4092-df4f-d1fe2a78aeba"
      },
      "source": [
        "text = \"really nice song!\"\n",
        "p, c = sentiment(text)\n",
        "print(p, c)"
      ],
      "execution_count": 64,
      "outputs": [
        {
          "output_type": "stream",
          "text": [
            "1 0.6666666666666666\n"
          ],
          "name": "stdout"
        }
      ]
    },
    {
      "cell_type": "markdown",
      "metadata": {
        "id": "XepJ-opx2FLd"
      },
      "source": [
        "# 7. Applications\n",
        "Ya que se entrenó el modelo viene el momento de ponerlo a prueba. Para ello se implementaron diferentes aplicaciones, donde en cada una se obtendrán textos de diversas fuentes para poder clasificarlo aquí.\n",
        "\n",
        "## Clasificación de Tweets\n",
        "La primera aplicación es que, utilizando la API de Twitter, vamos a prender un stream para recibir tweets. Cada que se reciba un tweet, se le sacará su clasificación y dependiendo de su nivel de confidence, se agregará a un archivo. La idea es generar una gráfica a partir de las clasificaciones en ese archivo. Es importante mencionar que la búsqueda de tweets se podrá hacer de dos formas:\n",
        "- Por palabra clave\n",
        "- Por usuario\n",
        "\n",
        "Más adelante se especifica más sobre cada una."
      ]
    },
    {
      "cell_type": "markdown",
      "metadata": {
        "id": "csbVPlssDKop"
      },
      "source": [
        "Sin embargo, antes de entrar en detalle en las aplicaciones, en la siguiente celda mostramos una función que será bastante útil al sacar las clasificaciones. \n",
        "\n",
        "Cuando recibamos los textos del API o Stream que estemos utilizando, vamos a guardar las clasificaciones en un archivo de texto. Con este documento, que contiene las clasificaciones realizadas por nuestro modelo, podemos generar una gráfica para visualizar mejor lo que está pasando. Cada que se encuentre una clasificación positiva se sumará 1 a un contador, y se restará en el caso negativo. De esta forma nos podemos dar una mejor idea de la tendencia sobre los textos que estemos clasificando.\n",
        "\n",
        "**Nota importante: con excepción de la clasificación de audio, todas las demás aplicaciones van a guardar las clasificaciones generadas en el mismo documento de texto. Por lo tanto, para evitar mezclar resultados, se recomienda borrar el contenido del documento antes de correr otra aplicación (también se proporciona una celda para hacerlo).**"
      ]
    },
    {
      "cell_type": "code",
      "metadata": {
        "id": "6RPSGgw8Dv2v"
      },
      "source": [
        "def plot_text_trendline():\n",
        "    style.use(\"ggplot\")\n",
        "    fig = plt.figure()\n",
        "    ax1 = fig.add_subplot(1,1,1)\n",
        "\n",
        "    pullData = open(\"twitter-out.txt\",\"r\").read()\n",
        "    lines = pullData.split('\\n')\n",
        "    xar = []\n",
        "    yar = []\n",
        "    x = 0\n",
        "    y = 0\n",
        "    for l in lines[-200:]:\n",
        "        x += 1\n",
        "        y += (1 if l == '1' else -1)\n",
        "        xar.append(x)\n",
        "        yar.append(y)\n",
        "\n",
        "    ax1.clear()\n",
        "    ax1.plot(xar,yar)\n",
        "    plt.show()"
      ],
      "execution_count": 65,
      "outputs": []
    },
    {
      "cell_type": "markdown",
      "metadata": {
        "id": "KeGbBUNemDdM"
      },
      "source": [
        "### Borrar archivo de clasificaciones\n",
        "**Correr la siguiente celda en caso de que se quiera borrar el contenido del archivo con las clasificaciones.**"
      ]
    },
    {
      "cell_type": "code",
      "metadata": {
        "id": "FsLqmfv1mD4O"
      },
      "source": [
        "with open('twitter-out.txt', 'w') as writefile:\n",
        "    writefile.write(\"\")"
      ],
      "execution_count": 66,
      "outputs": []
    },
    {
      "cell_type": "markdown",
      "metadata": {
        "id": "6rz4ffsNjuMI"
      },
      "source": [
        "Para el stream de tweets se está utilizando Tweepy, y aquí se define toda la lógica que se mencionó previamente, incluyendo hacer la clasificación del tweet y guardarla en el archivo."
      ]
    },
    {
      "cell_type": "code",
      "metadata": {
        "id": "cue5OgH44NCc"
      },
      "source": [
        "#consumer key, consumer secret, access token, access secret.\n",
        "ckey=\"\"\n",
        "csecret=\"\"\n",
        "atoken=\"\"\n",
        "asecret=\"\"\n",
        "\n",
        "class listener(StreamListener):\n",
        "    def on_data(self, data):\n",
        "        try:\n",
        "            all_data = json.loads(data)\n",
        "            tweet = all_data[\"text\"]\n",
        "            sentiment_value, confidence = sentiment(tweet)\n",
        "            print(tweet, sentiment_value, confidence)\n",
        "            if confidence*100 >= 70:\n",
        "                with open('twitter-out.txt', 'a') as writefile:\n",
        "                  writefile.write(f\"{sentiment_value}\\n\")\n",
        "            time.sleep(0.3)\n",
        "            return True\n",
        "        except:\n",
        "            return True\n",
        "\n",
        "    def on_error(self, status):\n",
        "        print(status)\n",
        "\n",
        "auth = OAuthHandler(ckey, csecret)\n",
        "auth.set_access_token(atoken, asecret)"
      ],
      "execution_count": 67,
      "outputs": []
    },
    {
      "cell_type": "markdown",
      "metadata": {
        "id": "wNhjdrppkB1K"
      },
      "source": [
        "### Clasificación de tweets por palabra(s) clave\n",
        "En la siguiente celda se prende el stream para buscar por una o más palabras clave. Para cambiarlas, basta con reemplazar la palabra entre comillas. Si se quieren agregar mas palabras a la lista, estas deben estar entre comillas y separadas por comas.\n",
        "\n",
        "**El stream debe interrumpirse manualmente, cortando la ejecución de la celda.**"
      ]
    },
    {
      "cell_type": "code",
      "metadata": {
        "id": "oJx3oK6KJ3MK",
        "colab": {
          "base_uri": "https://localhost:8080/",
          "height": 1000
        },
        "outputId": "652ff9f4-1200-406d-d36d-33c987006e5c"
      },
      "source": [
        "keywords = [\"happy\"]\n",
        "twitterStream = Stream(auth, listener())\n",
        "twitterStream.filter(track=keywords)"
      ],
      "execution_count": null,
      "outputs": [
        {
          "output_type": "stream",
          "text": [
            "RT @PARISDENNARD: Happy Birthday, @kayleighmcenany! https://t.co/BUfxDRzSRj 1 0.5555555555555556\n",
            "RT @prodnose: Fans of\n",
            "Man United\n",
            "Man City\n",
            "Chelsea\n",
            "Arsenal\n",
            "You've all had a free pass too long.\n",
            "It was obvious your clubs would sell footbal… 0 0.6666666666666667\n",
            "RT @Shebas_10dulkar: Least Innings taken to Score Centuries In all 3 Formats \n",
            "\n",
            "20 - KL Rahul\n",
            "70 - Rizwan \n",
            "76 - A Shahzad \n",
            "85 - Raina \n",
            "106 -… 0 0.6666666666666667\n",
            "RT @Cats_CG901: Today is Autumn’s 12th birthday! Happy birthday to our wonderful little tortoiseshell kitty! #CatsOfTwitter https://t.co/FC… 1 0.5555555555555556\n",
            "RT @JohnWolfeYT: Thanks everyone who came out yesterday to help raise $32,640 for @charitywater! Very proud/happy that we were able to smas… 0 0.5555555555555556\n",
            "RT @the__browngirl: Sometime we pretend to be happy just to lie to oyr fears..!! 1 0.7777777777777778\n",
            "RT @StrictlyChristo: This happy pup spending his first night at his new home after being adopted from the shelter. https://t.co/IzceUV1cnF 1 0.6666666666666666\n",
            "RT @OnigiriMIA: Happy 500!\n",
            "\n",
            "Thank you so much, everyone!\n",
            "\n",
            "Here is another simple GA to express my gratitude! \n",
            "\n",
            "Must be following @OnigiriMI… 1 0.5555555555555556\n",
            "@Zgirl785 seemed to be that happy medium 😎 and I love streaming anyways. 1 0.6666666666666666\n",
            "RT @pk_kenzie: happy 10th anniversary to my favorite game of all time 🌕 https://t.co/z6RUVd8sVv 1 0.8888888888888888\n",
            "RT @tasnum_tabassum: @NadiaIslamJyot1 @ArmaanMalik22 Happy Birthday 🥳 0 0.5555555555555556\n",
            "@jomitya happy birthday, you look great!!!! 1 1.0\n",
            "RT @RenaultSpSeries: Happy to help @MercedesAMGF1, just fill in the empty spaces, we’ll pay the entry fees 😉 https://t.co/URyJLzrZia https:… 1 0.5555555555555556\n",
            "RT @glenn_mcneil: Happy Birthday to the Greatest @PressSec45 in American history. Smashing activist \"journalists\" every single day\n",
            "\n",
            "H/T @So… 1 0.6666666666666666\n",
            "RT @YamahaMotoGP: He's loving it! ♥️ \n",
            "\n",
            "@FabioQ20 earned himself another Happy Meal 🍔🍟 \n",
            "\n",
            "#MonsterYamaha | #MotoGP | #PortugueseGP | @MotoGP… 1 0.7777777777777778\n",
            "RT @big_bigger_best: happy chubby slut #nude https://t.co/Ccn79ViH5z 1 0.7777777777777778\n",
            "this is how happy I wake up everyday featured by @buttaforever playlist 1 0.5555555555555556\n",
            "happy birthday david tennant 🥲 https://t.co/u1CqxazfZL 1 0.7777777777777778\n",
            "RT @StrictlyChristo: This happy pup spending his first night at his new home after being adopted from the shelter. https://t.co/IzceUV1cnF 1 0.6666666666666666\n",
            "RT @BuschBeer: Our happy place is anywhere we can bring a Yeti full of ice-cold Busch 0 0.5555555555555556\n",
            "RT @ioithinker: produce groups deserved a happy ending, izone deserves their happy ending 1 0.7777777777777778\n",
            "RT @IMDb: Happy Birthday, @edgarwright!  From #ShaunoftheDead to #BabyDriver, which of his films is your favorite? https://t.co/kwBKhVPBH9… 1 0.7777777777777778\n",
            "RT @discord: flashback to arguing with your sibling for 3 hours before realizing you could fling yourselves at each other. happy 10th anniv… 1 0.6666666666666666\n",
            "@girlgone_crypto @cakewallet Happy Moneroversary to All !!! 0 0.5555555555555556\n",
            "RT @f_nty23: 200410 일본 영통팬싸 #더보이즈 #현재\n",
            "\n",
            "LOL His reaction after saw me again is so funny! I’m so happy that I could make he laugh. Mission Su… 0 0.5555555555555556\n",
            "RT @StylishstarPrem: Thanks a lot @aanandaaudio 🤗 0 0.5555555555555556\n",
            "RT @Manmadha_bala: ❣️ Happy Ugadi ❣️\n",
            "\n",
            "ஒரு தெலுங்கு Aunty அவள் Lover வர்றான்னு தெரிஞ்சு குப்புறப்படுத்து கால ஆட்டிக்கிட்டு இருக்கு...\n",
            "\n",
            "ஆனா… 0 0.5555555555555556\n",
            "RT @majiiii12: Happy Birthday to my fav character gabi &lt;3 💛!\n",
            "\n",
            "#gabibraun #AttackOnTitan https://t.co/Qyo21LnoUY 0 0.5555555555555556\n",
            "What makes you happy 😊? 1 0.6666666666666666\n",
            "@lokesh08_ @NithinPSPKCult Happy Birthday bro 🎂🎉🥳 0 0.5555555555555556\n",
            "RT @discord: flashback to arguing with your sibling for 3 hours before realizing you could fling yourselves at each other. happy 10th anniv… 1 0.6666666666666666\n",
            "I bought an egg with this really sweat like custard cream center and left a bit on the ledge, she seemed very happy… https://t.co/cLHEVM5Ik7 1 0.5555555555555556\n",
            "@DrtyPirate Happy bday!! 1 0.5555555555555556\n",
            "RT @BlackSupremeKai: Just one movie or show, i want her to be in where she just has a good ass time or a great day with no trauma. 0 0.5555555555555556\n",
            "RT @ssjyshjmy: 🦒: I ate with my mum and dad now I’m resting ~~\n",
            ": I’m happy to see my mum and dad ~~&gt;&lt; \n",
            "\n",
            "@G_I_DLE #여자아이들 #GIDLE https://t.co… 1 0.7777777777777778\n",
            "Happiest birthday to the son of world's best person @WaseemBadami \n",
            "#HBD_JuniorBadami 0 0.5555555555555556\n",
            "RT @MrsRubeey: Happy 6years wedding anniversary babe @BhadmusAkeem . Forever to go in good health, wealth, love, peace, grace, happiness an… 0 0.5555555555555556\n",
            "@bulldog_manny I am extremely happy that he is better. I dont normally check Twitter every day but l was lately to… https://t.co/dPDRw325zW 0 0.7777777777777778\n",
            "happy ako for u☺️ 1 1.0\n",
            "RT @247LC: Happy birthday Lela Rochon, 57! https://t.co/L93pjT6pP8 1 0.5555555555555556\n",
            "FOR THE FIRST TIME IN ALL SEASON HE IS HAPPY 1 1.0\n",
            "RT @bigbraineef: happy visitation day!!\n",
            "\n",
            "everyone go say hello to yancy rn 😠 /lh https://t.co/gid1OVN6Xn 1 0.5555555555555556\n",
            "420 is here in a few days! This YCH will be available until May 1st 🙏🏼 0 0.5555555555555556\n",
            "@SuzSuzia Happy birthday sexy https://t.co/BhGuSHcLWQ 1 0.6666666666666666\n",
            "RT @Amykimberry: Happy Sunday🤎🤎🤎 https://t.co/6boEaH2Bzu 1 0.5555555555555556\n",
            "RT @KarthikPorandl1: To all warriors-\n",
            "Today Everyone is happy !\n",
            "Lots of positivty is seen in everyones tweets.\n",
            "Everyday be like this.\n",
            "We ca… 1 0.6666666666666666\n",
            "RT @Sweet_BunnyXXX: Happy Sunday love!🐰\n",
            "I wanna stay in bed all day long😂\n",
            "You can join me😇 https://t.co/LtTHxYV0WL 0 0.5555555555555556\n",
            "RT @puyogho: happy bday #Portal2 🎂 https://t.co/8VmapQ1hOP 1 0.8888888888888888\n",
            "RT @Naildhe: Don't leave it for tomorrow...🌷\n",
            "Be happy today! 🌷 https://t.co/lA9mfxulTZ 0 0.5555555555555556\n",
            "RT @StrictlyChristo: This happy pup spending his first night at his new home after being adopted from the shelter. https://t.co/IzceUV1cnF 1 0.6666666666666666\n",
            "@dawnandgirls @yuad127 Happy Sunday my friend !! Have an awesome day !!! https://t.co/lcVFsf9IsV 1 0.5555555555555556\n",
            "RT @TheAn1meMan: I JUST HAD THE MOST FUN WEEK TRAVELING AROUND JAPAN I’VE EVER BEEN ON WITH GOOD FRIENDS AND I’M VERY HAPPY 😊 1 0.5555555555555556\n",
            "RT @the__browngirl: Sometime we pretend to be happy just to lie to oyr fears..!! 1 0.7777777777777778\n",
            "RT @percbvth: if happy ever after did exist\n",
            "i would still be holding you like this https://t.co/4Kzed5mt5P 1 0.5555555555555556\n",
            "RT @EdmundKudzayi: Mnangagwa’s new US$18 million helicopter could pay 1,000 doctors for 7.5 years at their current US$200/month slave wages… 0 0.6666666666666667\n",
            "RT @SeitanicBeef: Happy birthday @Macho_Juice! https://t.co/kqQlRMxF7p 1 0.5555555555555556\n",
            "RT @DelhiCapitals: RT if you're happy to see Shikhar Dhawan in that orange cap 🥺\n",
            "\n",
            "#YehHaiNayiDilli #DCvPBKS #IPL2021 1 0.6666666666666666\n",
            "RT @OnyedikaAnambra: Happy Sunday tweeps . https://t.co/gHRIlfXeHy 1 0.5555555555555556\n",
            "RT @AliHaiderMuham3: Happy birth Anniversary of the great leader, the protecter of Islamic Revolution. The conquerer and the true solider o… 1 0.6666666666666666\n",
            "RT @khushikantha1: Want to learn how you can get your hands on one of our sustainable, hand-stitched, multi-purpose baby blankets at a disc… 1 0.5555555555555556\n",
            "RT @bts_bighit: [#오늘의방탄] 2021 NYEL! ARMY HAPPY NEW YEAR!🌝 \n",
            "#7방탄오랜만 #인터내셔널팝케이센세이션썬샤인레인보우트레디셔널트랜스퍼USB허브쉬림프마운틴하와이안피자Dynamite핫백1위3번그래미어워즈팝듀오그룹퍼… 0 0.5555555555555556\n",
            "RT @Chealy_: An unforgettable Dáil speech: Michael D Higgins speaking against cutting the minimum wage in 2010. Happy birthday to a legend.… 0 0.5555555555555556\n",
            "@kayleighmcenany @PARISDENNARD Happy Birthday Kayleigh!  😊👍🎂 1 0.5555555555555556\n",
            "I got roller skates! And I am happy to report I did not fall 🛼🎀🛼 Happy Sunday all! https://t.co/YHzwcq0DrL 1 0.6666666666666666\n",
            "RT @ZooATL: Happy update on Machi the gorilla! She continues to adjust well, and her mobility has improved. She's been fully introduced to… 0 0.5555555555555556\n",
            "Aww I wish I could go back in Time ago and this make happy https://t.co/soEEwk7zT5 0 0.8888888888888888\n",
            "Happy to share The Green House was a finalist for the most thought-provoking book (Montaigne Medal) for the 2021 Er… https://t.co/i82EAt3MuB 1 0.5555555555555556\n",
            "RT @Mathi11059863: Look at both the faces \n",
            "The presenter and getter are with happy faces\n",
            "Mutual happiness #ashaangi https://t.co/eZ7itUEiSJ 1 1.0\n",
            "RT @the__browngirl: Sometime we pretend to be happy just to lie to oyr fears..!! 1 0.7777777777777778\n",
            "RT @CrystalSnow_M: No puedo olvidar lo radiant que se veía Jungkook en in the soop, su sonrisa tan charming y gorgeous que mostraba cada ve… 0 0.5555555555555556\n",
            "RT @ErikLuczak: Ontario liberals already pay more for interest on the liberal debt than they do on post secondary education. Now Trudeau is… 1 0.6666666666666666\n",
            "RT @Carolin97937021: @wathonianyansi Happy birthday once more beautiful fav of mine I love you so much and wish you everything good that yo… 1 0.7777777777777778\n",
            "@theQoos_ @drippin Yess im so happy 😭 0 0.5555555555555556\n",
            "Oh yeah I fasho need this 0 0.6666666666666667\n",
            "RT @SeulHoon_JunHye: I am happy looking at his co-actors here (Kim Jiwon, Krystal and Lee Jongsuk) how they grow up and become a successful… 1 0.7777777777777778\n",
            "@JoeyDevlin_ Awesome post! My first sober wedding was the most fun I have ever had at a wedding...straight talk! Af… https://t.co/oC0uADYzna 1 0.8888888888888888\n",
            "@blaineainsley the mvp, happy ending, pregnancy test 1 0.6666666666666666\n",
            "@SiggyOg Happy Birthday Bro⚡️ 0 0.5555555555555556\n",
            "RT @safeforliam: if liam payne is happy so am i https://t.co/mdasyP3IIu 1 0.6666666666666666\n",
            "RT @StrictlyChristo: This happy pup spending his first night at his new home after being adopted from the shelter. https://t.co/IzceUV1cnF 1 0.6666666666666666\n",
            "got a new pc that actually works so I'm pretty happy 0 0.5555555555555556\n",
            "RT @terryandrob: A very, very Happy Birthday to our Demon Crowley #DavidTennant https://t.co/nBfsCBPldm 0 0.5555555555555556\n",
            "u always bring the best in me,I just wanted to let u know not to be dramatic or anything I’d die for u&amp;without u my… https://t.co/FUbJpscldc 0 0.5555555555555556\n",
            "RT @OhamadikeN: Flash back ISA Pantami said they're all  happy when unbelievers are killed, my question is who er those unbelievers? This i… 1 0.5555555555555556\n",
            "🎶🎵 Sunday Song!!!🎤🎶💗☀️💗\n",
            "\n",
            "Ok this one came from a request from @MikeB1MileHi (thank you for the gentle push and enco… https://t.co/yB0XkADUP0 1 0.8888888888888888\n",
            "RT @pissvolcano: If anyone in Mumbai needs groceries/medicines/essentials delivered - let me now. Everyone in my house including me is vacc… 0 0.5555555555555556\n",
            "RT @ANakedSeller: A Porn Poem With A Very Happy Ending #NSFW +18 ReaderNaked ReadNaked https://t.co/9nMtGQRLEx 0 0.5555555555555556\n",
            "RT @TheeNovaPanda: Happy Sunday funday pandas! ☀️🐼🌸 https://t.co/BLOvlAawq0 0 0.5555555555555556\n",
            "RT @Gobrizzle: happy 21st birthday to my not so little sister 🥺🥳💙 https://t.co/btVEgBUDUl 0 0.5555555555555556\n",
            "RT @o_keilani: I only want to be courted by intentional men who want to share their time with me. The ones who actually and actively like m… 1 0.5555555555555556\n",
            "RT @Nick_Pye: Are you happy about the money the UK has spent on COVID 1 0.6666666666666666\n",
            "RT @ciara: If you’re Happy and You Know It Clap Your Hands 🥰👏\n",
            " @DangeRussWilson \n",
            "#Family https://t.co/UDOHDKy3lb 0 0.5555555555555556\n",
            "RT @ikkifigueroa: Happy birthday my precious sunshine🥺💖 I love you, to the moon and back.\n",
            "\n",
            "#多才多艺的歌手_周觅_生日快乐\n",
            "#꿀처럼_달콤해_조미_생일축하해\n",
            "#HappyZHOUMId… 1 0.5555555555555556\n",
            "happy sundayyyyyyyy ✨✨✨✨✨ 1 0.6666666666666666\n",
            "RT @Yazzzzir: @LuckyBotter Happy 1 year Lucky 👏 1 0.6666666666666666\n",
            "RT @AsraNawab5: HAPPY BIRTHDAY ADIL BADAMI ♡\n",
            "\n",
            "I pray to Allaah to protect Adil from all kinds of trouble. Make him as hardworking as his fa… 1 0.5555555555555556\n",
            "@nononorit So happy to see them again ! &lt;3 1 0.5555555555555556\n",
            "Hallo Kinder, ich bin grade ohne Grund extrem happy freut euch für mich :)))))) 1 0.6666666666666666\n",
            "istg if mhy d-words her.... 1 0.5555555555555556\n",
            "@cfcfurlong @AL_AHMED23 @TheImmortalKop So did I but I’m happy to leave it there 0 0.5555555555555556\n",
            "@ZahidGishkori Happy moments s for u new masala new trp bonuses 1 0.5555555555555556\n",
            "RT @CatboiAoi: Happy Caturday~! This catboy has something to show you 💕💕 https://t.co/pafwQ0PwCr 1 0.7777777777777778\n",
            "9-11 conspiracy theories and rosé. Happy Sunday https://t.co/33rgCHyK8q 0 0.5555555555555556\n",
            "RT @MauriceEdu: Thanks for the bday win today! 🔵🔵🔵 1 0.5555555555555556\n",
            "In a great mood today. Went down to the fresh market we have over here. They have their own farm our back and I got… https://t.co/2TM3uElBPy 1 0.5555555555555556\n",
            "@_beautifuldick_ @teeacakess Happy Sunday!! 😘😘 @Lovelylivvy981 \n",
            "\n",
            "https://t.co/TyD9CVHlUa \n",
            "\n",
            "https://t.co/nDjUjsEQXU https://t.co/Jf52IszmCc 0 0.5555555555555556\n",
            "RT @Mel_Matton_98: I just published a new post on my @buymeacoffee!\n",
            "\n",
            "Happy Birthday, Maria Himesato!\n",
            "https://t.co/rVPgSjeFsJ \n",
            "\n",
            "#姫里マリア #姫里マリ… 1 0.5555555555555556\n",
            "Hi maki happy birthday I hope festival ur comes home tomorrow #lovelive https://t.co/b70pIWQOhY 1 0.5555555555555556\n",
            "Il était tellement beau,magnifique,charmant,envoûtant etc... ce jour là 😍😍😍😍😍😍 1 0.8888888888888888\n",
            "RT @imcalvinsdad: Posting bc drunketh n happy here &lt;3 https://t.co/FeuQafUF4m 1 0.6666666666666666\n",
            "RT @NagitoKomahina: Happy birthday , Angie !! :D https://t.co/HK7vL2LS6D 1 0.6666666666666666\n",
            "RT @littledaora: \"I will build a warm bed for her tomorrow\" \n",
            "Bridal Carry?😂😂\n",
            "\n",
            "Let me draw Penguin Reylo for a while. They really make me ha… 0 0.7777777777777778\n",
            "RT @BlackSupremeKai: Just one movie or show, i want her to be in where she just has a good ass time or a great day with no trauma. 0 0.5555555555555556\n",
            "RT @olanikemi: Happy Sunday 🥰 https://t.co/F4MkOfcVQu 0 0.5555555555555556\n",
            "RT @the__browngirl: Sometime we pretend to be happy just to lie to oyr fears..!! 1 0.7777777777777778\n",
            "@markyzaguirre I'm trying to keep readers happy. 1 0.6666666666666666\n",
            "RT @Carlossainz55: P11 to P5! First time in the wet was tricky, I risked at the start, made up 4 places and pushed to find the limits with… 0 0.6666666666666667\n",
            "u make me happy diyebileceğimiz biri amin 0 0.5555555555555556\n",
            "RT @Realeboga_Ree: So cute 🥺 Tlisang Six Gun 1 0.6666666666666666\n",
            "RT @ROKNigeria: @StarGirlDaily @EricaNlewedim Me when I see that ELITES has started countdown for #TheWIG and most especially when I know I… 1 0.6666666666666666\n",
            "RT @FLODerbyNotts: Happy #WorldHeritageDay!\n",
            "\n",
            "The PAS often works with local museums through the Treasure process.\n",
            "DENO-C56C01 is a Treasure… 0 0.5555555555555556\n",
            "Happy birthday to the best mascot!!! @QMascot 0 0.5555555555555556\n",
            "@brookeabellamy aha nope! i was originally going to end it in a much sadder way but i feel like my characters deserve a happy ending! 0 0.5555555555555556\n",
            "RT @ralakalar: Miran: where is lutfu\n",
            "Asye: I don’t know. this man came to make me crazy \n",
            "Miran: he cane to make u happy  #HayatSevinceGüzel 0 0.5555555555555556\n",
            "RT @ThickDickKing1: Happy Valentine’s Day 💕 https://t.co/ffxnvPO6Qq 1 1.0\n",
            "She had let out a happy giggle \"im glad! \" 1 0.7777777777777778\n",
            "RT @_Boomhauer: Happy dang ol’ Sunday, I tell ya what 1 0.5555555555555556\n",
            "RT @MaximumADHD: Happy 10th birthday to Portal 2! 1 0.5555555555555556\n",
            "@C0MPENSATING happy bestie 1 1.0\n",
            "RT @StrictlyChristo: This happy pup spending his first night at his new home after being adopted from the shelter. https://t.co/IzceUV1cnF 1 0.6666666666666666\n",
            "@Ridwitu4ever95 @CNN I never see the KKK's violence (gee, almost like it's fake media CNN invented), but I do see t… https://t.co/w6kgB9BWM2 0 0.6666666666666667\n",
            "@Fre__nch @ShoppinBagDAVE Lmaooo happy Bday Dave 1 0.7777777777777778\n",
            "#WakeUpWorld #JusticeForNoah\n",
            "#TheNoahDonohoeFoundation\n",
            "#RememberMyNoah💙\n",
            "#NoahsArmy⚡️\n",
            "#Week43… https://t.co/bycFoGt2TP 1 0.5555555555555556\n",
            "RT @DJcity: Happy birthday to #MikiDZShow co-host @djdainjazone! 🎂 https://t.co/UhLbgdqV4Q 1 0.7777777777777778\n",
            "RT @aoirooto: #原神 #魈生誕祭2021\n",
            "\n",
            "✨Happy Birthday✨おめでとう〜！🎉 https://t.co/ZoAYYO7YAe 1 0.5555555555555556\n",
            "RT @ralakalar: Miran: where is lutfu\n",
            "Asye: I don’t know. this man came to make me crazy \n",
            "Miran: he cane to make u happy  #HayatSevinceGüzel 0 0.5555555555555556\n",
            "RT @safeforliam: if liam payne is happy so am i https://t.co/mdasyP3IIu 1 0.6666666666666666\n",
            "RT @n1cnac89: Happy #SundayFunday with Sexy and Seductive @MagdaleneXXX Maggie is Sensual,Passionate,Brings scenes to life and makes them t… 0 0.5555555555555556\n",
            "This mad so happy! 1 0.5555555555555556\n",
            "@Gideonbriggs @neo_cakes Happy birthday NEO 0 0.5555555555555556\n",
            "@rocknrollrry here bff https://t.co/5UUpnAZkje and IM SO HAPPY WAA 1 0.6666666666666666\n",
            "RT @Sweet_BunnyXXX: Happy Sunday love!🐰\n",
            "I wanna stay in bed all day long😂\n",
            "You can join me😇 https://t.co/LtTHxYV0WL 0 0.5555555555555556\n",
            "@iLuvAesop YAYY im happy uve had a good day bff 0 0.5555555555555556\n",
            "RT @01_04_25: happy birthday xiao!\n",
            "\n",
            "#GenshinImpact #XIAO https://t.co/jLuElPEuYm 1 0.7777777777777778\n",
            "RT @SteeleThoughts: When we act like we’re happy to see our students… they will end up being happier to see us. 1 0.6666666666666666\n",
            "RT @AfricaFactsZone: Happy Independence Day Zimbabwe. 🇿🇼 https://t.co/TYiHU1av09 1 0.5555555555555556\n",
            "@RamuneLive I'm very happy for you wish you all the best with the apartment hope the move is not too stressful 💜 1 0.5555555555555556\n",
            "Happy Anniversary! I’m sorry I missed it but I didn’t get invited to the wedding either so no surprise there then.… https://t.co/l3dIChp0vB 0 0.8888888888888888\n",
            "RT @StellaSamore: Happy Sunday 💕 https://t.co/HQ489Ui0YW 1 0.5555555555555556\n",
            "RT @KDHLOOKS: We haven't won anything yet for Dahyun, so please participate so she can win a birthday ad. This is the last day of voting on… 0 0.5555555555555556\n",
            "RT @MarcusRashford: It’s your birthday brother, enjoy it! @Donny_beek6 ♥️ https://t.co/AznbSspggu 1 0.7777777777777778\n",
            "RT @ifrajaved14: Happy Birthday to you \n",
            "#HBD_JuniorBadami \n",
            "@WaseemBadami https://t.co/mGzJUW4f3D 0 0.5555555555555556\n",
            "Happy birthday @Iam__Rashmi may god bless you and enjoy your day. 0 0.5555555555555556\n",
            "RT @Amanda_Leoa: Happy Sunday everyone 🤣 Bom Domingo a todos. https://t.co/EHwU6XLy9C 0 0.5555555555555556\n",
            "RT @VelvetDweller: Today is the day I chose to appreciate Chihiro Fushimi!\n",
            "\n",
            "Happy Appreciation Day to the treasurer of Gekkoukan High Schoo… 1 0.6666666666666666\n",
            "RT @SpockResists: Good Morning \n",
            "Happy Sunday 🖖🙂 https://t.co/PIVeinX3dZ 0 0.5555555555555556\n",
            "RT @AnnMari11331462: Happy Sunday😇✨✨ https://t.co/Zop7ssPxLn 1 0.6666666666666666\n",
            "Idzoo😍😍 1 0.7777777777777778\n",
            "RT @bunnycalz: im so proud and happy for each one of you that are trying / are in recovery ♡ 1 0.5555555555555556\n",
            "RT @the__browngirl: Sometime we pretend to be happy just to lie to oyr fears..!! 1 0.7777777777777778\n",
            "RT @S_OkudzetoAblak: Rain or shine our “Thank You Tour” continues unabated.\n",
            "\n",
            "Tomorrow we shall begin from Kenu, Battor. It’s been exciting.… 1 0.6666666666666666\n",
            "RT @TraceEastAfrica: Happy Birthday @SizzlaKalonji from #TraceNaDoba with @Jahmbeekoikai and @selectortechnix \n",
            "\n",
            "We wish you more life, joy… 1 0.5555555555555556\n",
            "VALTTERI GEORGE IS THE FUNNIEST THING TO EVER HAPPY IM LAUGHSINDHSB 1 1.0\n",
            "@TheDCMatthews Happy birthday sir! 0 0.5555555555555556\n",
            "Happy Birthday @AsToldByRosado 🎉🎉 https://t.co/sON0tps5EC 0 0.5555555555555556\n",
            "RT @andrealem: Hello #UKGiftHour #UKGiftAM Happy Sunday 😊🌞 these are some of my lovely prints to brighten up your day ☺️ https://t.co/AyaNY… 1 0.7777777777777778\n",
            "RT @jerryyygalvezzz: Happy Sunday fellas. Please dont invite me anywhere. Thanks. 0 0.5555555555555556\n",
            "RT @adspexi: chu \"happy birthday!\"/\"you too\" wanning is canon and I think about that every day of my life 1 0.5555555555555556\n",
            "RT @MarcusRashford: Guys I can’t find any pics of me and Donny to wish him a happy birthday, can you help?? Tag him to show some love! @Don… 1 0.5555555555555556\n",
            "RT @StrictlyChristo: This happy pup spending his first night at his new home after being adopted from the shelter. https://t.co/IzceUV1cnF 1 0.6666666666666666\n",
            "https://t.co/xtH9fo5vnP 1 0.6666666666666666\n",
            "RT @hellow_society: #happynewyear2020 \n",
            "#HappyNewYear \n",
            "#Happy_New_Year \n",
            "#UNDERTALE \n",
            "🎉🐭Happy New Year🐭🎉 https://t.co/BEvYse8rcx 1 0.7777777777777778\n",
            "@IIFA @ArshadWarsi Happy birthday 🎂 🎈 🍰 🍾 🍷 🍹 love from lenasia Johannesburg South Africa 🇿🇦 1 0.5555555555555556\n",
            "Mehn pure talent! Congratulations on your well deserved win against City brother 1 0.8888888888888888\n",
            "RT @Dhawood_: Happy birthday @Burj_yarima i hope this wonderful day will fill up your heart with joy and blessings. 1 0.6666666666666666\n",
            "@MamaBear2_0 @MomOf2Happas Definelty sounds like a happy fun time 😊🤙and scenery is gorgeous ⚘😉 1 0.6666666666666666\n",
            "@itsthelawsonn Very sexy ! Happy birthday 🎊 0 0.5555555555555556\n",
            "RT @Nyuudles: Happy birthday @Macho_Juice ! 🥰🙏\n",
            "\n",
            "Chris post workout https://t.co/C8oKl5ee2s 1 0.6666666666666666\n",
            "RT @dot_cocoa: Happy birthday to us!!!   We are 4!!! 🎉🎉🎉. https://t.co/rzcAVVctAn 1 0.5555555555555556\n",
            "RT @MarcusRashford: It’s your birthday brother, enjoy it! @Donny_beek6 ♥️ https://t.co/AznbSspggu 1 0.7777777777777778\n",
            "RT @harshasherni: Dnt know whr on earth is this beautiful place but this is the only thing which made me happy today .. https://t.co/m6uGbX… 0 0.6666666666666667\n",
            "@Mochievous Thanks and happy you had a great weekend. #PantamiResign #PantamiResignNow 1 0.7777777777777778\n",
            "ทวีตต้นเหตุคยูมือลั่น 1 0.8888888888888888\n",
            "@NathanSykes Happy birthday Mr. Nathan Sykes. 0 0.5555555555555556\n",
            "ICYMI: Underwater tango, a cosmo-panda and happy penguins - BBC News https://t.co/AJM8gf88W9 1 0.5555555555555556\n",
            "RT @baykaler: Happy weekend 🗺️ https://t.co/vwbKkLCCd1 1 0.5555555555555556\n",
            "RT @selgofetish: this video will always make my heart so happy, i wonder if the girl in this video is still a fan of selena's https://t.co/… 1 0.7777777777777778\n",
            "RT @the__browngirl: Sometime we pretend to be happy just to lie to oyr fears..!! 1 0.7777777777777778\n",
            "RT @ResSnyderVerse: Happy anniversary #SnyderCut \n",
            "\n",
            "#RestoreTheSnyderVerse ⚒️🌌 \n",
            "The time is Now 0 0.5555555555555556\n",
            "RT @MoMelOji: Happy Birthday!! @invictorgs3 \n",
            "\n",
            "Espero tengas un día tan maravilloso como tú 🤍🤍\n",
            "#Feliz23invictor\n",
            "\n",
            "Disfruta mucho de tus 23, t… 0 0.5555555555555556\n",
            "RT @the__browngirl: Sometime we pretend to be happy just to lie to oyr fears..!! 1 0.7777777777777778\n",
            "RT @karansharma4062: 🙏🙏🙏🙏🙏🙏\n",
            "Thou brightened the lives of millions \n",
            "Thou enlightened the lives of millions\n",
            "Thou addicted them welfare works.… 0 0.5555555555555556\n",
            "RT @Mae_Carson2: Dear @NicolaSturgeon I'm in the @IndyScotParty not the Alba party but I'd be more than happy to work with @AlexSalmond to… 0 0.5555555555555556\n",
            "RT @chiIdprey: this song makes me too happy  https://t.co/RzS93pP30s 1 0.7777777777777778\n",
            "@lunafaeart @ClayBelleShop - [ ] Thanks for the giveaway 😚  I never won any giveaway 🥺I Really need a new phone for… https://t.co/OnftxO1GQ2 0 0.7777777777777778\n",
            "@FlatzLfc @lukey_t1 @Football__Tweet @GNev2 The fans of the Greedy Six will not be happy... The fans will vote with… https://t.co/iO7Xo83Dag 1 0.8888888888888888\n",
            "RT @alemahus: it is the first part and man did everything to make her happy \n",
            "I don't know where he finds these ideas\n",
            "Miran is so precious… 0 0.5555555555555556\n",
            "@mzsg8_ UNI AT 16 WHAAAAAA I'M SO HAPPY FOR YOU 1 0.5555555555555556\n",
            "i’m happy right now...in a good space in my life. i’m not letting NOBODY change that! 0 0.6666666666666667\n",
            "RT @italianostyle2: Happy Sunday ☀️\n",
            "Follow everyone who likes &amp; retweets\n",
            "Drop your name\n",
            "#TEAMSTALLION🐎💫\n",
            "@italianostyle2 \n",
            "@MarEthr \n",
            "@MagDivi… 1 0.7777777777777778\n",
            "RT @astrobort: dios se acuerdan que happy tree friends lo pasaban por LA TELE no es por decir q a esta generación le falta colimba pero 1 0.6666666666666666\n",
            "@Katie13592187 what a way to spend sunday evening be happy too xx 1 0.7777777777777778\n",
            "RT @TheLizaGrimm: Wenn das große A bei deinem Buch \"Nur noch 20 auf Lager (mehr ist unterwegs)\" vermerkt, will man dann wissen, wie viele B… 0 0.5555555555555556\n",
            "RT @xIKalleIx: @KamiKisu_ happy freaking birthday. Hope you have the best day with lots of cake. 1 0.7777777777777778\n",
            "Anything else... KEEP IT 0 0.5555555555555556\n",
            "RT @the__browngirl: Sometime we pretend to be happy just to lie to oyr fears..!! 1 0.7777777777777778\n",
            "RT @VAV_official: HAPPY BIRTHDAY TO BARON🎂\n",
            "\n",
            "#VAV #브이에이브이 #바론 #BaRon\n",
            "#HappyBaRonDay #해피바론데이 #0419\n",
            "#HappyBirthday_BaRon #HBD #생일축하해\n",
            "#뱀즈의비타민바론… 1 0.5555555555555556\n",
            "@mgcdilf HAPPY BIRTHDAYY!!! 1 0.5555555555555556\n",
            "RT @MarcusRashford: It’s your birthday brother, enjoy it! @Donny_beek6 ♥️ https://t.co/AznbSspggu 1 0.7777777777777778\n",
            "@sunlethwaters happy birthday baby 1 0.7777777777777778\n",
            "RT @ValentinaP444: 🆘🆘Here's a video of this happy boy playing, as boys will do, with his buddy Wiggles (adopted). https://t.co/ccg2FvHjxy\n",
            "*… 1 0.8888888888888888\n",
            "@MisfitsggLoL @Vanderlol happy birthday man 🥳🙌🏻 0 0.5555555555555556\n",
            "Happy birthday  #Superman \n",
            "https://t.co/J1n5ke4Cuk https://t.co/lpYK5fVrNu 0 0.5555555555555556\n",
            "@nowthisislana happy for you 🥺 0 0.5555555555555556\n",
            "RT @XXL: Happy birthday, @THESLUMPGOD! 🎉\n",
            "\n",
            "RT if you’re ready for him to drop a new project https://t.co/chuo9XX9WP 1 0.7777777777777778\n",
            "@notsosadcule @CuleAryy Happy Birthday @CuleAryy 🎉🎉 0 0.5555555555555556\n",
            "Hoseok is my happy place, this boy also cute and handsome, is a perfect rapper🥺, sorry but I love he.\n",
            "@BTS_twt https://t.co/rZjGtOIxPS 1 0.6666666666666666\n",
            "@miren3k HAPPY BDAY MIREN❤ILY 1 0.5555555555555556\n",
            "@TheLovelyLexc Happy Birthday 0 0.5555555555555556\n",
            "incrível como spn acabou tem 5 meses mas ainda tem surtos assim meu deus cadê o there'll be peace when you're done… https://t.co/eRRKsHwwxF 1 0.5555555555555556\n",
            "RT @Sweet_BunnyXXX: Happy Sunday love!🐰\n",
            "I wanna stay in bed all day long😂\n",
            "You can join me😇 https://t.co/LtTHxYV0WL 0 0.5555555555555556\n",
            "RT @TylerSCrypto: Honestly I don’t care what crypto you’re invested in\n",
            "\n",
            "If it’s making you money and helping change your life then GOOD\n",
            "\n",
            "Ev… 1 0.5555555555555556\n",
            "i’m lowkey kind of jealous but happy that my two younger siblings haven’t been through the same shit me and my other brother have. 0 0.8888888888888888\n",
            "Happy Sunday!\n",
            "\n",
            "Now spinning: https://t.co/6Iv6BwSflJ 1 0.6666666666666666\n",
            "RT @BTS_twt: 즐거운 연말이네요!!! \n",
            "2020년과 인사할 시점이 다가오니 올 한 해가 제 머릿속에 차분하게 정리가 됩니다 아직 끝나진 않았지만 오늘 내일 즐거운 성탄절 보내시면서 예쁜 추억들로 마무리 하셨으면 좋겠습니다 ㅎㅎ우리 아미\n",
            " H… 1 0.7777777777777778\n",
            "RT @Kz13n_V2: “ ไม่อยากให้ทุกคนใช้เวลาที่เหลือแบบระแวงนะ ก็ happy กับทุกโมเม้นไป “\n",
            "\n",
            "โอเคค่ะ พี่จะใช้เวลาต่อจากนี้ทุกวันรักน้องปัญให้มากที่… 1 0.6666666666666666\n",
            "@Y0DREAMRUSH happy birthday! 1 1.0\n",
            "RT @nirosiren: i made a twibbon for chanhee’s  birthday for anyone who wants to use it 뉴생일 ◡̈⋆*\n",
            "\n",
            "♡HAPPY NEW DAY!♡\n",
            "\n",
            "💖https://t.co/zN09fuDjZk… 1 0.6666666666666666\n",
            "Exactly my day. #SelfCareSunday 0 0.6666666666666667\n",
            "RT @maple_boy0223: Dear Kevin, your happiness is TheBs happiness. Your smile is always precious and I hope in my small ways I made you happ… 1 0.5555555555555556\n",
            "RT @SlimeNotify: We are happy to announce our partnership, so it's Giveaway time! 🎉\n",
            "\n",
            "Prizes 🎁\n",
            "@SlimeNotify x1 Free Month\n",
            "@AstryScripts x3 B… 0 0.5555555555555556\n",
            "@BristolOli @kezsajm It's because our admin is a ban happy Liverpool fan with no clue on any history of the club...\n",
            "Absolute farce 1 0.5555555555555556\n",
            "@nytimes Sunday crossword in 2 hours. might not be record setting but this fig is happy. #itsthelittlethings 1 0.7777777777777778\n",
            "happy sunday https://t.co/aQT7DXi43O 1 0.7777777777777778\n",
            "RT @RenaultSpSeries: Happy to help @MercedesAMGF1, just fill in the empty spaces, we’ll pay the entry fees 😉 https://t.co/apaQZua7WQ 1 0.5555555555555556\n",
            "RT @Mis_TAught: @mykola @iamjohnoliver @jimmykimmel Dear @iamjohnoliver, I'm a Yorkshire lass &amp; I'm happy to talk to you about Autism. I'm… 0 0.5555555555555556\n",
            "@MasterX77363102 https://t.co/s0WqlwSWm4 1 0.5555555555555556\n",
            "RT @OldestOlympians: Happy 97th birthday to Anna Van Marcke, the oldest living Belgian Olympian! She took part in canoeing's K-1 500 event… 1 0.5555555555555556\n",
            "RT @_uwa2: Whatever I'm doing 5 years from now, I just hope I am happy. 0 0.5555555555555556\n",
            "@VirtualFrankie \n",
            "Happy days Frankie 😊\n",
            "Hope they'll be good ones 1 0.5555555555555556\n",
            "We f*cking with whoever makes us happy and we're not explaining anything to anyone. 0 0.6666666666666667\n",
            "RT @janenana_: “นอมู lonely but now นอมู happy”\n",
            "https://t.co/K8VQTVkCZx 0 0.8888888888888888\n",
            "@Sexy_kittykat13 We share a birthday.  Today I’m 53.  Happy birthday to you 🥰 https://t.co/1Wn6n2BNeL 0 0.5555555555555556\n",
            "RT @minamiskotori: ┏･꒰ 𝟎𝟒.𝟏𝟗  ꒱ ━━━━━━━━━━━━┓\n",
            "        \n",
            "      Happy Birthday to the talented  \n",
            "       pianist &amp; cutest tomato of μ's,… 1 0.5555555555555556\n",
            "RT @littledaora: Penguin Reylo Part 2:\n",
            "House is made of brick and stone.\n",
            "Home is made of love alone.\n",
            "😘🏠 https://t.co/OXaIo1Bpg9 0 0.5555555555555556\n",
            "RT @JDaIey: Your energy is different when you’re genuinely happy. 1 0.8888888888888888\n",
            "RT @Taa_0922: CRL4月大会世界1位なりました🥇日本人初は嬉しすぎる！！応援してくれた全ての人に感謝しています🤩\n",
            "\n",
            "I won the April Monthly Final👑\n",
            "I want to thank all of you for your support… 0 0.5555555555555556\n",
            "RT @SolanaAlice: Happy Sunday!! https://t.co/XuxkAxE9Ls 1 0.5555555555555556\n",
            "- التحقت بـ جامعة سيول للفنون SOPA\n",
            "- دانا كانت ممثلة منذ طفولتها و شاركت بكثير من الأعمال منها Happy Ending عام 201… https://t.co/Hod9bXuj3b 1 0.5555555555555556\n",
            "@delspacefranco Beautiful Mark!\n",
            "Happy Sunday to you Sir.\n",
            "Musial RC Club. https://t.co/0oRfmkaY0Y 0 0.5555555555555556\n",
            "RT @VirtualGeishaaa: Happy Easter! 🐰🐇🐣 \n",
            "\n",
            "💖 for left 🔁 for right 🌷 https://t.co/88Z46zpozd 1 0.6666666666666666\n",
            "RT @Youngbrad15: Finally own some jocks and I’m happy ❤️🍑💦😈 nobody will know I’m wearing them tho hehe https://t.co/ekp6OW00WN 1 0.6666666666666666\n",
            "@TOFIEmusic Happy birthday my love! I'm so proud of you for hanging in there through the good times and the bad. I… https://t.co/qxvvNEuxgt 0 0.5555555555555556\n",
            "@QuakeRoc happy bappy 🎉 1 0.7777777777777778\n",
            "@kaatiemxx U gave my false hope 😔 1 0.5555555555555556\n",
            "RT @meronpanne: happy bday xiao!!🌿🎂\n",
            "#魈誕生祭2021 #原神 #GenshinImpact https://t.co/Ta56MnEPVW 1 0.5555555555555556\n",
            "RT @Squirelluv: @hueningsarchive Ada kog. Happy Birthday Lia 😘🎊 https://t.co/XDWXN8LIuf 1 0.6666666666666666\n",
            "RT @HealthyStash: MANTRA: Stay healthy. Stay grounded. Stay happy. 1 0.6666666666666666\n",
            "RT @asivebaby: Happy birthday to the gorgeous @wathonianyansi 😍👸🏻🙌🏼\n",
            "May God continue to bless you with many more years to come ❤🙏🏼\n",
            "30 LOOKS… 0 0.5555555555555556\n",
            "Happy Tweeting ....\n",
            "\n",
            "Maine Mendoza Ganda\n",
            "Maine Mendoza Twitter Queen\n",
            "Maine Mendoza Hooray\n",
            "\n",
            "@mainedcm\n",
            "#MaineMendoza 0 0.5555555555555556\n",
            "RT @Carlossainz55: P11 to P5! First time in the wet was tricky, I risked at the start, made up 4 places and pushed to find the limits with… 0 0.6666666666666667\n",
            "RT @shhhivani: THEY LOOK SO HAPPY https://t.co/LlckOTy6gn 1 0.6666666666666666\n",
            "Happy NHL debut here’s a boat anchor. Strap in 0 0.5555555555555556\n",
            "@ahappypichu @TJPones I'm happy for her 💖 1 0.5555555555555556\n",
            "@smeagher12 i just cried. i would absolutely love doing this🥺🥰 makes my heart so happy!! 1 0.5555555555555556\n",
            "RT @thegameawards: 🎂 It's your cake day PORTAL 2. 🎂\n",
            "\n",
            "Happy 10th Anniversary, released on April 18, 2011! https://t.co/VO9OmpPFdL 0 0.5555555555555556\n",
            "RT @nikuerigom: Maybe not the funniest but I love seeing them together being happy and playful 🥺😍\n",
            "*btw I'm looking for ot9 moots 👀\n",
            "#EXO @we… 1 0.8888888888888888\n",
            "@TheRock Hi Rocky! (My fav wrestler of all time!!) I'm trying to get a happy birthday for my little man turning 18… https://t.co/Buihu1mA1v 1 0.7777777777777778\n",
            "Russel baby alone this 🤣 0 0.7777777777777778\n",
            "RT @CBSSportsHQ: Happy 38th Birthday Miguel Cabrera!\n",
            "\n",
            "Players in MLB history with at least a career .313 avg and 485 HR:\n",
            "\n",
            "Miguel Cabrera\n",
            "Ba… 0 0.5555555555555556\n",
            "Happy birthday  @hello_tweeples_ 🥳🥳\n",
            "Stay happy, stay blessed and stay safe 💝\n",
            "Mahi Ki Friend Meri Bhi Friend Happy B… https://t.co/ZMRdViAaar 1 1.0\n",
            "RT @starforcebinary: I’m so happy the MCU made TFATWS instead of going straight into Sam being Cap. It’s added so much to his story and mor… 1 0.6666666666666666\n",
            "Happy Meap Day ! Make sure you say Meap 3 times today. 0 0.5555555555555556\n",
            "RT @KaylarWill: I deserve to be happy af. 1 0.8888888888888888\n",
            "RT @Nyuudles: Happy birthday @Macho_Juice ! 🥰🙏\n",
            "\n",
            "Chris post workout https://t.co/C8oKl5ee2s 1 0.6666666666666666\n",
            "RT @doekis_: happy times 🌈☁️ https://t.co/p5uGOEfW6I 1 0.6666666666666666\n",
            "Allahuma Barik 🥰 @Tallmelaningirl may Allah keep you both happy 1 0.6666666666666666\n",
            "RT @fluffysiwonie: I hope Zhoumi had an amazing birthday today they all looked so happy 🎉💙\n",
            "\n",
            "also bb look dashing in blue ~ 🥰💙 https://t.co/… 1 0.7777777777777778\n",
            "RT @MarcusRashford: It’s your birthday brother, enjoy it! @Donny_beek6 ♥️ https://t.co/AznbSspggu 1 0.7777777777777778\n",
            "RT @artofalassa: 'Dumbapples?' 💜🍎\n",
            "\n",
            "Crisis Core boys for this month! So happy, wanted to draw them like this for ages. 💜\n",
            "\n",
            "#clack #zakkura #f… 0 0.5555555555555556\n",
            "RT @msheendtlove: happy birthday to georgia tennants husband! 🥳🥳 #HappyBirthdayDavidTennant https://t.co/nmytHQdK1B 1 0.8888888888888888\n",
            "RT @ambika_Mam: If you're not happy in it then it's not a worthy relationship. 1 0.6666666666666666\n",
            "RT @PARISDENNARD: Happy Birthday, @kayleighmcenany! https://t.co/BUfxDRzSRj 1 0.5555555555555556\n",
            "Miguel Cabrera plantandole cara a nada más y nada menos que a Roger Clemens. Un turno inolvidable. ¡Feliz cumpleaño… https://t.co/UnZDCE04hu 1 0.5555555555555556\n",
            "@luvyoutosaturn So happy for you Ellexa! 1 0.8888888888888888\n",
            "RT @ValentinaP444: 🆘🆘Here's a video of this adorable girl, Flora. https://t.co/n5zhtwOO5j She just had 2 days to be networked, so she has p… 1 0.7777777777777778\n",
            "1 whole Day to go for Happy Birthday Romio Karthik RVP Advance Happy Birthday to the fighter who is always with kin… https://t.co/KMyBUzha0F 1 0.5555555555555556\n",
            "@quacktilly HAPPY BIRTHDAY TILLY HAVE A GREAT DAYYYYYY 1 0.5555555555555556\n",
            "90s pop songs are so... Happy? 🤧 1 0.5555555555555556\n",
            "@itzz_harleyy @GrowURStream Just having 5 viewer and i would be happy xD 1 0.5555555555555556\n",
            "RT @Dairave: Happy Sunday https://t.co/IUY6ZkOT6H 1 0.5555555555555556\n",
            "RT @Pointings: Things hot up for Ace when the KZN branch of the @myANC don’t want him campaigning in their sectors . \n",
            "Is Zuma happy with th… 1 0.5555555555555556\n",
            "RT @hiiyuki: a happy musician and his new equipment friends 🎶 🍊 \n",
            "#bts #suga #yoongi https://t.co/3W9bkBfbwC 1 0.6666666666666666\n",
            "RT @MarcusRashford: It’s your birthday brother, enjoy it! @Donny_beek6 ♥️ https://t.co/AznbSspggu 1 0.7777777777777778\n",
            "RT @dogdog: Happy birthday to my wife, partner and best friend! I’m so proud of everything you’ve accomplished the past few years! \n",
            "30 is j… 1 0.5555555555555556\n",
            "@SideDirty @AShoeAndACashew @Ofitus21 @racefansdotnet @RacingLines It’s maybe a bit weird to say, but I think Botta… https://t.co/R9MXyfGaNC 1 0.6666666666666666\n",
            "RT @OneLuckyGirl_28: 🔮Taurus:🎁Happy birthday, Taurus! A surge of  confidence makes getting ahead on goals easy with the Sun and Mercury mov… 0 0.5555555555555556\n",
            "RT @learn_english3: طاقة _ Energy _ انرجي\n",
            "إضافة _ Addition _ اديشن \n",
            "تعليم _ Education _ اديوكيشن \n",
            "لحظة _ Moment _ مومنت \n",
            "انتباه _ Attention… 1 0.5555555555555556\n",
            "RT @prakashachary1: Wish you a many many happy returns of the day @shreyasakshi19 @Sid_meri_jaan_ My Game Partner Shreya 🤩🎂🎂🍫🍫🎁🎁🎈🎈🎊🎊🎉🎉🥳🥳🕺🕺… 1 0.5555555555555556\n",
            "RT @Mathi11059863: Look at both the faces \n",
            "The presenter and getter are with happy faces\n",
            "Mutual happiness #ashaangi https://t.co/eZ7itUEiSJ 1 1.0\n",
            "@NOutrage91 yayyyyyy so happy you are here 1 0.8888888888888888\n",
            "RT @hiiyuki: a happy musician and his new equipment friends 🎶 🍊 \n",
            "#bts #suga #yoongi https://t.co/3W9bkBfbwC 1 0.6666666666666666\n",
            "RT @technosupdate: happy 1 year to SBI winning MCC 4!! https://t.co/IG1W52CqoT 1 0.7777777777777778\n",
            "@ElCapitain82 Those fucks cldnt give a single fuck about any Spurs fan &amp; never have. Levy &amp; Co would be just as hap… https://t.co/k2pafE9Ve0 1 0.5555555555555556\n",
            "RT @MarcusRashford: Guys I can’t find any pics of me and Donny to wish him a happy birthday, can you help?? Tag him to show some love! @Don… 1 0.5555555555555556\n",
            "Before the quiet diplomacy of Áras an Uachtaráin, his formidable voice rang out in Dáil...Happy Birthday to Preside… https://t.co/gzQCXwjbet 1 0.5555555555555556\n",
            "RT @Aamrifikri: ‘are you ok?’ dik ko bodo ke? esok hari isnin? nampak aku macam happy ke 1 0.5555555555555556\n",
            "RT @rxbinbby2: Another buyer happy with their custom video😍\n",
            "\n",
            "He enjoyed doing exactly as I said to be able to see my bare soles😏\n",
            "\n",
            "Message m… 1 0.5555555555555556\n",
            "RT @Ifeellikesushi_: Happy Birthday to the FASHION GODDESS 👸🏽, May God bless you as you turn 30 today. More blessings Darl✨\n",
            "\n",
            "Wathoni she's… 0 0.5555555555555556\n",
            "With cheeks on fire, Jeongguk murmurs, \"I'm also so happy to have met you, Tae. More than anything.\" 1 0.7777777777777778\n",
            "RT @missy_ked: รึอุงกำลังพี่ “บ้านเธอไม่มีอูจินแบบเราล่ะสิ” ☺️☺️☺️☺️☺️ happy!!!!!!!!!!! #อูอุง https://t.co/LqeKXaWy0k 0 0.5555555555555556\n",
            "RT @Elijaneeslay: Being financially stable &amp; genuinely happy is my ultimate goal right now. 0 0.5555555555555556\n",
            "@emmuhlol happy bday pretty 1 0.8888888888888888\n",
            "RT @Birmingham_81: Happy birthday to the supremely cool Les Pattinson. Here are the Bunnymen with The Back of Love\n",
            "https://t.co/1Z8iQL28dO 1 0.5555555555555556\n",
            "Found some very ✨adorable💕 photos from the set of @OrbitalRedux🚀! I can’t tell you how excited, happy (and relieved… https://t.co/9DidsjMI7w 1 1.0\n",
            "@kmfs1 No direct flights into Grand Forks without costing a fortune, unfortunately. Had to go the Fargo route with… https://t.co/sxLD7Dc1lq 0 0.7777777777777778\n",
            "RT @PARISDENNARD: Happy Birthday, @kayleighmcenany! https://t.co/BUfxDRzSRj 1 0.5555555555555556\n",
            "RT @tatibananamilk: 今月の出勤残りの予定です\n",
            "（:]ミ（:]彡（:]ミ（:] 彡\n",
            "\n",
            "横浜THE_BLANC\n",
            "4/14 12:00~🈳Today👀\n",
            "4/18 21:00~🈳\n",
            "4/23 12:00~18:00まで🈳\n",
            "\n",
            "名古屋Felivola\n",
            "4/28  15:0… 1 0.5555555555555556\n",
            "RT @KumiTweets: Happy Birthday to my beloved dps, Xiao 💚\n",
            "\n",
            "#原神 #魈生誕祭2021 #GenshinImpact https://t.co/XBsUk1hzRs 0 0.5555555555555556\n",
            "@Rigg1991 @BwcDeals Happy Sunday!! 8 more weeks of school here 😊 Please help me get end of year gifts for my firsti… https://t.co/kCvtUiUs0p 1 0.6666666666666666\n",
            "RT @Siva_Kartikeyan: Happy to share this lovely poster of #Hridayam ❤️❤️❤️ \n",
            "Best wishes to @impranavlal my dear friend @kalyanipriyan my fa… 0 0.5555555555555556\n",
            "RT @Wellesnetcom: Happy 83rd birthday #Superman https://t.co/vbm1TzJsPY 0 0.5555555555555556\n",
            "@shortst77837506 @Deana_Mccoy happy sunday 1 0.6666666666666666\n",
            "RT @BICONlC: Happy anniversary to this ❤️ https://t.co/MOYPndimu5 1 0.5555555555555556\n",
            "RT @o_keilani: I only want to be courted by intentional men who want to share their time with me. The ones who actually and actively like m… 1 0.5555555555555556\n",
            "RT @shhhivani: THEY LOOK SO HAPPY https://t.co/LlckOTy6gn 1 0.6666666666666666\n",
            "@roisinmeaney Here here Happy Birthday Michael D @PresidentIRL 1 0.5555555555555556\n",
            "RT @nikkipettt: Little Bird 🍃\n",
            "\n",
            "Happy Birthday, Xiao 💚\n",
            "#魈生誕祭2021 #GenshinImpact #原神 #Xiao https://t.co/8HPKC0OjxR 0 0.5555555555555556\n",
            "RT @curehibiki01: Happy birthday to my favourite µ's member, Maki ❤️🥺\n",
            " #西木野真姫生誕祭2021 https://t.co/q31tRtQGRG 1 0.8888888888888888\n",
            "Happy birthday big man.\n",
            "\n",
            "One of the first characters that really meant something to me. Fly high big blue 1 0.5555555555555556\n",
            "RT @AaronInKorea1: Happy #FullFrontalFriday! I took this picture the night everything starting getting rough for Texas. Hope everybody is d… 1 0.5555555555555556\n",
            "RT @Harsh4Uever: @biharigurl many many happy returns of the day 0 0.5555555555555556\n",
            "@DanJohnsonNews And on the 6th day M&amp;S invented female caterpillars and no one else, ever, in the history of humani… https://t.co/iHapnP1M13 1 0.7777777777777778\n",
            "RT @mizzmelons: Happy #Tittytuesday everyone ENJOY and be sure to subscribe to my OF for more🔥 ass content \n",
            "\n",
            "https://t.co/q01NyFBOcv https:… 1 0.6666666666666666\n",
            "RT @bollywood_life: Shaheer Sheikh and Hina Khan share candid and happy pictures. What’s cooking? \n",
            " #HinaKhan #ShaheerSheikh \n",
            " https://t.co… 1 1.0\n",
            "@DeborahBelcourt Happy birthday! 0 0.5555555555555556\n",
            "Happy Sunday, let me bless my people.\n",
            "\n",
            "If you’re online reply how much you need asap. Add #EquationAute to your replies. 1 0.6666666666666666\n",
            "RT @Snyder_Cut_240: Happy 83rd Anniversary to one of the best superheroes of all time. \n",
            "\n",
            "#Superman\n",
            "#RestoreTheSnyderVerse https://t.co/HVIM… 0 0.5555555555555556\n",
            "RT @the__browngirl: Sometime we pretend to be happy just to lie to oyr fears..!! 1 0.7777777777777778\n",
            "RT @MarcusRashford: Guys I can’t find any pics of me and Donny to wish him a happy birthday, can you help?? Tag him to show some love! @Don… 1 0.5555555555555556\n",
            "RT @cheeksmygi: HAPPY LITTLE YOONGI DURING ANPANMAN!! BEST THING EVER  https://t.co/yBcKlS8w0Y 1 0.6666666666666666\n",
            "R: What’s this?\n",
            "M: I will say it, but I need a little bit of convincing first. \n",
            "R: come on now\n",
            "M: bow I am convince… https://t.co/oe199xLlVk 1 0.7777777777777778\n",
            "Such a big baby😂❤. He was so happy🥺 0 0.5555555555555556\n",
            "RT @Chealy_: An unforgettable Dáil speech: Michael D Higgins speaking against cutting the minimum wage in 2010. Happy birthday to a legend.… 0 0.5555555555555556\n",
            "thas hecka fake how u gon compare chic fil a to a chevys all day happy hour &amp; brunch invite smh make no sense 0 0.6666666666666667\n",
            "RT @ImtaDublin: Happy 80th birthday to our Patron @PresidentIRL https://t.co/7JfCF292wg 1 0.6666666666666666\n",
            "RT @MarcusRashford: It’s your birthday brother, enjoy it! @Donny_beek6 ♥️ https://t.co/AznbSspggu 1 0.7777777777777778\n",
            "@Dev_Fadnavis Happy Birthday to him 👍🙏🌎❤️ 0 0.5555555555555556\n",
            "@bishopchristian No way , Happy birthday champ! 🎉 1 0.5555555555555556\n",
            "RT @loonamrk: haechan sent chenle a happy birthday message at 11:59pm because he wanted him to always remember it https://t.co/igzIT3BL6s 1 0.8888888888888888\n",
            "As soon as they anoint a new conservative king, rank-and-file Republicans will consign Donald Trump to the ash heap… https://t.co/bPr3694zG9 1 0.6666666666666666\n",
            "RT @rogerfederer: Hi everyone!\n",
            "Happy to let you know that I will play Geneva🇨🇭 and Paris 🇫🇷. Until then I will use the time to train. Can’t… 0 0.5555555555555556\n",
            "RT @thegameawards: 🎂 It's your cake day PORTAL 2. 🎂\n",
            "\n",
            "Happy 10th Anniversary, released on April 18, 2011! https://t.co/VO9OmpPFdL 0 0.5555555555555556\n",
            "RT @wvofire: namjoon y yoongi tienen la amistad más charming, los dos son tan ángel que soy tan happy al verlos ser tan cute\n",
            "\n",
            " https://t.co… 1 0.7777777777777778\n",
            "Happy birthday man!!! ❤️🤧@Hyelhira_Barka may God grant you your missing rib this year😅❤️ 0 0.5555555555555556\n",
            "@stargazearts\n",
            "Thank you for being so kind and supportive, you are amazing, your art is amazing, and I am so happy w… https://t.co/FAYSZAvk7s 1 0.8888888888888888\n",
            "RT @CasIsLoved: self-loathing, self-hating dean, who thought about himself as nothing more than a killer and poison, this dean was HAPPY, t… 0 0.5555555555555556\n",
            "RT @discord: flashback to arguing with your sibling for 3 hours before realizing you could fling yourselves at each other. happy 10th anniv… 1 0.6666666666666666\n",
            "RT @shhhivani: THEY LOOK SO HAPPY https://t.co/LlckOTy6gn 1 0.6666666666666666\n",
            "@ifsticarus Happy Birthiday! Que vc tenha mts anos de vida, te conheço mt pouco mas tenho ctz que vc é uma pessoa i… https://t.co/MpxhjQEh6J 1 0.6666666666666666\n",
            "RT @majiiii12: Happy Birthday to my fav character gabi &lt;3 💛!\n",
            "\n",
            "#gabibraun #AttackOnTitan https://t.co/Qyo21LnoUY 0 0.5555555555555556\n",
            "@NishantRArora Stock market work on the principle of perception and investor psychology. Right now, everyone is hap… https://t.co/zuAC5Pf6hL 0 0.5555555555555556\n",
            "happy 10th anniversary apink 1 0.8888888888888888\n",
            "@ChantayyJayy Happy birthday hun!!! 😍😘❤️ 1 0.5555555555555556\n",
            "@ClassyLadyJs To an 80 year old? You say 'I know, right? He's such a bully.' Then you smile your biggest smile at t… https://t.co/iTZrvVp9xK 0 0.5555555555555556\n",
            "RT @Ganesh_265: Wish you many more Happy Return's of the day @priyaadivarekar 🎂🍫🎉🎁\n",
            "\n",
            "Have a great Year ahead :)\n",
            "\n",
            "#HBDPriyaadivarekar 🎈🎈🎈 htt… 1 0.6666666666666666\n",
            "@wathonianyansi U are so beautiful Wathoni. Happy birthday girl 1 0.6666666666666666\n",
            "@_DeCarbon\n",
            "Holy I almost forgot you! I love you man, please make more art ASAP! \n",
            "\n",
            "@myau_cats\n",
            "My neighbor! My cat fr… https://t.co/5sJo9C5AXz 1 0.6666666666666666\n",
            "@AntonCountrySup @DrJimmyStar @ursobuursula1 @ICEcoolMAN @Hiqutipie @Sky13861654 @eddie_club @LeGrandeWee… https://t.co/ug28PXdK9w 1 0.5555555555555556\n",
            "HAPPY BIRTHDAY MY SHERYPOPS!\n",
            "MY BEST PAKNER IN CRIME🤣\n",
            "ILOVEYOU ALWAYS MUAHMUAH!!!💜 https://t.co/9UI32zwAPL 1 0.8888888888888888\n",
            "RT @_iishr: do what makes you happy and realize when its time to move on. life is to short to be unhappy. never allow yourself to be stuck… 0 0.5555555555555556\n",
            "RT @Ramsaofficial: Wish you a many many happy returns of the day.\n",
            "@RipaSaikia 🎂 \n",
            "May God bless you with health, wealth and prosperity\n",
            "in yo… 1 0.6666666666666666\n",
            "@newlightnewhope LOOK AT THAT happy little face!! He is so precious and so cute oh my god!! 😍 1 0.7777777777777778\n",
            "RT @astrobort: dios se acuerdan que happy tree friends lo pasaban por LA TELE no es por decir q a esta generación le falta colimba pero 1 0.6666666666666666\n",
            "RT @BCCI: 1⃣2⃣3⃣ intl. games\n",
            "5⃣0⃣7⃣2⃣ intl. runs\n",
            "1⃣2⃣ intl. tons\n",
            "\n",
            "Here's wishing @klrahul11 - one of the most stylish batsmen going around… 1 0.5555555555555556\n",
            "RT @ScorpioSexting: hiii heres ur lil reminder that tapping the lil +alt icon when posting pics lets u add picture descriptions for blind a… 1 0.6666666666666666\n",
            "Happy 83rd Birthday to #Superman !!\n",
            "\n",
            "The GOAT superhero that started it all! My personal favorite artists on the Ma… https://t.co/UKqhxg3sS6 1 0.6666666666666666\n",
            "RT @bootfireBFR: botafogo bem na libertadores, brumar, ney no barcelona, seleção jogando o fino, nao existia luiz otavio no botafogo, jorge… 0 0.7777777777777778\n",
            "@ddlovato #DWTDTAOSO\n",
            "🦋🦋🦋🦋🦋🦋🦋🦋\n",
            "https://t.co/wZ9FGSCmPi 0 0.5555555555555556\n",
            "@taejin_cypher Seokjin knows how to make taehyung happy😭😭 0 0.5555555555555556\n",
            "RT @casp8jr: I really wished @dicksp8jr would wish me a happy birthday today? 25 years old is a date to remember isn't it? 0 0.7777777777777778\n",
            "RT @StrictlyChristo: This happy pup spending his first night at his new home after being adopted from the shelter. https://t.co/IzceUV1cnF 1 0.6666666666666666\n",
            "i love you all so much and happy birthday hafu!! (: &lt;3 @itshafu @xChocoBars @plushyslol @dogdog @VeryDumbDog… https://t.co/xgCisqKYYK 1 0.7777777777777778\n",
            "RT @rogerfederer: Hi everyone!\n",
            "Happy to let you know that I will play Geneva🇨🇭 and Paris 🇫🇷. Until then I will use the time to train. Can’t… 0 0.5555555555555556\n",
            "RT @NuSoddy: I remember well buying #lindamartin  #chips  Twice a week with reeling in the years on the flip side of the 45, still have it,… 0 0.5555555555555556\n",
            "I received a Wiggles the Caterpillar cake today and while I was really happy and enjoyed more than my fair share I… https://t.co/6RUOkN2snB 1 0.8888888888888888\n",
            "RT @StrictlyChristo: This happy pup spending his first night at his new home after being adopted from the shelter. https://t.co/IzceUV1cnF 1 0.6666666666666666\n",
            "Hanami Event\n",
            "Thank you REALITY for the gift event, I am very happy with this event.. So cute &gt;&lt;\n",
            "And here are some o… https://t.co/GWQOXyYPEr 1 0.8888888888888888\n",
            "RT @SNSDaddicted: #BloominSpringWithJessica\n",
            "Happy birthday Jessica ❤️✨\n",
            "#OurStarJessicaDay https://t.co/7U5jsgnu9l 1 0.6666666666666666\n",
            "RT @WillDeBoer: What a privilege it was to get to go to college in Michigan when he was the Best Hitter on the Planet. Forever one of my fa… 0 0.5555555555555556\n",
            "RT @sjamspc33: happy friYAY! https://t.co/o25yuqnQeB 1 0.6666666666666666\n",
            "RT @discord: flashback to arguing with your sibling for 3 hours before realizing you could fling yourselves at each other. happy 10th anniv… 1 0.6666666666666666\n",
            "Olha a cara de nenêm delas 🥺🥺🥺🥺🥺🥺🥺🥺🥺🥺 1 0.5555555555555556\n",
            "RT @pissvolcano: If anyone in Mumbai needs groceries/medicines/essentials delivered - let me now. Everyone in my house including me is vacc… 0 0.5555555555555556\n",
            "RT @pk_kenzie: happy 10th anniversary to my favorite game of all time 🌕 https://t.co/z6RUVd8sVv 1 0.8888888888888888\n",
            "RT @SenekaSpiro: Inače nana u mene mi nije dobro od juče. Čula Vučićevića na Happy TV kako govori da su zločini Belivukove grupe strašniji… 0 0.6666666666666667\n",
            "RT @Teish70425139: @JamesEsses @BluskyeAllison Safety of women doesn’t seem to matter or come into consideration. As long as those who choo… 0 0.5555555555555556\n",
            "@ukito_e im just happy lmao and tired tho mileena hive is alive so im hype 0 0.7777777777777778\n",
            "RT @janenana_: “นอมู lonely but now นอมู happy”\n",
            "https://t.co/K8VQTVkCZx 0 0.8888888888888888\n",
            "RT @StrictlyChristo: This happy pup spending his first night at his new home after being adopted from the shelter. https://t.co/IzceUV1cnF 1 0.6666666666666666\n",
            "RT @officialKeef: Happy Birthday to my beautiful daughter, Angela. Miss you! Love, Dad https://t.co/fPatCAkbd1 0 0.5555555555555556\n",
            "@darkestdisgrace happy birthday ! 0 0.5555555555555556\n",
            "RT @Vintage_Utd: When Donny’s happy, we’re all happy. https://t.co/AxdoCdzt4W 1 0.7777777777777778\n",
            "Gunnar, Please be careful in the yard. No laying down in the dirt.😌🙏💔💕💗😍 0 0.6666666666666667\n",
            "@lunafaeart @ClayBelleShop - [ ] Thanks for the giveaway 😚  I never won any giveaway 🥺I Really need a new phone for… https://t.co/iNB3F7QiVO 0 0.7777777777777778\n",
            "RT @Introvertme__: @ShivamN83364669 @shreyasakshi19 @Sid_meri_jaan_ @deb_rajnandini @HarshChSidheart @punjabi_kudi_20 @prakashachary1 @Deep… 1 0.5555555555555556\n",
            "happy baron day!! Here’s the best baron fancam I have &lt;3 #HappyBaronDay https://t.co/OoyfXmdFTa 1 0.6666666666666666\n",
            "RT @ciara: If you’re Happy and You Know It Clap Your Hands 🥰👏\n",
            " @DangeRussWilson \n",
            "#Family https://t.co/UDOHDKy3lb 0 0.5555555555555556\n",
            "@KapilSharmaK9  Belated happy birthday Sir ! 0 0.5555555555555556\n",
            "RT @kaaaaaappe: 🎉HAPPY BIRTHDAY🎉\n",
            "\n",
            "水原（一ノ瀬）千鶴✨\n",
            "\n",
            "#かのかり https://t.co/Fn4VGM0pHk 1 0.7777777777777778\n",
            "@robbysoave Yes it is theatre performed at the benefit of the old ladies walking the neighborhood who are afraid of… https://t.co/Qp0mrsbEVH 0 0.5555555555555556\n",
            "RT @haechese: @hueningsarchive lia happy bdaayy!! all the best for u🙆🏻🙆🏻🙆🏻💗 https://t.co/lsFNpW2xRc 1 0.7777777777777778\n",
            "RT @JeanetteEliz: Happy Friday Everyone. 😊 I hope all of you have a wonderful day. Have a beautiful weekend. 💞🌺💕 https://t.co/487GZ6K2E7 1 0.6666666666666666\n",
            "RT @leodehlion: You can have it all and still not wake up happy. Its all about the little things. 0 0.5555555555555556\n",
            "RT @selgofetish: this video will always make my heart so happy, i wonder if the girl in this video is still a fan of selena's https://t.co/… 1 0.7777777777777778\n",
            "@BLCKBOA SO HAPPY TO BE THERE 1 1.0\n",
            "RT @Nyuudles: Happy birthday @Macho_Juice ! 🥰🙏\n",
            "\n",
            "Chris post workout https://t.co/C8oKl5ee2s 1 0.6666666666666666\n",
            "Foreign Liverpool fan. What this all about. 1 0.8888888888888888\n",
            "RT @suhel1s: Every story has a happy ending, if you aren’t happy it isn’t the end 1 0.6666666666666666\n",
            "RT @practickalmagi1: Happy Sunday everyone!!🌸\n",
            "Tomorrow is my Dainty earrings update at 3:33pm!!🌸\n",
            "I’m so excited 🥰💕 https://t.co/qhekv9ENAa 0 0.5555555555555556\n",
            "RT @KingJavi423: Happy Birthday to my beautiful momma 🥰 https://t.co/8pYgbzUZ9Q 0 0.5555555555555556\n",
            "RT @naija_swags: I am 38 years old today. Happy birthday to me I am manufacturing shoes Can you Make help me go viral on Twitter Sharing My… 1 0.5555555555555556\n",
            "RT @MHDee06: Afrobeat albums on US 🇺🇲 Apple music albums chart\n",
            "\n",
            "Wizkid #MadeInLagos 96\n",
            "Tems #Forbrokenears 712\n",
            "Davido #Abettertime 1003\n",
            "Ten… 0 0.5555555555555556\n",
            "RT @thegameawards: 🎂 It's your cake day PORTAL 2. 🎂\n",
            "\n",
            "Happy 10th Anniversary, released on April 18, 2011! https://t.co/VO9OmpPFdL 0 0.5555555555555556\n",
            "@ChattyMollusc @logical4ever we've already got a greedy money-grubbing narcissist with no sense of duty or honour -… https://t.co/zrj1gh2w6h 0 0.5555555555555556\n",
            "RT @keshav61: @aratnam Thank you. Wish you a happy Pongal too! 0 0.5555555555555556\n",
            "FELT THAT 1 0.6666666666666666\n",
            "RT @LakesideKS: 🏡Happiness is Homemade🏡\n",
            "\n",
            "So happy with how the new place is coming together! Finally have a gorgeous space to create beauti… 0 0.5555555555555556\n",
            "@dshultz11 @AlphaNewsMN @RepMaxineWaters I agree!! We know that even if Chauvin is found guilty, they will not be h… https://t.co/kAGLy0l1wv 0 0.5555555555555556\n",
            "@prakashachary1 @shreyasakshi19 @Sid_meri_jaan_ Happy birthday shreya 🙋🏻‍♂️😍😎💐🎂🎂🎂🎂🎂🎂🎂🎂🎂🎂🎂 0 0.5555555555555556\n",
            "lo extrañé mucho 1 0.7777777777777778\n",
            "RT @DrCletusBassey: Happy birthday Dr Sylvanus Ukafia \n",
            "\n",
            "To a man with grace in the ministry, a pastor among pastors, a teacher among teache… 0 0.5555555555555556\n",
            "@RickHunter7 I am just curious because i see people even myself become very happy when someone who inspires follows… https://t.co/8ed4kCKj87 1 0.7777777777777778\n",
            "@ThePukeyLuke @koolnigaid Happy Birthday 🙏. 1 0.5555555555555556\n",
            "RT @AfricaFactsZone: Happy Independence Day Zimbabwe. 🇿🇼 https://t.co/TYiHU1av09 1 0.5555555555555556\n",
            "RT @sourpatchlyds: I hold myself and all women to a high standard that most don't achieve: Work your hardest every day to understand yourse… 1 0.5555555555555556\n",
            "RT @Queen__Eliz: 💐💜Happy Sunday \n",
            "my Friends.\n",
            "Peace and\n",
            "🌟☘️💚 love Always 😚🌨️😌 https://t.co/pUJT0bZB8s 0 0.5555555555555556\n",
            "RT @sarkodie: Happy birthday Mr. Kwadwo Nkansah ... God protect you brother 🥂 https://t.co/phP2I5WBut 1 0.5555555555555556\n",
            "RT @CasIsLoved: self-loathing, self-hating dean, who thought about himself as nothing more than a killer and poison, this dean was HAPPY, t… 0 0.5555555555555556\n",
            "RT @ihaveabluebox: happy birthday david tennant 🥲 https://t.co/u1CqxazfZL 1 0.6666666666666666\n",
            "RT @kenyanwavelord: @wathonianyansi Happy Birthday Darling\n",
            "\n",
            "30 LOOKS GOOD ON WATHONI\n",
            "\n",
            "#HappyBirthdayWathoni\n",
            " #WathoniSpeak30ToMe 0 0.5555555555555556\n",
            "Forever in my heart. Happy 83rd Birthday my friend #Superman https://t.co/Tm6AJdP2Zt 0 0.5555555555555556\n",
            "@BorbieVision happy birthday boo 😘💕💕 0 0.5555555555555556\n",
            "@choshschild happy birthday!! 💞💞 1 0.7777777777777778\n",
            "RT @MissCourtneyM: Happy Sunday 😈 RT if you like latex! https://t.co/E3kc0UG7IK 0 0.5555555555555556\n",
            "@DrRice6 Dr.Rice we happy to hear from you and exactly ZERO couldnt be the answer of his LAYWERS.  Do you got an id… https://t.co/WDkyabyC4y 0 0.5555555555555556\n",
            "RT @its_spec0: Please give me #kaebedo thank you muah,, they make me happy 😔 https://t.co/f0HYsEdqcw 1 0.7777777777777778\n",
            "RT @tasshinfogleman: sometimes i do a visualization/compassion technique where i can move any way i want (e.g. fly like superman, jump/move… 0 0.6666666666666667\n",
            "RT @SlimeNotify: We are happy to announce our partnership, so it's Giveaway time! 🎉\n",
            "\n",
            "Prizes 🎁\n",
            "@SlimeNotify x1 Free Month\n",
            "@AstryScripts x3 B… 0 0.5555555555555556\n",
            "RT @RyanConner69: Have a happy hump day ..... come see what I will be doing today  .... https://t.co/sDQYU1RMrd https://t.co/X2410zJA9Y 1 0.7777777777777778\n",
            "....his lil pudgy tummy... :\")))) m gonna sobbing.. 0 0.8888888888888888\n",
            "People really don’t care about what Maxine Waters said when she used the word “confrontational”. People are just ha… https://t.co/pXS7RGPpfw 1 0.7777777777777778\n",
            "“Be grateful for what you already have while you pursue your goals.\n",
            "If you aren’t grateful for what you already hav… https://t.co/yxAfGApCyr 1 0.7777777777777778\n",
            "RT @noor_alaya: Have a wonderful, happy, healthy birthday now and forever.\n",
            "Advance #HBD_JuniorBadami \n",
            "@WaseemBadami https://t.co/4PQ96BZ0pz 0 0.5555555555555556\n",
            "Enjoyed this beautiful day with my daughter. Happy Spring! 0 0.5555555555555556\n",
            "@mhdksafa @BernZink Happy Ramadan to you too! 1 0.5555555555555556\n",
            "RT @assOmighty: Happy Titty Tuesday. https://t.co/vg75DZteFJ 1 0.5555555555555556\n",
            "RT @StrictlyChristo: This happy pup spending his first night at his new home after being adopted from the shelter. https://t.co/IzceUV1cnF 1 0.6666666666666666\n",
            "RT @KaylarWill: I deserve to be happy af. 1 0.8888888888888888\n",
            "RT @puyogho: happy bday #Portal2 🎂 https://t.co/8VmapQ1hOP 1 0.8888888888888888\n",
            "RT @_jenmish: SHUT THE FUCK UP, DEAN FELT HAPPY AFTER A LONG TIME WHEN HE GOT CAS BACK WTF https://t.co/Kk4mcsuMgw 0 0.7777777777777778\n",
            "RT @Nyuudles: Happy birthday @Macho_Juice ! 🥰🙏\n",
            "\n",
            "Chris post workout https://t.co/C8oKl5ee2s 1 0.6666666666666666\n",
            "RT @leongoretzka_: Hat einfach schon immer gepasst 😜Ich bin happy jetzt Teil der @adidasfootball Familie zu sein. 👊 #createdwithadidas #adi… 1 0.7777777777777778\n",
            "@1PINUPDOLL happy birthdayyyy 🥳🥳 1 0.7777777777777778\n",
            "@UnitedGoals__ Happy birthday Donny x 0 0.5555555555555556\n",
            "RT @discord: flashback to arguing with your sibling for 3 hours before realizing you could fling yourselves at each other. happy 10th anniv… 1 0.6666666666666666\n",
            "RT @Max33Verstappen: YES BOYS, very happy with this win! 🏆 It was tricky out there! Simply lovely performance 🤘 🇮🇹 #ImolaGP https://t.co/bb… 1 0.7777777777777778\n",
            "RT @dailyexhoe: Happy 6 million followers king! 🥳 @B_hundred_Hyun 0 0.5555555555555556\n",
            "@r0binlbs im so glad !!!! im happy youre back 1 0.5555555555555556\n",
            "christian seriously makes me so happy 0 0.8888888888888888\n",
            "@probableating If it will make you happy, then do it 1 0.5555555555555556\n",
            "RT @edapacxes2: HAPPY PAYDAY MONDAY GUYS \n",
            "ONLY IN PREMIUM MEMBERSHIP \n",
            "16:00 MINUTES FULL VIDEO WITH CUM SOBRANG SARAP NYA AT SARAP NA SARAP… 0 0.6666666666666667\n",
            "Massage and sex dubai\n",
            "Massage and sex \n",
            "Massage body to body with oil Massage in Dubai, tecom, marina, downtown,jbr,… https://t.co/Rhj4J0nKXo 1 0.5555555555555556\n",
            "RT @TAGmusic: happy sunday gabe doesnt use twitter but he wanted you to have this #teamtessa https://t.co/PPC3f3BTlP 1 0.6666666666666666\n",
            "Happy Bday Mufuka! 1 0.6666666666666666\n",
            "Happy Sunday 🖤 1 0.6666666666666666\n",
            "RT @xsallysunshinex: So I got a lip lift a few days ago and I am so happy with the results so far 🥺 https://t.co/qgY7ssmhDD 1 0.6666666666666666\n",
            "RT @karanvirsharma9: Happy Birthday Sher 🦁 @Debattama_sah https://t.co/9U8GQHrmA1 0 0.5555555555555556\n",
            "RT @Max33Verstappen: YES BOYS, very happy with this win! 🏆 It was tricky out there! Simply lovely performance 🤘 🇮🇹 #ImolaGP https://t.co/bb… 1 0.7777777777777778\n",
            "RT @ManifestUganda: 🎂Happy Birthday Pastor Rohi Bright\n",
            "\n",
            "#ManifestFellowship https://t.co/1lq5fi8ZIW 0 0.5555555555555556\n",
            "RT @rishikeshdto535: Kya sir bas postpone karwane ko hi bola h jan dene ko ni karwa do sir\n",
            "Shri Ram apka bhala karenge... \n",
            "#postpone_chsl20… 1 0.8888888888888888\n",
            "RT @Bendy: Happy Birthday to our favorite mad musical genius, Sammy Lawrence!.. and all of Chapter Two!\n",
            "#BENDY #BATIM https://t.co/vIHoNALZ… 1 0.6666666666666666\n",
            "RT @BoeingDefense: Flying high for 75! 💎\n",
            "From our team to yours, @BlueAngels, happy 75th season! https://t.co/sAloYDLzyr 1 0.7777777777777778\n",
            "RT @sadiayounas77: HAPPY BITHDAY Adil Meri Jan &lt;3&lt;3\n",
            "May you have alot of HAPPINESS, and a long HEALTHY LIFE full of  JOYS &amp; SUCCESS &lt;3&lt;3\n",
            "\n",
            "#… 0 0.5555555555555556\n",
            "RT @Photoshop_Gy: April 18th, 2011.\n",
            "\n",
            "This is the part where you wish Portal 2 a Happy Birthday. https://t.co/SQopBymMiA 1 0.5555555555555556\n",
            "RT @astrobort: dios se acuerdan que happy tree friends lo pasaban por LA TELE no es por decir q a esta generación le falta colimba pero 1 0.6666666666666666\n",
            "RT @selgofetish: this video will always make my heart so happy, i wonder if the girl in this video is still a fan of selena's https://t.co/… 1 0.7777777777777778\n",
            "RT @dadeen__: Happy iftar.\n",
            "May Allah accept our fasting as an act of IBADAH. Ameen 0 0.5555555555555556\n",
            "Happy birthday to the @Phillies #Phanatic. I stalked him once in Wildwood and it was worth every minute. https://t.co/iGcxVHbrhX 1 0.7777777777777778\n",
            "RT @oshcuddles: remember when chanyeol knew he got the ice cup so he literally just poured it on himself. sehun was so happy PLEASE 😭 https… 1 0.7777777777777778\n",
            "RT @19Phranchize: When Eddie Kang had to let MFs know who the man was in this bitch! https://t.co/oemdYIR6D3 0 0.5555555555555556\n",
            "bro this man is so happy all the time\n",
            "goals honestly 1 0.6666666666666666\n",
            "Aweeee🥺🥺🥺 1 0.8888888888888888\n",
            "@kurakuroo GUURRRL IM SO HAPPY 1 1.0\n",
            "RT @x_laani: Grateful and anxious for this next trip around the sun ☀️ Happy Birthday to me!! 🥳 https://t.co/wxTYykKr5j 0 0.5555555555555556\n",
            "RT @sharonwelby1: A walk by the river. Happy Sunday. ☕️☀️ https://t.co/hRVP4B8hmT 0 0.5555555555555556\n",
            "@eulanmallari Happy Eulanday 1 0.5555555555555556\n",
            "@icon0fsin I generally don’t try to offer more attention to these creatures but I’d be real happy to see him bullie… https://t.co/dn0xJfLBva 1 1.0\n",
            "RT @BustyQueens: Last try, I hope this time the clip will get the quality by twitter we all need, it´s @realewasonnet💋(Happy Birthday!) and… 0 0.5555555555555556\n",
            "RT @PARISDENNARD: Happy Birthday, @kayleighmcenany! https://t.co/BUfxDRzSRj 1 0.5555555555555556\n",
            "@doberkidz @pbjmclean Happy birthday! Hope there’s cake. And wine. 1 0.5555555555555556\n",
            "RT @the__browngirl: Sometime we pretend to be happy just to lie to oyr fears..!! 1 0.7777777777777778\n",
            "RT @BryceEvansXXX: Did anyone else wake up this happy🍆👀 https://t.co/54Y0QYmIBW 1 0.7777777777777778\n",
            "RT @Hilde57293257: 🍃Good morning my lovely friends! 🍃\n",
            "\n",
            "Wishing you all a beautiful day!\n",
            "          💕Happy Friday! 💕\n",
            "\n",
            "#Family #Friends #Frien… 1 0.7777777777777778\n",
            "RT @asip: 90min ASIP set coming up now on https://t.co/LwHJ5govUB as part of En Pausa Festival. Very happy to provide a little journey amon… 1 0.5555555555555556\n",
            "RT @KiHoya2: Today m happy 😊because I got HOPE of Happiness \n",
            "\n",
            "NCB Stands With SSR 1 0.5555555555555556\n",
            "RT @KaylarWill: I deserve to be happy af. 1 0.8888888888888888\n",
            "RT @MartaNael: \"Cleansing Nova\" for Magic: The Gathering - Commander 21\n",
            "\n",
            "So happy that this card is out already! This one keeps being one o… 1 0.6666666666666666\n",
            "@OFCBGYO_MEMBERS @bgyo_ph happy birthday, gelo! enjoy your day!! 1 0.7777777777777778\n",
            "RT @StrictlyChristo: This happy pup spending his first night at his new home after being adopted from the shelter. https://t.co/IzceUV1cnF 1 0.6666666666666666\n",
            "❤️❤️❤️ 1 0.8888888888888888\n",
            "RT @0_politics2: I guess they’re not happy someone messed up their order  https://t.co/Di8OUbGtaq 0 0.6666666666666667\n",
            "RT @Cock_Caregiver: \"I may not show it, but I'm actually pretty happy.\"\n",
            "\n",
            "⚔️ N/SFW (hung) Maki Portrayal\n",
            "⚔️ Obviously futanari\n",
            "⚔️ Multiship… 0 0.5555555555555556\n",
            "@tae_deity Uwu happy birthday too her 1 0.6666666666666666\n",
            "RT @KKiarae: go subscribe and tip the fuck out of my page! then greet me with happy Sunday! Findom WalletDrain titfetish HumanATM sw thread… 1 0.5555555555555556\n",
            "RT @heartrest38: English hour on 10 pm, Oman/Muscat timing,\n",
            "Subject :Do you think helping people will make you happy?\n",
            "See you later 1 0.7777777777777778\n",
            "RT @mmpadellan: Happy Sunday morning to everyone except the GQP and NRA, because their stance against common sense gun reform allows these… 0 0.5555555555555556\n",
            "@notSoSweetLove @biharigurl Happy Birthday dii ❤️🎂\n",
            "Sorry 🥺 m blocked i don't know ap mera wish dekh payenge ki nehi but sorry for my mistake 0 0.8888888888888888\n",
            "Get a cat for them days 😭 1 0.5555555555555556\n",
            "#beepbope why do I feel like I don't deserve happiness around me? Whenever I feel happy or good my mind immediately… https://t.co/2YkCojhaEI 1 0.5555555555555556\n",
            "RT @VAV_official: HAPPY BIRTHDAY TO BARON🎂\n",
            "\n",
            "#VAV #브이에이브이 #바론 #BaRon\n",
            "#HappyBaRonDay #해피바론데이 #0419\n",
            "#HappyBirthday_BaRon #HBD #생일축하해\n",
            "#뱀즈의비타민바론… 1 0.5555555555555556\n",
            "RT @RenaultSpSeries: Happy to help @MercedesAMGF1, just fill in the empty spaces, we’ll pay the entry fees 😉 https://t.co/URyJLzrZia https:… 1 0.5555555555555556\n",
            "@cicelyalaska angel !!!! happy birthday !!!!!!! u deserve the entire world n i hope today is bright and kind enough… https://t.co/2Wk61TdfnE 1 0.8888888888888888\n",
            "RT @TheAnimatedBat: Happy birthday to Clive Revill!  One of the many roles in his career was being the voice of Alfred Pennyworth on the fi… 0 0.5555555555555556\n",
            "RT @Iske1804: HAPPY BDAY TO ME ! https://t.co/nIvY7uNiYk 1 0.6666666666666666\n",
            "RT @MacsVoid: looking pretty good for someone who’s 83 lol \n",
            "happy birthday #Superman https://t.co/ISn2nJAsQK 1 0.7777777777777778\n",
            "RT @man0jmunagapati: Trend Day 🕺\n",
            "\n",
            "Advance happy  birthday CBN  🦁 @ncbn \n",
            "\n",
            "#NCBNBDayTrendOnApril19 https://t.co/wbNgsZL6iC 1 0.8888888888888888\n",
            "RT @TAHREEM__FATIMA: HAPPY BIRTHDAY ADIL....!!!\n",
            "@WaseemBadami \n",
            "#HBD_JuniorBadami https://t.co/hUf3CaMKhf 0 0.5555555555555556\n",
            "Admin really chose murder 😗 0 0.6666666666666667\n",
            "RT @safeforliam: if liam payne is happy so am i https://t.co/mdasyP3IIu 1 0.6666666666666666\n",
            "RT @kenyanwavelord: Wow...Just wow!!!See a babe at 30??Goals on Goals.Happy birthday my love❤️❤️❤️❤️ Love you forevaa and always❤️❤️\n",
            "\n",
            "30 LO… 1 0.6666666666666666\n",
            "RT @SFDEM_MEC: Last year we were in strict SIP so this year we were happy to show up, with the weariness of the 13 months and masks on to c… 1 0.5555555555555556\n",
            "happy sisters sunday! https://t.co/aEvmtCtsHY 1 0.6666666666666666\n",
            "I always forget that Superman's birthday is actually only a week after mine! Happy 83rd birthday to the Man of Stee… https://t.co/y0JGiV2APE 0 0.5555555555555556\n",
            "Go wish them a happy birthday!! 0 0.5555555555555556\n",
            "RT @pradalvs_: Happy Sunday guys God bless your day and week 🤍 1 0.5555555555555556\n",
            "rewatching from dusk till dawn, i’m in my happy place 0 0.5555555555555556\n",
            "RT @ChosenGenAsso: Happy Independence Zimbabweans @ChOsEnGeNeRaTiOn https://t.co/kTjTLF3xYC 1 0.6666666666666666\n",
            "RT @the_cute_preeti: Happy birthday to my crazy😇fun loving 🥳\n",
            "Fabulous,best friend 😘\n",
            "@shreyasakshi19 \n",
            "🎂🎂🥳🥳🎁🎁🎈🎈🎈\n",
            "I love you so much shreyu❤️… 1 0.7777777777777778\n",
            "RT @Amberological: Happy birthday meri sherni @RubikaLiyaquat,  wishing you health, prosperity and more success. Love you always ❤️😘💐🎁🎂🤗 1 0.5555555555555556\n",
            "@aiboneida happy birthday!!! 1 0.8888888888888888\n",
            "RT @LepapillonBlu: Happy Sunday Twitter! 💕🐶🦙 https://t.co/w11aIZRqgE 0 0.5555555555555556\n",
            "RT @AishiaDeal: Happy Sunday King &amp; Queens!  \n",
            "\n",
            "If you’re reading this it means you made it home safely last night.. \n",
            "it means you’re alive… 0 0.5555555555555556\n",
            "RT @Eko__A: @Chikee_O In 2017, my team &amp; I found a team of Unilag undergrads that built a project around this. They made shoes that stored… 1 0.6666666666666666\n",
            "@SuperSportTV congratulations to Mabhakabhaka but I'm not happy ngo coach wethu, how can you play with 3 right back… https://t.co/SWEq8gySbn 0 0.5555555555555556\n",
            "RT @hfields95: Wishing my friend, @kayleighmcenany, a happy birthday! \n",
            "\n",
            "May the Lord bless you and keep you. \n",
            "\n",
            "🎂🎉🎁 https://t.co/fRVFnOVtMK 1 0.7777777777777778\n",
            "RT @cryingpossibly: happy birthday angsty little yaksha 🎉🎉\n",
            "#原神 #xiao https://t.co/WeNzCnsGH9 1 0.6666666666666666\n",
            "RT @AnfieldWatch: Jurgen Klopp on @Patrick_Bamford:\n",
            "\n",
            "\"I heard on talkSPORT that Leeds need a proper goalscorer and that he wasn't good enou… 0 0.5555555555555556\n",
            "@M33pMorp HAPPY BIRTHDAY MAMMA MORP 1 1.0\n",
            "RT @StrictlyChristo: This happy pup spending his first night at his new home after being adopted from the shelter. https://t.co/IzceUV1cnF 1 0.6666666666666666\n",
            "RT @vickimichelle: Happy Birthday Wonderful Hayley Mills. One of my all time favourite actresses, and had the privilege of seeing her dad… 1 0.5555555555555556\n",
            "Happy #WorldHeritageDay! If you missed the live webinar, you can watch \"World Heritage Site at Risk: Chaco Culture… https://t.co/9cDf8sdF5C 0 0.5555555555555556\n",
            "RT @thegameawards: 🎂 It's your cake day PORTAL 2. 🎂\n",
            "\n",
            "Happy 10th Anniversary, released on April 18, 2011! https://t.co/VO9OmpPFdL 0 0.5555555555555556\n",
            "RT @Lepasazakhele: Happy people☠️🏴‍☠️\n",
            "#OnceAlways 0 0.5555555555555556\n",
            "RT @NamanyaRender: Happy birthday @Samanthkaitesi mrs wantama 😂 https://t.co/7KPYxRX1J3 0 0.5555555555555556\n",
            "It's hurt for me to say i'm jealous of the way, you're happy without me💔 0 0.7777777777777778\n",
            "RT @MarcusRashford: It’s your birthday brother, enjoy it! @Donny_beek6 ♥️ https://t.co/AznbSspggu 1 0.7777777777777778\n",
            "RT @Lepasazakhele: Happy people☠️🏴‍☠️\n",
            "#OnceAlways 0 0.5555555555555556\n",
            "RT @the__browngirl: Sometime we pretend to be happy just to lie to oyr fears..!! 1 0.7777777777777778\n",
            "@katen_ke Happy new year my g 0 0.5555555555555556\n",
            "i just want to be happy 1 0.6666666666666666\n",
            "RT @shhhivani: THEY LOOK SO HAPPY https://t.co/LlckOTy6gn 1 0.6666666666666666\n",
            "RT @SeitanicBeef: Happy birthday @Macho_Juice! https://t.co/kqQlRMxF7p 1 0.5555555555555556\n",
            "RT @d8mino: im just ready to be happy ,travel and have a real family 1 0.7777777777777778\n",
            "10 years??? I remember playing this game with my brothers. Game is a classic. 1 0.7777777777777778\n",
            "RT @the__browngirl: Sometime we pretend to be happy just to lie to oyr fears..!! 1 0.7777777777777778\n",
            "RT @thegameawards: 🎂 It's your cake day PORTAL 2. 🎂\n",
            "\n",
            "Happy 10th Anniversary, released on April 18, 2011! https://t.co/VO9OmpPFdL 0 0.5555555555555556\n",
            "RT @okt_ranking: Happy birthday to you dear\n",
            "@Nanayaasarkces2\n",
            "#SarkNationAddress\n",
            " https://t.co/KPzH1qzhYs 0 0.5555555555555556\n",
            "RT @jaunewonu: my favorite thing was how happy wonwoo looked the entire video i’m– 🥺😭 https://t.co/xH19mNkfJG 1 1.0\n",
            "RT @TENand10VELY: lately ten has just been looking like he’s enjoying life so much and i love it. happy ten is all i need https://t.co/t38M… 1 0.7777777777777778\n",
            "@BaNaartjieice Happy Birthday love ♥️ 1 0.5555555555555556\n",
            "RT @sudeshrk21: वाढ दिवसाच्या तुला खुप खुप शुभेच्छा🎂🎂👑✨✨@kundanAvhad19 \n",
            "तुला उदंड आयुष्य लाभों ही आई भवानी चरणी प्रार्थना....🙏🙏\n",
            "तु लवकर बरा… 0 0.5555555555555556\n",
            "RT @thegameawards: 🎂 It's your cake day PORTAL 2. 🎂\n",
            "\n",
            "Happy 10th Anniversary, released on April 18, 2011! https://t.co/VO9OmpPFdL 0 0.5555555555555556\n",
            "RT @RashamiDesaiFC3: The way #RashamiDesai gets happy seeing herself trend on Twitter 😍\n",
            "She's just so lovely! 😘\n",
            "RASHAMI HITS 2M IG POSTS 1 0.7777777777777778\n",
            "RT @hibabadamian: Happy birthday prince 🎉🎂......may your life become bed of roses ameen 🤲\n",
            "@WaseemBadami \n",
            "#HBD_JuniorBadami https://t.co/2x0… 0 0.5555555555555556\n",
            "RT @oodoneout: Happy 50th birthday David Tennant ❤️ https://t.co/MvFznUKiME 1 0.6666666666666666\n",
            "RT @Ferg: MASSIVE GIVEAWAY!✨\n",
            "\n",
            "Prize💰\n",
            "-OnePlus N10\n",
            "-Razer Kishi\n",
            "-Razer Hammerhead Earbuds\n",
            "-3200 COD Points\n",
            "\n",
            "How to enter✅\n",
            "-Follow me, @Tribe… 1 0.5555555555555556\n",
            "RT @Max33Verstappen: YES BOYS, very happy with this win! 🏆 It was tricky out there! Simply lovely performance 🤘 🇮🇹 #ImolaGP https://t.co/bb… 1 0.7777777777777778\n",
            "@DocAngMullennix Happy Anniversary! 🥳 0 0.5555555555555556\n",
            "RT @sjamspc33: happy hump day!! https://t.co/FqB2q3zTOR 1 0.8888888888888888\n",
            "@JaroszewskiK @CJED18 @farsazadi Happy for you 🤡 0 0.5555555555555556\n",
            "RT @AnimationEpic: 🎉🎂💚 HAPPY BIRTHDAY ADAM! 💚🎂🎉\n",
            "We're wishing the creator of #InanimateInsanity, @adamtkatz, a VERY Happy Birthday!!! Adam'… 0 0.5555555555555556\n",
            "RT @sadafsardar4: Is bari @WaseemBadami  b choclte cake ho ga bhaiya\n",
            "Adil shahzda be choclte cake passnd karty hai kiya\n",
            "\n",
            "Happy 10th Birthda… 1 0.5555555555555556\n",
            "RT @RenaultSpSeries: Happy to help @MercedesAMGF1, just fill in the empty spaces, we’ll pay the entry fees 😉 https://t.co/apaQZua7WQ 1 0.5555555555555556\n",
            "@lunafaeart @ClayBelleShop - [ ] Thanks for the giveaway 😚  I never won any giveaway 🥺I Really need a new phone for… https://t.co/frqElSg3kD 0 0.7777777777777778\n",
            "RT @the__browngirl: Sometime we pretend to be happy just to lie to oyr fears..!! 1 0.7777777777777778\n",
            "RT @CisNyakundi: Do you think Raila will be happy if Kenyans today decided to hit the streets &amp; demand better or regime change? Raila has b… 1 0.7777777777777778\n",
            "Guys I bought a cast iron pan I’m so happy 😭😭😭. And my mum bought few stuff for my YouTube channel and cooking ig page 😭🥺❤️ 0 0.5555555555555556\n",
            "RT @Colteastwood: THE SAUCE!!!\n",
            "Playstation Content Creators and lifelong fans of the brand are not happy about the offering and marketing e… 1 0.6666666666666666\n",
            "RT @loveasiagirls: Happy New Year 2021 Alexia Anders part.3 https://t.co/UKa68gJW5G 1 0.5555555555555556\n",
            "@ToonFan14 I'm happy with that 1 0.5555555555555556\n",
            "RT @ViolenceGG_: Happy Sunday All!\n",
            "Make sure to Keep your eyes out for Matches today @...\n",
            " 2:00 pm PST \n",
            "4:00 pm PST\n",
            "+ Another Matchup Tonig… 0 0.5555555555555556\n",
            "RT @Amoruso1998: 📼📅🎂 - Happy Birthday to ex @JamTarts star Eamonn Bannon #HHGH https://t.co/5YkXM8TKCd 0 0.5555555555555556\n",
            "@ginaaaa345 @Therealroland02 @MarEthr @Luisa1Queen @Diane1Queen @MagDivina @AbidinBoryta @DrNikolova_Rumi… https://t.co/T68ceKBgkz 0 0.5555555555555556\n",
            "@that_girlann Happy birthday 🎉 0 0.5555555555555556\n",
            "RT @SolanaAlice: Happy Sunday!! https://t.co/XuxkAxE9Ls 1 0.5555555555555556\n",
            "RT @sarkodie: Happy birthday 👑 Nata @KinaataGh ... Gods blessings on Your Life ... 0 0.5555555555555556\n",
            "@GilpinPeri @JaneLeeves Omg happy birthday @JaneLeeves! And wishing you many many happy returns! 🎉🎂✨ 0 0.5555555555555556\n",
            "He passes by Ferdinand and his battalion. The men are tired, because of course they are, but also happy to be alive… https://t.co/z4grMuDsF3 1 0.8888888888888888\n",
            "RT @HoellywoodFPS: ANNOUNCEMENT: I’m happy to announce I’ll be partnering with @goodgamesense , we’ll be giving away 5 free Radar XXL mouse… 1 0.6666666666666666\n",
            "@marcelluswiley Aww this is so sweet 💗 Happy birthday to your beauty ! 💗 1 0.7777777777777778\n",
            "@Jettrax Yo Jett happy birthday! 🎉 1 0.8888888888888888\n",
            "RT @barnesalianovna: this makes me so happy https://t.co/vKyxipH5Hz 1 0.7777777777777778\n",
            "RT @ottobockHQ_en: We at #Ottobock are happy that our Future Lab in Berlin is also an heritage site. Tradition and innovation come together… 1 0.5555555555555556\n",
            "@CassieJhanae Happy birthday Cassie! 🥳❤️ 0 0.5555555555555556\n",
            "2nd grade Cub Artists always amaze me with their excitement and creativity! Loved seeing their happy faces at the H… https://t.co/bWW55zwJ0j 1 0.7777777777777778\n",
            "@lightbabel SIMKKK o engraçado que o video q baixei era happy mary e era só 15minKKKKKKKKKKKKKKK 1 0.6666666666666666\n",
            "RT @safeforliam: if liam payne is happy so am i https://t.co/mdasyP3IIu 1 0.6666666666666666\n",
            "RT @SH00TERS4KALYNN: happy #kalynnday !! these past two years have been amazing :,) i’m so happy you’re finally getting the love and apprec… 1 0.6666666666666666\n",
            "RT @AnnaBellaPics: So much delight from an assortment bag of parrot tulip bulbs that were planted last fall ... this one in particular with… 0 0.6666666666666667\n",
            "Single and happy 1 0.7777777777777778\n",
            "@thami_shenge Happy birthday champ Thami 1 0.5555555555555556\n",
            "RT @rengarabuser: https://t.co/ADUBxItKJW 1 1.0\n",
            "@DreamsMods @rain_mdp HAPPY BIRTHDAY!! 1 0.5555555555555556\n",
            "RT @amritabhinder: Would have been very happy if Mr Manmohan Singh also gave a five point remedy for farm laws.  \n",
            "\n",
            "The most understated pol… 1 0.7777777777777778\n",
            "@ro_harvey12 Happy belated birthday @ro_harvey12 🎊💕 Lovely pic of the puppy. Well done on an impressive 53 miles this week❤️🌈 1 0.5555555555555556\n",
            "@iamtsteve I be happy to see mfs get money. I’m more concerned with getting some TOO! Mfs weird 1 0.5555555555555556\n",
            "RT @Addicter999: Good Morning 🌄😍\n",
            "Happy Sunday Guys💋\n",
            "Sam Boobies 🥭🤤💦 https://t.co/n63yLVL47o 0 0.5555555555555556\n",
            "Rachele and I don’t get all mushy lmaoooo but I love her so much, that’s my bestie I love you happy birthday… https://t.co/NjEJ0bG6KU 1 0.7777777777777778\n",
            "RT @KaylarWill: I deserve to be happy af. 1 0.8888888888888888\n",
            "RT @AnimeAjay: nah don't say this\n",
            "\n",
            "i ain't that old\n",
            "\n",
            "it came out like last year, right? \n",
            "\n",
            "right. 0 0.7777777777777778\n",
            "I treated my friend to get her nails and toes done with me and she was so excited and happy. 🤗🤗❤️ 1 0.7777777777777778\n",
            "@thami_shenge Happy birthday Thami. I hope you enjoyed your birthday champ 1 0.7777777777777778\n",
            "RT @247LC: Happy birthday Lela Rochon, 57! https://t.co/L93pjT6pP8 1 0.5555555555555556\n",
            "RT @memoriesdw: Happy Birthday to David Tennant!! A truly amazing actor and a wonderful human being. https://t.co/vAiesltiZE 1 0.7777777777777778\n",
            "RT @PARISDENNARD: Happy Birthday, @kayleighmcenany! https://t.co/BUfxDRzSRj 1 0.5555555555555556\n",
            "RT @BlackCamaru_: Happy Sunday, let me bless my people.\n",
            "\n",
            "If you’re online reply how much you need asap. Add #EquationAute to your replies. 0 0.5555555555555556\n",
            "RT @finewithfalling: happy birthday @aries_ix !! https://t.co/MKbtDmvcJV 1 0.7777777777777778\n",
            "RT @Sweet_BunnyXXX: Happy Sunday love!🐰\n",
            "I wanna stay in bed all day long😂\n",
            "You can join me😇 https://t.co/LtTHxYV0WL 0 0.5555555555555556\n",
            "@siaslovebot i used to not listen to its lyrics and thought its a happy song😭 0 0.5555555555555556\n",
            "I'm so happy this band has such a great impact on their fans! They helped me feel comfort in not liking cis white g… https://t.co/LZCFq5OHU6 0 0.5555555555555556\n",
            "#ZBSNews President Chakwera says he has dropped from cabinet minister of labor who was named in the audit report fo… https://t.co/W5picNuxvY 1 0.5555555555555556\n",
            "I rather not lean towards finding a substance to keep me happy. Being free is so much rewarding than being chained by your own addictions. 1 0.6666666666666666\n",
            "RT @terryandrob: A very, very Happy Birthday to our Demon Crowley #DavidTennant https://t.co/nBfsCBPldm 0 0.5555555555555556\n",
            "@TeddyIsASoftie2 just followed you! happy to finally have a female Minecraft streamer to watch :) 1 0.8888888888888888\n",
            "RT @Marvel0usJesus: If you want to enjoy life and see many happy days, keep your tongue from speaking evil and your lips from telling lies.… 1 0.6666666666666666\n",
            "@ShivamN83364669 @shreyasakshi19 @Sid_meri_jaan_ @deb_rajnandini @HarshChSidheart @punjabi_kudi_20 @DeepakB93234491… https://t.co/g3koF6l34z 1 0.6666666666666666\n",
            "@AkumaButler_ Happy bday Mello!!! 🥳🥳🥳 0 0.5555555555555556\n",
            "I'm always happy. 1 0.7777777777777778\n",
            "RT @KelseyRodkey: happy -1 month birthday to LAST CHANCE BOOKS!!!! that's a thing, right?? I know that preordering books without sampling t… 0 0.5555555555555556\n",
            "@N4NAX_ Yay!!! I am so happy for you!! 💕💕 https://t.co/3uV14gTDx9 1 0.6666666666666666\n",
            "Happy Sunday, Huskies!\n",
            "Emphasize the sun in Sunday today! The ridge over Washington area creates dry and warm condi… https://t.co/bUnrJQQUAg 1 0.5555555555555556\n",
            "RT @QPAttKS7WmCg1Ma: 🍎4月18日(日曜日)🍏\n",
            "皆さん*.🐣ｵｯﾊｮｰｰ🐥.*\n",
            "　　　　 ＼本日の／\n",
            "🧸🎈┏元気♥を ┓\n",
            "(｡•ө•｡)┃ お届け ┃\n",
            "Happy Sunday👏✨✨👐🤗👏✨\n",
            "🌷*ﾟﾟ･.｡.:🌷*ﾟﾟ･.｡.:🌷\n",
            "いい日曜日を過ごしてね(… 1 0.5555555555555556\n",
            "RT @sotycandy: during a live interview... 😆\n",
            "\n",
            "exo: *does group greeting*\n",
            "bh: why aren’t we doing the group greeting?\n",
            "exo: ???\n",
            "cy: didn’t we… 0 0.5555555555555556\n",
            "God bless u boss happy Sunday 1 0.7777777777777778\n",
            "@ElNino9Aleyenda @WC_LFC_Torres The CL is changing and big clubs aren’t happy, hence the threat of a Super league 1 0.8888888888888888\n",
            "RT @TheUnitedLink: So, so happy for Van De Beek. Glad he got that assist. \n",
            "\n",
            "Big confidence boost for him. 🔴❤️ 1 0.5555555555555556\n",
            "RT @strwbrrymilkjn: fairy!jk and mermaid!jimin commission for @Maya71886641 &lt;3\n",
            "\n",
            "i haven't done proper backgrounds in SO long but im really… 0 0.8888888888888888\n",
            "@glaiv3 Hey hi hello 1 0.7777777777777778\n",
            "@thandi_399 @orlandopirates @MaritzburgUtd Im happy we won but ai these guys they are not convincing .There is a pi… https://t.co/q9sk9PrDPp 0 0.5555555555555556\n",
            "RT @BlackSupremeKai: Just one movie or show, i want her to be in where she just has a good ass time or a great day with no trauma. 0 0.5555555555555556\n",
            "bacain tweet dr tahun 2013 trus stuck disini karna..... tweet ini kejadian, and hi if u read this, doa ku masih sam… https://t.co/rpGRkweB89 1 0.5555555555555556\n",
            "RT @Dreamdenizbays1: 💥Happy teşkilat day💥\n",
            "         {#teşkilat•#zehser} https://t.co/KJXpU8J8vZ 0 0.5555555555555556\n",
            "RT @shhhivani: THEY LOOK SO HAPPY https://t.co/LlckOTy6gn 1 0.6666666666666666\n",
            "@summercannot Happy Sunday Summer, enjoy 😊! 0 0.5555555555555556\n",
            "@anagha_mahe Happy vishu 0 0.5555555555555556\n",
            "RT @KingNarukami45: Happy Sunday, everyone! https://t.co/UAxjhJlEUQ 1 0.5555555555555556\n",
            "RT @StrictlyChristo: This happy pup spending his first night at his new home after being adopted from the shelter. https://t.co/IzceUV1cnF 1 0.6666666666666666\n",
            "RT @Realeboga_Ree: So cute 🥺 Tlisang Six Gun 1 0.6666666666666666\n",
            "RT @drmahendran_r: இனிய பிறந்தநாள் வாழ்த்துக்கள் பவி! \n",
            "உன் எண்ணங்கள் அனைத்தும் நிறைவேற அன்புடன் வாழ்த்தும் அப்பா! \n",
            "\n",
            "Happy Birthday to my da… 0 0.5555555555555556\n",
            "So happy to be w you 💘✨ https://t.co/lFupkFhTq5 1 0.8888888888888888\n",
            "RT @suhel1s: Every story has a happy ending, if you aren’t happy it isn’t the end 1 0.6666666666666666\n",
            "RT @MarcusRashford: It’s your birthday brother, enjoy it! @Donny_beek6 ♥️ https://t.co/AznbSspggu 1 0.7777777777777778\n",
            "RT @chubby_shark: You maybe saw this over on @vetoknox acc a couple of days ago, but it's so nice, I'm happy with it and here's my upload.… 0 0.5555555555555556\n",
            "RT @Ride4Blackk: S/O to everybody that wished me a happy bday🍾🥶 I’m still celebrating and im happy to announce &amp; drop the first set of T sh… 0 0.5555555555555556\n",
            "RT @annie_rose95: Happy birthday to the biggest dummy ❤️ @audribrooks thanks to covid I have zero new horrible photos of you 0 0.5555555555555556\n",
            "RT @cheeksmygi: HAPPY LITTLE YOONGI DURING ANPANMAN!! BEST THING EVER  https://t.co/yBcKlS8w0Y 1 0.6666666666666666\n",
            "RT @Fighterjet_Sam: Happy Birthday 🎈🎉🎊🎁🎂 @Sid_meri_jaan_ @shreyasakshi19 ... \n",
            "\n",
            "May God Bless You And Fulfill Your Dreams With Lots Of Love… 1 0.5555555555555556\n",
            "@Garymckenzie7 @RangersFC Paterson is young but he’s showing so much promise and wouldn’t really like to see him bu… https://t.co/p7FuKPOfpo 1 0.7777777777777778\n",
            "RT @opalauras: i am so happy we exist at the same time 1 0.5555555555555556\n",
            "RT @pkjuns: wanted to share this reply from an atiny when asked what they thought of the alliance yesterday... this makes me so happy 😭 i’m… 1 0.6666666666666666\n",
            "RT @iMiaSanMia: Arp on his decision to play exclusively for the second team this season: \"I'm still happy to have taken this step last summ… 0 0.8888888888888888\n",
            "@RiMi_Zaib Stay happy and blessed 😇 1 0.8888888888888888\n",
            "RT @gnfvillain: happy 3 months since https://t.co/6ooj4NeW7I 1 0.7777777777777778\n",
            "RT @Mathi11059863: Look at both the faces \n",
            "The presenter and getter are with happy faces\n",
            "Mutual happiness #ashaangi https://t.co/eZ7itUEiSJ 1 1.0\n",
            "happy sunday homiesss 1 0.5555555555555556\n",
            "@gio_art1 Happy birthday, Gio's sis! 0 0.5555555555555556\n",
            "HELLOHELOO  HAPPY  ANNIVERSARY  TO  THE  LOVELIEST  COUPLE  EVER  @vminfag  @N4YLUVR !!  the  cutest  pls  i  hope… https://t.co/pI4RceJ6lT 1 0.7777777777777778\n",
            "RT @Bang_Twts: Happy Saturday @mollypills_ 🔥\n",
            "\n",
            "🔗: https://t.co/520XZhhSz7 https://t.co/4kZSfuqAKm 0 0.5555555555555556\n",
            "RT @StrictlyChristo: This happy pup spending his first night at his new home after being adopted from the shelter. https://t.co/IzceUV1cnF 1 0.6666666666666666\n",
            "That's funny but with everything that Mac and Jack went through and how much Jack loved Mac he would have been more… https://t.co/5Ig5HBMO3F 1 0.6666666666666666\n",
            "he seems so happy, i want to be like that when i grow up 0 0.5555555555555556\n",
            "RT @GenshinImpact: Perfect day to share with us your most funny Genshin Impact content in the comments, Travelers! 1 0.7777777777777778\n",
            "RT @shawtyastrology: Your 4H sign &amp; planets can show you if you'd be happy living in a city. For example, having The Sun and Sagittarius in… 0 0.5555555555555556\n",
            "RT @gs_magazine: 【HAPPY BIRTHDAY】4月19日は、『ラブライブ！』西木野真姫ちゃんの誕生日です♪　真姫ちゃん、お誕生日おめでとう!!　#lovelive https://t.co/2enQDKQNfj 0 0.5555555555555556\n",
            "RT @the__browngirl: Sometime we pretend to be happy just to lie to oyr fears..!! 1 0.7777777777777778\n",
            "@unknownautisti1 YEAH DUDE I DREW THE SECOND PIC 1 0.5555555555555556\n",
            "RT @DavidGallaher: On this day in 1938, Action Comics #1 debuted and gave us the world's greatest superhero! \n",
            "\n",
            "Happy Birthday, Superman! ht… 1 0.5555555555555556\n",
            "RT @ENHYPEN_members: HAPPY NATIONAL PUPPY DAY!\n",
            "정말 귀여운 가을아!\n",
            "앞으로 더 행복하고 많은 사랑받으며 건강하게 지내자!! \n",
            "#ENHYPEN #ENGENE #SUNGHOON #가을이 https://t.co/Ouh… 1 0.6666666666666666\n",
            "@zanyyakko i’m so happy your “i’m so stressed about my essay :(((“ era is over 😍😍 1 0.5555555555555556\n",
            "RT @Meatybitss: Just gotta find your happy place❄️\n",
            "\n",
            "#Destiny2  #Destiny2Art https://t.co/1rV1qSlXZJ 0 0.5555555555555556\n",
            "RT @Markgatiss: Happy 50th DT! ❤️ https://t.co/hmlE10zEC7 1 0.5555555555555556\n",
            "OMFG this one makes me so fucking happy ajajjajajjajaka 1 0.5555555555555556\n",
            "RT @the__browngirl: Sometime we pretend to be happy just to lie to oyr fears..!! 1 0.7777777777777778\n",
            "RT @ykfxEfb1mVDCNj0: I've heard \"Happy birthday\" so many times today, about a million times. I'm so happy. and we performed twice today. I… 0 0.5555555555555556\n",
            "RT @JannatFerdousee: Yeah, today we all are somehow more or less Happy but I Miss you Badly @itsSSR 😔\n",
            "\n",
            "Can u feel that Sush 😔..?\n",
            "Miss You 💔… 0 0.8888888888888888\n",
            "RT @Mathi11059863: Look at both the faces \n",
            "The presenter and getter are with happy faces\n",
            "Mutual happiness #ashaangi https://t.co/eZ7itUEiSJ 1 1.0\n",
            "RT @FamilyMerrigan: Well done for making it x Happy Birthday #1950swomen #BackTo60 #CEDAWPeoplesTribunal #FullRestitution 0 0.5555555555555556\n",
            "@porousfreakk HAPPY BIRTHDAYYYY 🎈 \n",
            "https://t.co/b30w8460GX 1 0.8888888888888888\n",
            "Simple things can make me happy .. a good mascara 1 0.6666666666666666\n",
            "I want the perfect / best relationship 😭 just wanna be really really happy 1 0.7777777777777778\n",
            "RT @UsmanAhmad_iam: Pakistani liberals always happy to push minorities under the bus and then start angrily lecturing you when you raise yo… 1 0.6666666666666666\n",
            "@mochaslug HHHHH THANK YOUUUUU I'm really happy with how she came out 🥺🥺💕💕💕 1 0.6666666666666666\n",
            "RT @Chhokkwangun: India is in a very bad state &amp; I concede central govt has failed us. But I can’t help but notice some people are happy to… 0 0.6666666666666667\n",
            "RT @WashingtonNFL: RT to wish @Tress_Way a happy birthday!! 🥳🎂 https://t.co/iPzKeHJK68 1 0.7777777777777778\n",
            "@SasquatchEsq Hi there 👋  We'd be happy to look into this for you. Can you please send us a DM with your name and t… https://t.co/K9is8vyAes 1 0.7777777777777778\n",
            "Happy Birthday American novelist and short story writer Richard Bausch (April 18, 1945- ) https://t.co/ez3Lf9TiWN 0 0.5555555555555556\n",
            "@jazminallure @TTVMcTwist Happy Sunday 1 0.5555555555555556\n",
            "RT @shhhivani: THEY LOOK SO HAPPY https://t.co/LlckOTy6gn 1 0.6666666666666666\n",
            "RT @tku_official: Happy Birthday QUEEN CHIU https://t.co/c019B5coXn 1 0.6666666666666666\n",
            "@tennantcIara HAPPY BIRTHDAY TO MY SOULMATE, TO MY BEST FRIEND, TO THE PRETTIEST AND EDGIEST BEING ON THIS PLANET,… https://t.co/XDotnBkc68 1 0.7777777777777778\n",
            "RT @sabawi_ss: R: What’s this?\n",
            "M: I will say it, but I need a little bit of convincing first. \n",
            "R: come on now\n",
            "M: bow I am convinced; it is… 1 0.5555555555555556\n",
            "Well, I feel old. 0 0.7777777777777778\n",
            "RT @smileey188: Happy birthday my love! XD #鍾離生誕祭2020 #GenshinImpact  #原神 https://t.co/RKRfXpnK1P 1 0.5555555555555556\n",
            "RT @JarwarZohaib1: Abraham Lincoln\n",
            "About happiness: Most people are about as happy as they make up their \n",
            "minds to be.\n",
            "#IncrementIsRightOfJ… 1 0.8888888888888888\n",
            "RT @shooky0t7: I miss them :') @BTS_twt \n",
            "\n",
            "I vote #Dynamite for #FaveChoreography at the 2021 #iHeartAwards https://t.co/tj6j90D9Bm 0 0.8888888888888888\n",
            "RT @YDBANG: 🎂HAPPY YEDAM DAY🎂\n",
            "\n",
            "📣예담이의 20번째 생일을 맞이하여 컵홀더 이벤트를 진행합니다\n",
            "\n",
            "자세한 내용은 아래에\n",
            "참고하여 주세요\n",
            "\n",
            "※ RT 해주신 2분을 추첨하여 소정의 상품을 드려요.\n",
            "\n",
            "각 지역의 총대님들 감사합니다❤… 1 1.0\n",
            "Happy Birthday My Baby 💖 https://t.co/rVx5OWlOiV 1 0.5555555555555556\n",
            "Happy birthday Adil Badami👀💘❤ \n",
            "\n",
            "@WaseemBadami \n",
            "#HBD_JuniorBadami https://t.co/jJhkPlpwji 0 0.5555555555555556\n",
            "RT @nominthings: it’s been a year since this account was created out of impulse. i’m so happy to see people who share the same love i have… 1 0.6666666666666666\n",
            "@Famous_Anfield Happy iftar 0 0.5555555555555556\n",
            "RT @hiiyuki: a happy musician and his new equipment friends 🎶 🍊 \n",
            "#bts #suga #yoongi https://t.co/3W9bkBfbwC 1 0.6666666666666666\n",
            "RT @thegameawards: 🎂 It's your cake day PORTAL 2. 🎂\n",
            "\n",
            "Happy 10th Anniversary, released on April 18, 2011! https://t.co/VO9OmpPFdL 0 0.5555555555555556\n",
            "RT @StrictlyChristo: This happy pup spending his first night at his new home after being adopted from the shelter. https://t.co/IzceUV1cnF 1 0.6666666666666666\n",
            "RT @KaylarWill: I deserve to be happy af. 1 0.8888888888888888\n",
            "@FckYeahItsSara happy birthday!!! 🥳🥳🎉🎂💝 i hope your day is great 🥰 https://t.co/qewNwSlBKq 1 0.8888888888888888\n",
            "@kayleighmcenany @PARISDENNARD @kayleighmcenany Happy Birthday!! Your smile lights up the sky.. And Happy Sunday--f… https://t.co/IcxALJOTvA 1 0.6666666666666666\n",
            "🥺 1 0.8888888888888888\n",
            "Happy Sunday from theo 💖 https://t.co/5eMY77VFCX 1 0.5555555555555556\n",
            "RT @RodFair2: Happy Sunday Everyone... Rt if You Love Our @FLOTUS45 🇺🇸🇺🇸🇺🇸🇺🇸🇺🇸 https://t.co/SOQoVJVyFy 1 0.5555555555555556\n",
            "RT @aborddelimpala: Happy Sunday guys 💕 https://t.co/Ng3pjMvP5j 0 0.5555555555555556\n",
            "RT @Elijaneeslay: Being financially stable &amp; genuinely happy is my ultimate goal right now. 0 0.5555555555555556\n",
            "RT @daisydootaylor: Happy Sunday 😈 50% off https://t.co/qiHCUDYe91 https://t.co/7nsc0LCN97 1 0.8888888888888888\n",
            "RT @marryevansp: fodasse romeu e julieta, vamos ser derek e meredith!!! https://t.co/SX05loplcr 0 0.6666666666666667\n",
            "@ace_oblivion Progress is progress my friend and I'm happy for you :) 1 0.5555555555555556\n",
            "RT @dadeen__: Happy iftar.\n",
            "May Allah accept our fasting as an act of IBADAH. Ameen 0 0.5555555555555556\n",
            "RT @SeitanicBeef: Happy birthday @Macho_Juice! https://t.co/kqQlRMxF7p 1 0.5555555555555556\n",
            "RT @PattenAnna: Very happy to score my first goal for this club @ArsenalWFC ❤️❤️\n",
            "\n",
            "Thanks for the assist @VivianneMiedema 🐐 1 0.7777777777777778\n",
            "RT @gaykarotosodumb: Happy (late) birthday Goku and Giorno!! 😅🥳 https://t.co/jgSoe7zyqA 1 0.5555555555555556\n",
            "@PartyofII Eyyy happy birthday 1 0.8888888888888888\n",
            "🎂Todays the Day!\n",
            "Happy Birthday  to the Owner and Curator of Living Healthy List...Happiest of birthdays to you, De… https://t.co/5HEtkBYUFk 1 0.5555555555555556\n",
            "Hungover like fuuhhhh at work but happy cus my boss is buying me a burrito 🌯 🤣 feed me please 0 0.8888888888888888\n",
            "HAPPY BIRTHDAY @hepzy_b !!! 🥳🥳 1 0.5555555555555556\n",
            "RT @louvplacerp: you are my happy place ♡ 1 0.8888888888888888\n",
            "You are the most humble,kind generous, acknowledge, Big hearted honorable,magnimous,self sacrificing leader on the… https://t.co/CVn2dAUAEH 1 0.5555555555555556\n",
            "RT @thegameawards: 🎂 It's your cake day PORTAL 2. 🎂\n",
            "\n",
            "Happy 10th Anniversary, released on April 18, 2011! https://t.co/VO9OmpPFdL 0 0.5555555555555556\n",
            "RT @dohyonluvbot: i think dohyon really like hangyul's cheeks, as we all see he has fat cheeks too, dohyon will like it for sure, if only h… 1 0.8888888888888888\n",
            "Happy Sunday #CryptoKnitties family! Yesterday we saw a #SpaceBudz Dino go for 70k! As you know, there are some Ult… https://t.co/B43fFOQZha 0 0.5555555555555556\n",
            "depressed people fuck better than happy people, change my mind https://t.co/L6C3mEpCqr 0 0.5555555555555556\n",
            "RT @agustdrkives: Help they're too happy 😭\n",
            "(6) https://t.co/GXhrbshJMq 1 0.7777777777777778\n",
            "@AndrewJBryden @RiponCathChoir Now that’s a hard choice! If you can’t eat it all, I’m happy to help! 😃 I think I wo… https://t.co/ql98QJbbDy 1 0.5555555555555556\n",
            "RT @technosupdate: happy 1 year to SBI winning MCC 4!! https://t.co/IG1W52CqoT 1 0.7777777777777778\n",
            "RT @Thuso4u: @SkepeMatsebane U happy Skepe 1 1.0\n",
            "RT @BlackCamaru_: Happy Sunday, let me bless my people.\n",
            "\n",
            "If you’re online reply how much you need asap. Add #EquationAute to your replies. 0 0.5555555555555556\n",
            "@DjThor21 I wouldn’t be able to keep everyone happy with my profile pic! 😂 1 0.6666666666666666\n",
            "@SageAndyy I'm so happy that mac is still here 0 0.8888888888888888\n",
            "RT @the__browngirl: Sometime we pretend to be happy just to lie to oyr fears..!! 1 0.7777777777777778\n",
            "RT @AdnaSed: Posting this for my threads cult. Manifesting we all get to meet one day, maybe in the north. \n",
            "@moonschildtae @riplostwigs @fc… 1 0.5555555555555556\n",
            "RT @Ami_secrets: Happy Sunday from this end😍😍😍😍. https://t.co/ipbOvjO1BL 1 0.8888888888888888\n",
            "Happy Birthday PRO Lover Boy @NithinPSPKCult ❤️\n",
            "\n",
            "#HBDMassGodNithin https://t.co/k4gNnlUpHp 0 0.5555555555555556\n",
            "yup😌 1 0.8888888888888888\n",
            "@hawzall AHHH ANOTHER TRIP AROUND THE SUN !! i hope it’s filled with all the love and success in the world bc u des… https://t.co/AvRoLz3P46 1 0.5555555555555556\n",
            "RT @shitttttka: We broke the rules because we wanted to be happy. 0 0.6666666666666667\n",
            "RT @MarcusRashford: It’s your birthday brother, enjoy it! @Donny_beek6 ♥️ https://t.co/AznbSspggu 1 0.7777777777777778\n",
            "Still so happy about being on CBC Radio! Right after Asian Dub Foundation @AsianDuBNews... NOT BAD :) \n",
            "Hear it agai… https://t.co/hJrTp7VaSl 0 0.7777777777777778\n",
            "@sarameikasai Honestly, it whatever makes you happy! You do you boo! If they love ya, they will follow! 0 0.5555555555555556\n",
            "RT @Ten733Ten: #西木野真姫誕生祭2021\n",
            "#西木野真姫生誕祭2021\n",
            "Happy Birthday~!!💖💕🍅 https://t.co/Op9qQUI41m 1 0.5555555555555556\n",
            "RT @LeoAfterHours: A Happy #NationalHornyDay to you all!\n",
            "\n",
            "Here's a little saucier mini comic for all of you aching to see a little more of… 1 0.5555555555555556\n",
            "Yay happy birthday to my favorite game! Sorry I'm not interested with the first original Portal from 2007, the seco… https://t.co/fSWygH36Ay 1 0.7777777777777778\n",
            "RT @Snyder_Cut_240: Happy 83rd Anniversary to one of the best superheroes of all time. \n",
            "\n",
            "#Superman\n",
            "#RestoreTheSnyderVerse https://t.co/HVIM… 0 0.5555555555555556\n",
            "RT @CrystalSnow_M: No puedo olvidar lo radiant que se veía Jungkook en in the soop, su sonrisa tan charming y gorgeous que mostraba cada ve… 0 0.5555555555555556\n",
            "@SharonnRosee Happy Earthday 🥳🥳🥳 1 0.6666666666666666\n",
            "RT @jhopestudio: Hoseok’s reaction when he heard the loud chants of “j-hope” during Just Dance performance ... HE LOOKED SO HAPPY😭🥺 https:/… 1 0.8888888888888888\n",
            "RT @CrystalRacing: Happy 400th Grand Prix weekend for Mark Arnall, who started in #F1 as Mika Hakkinen's personal trainer in 1997. When the… 0 0.5555555555555556\n",
            "babe pls.. it’s too early for this :-/ i’m trying to make u happy! (me to my pea brain that’s forming a headache as… https://t.co/ip7o05sQC8 0 0.7777777777777778\n",
            "RT @littledaora: “🎶Oh BenBenBen had a farm\n",
            "Ee I ee i o\n",
            "And on his farm he had some sharks \n",
            "Ee i ee i o🎶”\n",
            "\"What song!?\"\n",
            "\"Rey's happy magic s… 1 0.5555555555555556\n",
            "RT @mherndon23: Happy Birthday (@kayleighmcenany) to the greatest, smartest, most prepared White House press secretary to ever exist. Thank… 1 0.8888888888888888\n",
            "@zM8Land happy birthday dood! 1 0.7777777777777778\n",
            "RT @BlackSupremeKai: Just one movie or show, i want her to be in where she just has a good ass time or a great day with no trauma. 0 0.5555555555555556\n",
            "RT @tenaciousDJONES: Looks like he loves it! Makes me happy. Enjoy!! 🖤💛 1 0.6666666666666666\n",
            "RT @voguehsrry: our baby happy to see the \"D\" &lt;3 love him so much i vote #Harries for #BestFanArmy at the #iHeartAwards https://t.co/L8MmLE… 1 0.7777777777777778\n",
            "RT @StellaSamore: Happy Sunday 💕 https://t.co/HQ489Ui0YW 1 0.5555555555555556\n",
            "RT @SUGA_moment_twt: 180418 3년 전 오늘의 윤기\n",
            "HAPPY EVER AFTER in Yokohama\n",
            "\n",
            "#방탄소년단 #suga #슈가 #민윤기 #윤기 @BTS_twt https://t.co/2xiVydS3qR 1 0.5555555555555556\n",
            "NOT THAT THOMAS SQUEAL AGAIN FROM YOOHYEON 1 0.6666666666666666\n",
            "Download the latest episode of WDW Happy Hour on iTunes, Stitcher, and Google Play! #Disney #WDW https://t.co/QOFsB4SHYj on #Podbean 0 0.5555555555555556\n",
            "RT @___Alex_g_: Renault qui troll toto\n",
            "@AuRupteur 1 0.5555555555555556\n",
            "RT @THEFAVOURITE_: Happy 50th Birthday to the man, the myth, the legend, David Tennant!\n",
            "\n",
            "https://t.co/6Cy3qcrCpG 0 0.5555555555555556\n",
            "RT @gngchar: i get so happy when i call people back and they don’t answer 1 0.6666666666666666\n",
            "thank you for making me happy🤍 1 0.7777777777777778\n",
            "RT @brokewokechoke: Have you all considered angsty BAKT where bkaka are married and their relationship is perfect and all their friends are… 0 0.5555555555555556\n",
            "RT @Max33Verstappen: YES BOYS, very happy with this win! 🏆 It was tricky out there! Simply lovely performance 🤘 🇮🇹 #ImolaGP https://t.co/bb… 1 0.7777777777777778\n",
            "@novelistanna Happy birthday!!! 0 0.5555555555555556\n",
            "@dayspevensie AAAAAAAA that makes me happy🥺 0 0.8888888888888888\n",
            "RT @MerciusJambe13: Happy Birthday in Japan to Suguha Kirigaya a.k.a. Leafa from Sword Art Online! #SwordArtOnline #SAO #ソードアート・オンライン \n",
            "\n",
            "Voi… 1 0.5555555555555556\n",
            "RT @kayleighmcenany: Thank you, @PARISDENNARD!! ❤️🇺🇸 1 0.5555555555555556\n",
            "RT @jessjessjessu: I got this epic pokemon card on Saturday 😎😎😎😎was very happy 😎😎💪🏼💪🏼 https://t.co/1ajd2E3lA1 1 0.7777777777777778\n",
            "RT @cutietrapnya: Happy femboys day :3 💗\n",
            "\n",
            "UwU some of my favs feet, ass n cock pics 💕 https://t.co/YoewABclBc 1 0.6666666666666666\n",
            "@TiffanyBosland Happy Birthday Beautiful 1 0.6666666666666666\n",
            "RT @cry975318: #ereri au , modern pen pals au but levi is in prison and eren finds him on a ‘write an inmate’ website\n",
            "\n",
            "eren doesn’t expect… 0 0.5555555555555556\n",
            "Me: “Hi, I’m Rebekah, I’m one of the doctors”\n",
            "\n",
            "Patient: “You’re not a doctor, doctors are men”\n",
            "\n",
            "Me: 🤨\n",
            "\n",
            "Happy Sunday… https://t.co/o1QiHeF5AE 0 0.5555555555555556\n",
            "RT @cutecatalina1: Happy Sunday sweet guys 💗🎉💗 https://t.co/BVQk5LvGoe 1 0.8888888888888888\n",
            "@Deion_Slanders Happy born day 0 0.5555555555555556\n",
            "God bless this dog, when you see a post\n",
            "like this it always has to be in the very\n",
            "best interests of the the pet you… https://t.co/IhaDleqj24 1 0.7777777777777778\n",
            "Happy Birthday @sajitha_tj and @rusirasa have a balastic misle 🥳 0 0.5555555555555556\n",
            "Happy Birthday To The Golden Honey @YoursEesha 🤎 https://t.co/z6aoEX1ERl 1 0.6666666666666666\n",
            "@NextGenPlayer Really happy to be apart of this petition. Glad to see it doing so well 1 0.7777777777777778\n",
            "RT @RoxxyClark: Happy birthday @S66Cams  love you lots and lots x enjoy my singing it’s amazing 🤣🥰 https://t.co/qptQJjjQhX 1 1.0\n",
            "RT @pk_kenzie: happy 10th anniversary to my favorite game of all time 🌕 https://t.co/z6RUVd8sVv 1 0.8888888888888888\n",
            "RT @terryandrob: A very, very Happy Birthday to our Demon Crowley #DavidTennant https://t.co/nBfsCBPldm 0 0.5555555555555556\n",
            "RT @luvkooa: this clip makes me so so so happy https://t.co/ykog6OTe7A 1 0.8888888888888888\n",
            "RT @the__browngirl: Sometime we pretend to be happy just to lie to oyr fears..!! 1 0.7777777777777778\n",
            "RT @YamahaMotoGP: He's loving it! ♥️ \n",
            "\n",
            "@FabioQ20 earned himself another Happy Meal 🍔🍟 \n",
            "\n",
            "#MonsterYamaha | #MotoGP | #PortugueseGP | @MotoGP… 1 0.7777777777777778\n",
            "RT @MarcusRashford: Guys I can’t find any pics of me and Donny to wish him a happy birthday, can you help?? Tag him to show some love! @Don… 1 0.5555555555555556\n",
            "RT @NinaMeelah: Today we have fasted 6 already. \n",
            "😫😫\n",
            " I can still remember when we were counting months to Ramadan wlh we are moving closer… 0 0.7777777777777778\n",
            "RT @Radiant_Autumn: Happy Saturday, Amazing Lovelies! 💋 \n",
            "\n",
            "Thanks for the awesome fun during my #DeadbyDaylight stream this morning. Work ha… 1 0.6666666666666666\n",
            "@ShivamN83364669 @shreyasakshi19 @Sid_meri_jaan_ @deb_rajnandini @HarshChSidheart @punjabi_kudi_20 @prakashachary1… https://t.co/qSRgmfuUw6 1 0.6666666666666666\n",
            "its the mickey mouse clubhouse\n",
            "  •happy (late) #feraltwtselfieday !\n",
            "    •rt's are poggers\n",
            "      •they/them :) https://t.co/z3oDw34VC1 1 0.6666666666666666\n",
            "RT @luckyybreaker: Ms Jolyne Kujo... 🦋  Happy part 6 confirmation!! 😭💚😭💚 https://t.co/8uOH2iDVQg 1 0.5555555555555556\n",
            "@TheWomensWatch I’m very happy you’re not an organization. I would hate to think there was a mother racist organiza… https://t.co/f9Gbsbrw8s 0 0.6666666666666667\n",
            "RT @nyoomerr_: and so lbh emerges from the abyss but never dares to dream of being happy, only allowing himself to replay the same memories… 0 0.5555555555555556\n",
            "RT @Bang_Twts: Happy Saturday @mollypills_ 🔥\n",
            "\n",
            "🔗: https://t.co/520XZhhSz7 https://t.co/4kZSfuqAKm 0 0.5555555555555556\n",
            "RT @maybeshayad: omg wow she followed???? CONGRATULATIONS @ItsTeamJasmin 😭😭❤️❤️\n",
            "\n",
            "PANI DI GAL HITS 50M\n",
            "#JasminiansLoveJasmin https://t.co/km… 1 0.6666666666666666\n",
            "RT @CrystalRacing: Happy 400th Grand Prix weekend for Mark Arnall, who started in #F1 as Mika Hakkinen's personal trainer in 1997. When the… 0 0.5555555555555556\n",
            "RT @_AngelaLansbury: Happy Birthday to the multitalented Emmy Award-winner, @EricMcCormack! Here’s to many happy years and great roles to c… 1 0.5555555555555556\n",
            "RT @MsFor3ign: This makes me so happy like yeah beat his ass 1 0.5555555555555556\n",
            "@mofejesuu Happy birthday💕 0 0.5555555555555556\n",
            "RT @Colteastwood: THE SAUCE!!!\n",
            "Playstation Content Creators and lifelong fans of the brand are not happy about the offering and marketing e… 1 0.6666666666666666\n",
            "https://t.co/Yh2QOoltte 1 0.7777777777777778\n",
            "RT @BlackSupremeKai: Just one movie or show, i want her to be in where she just has a good ass time or a great day with no trauma. 0 0.5555555555555556\n",
            "Kelvi, padhil rendum onnae!\n",
            "Missing piece of a jigsaw puzzle, that found its way #ashaangi 0 0.7777777777777778\n",
            "RT @mmpadellan: Happy Saturday to everyone who voted to elect Biden/Harris, because the shit storm about to crash down on the former guy an… 0 0.7777777777777778\n",
            "RT @rosenr000t: @Moonfall_Art happy late bday bb aaaa sorry for being late!!! te quiero mucho moonie 💕💜 https://t.co/tmMZWl7sRH 0 0.8888888888888888\n",
            "@TraceEastAfrica @marleyBazenga @SizzlaKalonji @Jahmbeekoikai @selectortechnix @urbanislandz Happy Birthday #Sizzla 1 0.5555555555555556\n",
            "happy birthday to one the most beautiful and beautiful soul i have met 💜 stay happy and blessed 🤍 lot's and lot's of love @Iam__Rashmi 1 1.0\n",
            "i relate to we were happy a Tad too much ... 1 0.5555555555555556\n",
            "RT @Sweet_BunnyXXX: Happy Sunday love!🐰\n",
            "I wanna stay in bed all day long😂\n",
            "You can join me😇 https://t.co/LtTHxYV0WL 0 0.5555555555555556\n",
            "RT @BlackCamaru_: Happy Sunday, let me bless my people.\n",
            "\n",
            "If you’re online reply how much you need asap. Add #EquationAute to your replies. 0 0.5555555555555556\n",
            "So happy for You Tiff! 💕 1 1.0\n",
            "RT @bbcdoctorwho: Allons-y! A happy 50th birthday to the Tenth Doctor, David Tennant! 🎁 https://t.co/VD3R7JBeGa 1 0.5555555555555556\n",
            "RT @B_RAJA_: Happy Birthday Dear CHIDHAMBARAM @KenKarunaas 😊❤️💐💐 #HBDKenkarunaas https://t.co/3P9JY6JJIV 0 0.5555555555555556\n",
            "RT @UprisingWorks: We have great news! We are thrilled to announce that we have received an Epic MegaGrant for Scarf. \n",
            "Thanks to @UnrealEng… 1 0.5555555555555556\n",
            "RT @FORX1TH_DGT: 🦋Happy 20 Months, 𝗢𝗡𝗘 𝗜𝗧🦋\n",
            "\n",
            "    💌 แม้ทุกอย่างจะสิ้นสุดลงในวันที่ไม่ได้ตั้งใจ แต่พวกเรายังเป็นดั่งสายลมพัดพาให้ผีเสื้อทั้ง 1… 0 0.5555555555555556\n",
            "RT @astrobort: dios se acuerdan que happy tree friends lo pasaban por LA TELE no es por decir q a esta generación le falta colimba pero 1 0.6666666666666666\n",
            "RT @MimiTajiri: It’s really sad that people don’t understand how unconditional love can be. My family adore her and that love is what made… 0 0.8888888888888888\n",
            "Views from my beading table. Wampum beaded studs in the making. Happy Sunday! ✨ https://t.co/knrvbyXR9I 0 0.5555555555555556\n",
            "@iqster Especially since when you type happy the phone likely assumes birthday next. ITS TWO TAPS. 1 0.6666666666666666\n",
            "@CullenMerritt @ONeill_DEI @jamielevdan @ONeill_Indy I missed seeing this! Congratulations!  DEI work is so importa… https://t.co/pIpv7hRaN3 0 0.8888888888888888\n",
            "RT @joannecook44: @BTSRotherham I’m not happy just been for my walk with my husband and daughter and my cards stopped working can you help… 1 0.5555555555555556\n",
            "RT @ghostface1288: Happy Sunday #MutantFam &amp; #HorrorFam! Enjoying my Sunday with Night of the Comet starring @Kellimaroney! Hope everyone h… 1 0.5555555555555556\n",
            "RT @discord: flashback to arguing with your sibling for 3 hours before realizing you could fling yourselves at each other. happy 10th anniv… 1 0.6666666666666666\n",
            "RT @247LC: Happy birthday Lela Rochon, 57! https://t.co/L93pjT6pP8 1 0.5555555555555556\n",
            "RT @JDaIey: Your energy is different when you’re genuinely happy. 1 0.8888888888888888\n",
            "RT @KaylarWill: I deserve to be happy af. 1 0.8888888888888888\n",
            "@judeasspriest happy birthday pal ! 1 1.0\n",
            "RT @Elijaneeslay: Being financially stable &amp; genuinely happy is my ultimate goal right now. 0 0.5555555555555556\n",
            "RT @slickjit: actually i got a happy meal! 1 0.5555555555555556\n",
            "I love every single thing about this omfg 😍🥺😭 1 0.5555555555555556\n",
            "@cagedweapon ,,,,!!!\n",
            "\n",
            "happy... 1 0.8888888888888888\n",
            "RT @nabeelatkhan: Khush aamadeed :))\n",
            "#HBD_JuniorBadami 1 0.5555555555555556\n",
            "RT @TheMelissaMilf: Happy #Humpday 💋❌💋❌ https://t.co/HwxEB4QuTb 0 0.5555555555555556\n",
            "RT @Mathi11059863: Look at both the faces \n",
            "The presenter and getter are with happy faces\n",
            "Mutual happiness #ashaangi https://t.co/eZ7itUEiSJ 1 1.0\n",
            "RT @MikeeMikee32: I’m just living nothing really make me happy nomo💔 1 0.6666666666666666\n",
            "ay tapos na? HAHAHAHAHAHAHA 0 0.7777777777777778\n",
            "RT @StrictlyChristo: This happy pup spending his first night at his new home after being adopted from the shelter. https://t.co/IzceUV1cnF 1 0.6666666666666666\n",
            "RT @janenana_: “นอมู lonely but now นอมู happy”\n",
            "https://t.co/K8VQTVkCZx 0 0.8888888888888888\n",
            "RT @leeaceseungg: its enhypen's first cb but its also last work for doobu-nim.. we don't stan this guy but atleast let's give him thanks fo… 1 0.7777777777777778\n",
            "RT @adorebright: (Cont.)\n",
            "What I wanna say is. He’s cute, not snobbish at all. Khun Tay is really an adorable famous person. I’m happy for… 1 0.8888888888888888\n",
            "RT @shay_utd: @MarcusRashford @Donny_beek6 Happy Birthday Donny ♥️ https://t.co/jRiEdSoWPH 1 0.5555555555555556\n",
            "RT @Sweet_BunnyXXX: Happy Sunday love!🐰\n",
            "I wanna stay in bed all day long😂\n",
            "You can join me😇 https://t.co/LtTHxYV0WL 0 0.5555555555555556\n",
            "RT @fizfatima: The secret to a happy life is being lil less empathetic and a bit more apathetic i.e dheeet. 1 0.8888888888888888\n",
            "RT @Gostosinh001: Happy Sunday 👿🔥❤😍 https://t.co/DuKjxTwQTo 1 0.7777777777777778\n",
            "RT @iveenero: Happy Birthday Maki Nishikino ❤️\n",
            "#西木野真姫生誕祭2021 #lovelive #ラブライブ #西木野真姫\n",
            "(4KHD version on PixivFANBOX)\n",
            "https://t.co/yl6FxK1B3R… 0 0.5555555555555556\n",
            "RT @1solboo: how to take care of each other: a guide by #VERKWAN\n",
            "\n",
            "happy verkwan day everyone! #솔부 https://t.co/tV7FjNdF5T 0 0.5555555555555556\n",
            "Happy 1st birthday to our blue-eyed cocomelon! Sissy loves you mamas! 💚💚💚 https://t.co/TUxClpcayc 0 0.5555555555555556\n",
            "@FarmGirlLily Fantastic! Happy day! 😃💜 0 0.5555555555555556\n",
            "RT @discord: flashback to arguing with your sibling for 3 hours before realizing you could fling yourselves at each other. happy 10th anniv… 1 0.6666666666666666\n",
            "RT @catturd2: \"How dare them not wear masks!\" ... Liberals watching this. 1 0.6666666666666666\n",
            "Happy birthday to my favorite tackle @BigTicket73 1 0.5555555555555556\n",
            "RT @suhel1s: Every story has a happy ending, if you aren’t happy it isn’t the end 1 0.6666666666666666\n",
            "RT @taqhyunq: PAULA DAY !!! happy birthday angel&lt;3 i miss talking to you, i hope you have/had the bestest day ever, i love u 🪐🕊✨🤍 @reinhart… 1 0.6666666666666666\n",
            "RT @PaulaBrexiteer: Tut tut tut, what would Jeremy Vine think of this? It also lacks diversity. 0 0.5555555555555556\n",
            "@EstudioSublime That’s amazing work, well done and happy gotcha anniversary day 1 0.6666666666666666\n",
            "@ThePukeyLuke @koolnigaid OMG HAPPY BIRTHDAY 1 0.5555555555555556\n",
            "RT @callmedollar: 🗣 AN ACTRESS! \n",
            "\n",
            "The fact that she’s not a lead actress in a drama series is a crime! Someone get Will Packer on the damn… 0 0.5555555555555556\n",
            "RT @AnnaBellaPics: So much delight from an assortment bag of parrot tulip bulbs that were planted last fall ... this one in particular with… 0 0.6666666666666667\n",
            "A few other bits from yesterday’s game hunt 👍 really happy I’ve finally found a physical copy of #StreetsofRage4 &amp;… https://t.co/FwRgIPDzIb 1 0.6666666666666666\n",
            "RT @ItsmeDeepak_: Happy birthday  @hello_tweeples_ 🥳🥳\n",
            "Stay happy, stay blessed and stay safe 💝\n",
            "Mahi Ki Friend Meri Bhi Friend Happy Birthda… 1 1.0\n",
            "@Jaclynhill Happy!!! My launch went better than I expected 😉 1 0.7777777777777778\n",
            "RT @lil_burd_: My lifelong best friend turns !!!!2!!!!! Years old today!!!🥺 everyone wish Gene a happy birthday!!! Mommy loves you so very… 1 0.6666666666666666\n",
            "@NotGeauxGabby @Gyllenhaalic15 @TheFreestBre And I would be there happy as well, writing down all the messy thought… https://t.co/BV1Symkz38 1 0.6666666666666666\n",
            "happy grown up day @HMariluch ! hopefully you can learn to wash your socks now that you’re 18. i love you grandma!🤍 https://t.co/zVxh3J6lAM 1 0.6666666666666666\n",
            "RT @MhilePergz: Malapot at makatas...happy morning alter's.. https://t.co/S3km7utfJq 1 0.7777777777777778\n",
            "Happy Birthday Queen of V.O.V 1 0.5555555555555556\n",
            "@the_cute_preeti @shreyasakshi19 Happy birthday dear 1 0.6666666666666666\n",
            "RT @USMNT: Happy Birthday, @MauriceEdu! 🥳🎂🎁\n",
            "\n",
            "The 2010 @FIFAWorldCup veteran made 46 appearances and scored one goal (but really it should h… 0 0.5555555555555556\n",
            "RT @XXL: Happy birthday, @THESLUMPGOD! 🎉\n",
            "\n",
            "RT if you’re ready for him to drop a new project https://t.co/chuo9XX9WP 1 0.7777777777777778\n",
            "RT @itsmeMIKIB: Some of the boards I did of Steven fighting Jasper for Fragments of Steven Universe: Future. (There's no audio 🤫) Happy to… 1 0.5555555555555556\n",
            "RT @KikitheLee: Even though this is such a tiny instance, Hyunsuk is so selfless especially when it comes to his boys. He’s just happy part… 1 0.6666666666666666\n",
            "RT @kardashibrasil: Hoje o dia é todo DELA!! \n",
            "\n",
            "A nossa rainha Kourtney Kardashian está completando 42 anos hoje, Happy Birthday @kourtneyka… 1 0.6666666666666666\n",
            "I should have eaten it all by myself, I shouldn't have called my crush 😤😭😭\n",
            "She laughed in my face, I don't know why 0 0.8888888888888888\n",
            "@SharonnRosee Happy birthday beautiful. Lots of love 🥰🥰🥰❤️❤️❤️ 1 0.7777777777777778\n",
            "@karywastaken i’m absolutely ecstatic about the new music and i’m so incredibly proud of him. dream deserves the ab… https://t.co/8CAVp4akf8 1 0.6666666666666666\n",
            "RT @thegameawards: 🎂 It's your cake day PORTAL 2. 🎂\n",
            "\n",
            "Happy 10th Anniversary, released on April 18, 2011! https://t.co/VO9OmpPFdL 0 0.5555555555555556\n",
            "RT @BigMcDarby: @SecretsOfCrypto this #altseason so far has been amazing for us #AVAX users. of course its not the end. im happy for us $AV… 1 0.8888888888888888\n",
            "RT @wiccalite: Happy Small Business Saturday!✨\n",
            "\n",
            "I would LOVE to make a sale today💕Use code “ WIITCHPERKS “ to get 15% off you’re entire ord… 1 0.6666666666666666\n",
            "RT @BlackSupremeKai: Just one movie or show, i want her to be in where she just has a good ass time or a great day with no trauma. 0 0.5555555555555556\n",
            "RT @dogdog: Happy birthday to my wife, partner and best friend! I’m so proud of everything you’ve accomplished the past few years! \n",
            "30 is j… 1 0.5555555555555556\n",
            "And the saga of the Beefalo finally comes to a happy end. https://t.co/1hUymAbKbW 1 0.8888888888888888\n",
            "RT @OneLuckyGirl_28: 🔮Taurus:🎁Happy birthday, Taurus! A surge of  confidence makes getting ahead on goals easy with the Sun and Mercury mov… 0 0.5555555555555556\n",
            "@enddcrystal But also happy birthday 0 0.5555555555555556\n",
            "RT @thegameawards: 🎂 It's your cake day PORTAL 2. 🎂\n",
            "\n",
            "Happy 10th Anniversary, released on April 18, 2011! https://t.co/VO9OmpPFdL 0 0.5555555555555556\n",
            "RT @fitzbarnes: Happy Birthday to the one and only Chloe Bennet ❤️🥳 https://t.co/LBRLRW4WjJ 0 0.5555555555555556\n",
            "@BackingBoxing @GarveyKelly @ant_crolla Did you not see how happy the felĺa was after he lost 1st rd tko? I seen co… https://t.co/ezvIOJWA9K 1 0.5555555555555556\n",
            "RT @Max33Verstappen: YES BOYS, very happy with this win! 🏆 It was tricky out there! Simply lovely performance 🤘 🇮🇹 #ImolaGP https://t.co/bb… 1 0.7777777777777778\n",
            "@5_IPL_Titles @itsDevRA a very happy birthday dev bhaii🥳🥳🎂 1 1.0\n",
            "RT @thegameawards: 🎂 It's your cake day PORTAL 2. 🎂\n",
            "\n",
            "Happy 10th Anniversary, released on April 18, 2011! https://t.co/VO9OmpPFdL 0 0.5555555555555556\n",
            "RT @leeaceseungg: its enhypen's first cb but its also last work for doobu-nim.. we don't stan this guy but atleast let's give him thanks fo… 1 0.7777777777777778\n",
            "@katiemckenzie99 Hi Katie. Thk you for keeping us hooked to your pretty boobs and those hard nipples.\n",
            "You have been… https://t.co/krwK4vZYyz 1 0.7777777777777778\n",
            "RT @ihobiyaaahhh: You shine the brightest when you smile. I may not walk with you for too long, but from here and now, we'll be here for yo… 0 0.5555555555555556\n",
            "RT @AsraNawab5: HAPPY BIRTHDAY ADIL BADAMI ♡\n",
            "\n",
            "I pray to Allaah to protect Adil from all kinds of trouble. Make him as hardworking as his fa… 1 0.5555555555555556\n",
            "RT @Elijaneeslay: Being financially stable &amp; genuinely happy is my ultimate goal right now. 0 0.5555555555555556\n",
            "and 2. If $7.85/mo. is too much, we would prefer those readers remain supported by solidarity subscriptions, and ju… https://t.co/KKvIQK080q 1 0.6666666666666666\n",
            "Ain't no way you're happy and loving yourself if you have the energy to think piece what a whole other race of wome… https://t.co/Do9l0tWL62 1 0.6666666666666666\n",
            "@ewpaisley @zenpundit ... Americans like business (or have historically), but it correlates with being a negotiator… https://t.co/FAS2pauKlO 1 0.6666666666666666\n",
            "I swear to god I had no idea @aplusk was an investor until this moment! I saw he is on 9th rank on crunch base and… https://t.co/djWIZSf1zw 0 0.5555555555555556\n",
            "@ranruns6308 Happy bday ran!! Hope you get blessed with more sucrose content this year! 1 0.7777777777777778\n",
            "RT @hydra_chain: LOC - One of the projects building on Hydra, gets listed on a new exchange! Growing the ecosystem one step at a time https… 0 0.5555555555555556\n",
            "RT @Joshua_Muax: @TraceEastAfrica @marleyBazenga @SizzlaKalonji @Jahmbeekoikai @selectortechnix @urbanislandz Happy Birthday #Sizzla 1 0.5555555555555556\n",
            "RT @khb131_Global: One month ago, you released donation album \"Love Streaming\" aimed to support children in crisis across the globe through… 0 0.6666666666666667\n",
            "RT @KaylarWill: I deserve to be happy af. 1 0.8888888888888888\n",
            "RT @sjamspc33: happy boobie tuesday!! https://t.co/VYm088cIHj 1 0.5555555555555556\n",
            "RT @joselynn_c: Buying bad bunny tickets? 👏🏼\n",
            "Investing your money? 👏🏼 \n",
            "Traveling? 👏🏼\n",
            "Do whatever makes YOU happy but quit hating lol bien q… 0 0.5555555555555556\n",
            "RT @lunarelles: happy tears for a happy birthday 💗\n",
            "\n",
            "#erenjaeger  #エレン・イェーガー生誕祭2021 https://t.co/cVZ4pQLCqM 1 0.7777777777777778\n",
            "RT @thegameawards: 🎂 It's your cake day PORTAL 2. 🎂\n",
            "\n",
            "Happy 10th Anniversary, released on April 18, 2011! https://t.co/VO9OmpPFdL 0 0.5555555555555556\n",
            "@thami_shenge Happy Birthday champ, hope u had a fantastic day! 👌👍👍 1 0.5555555555555556\n",
            "RT @twwomen: happy friend's day ♡ https://t.co/1OT2i0levs 1 0.6666666666666666\n",
            "Main Account Games! || !commands 「Happy Sunday :D」[EN] https://t.co/UKSGVBGfny 0 0.8888888888888888\n",
            "RT @candyflippin: Happy Sunday!  I'm bored and this is just random curiosity: which of these is true for you?\n",
            "\n",
            "for the purposes of the poll… 1 0.5555555555555556\n",
            "RT @MRMRSD6: Happy #SinfulSunday https://t.co/owaCefg3Bc 0 0.5555555555555556\n",
            "RT @StrictlyChristo: This happy pup spending his first night at his new home after being adopted from the shelter. https://t.co/IzceUV1cnF 1 0.6666666666666666\n",
            "RT @TillmannJean: Happy Sunday #TeamCote @donutsdebsdibs @SeriousMommaDoe @estewicca @Gwennaelle_W @MissKatie221 @dangergirl101 @JJ221110 @… 0 0.5555555555555556\n",
            "RT @alexander_olly: you guys!!! i’m so happy my lil video about loving yourself has over 2m views in less than a week 🥺🥺🥺🥺 thank you for wa… 1 0.7777777777777778\n",
            "RT @mizzmelons: I’m just kidding....HAPPY #tittytuesday be sure to hit me on OF for custom videos 😉 you fuckas better be grateful \n",
            "\n",
            "https:/… 1 0.8888888888888888\n",
            "RT @astrobort: dios se acuerdan que happy tree friends lo pasaban por LA TELE no es por decir q a esta generación le falta colimba pero 1 0.6666666666666666\n",
            "@cumpstonarchive @Nevisport @ScarpaUK Happy Birthday Glenys. Enjoy travelling many miles in them xx 0 0.5555555555555556\n",
            "RT @___merry______: ♡ Happy JENO day  ♡ \n",
            "\n",
            "제노 생일 기념 #RT 이벤트\n",
            "\n",
            "알티 추첨 한분께 메리젠 보내드립니다~(.◜◡◝) \n",
            "(사진은 눈 자수 수정 전이라 수정 후의 아이로 보내드려요) \n",
            "\n",
            "🐶당발은 제노 생일\n",
            "🐶국내… 1 0.5555555555555556\n",
            "@Gemmabaggies Happy Birthday! 0 0.5555555555555556\n",
            "RT @Oluomoofderby: Matthew 7:7 says “Ask and it will be given to you”. \n",
            "\n",
            "Happy birthday girl. May the blessings of the Almighty Lord be upo… 1 0.6666666666666666\n",
            "RT @ManUtdInPidgin: If you dey happy for Donny Van de Beek today, drop “❤️” Below! \n",
            "#MUNBUR https://t.co/hsQVZhN7TF 0 0.5555555555555556\n",
            "RT @utdreport: Greenwood: \"I'm happy I'm playing a lot, Ole [Gunnar Solskjær] trusts me and I do my best on the pitch and try to help my te… 1 0.8888888888888888\n",
            "Happy 10 anniversary #GameofThrones @GameOfThrones . The things we do for love. 1 0.5555555555555556\n",
            "@RishabhPant17 @DelhiCapitals We want Rishabh Pant..\n",
            "\n",
            "Not a captain Pant...\n",
            "\n",
            "Really missed him happy face..😁💙… https://t.co/yq5b8VQj7A 0 0.8888888888888888\n",
            "@Kris0cto Yeah she’s happy 1 0.6666666666666666\n",
            "Hell of a team right there!\n",
            "\n",
            "Remember when we had a fully prepared Press Secretary. I do.\n",
            "I miss @kayleighmcenany d… https://t.co/0gbtfL980w 0 0.7777777777777778\n",
            "choose to be happy alright? 1 0.7777777777777778\n",
            "RT @notbeyax: Wow. Bilis. Happy 14.7M on instagram, @bernardokath ❤️ 1 0.5555555555555556\n",
            "@RElATSU @sakanadewibe Good I’m in a pretty happy mood anyways https://t.co/QNiuHBfNiP 1 0.7777777777777778\n",
            "RT @ladajah__: Period thanks babe 😊 1 0.8888888888888888\n",
            "RT @kaaaaaappe: 🎉HAPPY BIRTHDAY🎉\n",
            "\n",
            "水原（一ノ瀬）千鶴✨\n",
            "\n",
            "#かのかり https://t.co/Fn4VGM0pHk 1 0.7777777777777778\n",
            "RT @rogerfederer: Hi everyone!\n",
            "Happy to let you know that I will play Geneva🇨🇭 and Paris 🇫🇷. Until then I will use the time to train. Can’t… 0 0.5555555555555556\n",
            "@ShivamN83364669 @shreyasakshi19 @Sid_meri_jaan_ @HarshChSidheart @punjabi_kudi_20 @prakashachary1 @DeepakB93234491… https://t.co/QcjZtxokbB 1 0.7777777777777778\n",
            "RT @StrictlyChristo: This happy pup spending his first night at his new home after being adopted from the shelter. https://t.co/IzceUV1cnF 1 0.6666666666666666\n",
            "RT @TheRealBTG27: Happy birthday khaddoooossss @hello_tweeples_ 🥳🥳🥳❤❤\n",
            "Bhagwaan aapki saari ichchayein poori kare ❤\n",
            "Stay happy, stay blessed… 1 0.8888888888888888\n",
            "RT @neymarjr: Happy Valentine's Day ❤\n",
            "@BruMarquezine https://t.co/jFeFD5lwGj 1 0.6666666666666666\n",
            "🎵I've been a liar, been a thief \n",
            "Been a lover, been a cheat \n",
            "All my sins need holy water, feel it washing over me 🎶 0 0.8888888888888888\n",
            "@TheColossalFox Giant fox gets even more giant on their birthdays. Sorry, it's the rules\n",
            "\n",
            "Happy birthday Logan! 🥳🎉🎊… https://t.co/jroOUXQvRx 1 0.5555555555555556\n",
            "If you disagree you're a mug 1 0.5555555555555556\n",
            "Happy Birthday Barry Nelson: The 1st 'James Bond' Actor's Best Moments #SmartNews  https://t.co/I8AGDUcB3p 1 0.5555555555555556\n",
            "@NaomiAJohnson HAPPY BIRTHDAY ANGEL!! 1 0.5555555555555556\n",
            "RT @everywheremb: marie vincent chi kam maevy duda millie leni anita célia andréa thank you so much for helping me cheer up sonia :) y’all… 1 0.6666666666666666\n",
            "@Badflower Okay I would actually flip shit if I was just shown some video and it turned out to be a cringe happy birthday message from you 1 0.6666666666666666\n",
            "RT @MarcusRashford: It’s your birthday brother, enjoy it! @Donny_beek6 ♥️ https://t.co/AznbSspggu 1 0.7777777777777778\n",
            "@StuLevy2 I genuinely wouldn't care if the so called big six fucked off, just as happy going to York as to Manchester. 1 0.7777777777777778\n",
            "@faithelynnn Happy birthday!!!!!! 1 0.6666666666666666\n",
            "@MalomeWaBanaII Look how happy they are🥺🙈😭 1 1.0\n",
            "RT @KaraCorvus: April 18th is so many birthdays!!! @CheesyBlueNips @NerdOutMusic @wolfabelle @itshafu to name a few!! Happy birthdays!! ♥️🎉🎂 1 0.7777777777777778\n",
            "@Amberological @RubikaLiyaquat Happy Birthday rubika Liyakat ji 1 0.5555555555555556\n",
            "RT @ralakalar: Miran: where is lutfu\n",
            "Asye: I don’t know. this man came to make me crazy \n",
            "Miran: he cane to make u happy  #HayatSevinceGüzel 0 0.5555555555555556\n",
            "@peepgb good for you man i’m happy for you 1 0.7777777777777778\n",
            "RT @furlana_art: Happy Trans visibility day! 🏳️‍⚧🥰\n",
            "Live your fullest lives as who you truly are! https://t.co/wc0DZwZM9M 0 0.5555555555555556\n",
            "RT @colesguzzler: goodnight twt &lt;33\n",
            "\n",
            "happy lloyd for your tl https://t.co/MOltIMvYpb 1 0.7777777777777778\n",
            "RT @Anitta: So happy for my brother @DaveGrutman on his beautiful hotel. One more great and successful idea. I love you ❤ #TheGoodtimeHotel… 1 0.7777777777777778\n",
            "RT @LakesideKS: 🏡Happiness is Homemade🏡\n",
            "\n",
            "So happy with how the new place is coming together! Finally have a gorgeous space to create beauti… 0 0.5555555555555556\n",
            "RT @terryandrob: A very, very Happy Birthday to our Demon Crowley #DavidTennant https://t.co/nBfsCBPldm 0 0.5555555555555556\n",
            "RT @Incognito_River: @biharigurl Happy Birthday, Vineeta 🎂♥️ stay blessed 🌻 1 0.5555555555555556\n",
            "@hurbles happy pubby cummy good 1 0.8888888888888888\n",
            "RT @onplanet612: “# we will be pandas’ forever\n",
            "Thank you so much for letting us shine in your sky\n",
            "Happy 10th anniversary❤️”\n",
            "\n",
            "Brb crying 🥲… 0 0.5555555555555556\n",
            "RT @kc_leavitt: Happy happy birthday to the one and only @kayleighmcenany 🇺🇸💗\n",
            "\n",
            "The best Press Sec, boss, and friend! https://t.co/swtNVLxigf 1 0.7777777777777778\n",
            "RT @the__browngirl: Sometime we pretend to be happy just to lie to oyr fears..!! 1 0.7777777777777778\n",
            "Happy bday to my not so little sister anymore turns 11 today 🎉🎂🎈🎊 love her so much god bless her with many more 0 0.5555555555555556\n",
            "@fruitshake12345 I'M SO HAPPY FOR YOU BESTIE 💖💖😭💖😭💖 1 0.8888888888888888\n",
            "@rampage24441 I think you should low key me happy for your team, at least you might be guaranteed  Premier League e… https://t.co/KOpQgqqrvr 1 0.6666666666666666\n",
            "wp dear natta yg cast nya jeno seru ngga sih? GOD seriously gue stop bacanya di chapter pertama soalnya hawa hawa g… https://t.co/4fkde42eRH 0 0.6666666666666667\n",
            "RT @StrictlyChristo: This happy pup spending his first night at his new home after being adopted from the shelter. https://t.co/IzceUV1cnF 1 0.6666666666666666\n",
            "RT @meungupdates: Eunji edited her caption:\n",
            "\n",
            "\"#. We will be panda's forever \n",
            "Thank you for letting us shine in your skies. Happy 10th anniv… 1 0.5555555555555556\n",
            "RT @247LC: Happy birthday Kimberly Elise, 54! https://t.co/UW3nwiGXQm 0 0.5555555555555556\n",
            "@91SUNSHINEL0U DONT THINK MY PARENTS WOULD BE HAPPY WITH ME BECOMING A STRIPPER 1 1.0\n",
            "@mossvale @AnnetteBadland1 @FionaDolman @dudgeon_neil @benshephard @EamonnHolmes @vickimichelle @kendoherty1997… https://t.co/aocgqyBOpn 0 0.5555555555555556\n",
            "RT @sw3chubster: Happy Christmas! Here’s the 11-inch monster 18yo cock ramming my boycunt as a 🎄🎁 🥳!...\n",
            "\n",
            "See this and more at:\n",
            "https://t.co… 1 0.5555555555555556\n",
            "RT @SeattleIndpdnt: I'm amazed by these BLM types who are insisting that MAGA people want to see the police shooting people.\n",
            "\n",
            "No, it's just… 0 0.6666666666666667\n",
            "Oh ini yang diretweet Kyu WKWKWKWKWK kamu tuh kalau kepencet ya ke akun aku aja sayang @GaemGyu 1 0.7777777777777778\n",
            "@GreatestOpener @Iam__Rashmi Happy birthday 😊 0 0.5555555555555556\n",
            "RT @RenaultSpSeries: Happy to help @MercedesAMGF1, just fill in the empty spaces, we’ll pay the entry fees 😉 https://t.co/apaQZua7WQ 1 0.5555555555555556\n",
            "🥰🥰🥰 Happy birthday Donny @Donny_beek6 https://t.co/Rw5cmFGO6C 0 0.5555555555555556\n",
            "RT @YOURS_with_Myme: [#GREX]\n",
            "Always be happy：）\n",
            "\n",
            "#yours #deepstudio #GREX \n",
            "#mymeisthebest https://t.co/w03ERfsASv 1 0.8888888888888888\n",
            "RT @FangirlofSSR: I don't know why...am so happy today by seeing and listening to Sameer sir..\n",
            "\n",
            "And am sure every SSRian is feeling same as… 0 0.5555555555555556\n",
            "@Frexs Avoid ranked, better for the birthday spirit 😁 happy birthday 🎂 1 0.5555555555555556\n",
            "@casieudamonn ‼️‼️‼️‼️‼️‼️‼️‼️ 0 0.5555555555555556\n",
            "RT @pk_kenzie: happy 10th anniversary to my favorite game of all time 🌕 https://t.co/z6RUVd8sVv 1 0.8888888888888888\n",
            "@scalzi Happy Birthday Kristine! You were both in a dream of mine last night. I don’t remember much except you were… https://t.co/AiyxS0ODKX 0 0.5555555555555556\n",
            "Happy Birthday Gee 💕💕 1 0.5555555555555556\n",
            "RT @loveasiagirls: Happy New Year 2021 Alexia Anders part.2 https://t.co/ZcfX6ElU7k 1 0.5555555555555556\n",
            "Happy 1 0.7777777777777778\n",
            "RT @ymdi68: 🎁🍩Happy Birthdayプレゼント企画🍩　1/3🎁\n",
            "\n",
            "お誕生日をお祝いして、ぬい小物セットを1名様にプレゼントいたします🥳\n",
            "\n",
            "‖　セット内容　‖\n",
            "・おでかけぬいポーチ\n",
            "・闇の鏡のネームリボン(不屈イエロー)\n",
            "・ぬいのネックレス(つよいつめ)\n",
            "・ぬ… 0 0.5555555555555556\n",
            "lo increíble que se veía jennie happy en  el coachella  espero que se repita algún día https://t.co/3giAx4ynB4 1 0.6666666666666666\n",
            "RT @LyaJKG: @arelih01 @Army_Connect @MrsTOH2O @BTS_twt Guys continue to vote the other fandom is mass voting right now !! \n",
            "🔥Fight for the B… 0 0.5555555555555556\n",
            "RT @DeNiro_Dinero: $EEENF fam - let's temper our expectations for news. I, too, bought into the Shell idea. I still believe a buyout will h… 0 0.5555555555555556\n",
            "RT @smileey188: “I do not care much for birthdays and celebrations, and I do not wish to be around large groups of people”\n",
            "“To be able to s… 0 0.5555555555555556\n",
            "just got an AMAZING deal on this loki pop and i’m so happy 🥺🖤 https://t.co/Udab4Otvoh 1 0.7777777777777778\n",
            "RT @MarcusRashford: Guys I can’t find any pics of me and Donny to wish him a happy birthday, can you help?? Tag him to show some love! @Don… 1 0.5555555555555556\n",
            "A real boyfriend knows his girl like the back of his hand. He knows when she's mad, sad, aggravated, happy, hurt.. because that's his girl. 0 0.8888888888888888\n",
            "RT @gagavodoo: She really love ARTPOP, please keep spamming “SIGN ACT 2 PETITION” for made her happy again! \n",
            "\n",
            "link: https://t.co/BvyTsOo0bg… 1 0.6666666666666666\n",
            "RT @Lyricist_Vivek: Heres the Ruler of Millions of Hearts @actorvijay Sir !! Very Happy to release the Birthday CDP of our dear #Thalapathy… 0 0.5555555555555556\n",
            "@klrahul11 many many happy returns of the day bro, happy birthday 🥳🎂🎂 something’s comes with time, you ought to lea… https://t.co/c8oyizwbbe 0 0.5555555555555556\n",
            "RT @MarcusRashford: It’s your birthday brother, enjoy it! @Donny_beek6 ♥️ https://t.co/AznbSspggu 1 0.7777777777777778\n",
            "RT @cell_0801: Happy birthday #Superman! https://t.co/HwGHN21X6v 0 0.5555555555555556\n",
            "RT @RoxxyClark: Morning morning beautiful day let’s make it a positive one x be happy be kind x option 3 x come chat any topic today guys a… 1 0.6666666666666666\n",
            "So Have nice weekend happy yourself https://t.co/37j507i5E5 1 0.7777777777777778\n",
            "RT @brcblog: Happy Mother's Day to the mother of all mothers.\n",
            "\n",
            "May you #Rain on us your Children, the graces we need to live up to your exp… 0 0.5555555555555556\n",
            "@BaldNickisback Happy Birthday 🎂 to Ruby 0 0.5555555555555556\n",
            "RT @MSuppasitIntl: He’s unboxing new toys! He looks like a happy child. 🥺🤏\n",
            "\n",
            "#LetMEWbuyURdinner \n",
            "@MSuppasit https://t.co/tProsagve2 1 1.0\n",
            "RT @BlackSupremeKai: Just one movie or show, i want her to be in where she just has a good ass time or a great day with no trauma. 0 0.5555555555555556\n",
            "RT @StrictlyChristo: This happy pup spending his first night at his new home after being adopted from the shelter. https://t.co/IzceUV1cnF 1 0.6666666666666666\n",
            "RT @UnwrittenRul3s: Julius is 100% a Kobe disciple. So happy for him. 1 0.6666666666666666\n",
            "RT @ninaturner: Happy Sunday 🤗 1 0.5555555555555556\n",
            "happy end 1 0.7777777777777778\n",
            "Sometimes i wish i could give all my leftover happiness to you so you can be happy. 0 0.5555555555555556\n",
            "RT @teebabyy24: Always putting myself last, just to try make everybody else happy. 0 0.5555555555555556\n",
            "@rocsidiaz SO HAPPY I SAW YOU AGAIN I KNOW YOU CAME BACK FOR ME IN YOUR IG STORIES ROCSI I KNOW YOU CAME BACK FOR M… https://t.co/PRGLYvFpu0 1 0.7777777777777778\n",
            "Good project\n",
            "\n",
            "@Boy7Walley @AriAnto622 @AldoNova98 1 0.5555555555555556\n",
            "❤️ 1 0.8888888888888888\n",
            "RT @thegameawards: 🎂 It's your cake day PORTAL 2. 🎂\n",
            "\n",
            "Happy 10th Anniversary, released on April 18, 2011! https://t.co/VO9OmpPFdL 0 0.5555555555555556\n",
            "Happy Sunday all--TEXAS-friends there please note:\n",
            "SHAWN LASSITER is running for Dem rep in TX-06 Dist. special ele… https://t.co/ZRRWDol9lV 1 0.5555555555555556\n",
            "RT @AgyapongKen: Happy independence day to zimbabwe ⭐⭐⭐⭐ https://t.co/5UgMGdDbO8 0 0.5555555555555556\n",
            "RT @BlackCamaru_: Happy Sunday, let me bless my people.\n",
            "\n",
            "If you’re online reply how much you need asap. Add #EquationAute to your replies. 0 0.5555555555555556\n",
            "@DavidJHarrisJr Happy Anniversary 1 0.5555555555555556\n",
            "RT @Elijaneeslay: Being financially stable &amp; genuinely happy is my ultimate goal right now. 0 0.5555555555555556\n",
            "Happy birthday love@___Pipita ❤️ 0 0.5555555555555556\n",
            "RT @akutuziyhangbae: a quick editing for you P' Guy @SivakornLert 🧡 happy 1M on IG🎉 We love you 🧡 \n",
            "\n",
            "#GuySivakorn\n",
            "#ล้านฟอลแล้วจ้าแฟนจ๋าของกา… 1 0.7777777777777778\n",
            "RT @StrictlyChristo: This happy pup spending his first night at his new home after being adopted from the shelter. https://t.co/IzceUV1cnF 1 0.6666666666666666\n",
            "RT @OGesports: TFW you want to do things with your family to make them happy but rly wish you were playing pubs instead\n",
            "\n",
            "#DreamOG https://t… 0 0.5555555555555556\n",
            "RT @kalyanipriyan: Thank you sooooooo much for sharing this! ♥️ 1 0.8888888888888888\n",
            "RT @MarcusRashford: It’s your birthday brother, enjoy it! @Donny_beek6 ♥️ https://t.co/AznbSspggu 1 0.7777777777777778\n",
            "RT @jayspatrol: I’m happy we have these animated comic book shows going on at the same time https://t.co/kWsVvbTobs 0 0.5555555555555556\n",
            "RT @19Phranchize: When Eddie Kang had to let MFs know who the man was in this bitch! https://t.co/oemdYIR6D3 0 0.5555555555555556\n",
            "Maybe death will lift this burden, maybe it won’t. Some of us aren’t meant to be truly happy. And don’t even compar… https://t.co/i4riGlRF3a 1 0.7777777777777778\n",
            "RT @cumnextdoorperv: Happy Loady Sunday 💦💦\n",
            "\n",
            "NEW VIDEO : https://t.co/JMdFwUEuBH https://t.co/cFETriHb6U 0 0.5555555555555556\n",
            "no matter what i do can’t keep nobody happy 🚮 1 0.5555555555555556\n",
            "@PiersTincknell @devonultimate Oh man!!! So happy for you 💚💚💚💚 0 0.5555555555555556\n",
            "@kellylynnedang Happy Birthday DM🍾🎂🎈🎉 0 0.5555555555555556\n",
            "@THUND3RTWT i was gonna go run to my mom and tell her 'surprise happy mama' (STFU /LH I WAS 6) but instead i said s… https://t.co/QiKrublmLC 1 0.6666666666666666\n",
            "RT @KKiarae: go subscribe and tip the fuck out of my page! then greet me with happy Sunday! Findom WalletDrain titfetish HumanATM sw thread… 1 0.5555555555555556\n",
            "@raybirdee Aaaa proud and happy for you!! I hope he does!!🧡 1 0.8888888888888888\n",
            "RT @strwbrrymilkjn: fairy!jk and mermaid!jimin commission for @Maya71886641 &lt;3\n",
            "\n",
            "i haven't done proper backgrounds in SO long but im really… 0 0.8888888888888888\n",
            "RT @fluffysiwonie: Happy Birthday to the handsome and multitalented Zhoumi! We love you to the moon and back ❤🎂🥳🎉\n",
            "\n",
            "#HappyZhoumiDay @zhoumi_… 1 0.6666666666666666\n",
            "@twiterisshit_ \n",
            "Happy Birthday 🎉 sumit may god bless you with success, happiness and everything that you want 💜🥰\n",
            "Ta… https://t.co/SvuazoloFE 0 0.5555555555555556\n",
            "RT @itsjayessvee: Grief never leaves you. https://t.co/j5aS1Enh0o 0 0.6666666666666667\n",
            "RT @MarcusRashford: Guys I can’t find any pics of me and Donny to wish him a happy birthday, can you help?? Tag him to show some love! @Don… 1 0.5555555555555556\n",
            "RT @lapodje: Happy Birthday to my human sis 🎈! 🐕 https://t.co/Vcbn9G0V4h 1 0.6666666666666666\n",
            "@RubberMoonCross And I’m happy to be said model~ 1 0.5555555555555556\n",
            "RT @koocuddles: if u went to a bts concert dont expect me to be happy for u. jealousy is a disease and i have it! 1 0.6666666666666666\n",
            "RT @StrictlyChristo: This happy pup spending his first night at his new home after being adopted from the shelter. https://t.co/IzceUV1cnF 1 0.6666666666666666\n",
            "RT @kobehighlight: Flashback to the 2000 champion Lakers locker room with Kobe and Vanessa Bryant\n",
            "\n",
            "Happy Anniversary 🙏 https://t.co/MhN0HxL… 1 0.6666666666666666\n",
            "@lewsvans Your print turned out beautifully - black frame, espesso top matte, purple edge for under-matte. The colo… https://t.co/Cu5Yh9SJQo 0 0.5555555555555556\n",
            "RT @cowboy_like_me_: “tears of joy fill his eyes and for the first time all season dean is happy” shut the fuck up. unrequited my ass i am… 1 0.6666666666666666\n",
            "RT @Chealy_: An unforgettable Dáil speech: Michael D Higgins speaking against cutting the minimum wage in 2010. Happy birthday to a legend.… 0 0.5555555555555556\n",
            "@_phall_ Happy Birthday to the rich 🐐 https://t.co/JmGaKFJoUb 1 0.5555555555555556\n",
            "RT @BlackCamaru_: Happy Sunday, let me bless my people.\n",
            "\n",
            "If you’re online reply how much you need asap. Add #EquationAute to your replies. 0 0.5555555555555556\n",
            "RT @XxTarashimaxX: This dlc messed me up in every good way possible, with so much laughter, tears and happy feels. I knew what the ending w… 1 0.5555555555555556\n",
            "Damn, I miss Kauai 0 0.7777777777777778\n",
            "RT @CasIsLoved: self-loathing, self-hating dean, who thought about himself as nothing more than a killer and poison, this dean was HAPPY, t… 0 0.5555555555555556\n",
            "RT @StrictlyChristo: This happy pup spending his first night at his new home after being adopted from the shelter. https://t.co/IzceUV1cnF 1 0.6666666666666666\n",
            "❤️❤️ 1 0.8888888888888888\n",
            "RT @19Phranchize: When Eddie Kang had to let MFs know who the man was in this bitch! https://t.co/oemdYIR6D3 0 0.5555555555555556\n",
            "RT @ihaveabluebox: happy birthday david tennant 🥲 https://t.co/u1CqxazfZL 1 0.6666666666666666\n",
            "Manyy Manyy Happy Returns Of The Day&lt;3\n",
            "\n",
            "#HBD_JuniorBadami @WaseemBadami 0 0.5555555555555556\n",
            "RT @Mathi11059863: Look at both the faces \n",
            "The presenter and getter are with happy faces\n",
            "Mutual happiness #ashaangi https://t.co/eZ7itUEiSJ 1 1.0\n",
            "As always, I’m very happy that DJ LeMahieu is a Yankee. #TBvsNYY 1 0.8888888888888888\n",
            "RT @KaylarWill: I deserve to be happy af. 1 0.8888888888888888\n",
            "So young 1 0.6666666666666666\n",
            "@Avi_Kaplan Cutie now and then :) happy 32 Avi ! 1 0.6666666666666666\n",
            "Haven’t Been Outta Jersey In Years Ima Be Happy &amp; Fried On That Plane Tomorrow 😂 0 0.7777777777777778\n",
            "I need a gentleman. Class act. Morally righteous. High figures. High self esteem. God fearing. Family oriented. Ath… https://t.co/GsfdkKccPZ 1 0.6666666666666666\n",
            "RT @StrictlyChristo: This happy pup spending his first night at his new home after being adopted from the shelter. https://t.co/IzceUV1cnF 1 0.6666666666666666\n",
            "RT @eldestdaughterr: \"Dean SMILES, and for the first time all season, he is HAPPY--\" https://t.co/xrrYy1Ib8h 1 0.5555555555555556\n",
            "@katie_jr Have they started already? “Happy to have your friendship here.” 😂😂😂 0 0.5555555555555556\n",
            "RT @786moins: #GoodMorning_Friend\n",
            "Wherever you are be happy,friends do not meet you\n",
            "You must be\n",
            "STAY SAFE♥️TAKE CARE\n",
            "Follow 👇❤️🔂\n",
            "@MuhammedB… 0 0.5555555555555556\n",
            "RT @Sweet_BunnyXXX: Happy Sunday love!🐰\n",
            "I wanna stay in bed all day long😂\n",
            "You can join me😇 https://t.co/LtTHxYV0WL 0 0.5555555555555556\n",
            "@thami_shenge Happy birthday Mr Shenge https://t.co/aMdhPrHr9r 0 0.5555555555555556\n",
            "RT @MarcusRashford: It’s your birthday brother, enjoy it! @Donny_beek6 ♥️ https://t.co/AznbSspggu 1 0.7777777777777778\n",
            "THE ROCKET AND BUCKY DUO IN INFINITY WAR WILL NEVER NOT MAKE ME HAPPY 1 0.6666666666666666\n",
            "RT @itsmeMIKIB: Some of the boards I did of Steven fighting Jasper for Fragments of Steven Universe: Future. (There's no audio 🤫) Happy to… 1 0.5555555555555556\n",
            "RT @wheeinthefandom: I'm just glad I voted and streamed when I can. It makes me happy ngl, even if it doesn't help much. 1 0.6666666666666666\n",
            "RT @utdreport: Greenwood: \"I'm happy I'm playing a lot, Ole [Gunnar Solskjær] trusts me and I do my best on the pitch and try to help my te… 1 0.8888888888888888\n",
            "Single and Flirting 0 0.5555555555555556\n",
            "RT @kobehighlight: Flashback to the 2000 champion Lakers locker room with Kobe and Vanessa Bryant\n",
            "\n",
            "Happy Anniversary 🙏 https://t.co/MhN0HxL… 1 0.6666666666666666\n",
            "RT @LyaJKG: @arelih01 @Army_Connect @MrsTOH2O @BTS_twt Guys continue to vote the other fandom is mass voting right now !! \n",
            "🔥Fight for the B… 0 0.5555555555555556\n",
            "RT @sabawi_ss: R: What’s this?\n",
            "M: I will say it, but I need a little bit of convincing first. \n",
            "R: come on now\n",
            "M: bow I am convinced; it is… 1 0.5555555555555556\n",
            "RT @Snyder_Cut_240: Happy 83rd Anniversary to one of the best superheroes of all time. \n",
            "\n",
            "#Superman\n",
            "#RestoreTheSnyderVerse https://t.co/HVIM… 0 0.5555555555555556\n",
            "RT @Sweet_BunnyXXX: Happy Sunday love!🐰\n",
            "I wanna stay in bed all day long😂\n",
            "You can join me😇 https://t.co/LtTHxYV0WL 0 0.5555555555555556\n",
            "@halo_stfu @AmazingPhil @danielhowell I'll stop when he wishes my boyfriend happy birthday. 1 0.7777777777777778\n",
            "RT @syoogas: happy sunday everyone https://t.co/SKInGiGa1W 1 0.8888888888888888\n",
            "RT @Wikimon_news: Happy birthday to Maeda Ai/AiM (@ai_max), the voice of Tachikawa Mimi in Adventure &amp; 02, Sayo in Cyber Sleuth, the co-voi… 1 0.5555555555555556\n",
            "Seems fairly accurate. Quite frankly, I'll be happy to see the back of the self-appointed 'big 6'… https://t.co/ohYMvmyHYp 1 0.5555555555555556\n",
            "Happy Birthday Champion&lt;3\n",
            "\n",
            "#HBD_JuniorBadami @WaseemBadami 0 0.5555555555555556\n",
            "RT @yavuzmazlum61: Good morning 💞🌷💞Happy sunday dear friends. https://t.co/EvE1NfNJGc 1 0.7777777777777778\n",
            "@Unknown_OG2 happy birthday 💙 https://t.co/BpRsDbvyof 0 0.5555555555555556\n",
            "RT @Shriyamania: Happy Sunday🎉😃🤩\n",
            "Hottest liplock of #Sunaina from the latest webseries🔥💋💋💋🔥\n",
            "'Nila Nila Odi Vaa' https://t.co/tsdDkGUXEq 1 0.5555555555555556\n",
            "@SmwseRF_ @HolyLarss @rosiebakerx Im so happy that girl cheated on you 0 0.5555555555555556\n",
            "RT @PARISDENNARD: Happy Birthday, @kayleighmcenany! https://t.co/BUfxDRzSRj 1 0.5555555555555556\n",
            "@C0MPENSATING happy bestie 1 1.0\n",
            "RT @wildflowerdaysi: putting yourself through misery and manipulation to make other people happy is never worth it. take your power back 0 0.5555555555555556\n",
            "RT @ColeyIngram: And finally, my favorite boy ever. I drew him last night, still trying different styles. Happy boy!! Anduin is happy, very… 1 0.5555555555555556\n",
            "HAPPY BIRTHDAY THE MOST BEAUTIFUL &amp; PERFECT PERSON IN THE WORLD @Tanyaa_Sh 🤍 GET ALL THE LOVE &amp; HAPPINESS OF THIS W… https://t.co/YKl3moYWqN 0 0.5555555555555556\n",
            "I managed a 4 mile potter around Bicester!!🤣🤣 0 0.6666666666666667\n",
            "RT @sabawi_ss: R: What’s this?\n",
            "M: I will say it, but I need a little bit of convincing first. \n",
            "R: come on now\n",
            "M: bow I am convinced; it is… 1 0.5555555555555556\n",
            "RT @Sci_Phile: @MarkRober Hey brother, as I just “came out” and am working with ASD orgs, happy to help out on the livestream, if need be.… 1 0.5555555555555556\n",
            "Happy Birthday @CuleAryy @NavratriNeymar @MotichurMessi @StanAryy @AltForAry 🎉🎉. Have a wonderful one. Be Happy and… https://t.co/GX5EyeuAvE 1 0.6666666666666666\n",
            "RT @koksterberly: Advance happy birthday to our one and only happiness Kim Chiu \n",
            "@prinsesachinita \n",
            "We love you always and forever \n",
            "Cto ( og… 1 0.7777777777777778\n",
            "RT @lucero_4315: banda makes my heart so happy &lt;3 0 0.5555555555555556\n",
            "RT @Max33Verstappen: YES BOYS, very happy with this win! 🏆 It was tricky out there! Simply lovely performance 🤘 🇮🇹 #ImolaGP https://t.co/bb… 1 0.7777777777777778\n",
            "Pico uzivam si život na max teď a jsem fakt happy ze odchazi covid a už bude život v poradku.. ale jestli přijde ně… https://t.co/uQE4D7ugNq 1 0.5555555555555556\n",
            "RT @sabawi_ss: R: What’s this?\n",
            "M: I will say it, but I need a little bit of convincing first. \n",
            "R: come on now\n",
            "M: bow I am convinced; it is… 1 0.5555555555555556\n",
            "お洒落じゃないし　デリカシーもないし　仲間とバカをして　でも一緒だとHappyで　君は\"既読\"ね！　ココロの奥を！　（READ MEEE!!!!） 1 0.7777777777777778\n",
            "@lovermutt YELLING FROM ATOP THE SUN\n",
            "HAPPY GD BIRTHDAY FRIEMD!!!!!!!!!!!!!!!!!!! https://t.co/1ICVX1KTWF 1 0.7777777777777778\n",
            "RT @dominiquemeshal: I’m so happy everybody whooped his ass. 1 0.8888888888888888\n",
            "RT @HolyZak: This what I call an impact @ZackSnyder @WarnerMedia @hbomax you see #RestoreTheSnyderVerse 0 0.5555555555555556\n",
            "RT @dorsanamayshi: Let's make our boys happy :)💜\n",
            "\n",
            "WORLDWIDE BTSARMY ATTACK\n",
            "#BTSARMY #BestFanArmy #iHeartAwards https://t.co/416UPKYn4C 1 0.6666666666666666\n",
            "RT @kc_leavitt: Happy happy birthday to the one and only @kayleighmcenany 🇺🇸💗\n",
            "\n",
            "The best Press Sec, boss, and friend! https://t.co/swtNVLxigf 1 0.7777777777777778\n",
            "RT @ralakalar: Miran: where is lutfu\n",
            "Asye: I don’t know. this man came to make me crazy \n",
            "Miran: he cane to make u happy  #HayatSevinceGüzel 0 0.5555555555555556\n",
            "@highplainsgrif1 Yup. I’m pulling for McLaren and am happy that Lando held on to 3rd. McLaren is also on pole for today’s Indycar race. 1 0.6666666666666666\n",
            "RT @tilewa__: Please kindly ignore the comments.. these people are somehow. U deserve everything. Dm me for no 40,41.. happy birthday ❤️ 1 0.8888888888888888\n",
            "RT @Mrs_Smale: I missed the game but happy the boys did well!!🙌🏼 0 0.8888888888888888\n",
            "RT @discord: flashback to arguing with your sibling for 3 hours before realizing you could fling yourselves at each other. happy 10th anniv… 1 0.6666666666666666\n",
            "RT @tku_official: Happy Birthday QUEEN CHIU https://t.co/cUxynsBM9g 1 0.7777777777777778\n",
            "RT @SelemaEnang: I remember when my dad died &amp; one year had passed.\n",
            "\n",
            "I updated my status saying happy birthday and someone sent me a messag… 0 0.6666666666666667\n",
            "Happy Anniversario Oppa, We love you!!🎊🎉🙌🥰😘💙💙💙\n",
            "\n",
            " #YesungSoloDebut5thAnniversary #Yesung #예성솔로5주년 #예성 #SUPERJUNIOR 0 0.5555555555555556\n",
            "RT @kaparna96: Sorry but I really can't help how happy and shy they look, they are always like this when they are together and the fact tha… 0 0.6666666666666667\n",
            "dean’s gay little love of his life comes back in the place dean chose to spread his ashes and tears of joy fill dea… https://t.co/LXkXmnIzIl 1 0.7777777777777778\n",
            "Happy birthday @CuleAryy enjoy the day❤️ 1 0.7777777777777778\n",
            "RT @fionnEV: @MimiTajiri So many people don’t understand grief and loss. ‘Moving on’ doesn’t mean forgetting who you loved. So happy she ha… 1 0.6666666666666666\n",
            "RT @terryandrob: A very, very Happy Birthday to our Demon Crowley #DavidTennant https://t.co/nBfsCBPldm 0 0.5555555555555556\n",
            "Proud❤️ 1 0.8888888888888888\n",
            "RT @Elijaneeslay: Being financially stable &amp; genuinely happy is my ultimate goal right now. 0 0.5555555555555556\n",
            "RT @the__browngirl: Sometime we pretend to be happy just to lie to oyr fears..!! 1 0.7777777777777778\n",
            "RT @itsLaycon: I love you and I miss you.\n",
            "Keep watching over me and keep sending them bars.\n",
            "\n",
            "RIP DAD. ♥️\n",
            "Happy birthday to you. 1 0.6666666666666666\n",
            "RT @dtennantgifs: Happy 50th Birthday, David Tennant! ❤️ https://t.co/3oTGFmurCS 0 0.5555555555555556\n",
            "Aww I love how happy she is to work with him again and filming OC tomorrow 😍😍 0 0.6666666666666667\n",
            "@TDF4LIFE30 Happy 1 0.7777777777777778\n",
            "RT @Snyder_Cut_240: Happy 83rd Anniversary to one of the best superheroes of all time. \n",
            "\n",
            "#Superman\n",
            "#RestoreTheSnyderVerse https://t.co/HVIM… 0 0.5555555555555556\n",
            "Happy Birthday @Iam__Rashmi. May all your wishes and dreams come true. Stay blessed.🥳🎂 1 0.5555555555555556\n",
            "my grandma got me frog themed decor for my room and i am happy stimming so much right now :DDDDDDD 0 0.7777777777777778\n",
            "@biharigurl Happy Birthday🎂 Enjoy your life 0 0.5555555555555556\n",
            "RT @trannylovee: Happy Sunday https://t.co/IJaqSttJv3 1 0.6666666666666666\n",
            "RT @Nyuudles: Happy birthday @Macho_Juice ! 🥰🙏\n",
            "\n",
            "Chris post workout https://t.co/C8oKl5ee2s 1 0.6666666666666666\n",
            "sebastian stan nsfw monday movie nude scene full frontal leaked #sundayvibes tiktok promo gc leaked happy birthday… https://t.co/setVBG0d1U 1 0.7777777777777778\n",
            "RT @BlackSupremeKai: Just one movie or show, i want her to be in where she just has a good ass time or a great day with no trauma. 0 0.5555555555555556\n",
            "RT @KinkyCorvy: FINALLY! Corvy fucks something! (And it’s his bf @GayestBird), grinding and frotting their cocks out in front of the Corvid… 0 0.5555555555555556\n",
            "@MarcusRashford @Donny_beek6 Happy Birthday Donny 🎉🎉🎉 0 0.5555555555555556\n",
            "RT @Kasah_yun: 테넌트 생일이람서요\n",
            "Happy 50th Birthday, David Tennant!\n",
            "#HappyBirthdayDavidTennant \n",
            "\n",
            "#DavidTennant \n",
            "#DoctorWho #Broadchurch #GoodOmen… 0 0.5555555555555556\n",
            "RT @Mamba_Insider: Happy anniversary Kobe and Vanessa Bryant 💜💛 https://t.co/4Z35qInHSc 0 0.5555555555555556\n",
            "RT @ckst: HAPPY BIRTHDAY❣ MAKI🍅\n",
            "#西木野真姫生誕祭2020 #西木野真姫誕生祭2020 https://t.co/I0h1yOef9W 1 0.6666666666666666\n",
            "RT @Cwiklowa: Good morning for all🌞\n",
            "I wish you all a happy week❄🐈❄\n",
            "@sachiko19691969 @778_Aoi @Mahmood93400984 @mamanina736 @tmelissen1219 @… 0 0.5555555555555556\n",
            "im like, really happy with how nuanced her responses to everything were and how she was sensitive to the shit that… https://t.co/uNtQEkBtE6 1 0.5555555555555556\n",
            "RT @RenaultSpSeries: Happy to help @MercedesAMGF1, just fill in the empty spaces, we’ll pay the entry fees 😉 https://t.co/apaQZua7WQ 1 0.5555555555555556\n",
            "@MauriceEdu Happy birthday Sir - one of my favourite bears 1 0.6666666666666666\n",
            "RT @247LC: Happy birthday Fredro Starr, 50! https://t.co/y5J1ZCywbe 1 0.5555555555555556\n",
            "happy 1 1.0\n",
            "RT @shhhivani: THEY LOOK SO HAPPY https://t.co/LlckOTy6gn 1 0.6666666666666666\n",
            "RT @wathonianyansi: HAPPY BIRTHDAY TO ME.\n",
            "She priceless, she amazing, she be your ride or die but sometimes she finna be a handful. \n",
            "Is 30… 1 0.7777777777777778\n",
            "RT @italianostyle2: Happy Sunday ☀️\n",
            "Follow everyone who likes &amp; retweets\n",
            "Drop your name\n",
            "#TEAMSTALLION🐎💫\n",
            "@italianostyle2 \n",
            "@MarEthr \n",
            "@MagDivi… 1 0.7777777777777778\n",
            "🇿🇼🇮🇱 1 0.8888888888888888\n",
            "RT @terryandrob: A very, very Happy Birthday to our Demon Crowley #DavidTennant https://t.co/nBfsCBPldm 0 0.5555555555555556\n",
            "RT @SCian213: @SurbhiChandna is supporting RCB 🤩\n",
            "So happy 😍😍🥳\n",
            "#SurbhiChandna #RCBvKKR https://t.co/08jU4MVGBN 1 0.7777777777777778\n",
            "RT @oodoneout: Happy 50th birthday David Tennant ❤️ https://t.co/MvFznUKiME 1 0.6666666666666666\n",
            "@mtnug Am not happy, it's now 2months asking 4 help but MTN service is not responding to my issues until I went tod… https://t.co/JKIYaE05vF 0 0.7777777777777778\n",
            "RT @Elijaneeslay: Being financially stable &amp; genuinely happy is my ultimate goal right now. 0 0.5555555555555556\n",
            "RT @haropurodaily: On this day 20 years ago, Country Musume ni Ishikawa Rika (Morning Musume)'s 5th single \"Hajimete no Happy Birthday!\" wa… 0 0.5555555555555556\n",
            "RT @RenaultSpSeries: Happy to help @MercedesAMGF1, just fill in the empty spaces, we’ll pay the entry fees 😉 https://t.co/apaQZua7WQ 1 0.5555555555555556\n",
            "RT @littledaora: Penguin Reylo Chapter 5:\n",
            "Welcome to Penguin Reylo Shop💓💓\n",
            "\n",
            "#PenguinReylo https://t.co/fChknxvNrl 1 0.5555555555555556\n",
            "RT @AmiSaDaI32: Happy anniversary !!🎉 \n",
            "Sigue dando lo mejor de ti baby!\n",
            "Eres mega talentoso y aparte de eso una hermosa persona que merece… 0 0.7777777777777778\n",
            "RT @opalauras: i am so happy we exist at the same time 1 0.5555555555555556\n",
            "RT @blaze0497: When This Veteran Saw A Mexican Flag Flying Over A U.S. Flag He Wasn't Happy... (Video)\n",
            "This Is Still #America \n",
            "\n",
            "https://t.c… 1 0.5555555555555556\n",
            "RT @Realeboga_Ree: So cute 🥺 Tlisang Six Gun https://t.co/f9HmAK7pWy 1 0.6666666666666666\n",
            "RT @alankellylabour: A big happy birthday to @PresidentIRL \n",
            "\n",
            "#MichaelD80 has been a true servant to our republic and has given decades of s… 1 0.8888888888888888\n",
            "RT @KaylarWill: I deserve to be happy af. 1 0.8888888888888888\n",
            "RT @terryandrob: A very, very Happy Birthday to our Demon Crowley #DavidTennant https://t.co/nBfsCBPldm 0 0.5555555555555556\n",
            "@misstkjiya do the needful 0 0.5555555555555556\n",
            "@markberkins Thor Ragnorak. There I said it happy?\n",
            "\n",
            "Genuine second, and pretentious, The Virgin Spring. 1 0.6666666666666666\n",
            "Happiness is Mandatory. Citizen,are you happy? 1 0.7777777777777778\n",
            "RT @tku_official: Happy Birthday QUEEN CHIU https://t.co/P5ZC9EbgbC 1 0.6666666666666666\n",
            "Aaron bitchessss ! Lmao I beg the elder, I dey wait you \n",
            "Thanks a lot big bro 🙏🏽❤️ 1 0.5555555555555556\n",
            "RT @Amma_Ns3mone: I’m 1cm taller today. Hurrayyyyyy.\n",
            "Happy height day to me🥳🥳🥳🥳🥳🥳 https://t.co/mf0Fvt8RVM 1 0.5555555555555556\n",
            "Life throws people at you that trigger the  f out of you but it’s a test to see how you’ll react. And a reaction is… https://t.co/Ht4fMR0Xtd 1 0.5555555555555556\n",
            "RT @sw3chubster: Happy Friday sluts and studs! Have a double creampie vid as a treat... 💦💦💦 https://t.co/XdrdpRycUp 1 0.5555555555555556\n",
            "RT @chubby_shark: You maybe saw this over on @vetoknox acc a couple of days ago, but it's so nice, I'm happy with it and here's my upload.… 0 0.5555555555555556\n",
            "RT @LailaBadami14: Happy birthday to a very special little boy \n",
            "May your day be full of love,Fun nd laughter \n",
            "@WaseemBadami \n",
            "#HBD_JuniorBad… 1 0.5555555555555556\n",
            "RT @partyanimalhall: they havent been this happy in a while. bless atlanta fr https://t.co/vICJ8fcjIV 1 0.8888888888888888\n",
            "RT @amandaaurelius1: Happy Sunday all--TEXAS-friends there please note:\n",
            "SHAWN LASSITER is running for Dem rep in TX-06 Dist. special electi… 1 0.5555555555555556\n",
            "RT @PARISDENNARD: Happy Birthday, @kayleighmcenany! https://t.co/BUfxDRzSRj 1 0.5555555555555556\n",
            "@JustinTrudeau You get what you vote for. Hope Canadians are happy with there choice. 1 0.7777777777777778\n",
            "RT @HAMZAMIN8S2: 오마이갓\n",
            "갑자기 구독이 늘은 이유가 있었군요 0.0 \n",
            "인알들 너무 귀엽네요 HAPPY~ \n",
            "  (뽀송뽀송 솜털 민들레 ... ) \n",
            "이 친구는 자만이가 아니라 흰햄용사라고 합니다!! ⚪️🤍🖤 감사합니다!! https://t… 1 1.0\n",
            "@mangoku418 Happy birthday man! 0 0.5555555555555556\n",
            "RT @SciFi31: Happy National Animal Crackers Day! #NationalAnimalCrackersDay #Armageddon @LivTyler @benaffleck @michaelbay https://t.co/sFBh… 0 0.5555555555555556\n",
            "RT @Christo51167585: 🤣 1 0.5555555555555556\n",
            "RT @catturd2: \"How dare them not wear masks!\" ... Liberals watching this. 1 0.6666666666666666\n",
            "@dogdog This post is so cute awwww!! Happy birthday @itshafu!!! Birthday twins &lt;3 1 0.6666666666666666\n",
            "@FrauSchrullig Happy Birthday 🎁🎂🍾🥂🙋‍♂️ https://t.co/1II4V0uY3X 0 0.5555555555555556\n",
            "@UnathDitaunyane Happy birthday lady 0 0.5555555555555556\n",
            "@Shikha_Babu Okay :) happy birthday!! 1 0.8888888888888888\n",
            "@sosagoth happy birthday king 0 0.5555555555555556\n",
            "Happy mwunchary, I love you! @MercadoWendel https://t.co/IJkAkuupme 1 0.6666666666666666\n",
            "RT @vicky_gilmour: @MyPeakChallenge Getting tweets from happy tweeters who like what I do. https://t.co/kcBlvtsAKN 1 0.7777777777777778\n",
            "RT @Becsx5: Happy Saturday boys👅 who wants to play🤑 reweet and ill send you a quick preview of what happens next😈 https://t.co/usSEFDgUYt 1 0.6666666666666666\n",
            "RT @Darth_Ferb: Happy Meap day! @BeeTee_RUS, happy Mitch day! Or Big Mitch day https://t.co/khfUOli3MZ 1 0.5555555555555556\n",
            "RT @safeforliam: if liam payne is happy so am i https://t.co/mdasyP3IIu 1 0.6666666666666666\n",
            "RT @WORLDMUSICAWARD: Happy Birthday to #Italy's very talented #GiusyFerreri! 👩‍🎤💐🎂‍🍾🎁🎉🎇 ☀️👑 @giusyferreri \n",
            "https://t.co/l9dTcGamLe https://… 1 0.7777777777777778\n",
            "RT @delectogasm: Happy National Send Nudes Day! Like or reply if you want to celebrate 😉 1 0.5555555555555556\n",
            "RT @XXL: Happy birthday, @heyamine! 🎉\n",
            "\n",
            "What’s his best project? https://t.co/ntVLuEc6U5 1 0.7777777777777778\n",
            "@SuperSportTV congratulations to Mabhakabhaka but I'm not happy ngo coach wethu, how can you play with 3 right back… https://t.co/0GLa4QW1tw 0 0.5555555555555556\n",
            "RT @Bakatsine_real: Happy iftar fam❤\n",
            "#greenweunite \n",
            "@GrassLord_\n",
            "@Dan_Mummy01 \n",
            "@_Yoddha_ \n",
            "@Suleey7 \n",
            "@jaloskid_01 \n",
            "@Bakouri01 \n",
            "@fahd_veg \n",
            "@ba… 1 0.7777777777777778\n",
            "RT @THEFAVOURITE_: Happy 50th Birthday to the man, the myth, the legend, David Tennant!\n",
            "\n",
            "https://t.co/6Cy3qcrCpG 0 0.5555555555555556\n",
            "T amo ❤ 1 0.5555555555555556\n",
            "@mellors_karen @petejm1958 @helenmallam @HeldinEU @SariellaForever @AmberGoth @carbonsaveruk @Yah_Reed… https://t.co/IfXzIHiLeJ 0 0.5555555555555556\n",
            "Hi \n",
            "KL\n",
            "Happy wala birthday 🎂🎉\n",
            "Please try my best team \n",
            "1 Mayank Agarwal,\n",
            "2 Chris Gayle, \n",
            "3 KL Rahul, \n",
            "4 devid Malan… https://t.co/9IWwfBQZb9 1 0.7777777777777778\n",
            "RT @revseventandart: Happy 60th birthday - if I look half as good at the same age ......\n",
            "#whoamikidding https://t.co/9l9zXl1aXg 1 0.8888888888888888\n",
            "RT @Thecuteststar: And they are LIVE \n",
            "They are very happy \n",
            "They are very Excited \n",
            "And so we are ! #Dishul \n",
            "\n",
            "MADHANYA Out Today \n",
            "@rahulvaidy… 1 0.8888888888888888\n",
            "RT @littledaora: “🎶Oh BenBenBen had a farm\n",
            "Ee I ee i o\n",
            "And on his farm he had some sharks \n",
            "Ee i ee i o🎶”\n",
            "\"What song!?\"\n",
            "\"Rey's happy magic s… 1 0.5555555555555556\n",
            "Happy Birthday Ski And Danny @THESLUMPGOD  @DannyTowerss Hope you and Danny have a Wonderful ass day filled with many more 0 0.5555555555555556\n",
            "Happy b'day ra @itsDevRA \n",
            "Have a great yr ahead. Stay happy always ❤✨ 1 0.7777777777777778\n",
            "@captsinghjs It is. Just be trigger happy at IB 1 0.7777777777777778\n",
            "RT @queens_mmm: The best thing about this comeback isn’t even how good the song is how good the album is or how good the stages are every t… 1 0.7777777777777778\n",
            "Fr best team ❤️ 1 0.8888888888888888\n",
            "https://t.co/ECpm4gWWre be happy best of deals only in https://t.co/ECpm4gWWre https://t.co/kofJAymUwc 1 0.8888888888888888\n",
            "Must nice.. 1 0.7777777777777778\n",
            "RT @xNERDYANGELx: dean smiles and for the first time all the season , he’s HAPPY https://t.co/JRFEhqSbBL 1 0.8888888888888888\n",
            "RT @ckst: 去年の再掲 #西木野真姫生誕祭2021 1 0.6666666666666666\n",
            "RT @hhazelboyy: @glaiv3 Hey hi hello 1 1.0\n",
            "@BucherMathew I know it's a long season &amp; all that, but I'm not going to happy when the Padres lose, I'm just not.… https://t.co/uxOTX37EYh 0 0.7777777777777778\n",
            "RT @MUFC_redarmy99: Happy Birthday to the King of facial expressions, Donny Van De Beek. https://t.co/MjnKrdHXsN 0 0.5555555555555556\n",
            "Never been so happy and disappointed at the same time about a wrong number 0 0.8888888888888888\n",
            "Me siento happy 1 0.7777777777777778\n",
            "RT @IAmYoungDana: Kill me, that's talent God wasted... \n",
            "\n",
            "Happy King day to me! VII https://t.co/lS3jwpEs08 0 0.5555555555555556\n",
            "RT @terryandrob: A very, very Happy Birthday to our Demon Crowley #DavidTennant https://t.co/nBfsCBPldm 0 0.5555555555555556\n",
            "@aomelo_haru \n",
            "😘👑💓Happy Birthday💓👑😘 0 0.5555555555555556\n",
            "@jubscarey happy bday to uu 1 0.8888888888888888\n",
            "RT @taeteland: happy&amp;sweet taehyung https://t.co/tH6PJsjPG5 1 0.8888888888888888\n",
            "RT @luciferagb: happy wanking https://t.co/kGAVjZdFjV 1 0.8888888888888888\n",
            "RT @iJKLUVIE: jennie es tan pure y beautiful jennie es tan cute me hace happy https://t.co/MErucxLwRk 1 0.8888888888888888\n",
            "RT @Vintage_Utd: When Donny’s happy, we’re all happy. https://t.co/AxdoCdzt4W 1 0.7777777777777778\n",
            "RT @Snyder_Cut_240: Happy 83rd Anniversary to one of the best superheroes of all time. \n",
            "\n",
            "#Superman\n",
            "#RestoreTheSnyderVerse https://t.co/HVIM… 0 0.5555555555555556\n",
            "RT @prakashachary1: @ShivamN83364669 @shreyasakshi19 @Sid_meri_jaan_ @deb_rajnandini @HarshChSidheart @punjabi_kudi_20 @DeepakB93234491 @si… 1 0.5555555555555556\n",
            "RT @Birmingham_81: Happy birthday to the supremely cool Les Pattinson. Here are the Bunnymen with The Back of Love\n",
            "https://t.co/1Z8iQL28dO 1 0.5555555555555556\n",
            "@mioneazk Happy 1 0.5555555555555556\n",
            "@LoyalMIfan @Iam__Rashmi Happy birthday @Iam__Rashmi 🥳🥳 1 0.5555555555555556\n",
            "I’M SO HAPPY I POSTED THIS HERE ON A WHIM BEST DECISION EVER https://t.co/pqK7GgD7Wa 1 0.8888888888888888\n",
            "@avagaries I thought Republicans were in favor of capitalism.\n",
            "\n",
            "You know, where businesses make business decisions b… https://t.co/iV7JG22rYc 0 0.7777777777777778\n",
            "RT @YFuyuVT: I really love the fact that I have you guys as my vtuber family ;--; so sweet !! ♥️♥️♥️🌸🌸 https://t.co/VsySIMEI6H 1 0.7777777777777778\n",
            "Happy Sunday 🧡 https://t.co/JmFlyXBafx 1 0.5555555555555556\n",
            "RT @StrictlyChristo: This happy pup spending his first night at his new home after being adopted from the shelter. https://t.co/IzceUV1cnF 1 0.6666666666666666\n",
            "RT @ralakalar: Miran: where is lutfu\n",
            "Asye: I don’t know. this man came to make me crazy \n",
            "Miran: he cane to make u happy  #HayatSevinceGüzel 0 0.5555555555555556\n",
            "𝓢𝓾𝓹𝓮𝓻𝓕𝓵𝔂\n",
            " #AllDay\n",
            ".\n",
            ".\n",
            ".\n",
            ".\n",
            "\n",
            "#florida #superfly #fashion #fashionstyle #abs #bodypositivity #alldayeveryday… https://t.co/TwKrzsENzE 1 0.6666666666666666\n",
            "RT @RadioFreeTom: The missus and I are are headed out soon for Jab Number 2 and I am singing happy songs. 0 0.5555555555555556\n",
            "RT @cell_0801: Happy birthday #Superman! https://t.co/HwGHN21X6v 0 0.5555555555555556\n",
            "RT @DeannaHershber3: Happy Loving, Cuddles Sunday!😃\n",
            "Its a beautiful day!!🌞🌞🌞🌞🌞\n",
            "Love You All!!💙💙🦋💙💙 https://t.co/lms4s5Z6UT 1 0.5555555555555556\n",
            "Happy Birthday @itsDevRA mate. Enjoy your day and Stay safe and happy 🥳 0 0.5555555555555556\n",
            "Happy Chap 👮‍♂️#dcelk https://t.co/04vLxPpoUb 1 0.5555555555555556\n",
            "RT @StrictlyChristo: This happy pup spending his first night at his new home after being adopted from the shelter. https://t.co/IzceUV1cnF 1 0.6666666666666666\n",
            "RT @akakrcb6: Man as a RCB fan you would never know how much Maxwell knock mean ... Guy came and belted middle overs which was weakness for… 0 0.5555555555555556\n",
            "hello happy sunday everyone .. i'm back! .. this week I will share the last thing I have done, I just need to finis… https://t.co/Jy5HDzqEBM 1 0.7777777777777778\n",
            "RT @19Phranchize: When Eddie Kang had to let MFs know who the man was in this bitch! https://t.co/oemdYIR6D3 0 0.5555555555555556\n",
            "@Moorethanme_ Happy Birthday!!! 0 0.5555555555555556\n",
            "Happy Sunday here’s some vintage first editions I just picked up 🦊🌊🔥⚡️ https://t.co/ZZuAYUA5Mg 1 0.5555555555555556\n",
            "Anyway today is Sunday. Happy Sunday to doujin artists. And a big f*ck you to the people who hate on them because t… https://t.co/zJei7SIsCE 1 0.6666666666666666\n",
            "@Yeezy_Dizzle @MohauSam @thatotsetsewa U need to be focused on yr plans ,just only sunday services to attend our mictiley god will be happy 1 0.5555555555555556\n",
            "RT @ILETOPSS: It's another wonderful time to see my handsome fave on screen ♥️♥️ and I'm so so happy 💯🤍☺️\n",
            "#KOFShow\n",
            "OZO THE BUD KING\n",
            "BUD FOO… 1 0.7777777777777778\n",
            "Happy birthday sthandwa @daisythando I hope you had an amazing one 🥂❤️ 1 0.7777777777777778\n",
            "Happy happppy #teamshirleydiwas Teamshirleyyyy and @ShirleySetia  we are moree strongg and on thiss journeyyy toget… https://t.co/BGwmJTI5d5 1 0.7777777777777778\n",
            "RT @vonniebigbrutha: If it ain’t gone keep me happy or make me money I don’t wanna be involved 0 0.5555555555555556\n",
            "RT @shhhivani: THEY LOOK SO HAPPY https://t.co/LlckOTy6gn 1 0.6666666666666666\n",
            "RT @hiiyuki: a happy musician and his new equipment friends 🎶 🍊 \n",
            "#bts #suga #yoongi https://t.co/3W9bkBfbwC 1 0.6666666666666666\n",
            "@JJRossReaders Happy Birthday to you! 0 0.5555555555555556\n",
            "Grande, @marcmarquez93! Today you've exploded by emotions, only you know the feeling well. As one of your millions… https://t.co/76hPrxUOvM 0 0.5555555555555556\n",
            "@McLarenF1 @LandoNorris Congratulations on 🥉🍾\n",
            "So happy for you &amp; entire team 💪🧡  Shame @ZBrownCEO is at @IndyCar https://t.co/TwTrQEFXbO 1 0.6666666666666666\n",
            "Just read a fanfic and the tag said \"happy ending\" but it was NOT a happy ending I'm crying I wasn't mentally ready 1 0.5555555555555556\n",
            "Wishing a very happy birthday to you 🎂🎈🎉 @Web_iv4 \n",
            "Maje kro 🥳\n",
            "Raaji raho 👉👈❤️\n",
            "Such a noice guy you're\n",
            "Be like this… https://t.co/OnPcGEInca 1 0.8888888888888888\n",
            "this picture makes me happy https://t.co/MFunbMYoHp 1 0.7777777777777778\n",
            "@lornalyonssmith hope you had a lovely day, happy Sunday xx 1 0.6666666666666666\n",
            "RT @Salvesayson: Happy thoughts are half your health #ALDUBatADNBeatTheOdds 0 0.5555555555555556\n",
            "RT @cell_0801: Happy birthday #Superman! https://t.co/HwGHN21X6v 0 0.5555555555555556\n",
            "RT @MUFC_redarmy99: Happy Birthday to the King of facial expressions, Donny Van De Beek. https://t.co/MjnKrdHXsN 0 0.5555555555555556\n",
            "RT @BlackCamaru_: Happy Sunday, let me bless my people.\n",
            "\n",
            "If you’re online reply how much you need asap. Add #EquationAute to your replies. 0 0.5555555555555556\n",
            "RT @jackbeccas: @wildsdany HAPPY BDAY BESTIE!! hope u have the best day ever and eat lots of cake my wondertrev sister 4 life. thanks for y… 1 0.5555555555555556\n",
            "RT @dadeen__: Happy iftar.\n",
            "May Allah accept our fasting as an act of IBADAH. Ameen 0 0.5555555555555556\n",
            "Car insurance renewal is due so it's that annual shop around game again. Best I could get was £184 with a bit of he… https://t.co/bwghRuvnuu 0 0.5555555555555556\n",
            "RT @hfields95: Wishing my friend, @kayleighmcenany, a happy birthday! \n",
            "\n",
            "May the Lord bless you and keep you. \n",
            "\n",
            "🎂🎉🎁 https://t.co/fRVFnOVtMK 1 0.7777777777777778\n",
            "RT @valleybkseller: We are very happy to help! 1 1.0\n",
            "RT @VAV_official: HAPPY BIRTHDAY TO BARON🎂\n",
            "\n",
            "#VAV #브이에이브이 #바론 #BaRon\n",
            "#HappyBaRonDay #해피바론데이 #0419\n",
            "#HappyBirthday_BaRon #HBD #생일축하해\n",
            "#뱀즈의비타민바론… 1 0.5555555555555556\n",
            "RT @Joshua_Muax: @TraceEastAfrica @marleyBazenga @SizzlaKalonji @Jahmbeekoikai @selectortechnix @urbanislandz Happy Birthday #Sizzla 1 0.5555555555555556\n",
            "RT @thegameawards: 🎂 It's your cake day PORTAL 2. 🎂\n",
            "\n",
            "Happy 10th Anniversary, released on April 18, 2011! https://t.co/VO9OmpPFdL 0 0.5555555555555556\n",
            "RT @Julio_Arnes: Sarottola ti do una notizia che potrebbe sconvolgerti: ogni giorno, con o senza pandemia, muoiono centinaia se non migliai… 1 0.5555555555555556\n",
            "💖always happy to oblige... 1 0.7777777777777778\n",
            "@SylverRayn happy birthday ! 🎉🎉 1 0.7777777777777778\n",
            "@Dcreamz_ Happy birthday 0 0.5555555555555556\n",
            "RT @RenaultSpSeries: Happy to help @MercedesAMGF1, just fill in the empty spaces, we’ll pay the entry fees 😉 https://t.co/URyJLzrZia https:… 1 0.5555555555555556\n",
            "RT @okt_ranking: Happy birthday to you dear\n",
            "@Nanayaasarkces2\n",
            "#SarkNationAddress\n",
            " https://t.co/KPzH1qzhYs 0 0.5555555555555556\n",
            "happy tomfest 1 0.6666666666666666\n",
            "RT @realprettyygirl: The littlest things make me happy. 1 0.8888888888888888\n",
            "Y'all. Did I tell y'all that my homemade pie won between the Jello mix filling and my first try at lemon?\n",
            "\n",
            "It did. This makes me happy. 1 0.7777777777777778\n",
            "RT @01_04_25: happy birthday xiao!\n",
            "\n",
            "#GenshinImpact #XIAO https://t.co/jLuElPEuYm 1 0.7777777777777778\n",
            "RT @jikookhour: happy 6 years 🌼 https://t.co/SKvM51LKH1 1 1.0\n",
            "RT @theprinceofiris: happy anniversary to chrom saving fire emblem 1 0.8888888888888888\n",
            "Happy Sunday, educators! I took a break from playing with my kids moments ago to join @blakleyr for his brand new p… https://t.co/Wbx5JZ43Vo 1 0.7777777777777778\n",
            "RT @thegameawards: 🎂 It's your cake day PORTAL 2. 🎂\n",
            "\n",
            "Happy 10th Anniversary, released on April 18, 2011! https://t.co/VO9OmpPFdL 0 0.5555555555555556\n",
            "He’s indirectly telling Ole to start him more often 😭 1 0.7777777777777778\n",
            "RT @StaceyE706: Nicole gets a late night visitor, and Waverly gets a little bolder.\n",
            "\n",
            "Chapter 6 of Sounds of the City is up!\n",
            "\n",
            "Happy Sunday!… 0 0.5555555555555556\n",
            "@WardellGotNext Happy 0 0.5555555555555556\n",
            "RT @SakimiChanArt: Who's your mommy?💋 Happy valentine!\n",
            "PSD/yuri set/HD jpg/etc ;3-https://t.co/tMjaB9KGpC\n",
            "#ResidentEvilVillage Lady Demetri… 1 1.0\n",
            "PLSSSSS NA IT'S ENOUGH TAKE ME WİTH YOU @GOD\n",
            "\n",
            "I WILL BE SUPER HAPPY IF I COME TO YOU PLSSS\n",
            "DONT WANT TO BE IN THIS SITUATION 1 0.7777777777777778\n",
            "RT @Bandit_promos: Thanks for 521k guys I love you all\n",
            "\n",
            "Stay safe and happy 💯 1 0.7777777777777778\n",
            "danganronpa 2 gd // ok current thoughts: i really like ibuki and kazuichi :&gt; chiaki and gundham are very cool too i… https://t.co/SGZZYQuLMz 1 0.6666666666666666\n",
            "RT @MarcusRashford: Guys I can’t find any pics of me and Donny to wish him a happy birthday, can you help?? Tag him to show some love! @Don… 1 0.5555555555555556\n",
            "RT @Ride4Blackk: S/O to everybody that wished me a happy bday🍾🥶 I’m still celebrating and im happy to announce &amp; drop the first set of T sh… 0 0.5555555555555556\n",
            "Wishing Leo B Bernier a very HAPPY belated birthday. Brad is a huge part of team KW and helps to keep us all moving… https://t.co/YbFhLAOCqU 1 0.5555555555555556\n",
            "minho just lives his happy life on instagram and then here comes kibum in his replies 😭😭 1 0.6666666666666666\n",
            "RT @bratztwiins: So happy to have this album now 🌷💖 @ddlovato https://t.co/KYSv7x0dgL 1 0.5555555555555556\n",
            "RT @jeongwoocutie: “a happy jeongwoo makes a happy uwoo” always the best sentence 🥰❣️\n",
            "\n",
            "#트레저 #박정우 #트레저박정우 \n",
            "@treasuremembers https://t.co/rDS… 1 1.0\n",
            "RT @BscPitbull: HAPPY 1st MONTH PITVERSARY! 🎉 🎊\n",
            "\n",
            "We are a community, not just a token\n",
            "We are here to FORGE a new path💫\n",
            "\n",
            "Let's show it to ev… 0 0.5555555555555556\n",
            "I’m happy I’m not a BM at this age yall be bitter af 0 0.5555555555555556\n",
            "LETS BEGIN THE HAPPY FEST 1 1.0\n",
            "Omg birth year besties :0 !!! 0 0.6666666666666667\n",
            "So now I guess my microchip has been fully activated and you can track me on the 5G network, is that how this works… https://t.co/daQpX6XSSL 0 0.7777777777777778\n",
            "@BigTicket73 Happy Born Day, Mekhi... Enjoy your day. 1 0.5555555555555556\n",
            "RT @GeorgiaAquarium: Our Asian small-clawed otters have tested positive for SARS-CoV-2, the virus that causes COVID-19. They showed mild sy… 0 0.5555555555555556\n",
            "https://t.co/osZsZ9yDxf 1 0.7777777777777778\n",
            "RT @wonnielovesu: Happy #SONDAY 🥳🔥@OfficialMonstaX \n",
            "#셔누 https://t.co/I2TqRhTdEG 1 0.6666666666666666\n",
            "@NkyEzenwa Gold umuada....\n",
            "Happy uka nne 1 0.5555555555555556\n",
            "Happy Birthday @NithinPSPKCult Bro 😍🥳🤗 \n",
            "\n",
            "Have A Blast 🎂🙌\n",
            "Stay Safe &amp; Be Happy :) 0 0.5555555555555556\n",
            "@ssupfck be happy galu 1 0.7777777777777778\n",
            "RT @DavidGallaher: On this day in 1938, Action Comics #1 debuted and gave us the world's greatest superhero! \n",
            "\n",
            "Happy Birthday, Superman! ht… 1 0.5555555555555556\n",
            "RT @KYRSYJ_Updates: You will forever her warm ice 🤍\n",
            "\n",
            "#BlossomInSpringWithJessica\n",
            "Happy Birthday Jessica Jung \n",
            "#OurStarJessicaDay https://t.… 0 0.5555555555555556\n",
            "RT @SBBFilm: This is Lela Rochon now. Put some respect on your birthday tweets! Enuf with the ageism! Happy birthday Ms. Lela! https://t.co… 1 0.5555555555555556\n",
            "RT @lindsi_rae: happy to share that our workshop will be this coming saturday, 4/24, at 5pm immediately following the @atldemsoc general me… 1 0.5555555555555556\n",
            "RT @BlackCamaru_: Happy Sunday, let me bless my people.\n",
            "\n",
            "If you’re online reply how much you need asap. Add #EquationAute to your replies. 0 0.5555555555555556\n",
            "Why I fucking love this guy man, I was happy to meet him in person more than when I met Maldini 1 0.6666666666666666\n",
            "😂😂😂 1 0.8888888888888888\n",
            "happy birthday to one the most beautiful and beautiful soul i have met 💜 stay happy and blessed 🤍 lot's and lot's o… https://t.co/NoCII0dXQz 1 1.0\n",
            "@wilson_past  Happy Birthday old man!!! Have a great year!💥✨❤️Love, Mom 0 0.5555555555555556\n",
            "RT @thegameawards: 🎂 It's your cake day PORTAL 2. 🎂\n",
            "\n",
            "Happy 10th Anniversary, released on April 18, 2011! https://t.co/VO9OmpPFdL 0 0.5555555555555556\n",
            "RT @StrictlyChristo: This happy pup spending his first night at his new home after being adopted from the shelter. https://t.co/IzceUV1cnF 1 0.6666666666666666\n",
            "RT @atletienglish: RT if you're as happy as him 😄 https://t.co/NzvGt2U4JI 1 1.0\n",
            "@steve198037 My work days about to begin \n",
            "Happy day Steve 😊 0 0.5555555555555556\n",
            "RT @StrictlyChristo: This happy pup spending his first night at his new home after being adopted from the shelter. https://t.co/IzceUV1cnF 1 0.6666666666666666\n",
            "@rianmiller That’s a happy kitty 1 0.5555555555555556\n",
            "RT @AfricaFactsZone: Happy Independence Day Zimbabwe. 🇿🇼 https://t.co/TYiHU1av09 1 0.5555555555555556\n",
            "Why do they seem happy about it 1 0.6666666666666666\n",
            "RT @Maipata10: Dear reader of this tweet \n",
            "\n",
            "Happy #Iftar 1 0.8888888888888888\n",
            "Its joy 🥺🥺🥺🥺 1 0.6666666666666666\n",
            "RT @sabawi_ss: R: What’s this?\n",
            "M: I will say it, but I need a little bit of convincing first. \n",
            "R: come on now\n",
            "M: bow I am convinced; it is… 1 0.5555555555555556\n",
            "RT @BridgetteRue_N: The Flag                 The human!\n",
            "\n",
            "Happy birthday Zimbabwe 🇿🇼 \n",
            "#ZIM41 #zim41mcr https://t.co/OZet0ZuOok 0 0.5555555555555556\n",
            "RT @MarcusRashford: Guys I can’t find any pics of me and Donny to wish him a happy birthday, can you help?? Tag him to show some love! @Don… 1 0.5555555555555556\n",
            "RT @PARISDENNARD: Happy Birthday, @kayleighmcenany! https://t.co/BUfxDRzSRj 1 0.5555555555555556\n",
            "happy mensip kalian berduaaaa.... 💕 https://t.co/5VcTvfoqhc 1 0.8888888888888888\n",
            "RT @dog_jorge1: Happy sunday to all of you 🐾😀 #jorgegaucin  #DogsofTwittter #dogs https://t.co/HeCI63ge7N 1 0.5555555555555556\n",
            "RT @terryandrob: A very, very Happy Birthday to our Demon Crowley #DavidTennant https://t.co/nBfsCBPldm 0 0.5555555555555556\n",
            "@hueningsarchive HAPPY BIRTHDAY LIA🥳🥳😘 0 0.5555555555555556\n",
            "The wait is overrrr 🥳 ! Dm me or @BlinginBlinks to purchase ✨!! 1 0.6666666666666666\n",
            "RT @LAVIDAPRADA: happy birthday to 90s it girl and forever style icon, victoria beckham https://t.co/s7iVL8BiJQ 1 0.7777777777777778\n",
            "RT @StrictlyChristo: This happy pup spending his first night at his new home after being adopted from the shelter. https://t.co/IzceUV1cnF 1 0.6666666666666666\n",
            "RT @DarlaLocke2: @CalgaryResponse @GlobalCalgary @global_leslie @FeatherFriendly Getting the windows ready for our feathered friends. So ea… 1 0.6666666666666666\n",
            "@sophiaxespinosa i'm so happy with them!!! 1 0.5555555555555556\n",
            "RT @Khadijaliaqat04: Happy Birthday Adil\n",
            "Pic credit : @AyeshaAkmalRao \n",
            "#HBDAdil https://t.co/vk4JVx9w77 1 0.7777777777777778\n",
            "RT @itsbriancuh: When Snapchat reminds me how happy I was a year ago https://t.co/AMVAHlNH1A 1 0.6666666666666666\n",
            "RT @UEFAcom_de: 4⃣3⃣ - Happy Birthday, @BVB Legende Dede 🎂🎉🎁⚽️🇧🇷 https://t.co/LmMw6pxSJn 0 0.5555555555555556\n",
            "@ScottYo04098556 Un-happy Wednesday Sigmund 0 0.5555555555555556\n",
            "Happy mensive 3 bulan xirey raga, semoga langgeng terus ya, makin so sweet, kalo ada masalah omongin baik2 ya, sela… https://t.co/ESlCqv2lnl 0 0.5555555555555556\n",
            "I guess he's not running tonight? #ASCoC 0 0.8888888888888888\n",
            "RT @MostlyKeys: #SHINee Videocall Fansign 210418\n",
            "\n",
            "OP: What made you happy recently?\n",
            "🐰: Meeting you\n",
            "\n",
            "#ONEW @SHINee #샤이니 #온유 1 0.6666666666666666\n",
            "RT @tag911ae: Wishing you success and many more healthy years. Happy 20th birthday @ofcbgyo_gelo 🎉🎁🎈🎂\n",
            "\n",
            "Salamat din sa UAE ACEs na laging na… 0 0.5555555555555556\n",
            "RT @Th_Mr_Wolfy32: A little thing that I did for @buffarawolf \n",
            "Happy birthday!~ 🎂 https://t.co/kKWrp65bRC 1 0.7777777777777778\n",
            "RT @animecorner_ac: It is now April 19 in Japan, so let us appreciate this best girl one more time 🤗\n",
            "\n",
            "Happy Birthday Ichinose Chizuru! 🎂\n",
            "\n",
            "#… 1 0.5555555555555556\n",
            "RT @XXL: Happy birthday, @THESLUMPGOD! 🎉\n",
            "\n",
            "RT if you’re ready for him to drop a new project https://t.co/chuo9XX9WP 1 0.7777777777777778\n",
            "RT @LyaJKG: @arelih01 @Army_Connect @MrsTOH2O @BTS_twt Guys continue to vote the other fandom is mass voting right now !! \n",
            "🔥Fight for the B… 0 0.5555555555555556\n",
            "RT @CherryDevivre: Happy Sunday! 💋 https://t.co/DS1cvokPkz 1 0.7777777777777778\n",
            "RT @BlackCamaru_: Happy Sunday, let me bless my people.\n",
            "\n",
            "If you’re online reply how much you need asap. Add #EquationAute to your replies. 0 0.5555555555555556\n",
            "RT @KaylarWill: I deserve to be happy af. 1 0.8888888888888888\n",
            "sh!t was not funny from the start cuz the first rumor was about an idol in a gay bar...n!ggas were too happy to all… https://t.co/iZhQKKEzNF 1 0.7777777777777778\n",
            "RT @ObiAris: Happy #BeyDay y’all!\n",
            "————-\n",
            "Fan art of @Beyonce https://t.co/rroE6zN12N 1 0.6666666666666666\n",
            "@harry_bann1310 Happy retirement Charlie 😀😀😀 1 0.7777777777777778\n",
            "@abhik_chimni And by this tweet of yours @ReallySwara is very happy that we are in this Crisis and ruling Govt is B… https://t.co/XOIRqGrz2v 1 0.7777777777777778\n",
            "@Azania_ happy birthday Azania, stay blessed! 1 1.0\n",
            "@EricMcCormack @_AngelaLansbury Happy Birthday @EricMcCormack! May your day be filled with happiness and love! ❤️ 0 0.5555555555555556\n",
            "RT @ChloeBellerbyMH: Depression can look like:\n",
            "•isolating oneself\n",
            "•laying in bed all day\n",
            "•being visibly low/sad\n",
            "•struggling to maintain hyg… 0 0.5555555555555556\n",
            "RT @DJLeezy: Sitcom, But: https://t.co/Lq4kASv3d8 0 0.7777777777777778\n",
            "@GlenGrambo Thank you Glen!! I was so happy to see it again.  He was very shy and kept hiding from me, but I got lu… https://t.co/oke4jt3keM 1 0.7777777777777778\n",
            "RT @AnkaraS13: It's evident tat SSR was given Drugs widout his knowledge..He must've tried so hard 2 rid himself of it's negative effects &amp;… 0 0.5555555555555556\n",
            "RT @mmpadellan: Happy Sunday morning to everyone except the GQP and NRA, because their stance against common sense gun reform allows these… 0 0.5555555555555556\n",
            "@skatebtw Happy birthday 🥳🥳🥳 0 0.5555555555555556\n",
            "RT @sidheart___01: @ShivamN83364669 @shreyasakshi19 @Sid_meri_jaan_ @deb_rajnandini @HarshChSidheart @punjabi_kudi_20 @prakashachary1 @Deep… 1 0.5555555555555556\n",
            "RT @taeyong1st: So happy taeyong bought a camera 🥺 being the idea bank that he is and he mentioned he'll take lots of pictures of the kids,… 1 0.6666666666666666\n",
            "RT @TonyStewart: Had a great weekend racing with the @ASCoC in Virginia and Pennsylvania. A win, 6th, and 7th-place finishes. I'm happy wit… 1 0.6666666666666666\n",
            "@RubikaLiyaquat @KanganaTeam Ruh-----bika ji happy birthgay 1 0.8888888888888888\n",
            "RT @b1gtiddiegothgf: happy birthday to one of the most unique and strange individuals, i know we’d get along because we both hate LA and lo… 0 0.6666666666666667\n",
            "@Sexy_kittykat13 Happy Birthday 0 0.5555555555555556\n",
            "RT @Danna_SP7: I'm so happy they're taking their time to consider a s3 and decide if they can present a good story or not. Of course I hope… 1 0.7777777777777778\n",
            "RT @KaylarWill: I deserve to be happy af. 1 0.8888888888888888\n",
            "RT @DelloFrancesca: @iHeartRadio hey hey hey how much happy was Harry in that video! I vote #WatermelonSugar at #iHeartAwards for #BestMusi… 1 0.6666666666666666\n",
            "RT @rogerfederer: Hi everyone!\n",
            "Happy to let you know that I will play Geneva🇨🇭 and Paris 🇫🇷. Until then I will use the time to train. Can’t… 0 0.5555555555555556\n",
            "@lakewoodchurch I watched the sermon with my kids. We talked about how important it is to love ourselves and I saw… https://t.co/SPqyXHHvmg 0 0.5555555555555556\n",
            "Let's go love portal 1 0.6666666666666666\n",
            "RT @picsthetics: \"With the right person beside you, you'll never have to work so hard to be happy. It'll just happen.\" https://t.co/T4FbGcY… 1 0.6666666666666666\n",
            "@justinamash Happy birthday Justin!!! https://t.co/yTdTrtmKAz 1 0.5555555555555556\n",
            "RT @PaleoCameron: Happy Velociraptor Awareness Week! https://t.co/Tb1lVkyEnr 0 0.5555555555555556\n",
            "RT @the__browngirl: Sometime we pretend to be happy just to lie to oyr fears..!! 1 0.7777777777777778\n",
            "@Golden_HarryS_ happy birthday angel!! i’m on a break but have the happiest of days pretty girl!!! 1 0.6666666666666666\n",
            "17/ Realized I forgot the fun gif closer tweet 🤦‍♂️ So here goes. May all your bridges lead to somewhere. Happy Sun… https://t.co/SrhglahFa9 0 0.5555555555555556\n",
            "RT @sw3chubster: Desi Dude Dickdown after a day of shopping in Knightsbridge. Happy Sunday!...\n",
            "\n",
            "See this and more at:\n",
            "https://t.co/RFio4qtX… 1 0.5555555555555556\n",
            "RT @pichimiru: i’m really happy with my vtuber family.. ;^;\n",
            "i got to meet @BBeyryuVT @Kei_exe and @YFuyuVT \n",
            "\n",
            "and now @CirrooSky is gonna be… 1 0.7777777777777778\n",
            "@ItsALD5 @ShreyaHere4SSR Friendship is the best thing \n",
            "So pure and loving \n",
            "Stay strong 💪\n",
            "Happy and peaceful waiting… https://t.co/QG2t1DBcFF 1 0.7777777777777778\n",
            "RT @BlinginBlinks: Happy Sunday! Blingin’ Blinks is officially now taking orders! 🥂 \n",
            "Styles available are Slash, Aisha, Baddie, and Cera ✨… 0 0.5555555555555556\n",
            "RT @KaylarWill: I deserve to be happy af. 1 0.8888888888888888\n",
            "RT @BlackCamaru_: Happy Sunday, let me bless my people.\n",
            "\n",
            "If you’re online reply how much you need asap. Add #EquationAute to your replies. 0 0.5555555555555556\n",
            "RT @Kz13n_V2: “ ไม่อยากให้ทุกคนใช้เวลาที่เหลือแบบระแวงนะ ก็ happy กับทุกโมเม้นไป “\n",
            "\n",
            "โอเคค่ะ พี่จะใช้เวลาต่อจากนี้ทุกวันรักน้องปัญให้มากที่… 1 0.6666666666666666\n",
            "RT @kc_leavitt: Happy happy birthday to the one and only @kayleighmcenany 🇺🇸💗\n",
            "\n",
            "The best Press Sec, boss, and friend! https://t.co/swtNVLxigf 1 0.7777777777777778\n",
            "happy birthday to this queen  https://t.co/e3c18iwaea 1 1.0\n",
            "RT @edgersparadise: I’m really happy with my red pubes 🥰 https://t.co/95bWKhsQMj 1 0.7777777777777778\n",
            "RT @foreverlarrie28: Happy after a good nights sleep 😉 https://t.co/nAny65CnfI 1 0.6666666666666666\n",
            "RT @VanberghenEU: 18 April 2021! Happy #InternationalDayForMonumentsAndSites ! My favourite in #Brussels:Places du Grand et Petit Sablon –… 1 0.5555555555555556\n",
            "RT @discord: flashback to arguing with your sibling for 3 hours before realizing you could fling yourselves at each other. happy 10th anniv… 1 0.6666666666666666\n",
            "@forthevencm happy birthday!!! 0 0.5555555555555556\n",
            "RT @SeitanicBeef: Happy birthday @Macho_Juice! https://t.co/kqQlRMxF7p 1 0.5555555555555556\n",
            "HAPPY G. DAY @stack_skrilla 🎉👍🏽\n",
            "\n",
            "#therealyoska #america #english #mrquick #moveyo #steek #rapper #man… https://t.co/IfS6fKh8e4 0 0.5555555555555556\n",
            "I can't just believe our vital info is now in the hands of a terrorists hailer. 0 0.8888888888888888\n",
            "RT @BlackSupremeKai: Just one movie or show, i want her to be in where she just has a good ass time or a great day with no trauma. 0 0.5555555555555556\n",
            "@fessthai HAPPY ANNIVERSARY NDEEEERRRRR 1 0.6666666666666666\n",
            "RT @StrictlyChristo: This happy pup spending his first night at his new home after being adopted from the shelter. https://t.co/IzceUV1cnF 1 0.6666666666666666\n",
            "@katen_ke Happy New Year☺️ 0 0.5555555555555556\n",
            "RT @datonestarfox2: Happy 1 year anniversary 🎂🎂🎂 1 0.5555555555555556\n",
            "@peopletv @chloebennet Happy Birthday underrated superhero 1 0.5555555555555556\n",
            "RT @paulo4400: I'm probably not the Friend you gonna hear from Daily but if you need me, I will definitely Pull-Up.\n",
            "\n",
            "Happy Sunday Fams!!! h… 0 0.5555555555555556\n",
            "RT @elizabebop: happy birthday legend 1 0.8888888888888888\n",
            "🔥🔥🔥🔥🔥 1 0.8888888888888888\n",
            "happy Yamali stuffff 😍 thank youuuu ❤️ 1 0.8888888888888888\n",
            "Happy Independence to all the Twimbos!\n",
            "\n",
            "The breadbasket of Africa shall soon rise once again IGN 🇿🇼🇿🇼🇿🇼 #ZIM41\n",
            "\n",
            "https://t.co/ExuibafmCH 1 0.8888888888888888\n",
            "taylor Literally stalked me then wrote that's when. No other explanation. None. 0 0.8888888888888888\n",
            "RT @BlackSupremeKai: Just one movie or show, i want her to be in where she just has a good ass time or a great day with no trauma. 0 0.5555555555555556\n",
            "RT @lisiabrahao: Where are you little cutie? 🤔\n",
            "😍😂🤩😅😍😂?😉👉👒👀💞\n",
            "@ldd2407 \n",
            "🦉*(◍•ᴗ•◍)❤๑˙❥˙๑(◍•ᴗ•◍)❤*🦉\n",
            "Happy Weekend! 🦉💗\n",
            "#Love #BestWishes #StaySa… 0 0.5555555555555556\n",
            "@ENASimp2021 ik u feel kinda uncomfy w me (im still so fucking sorry) but uhh happy day of birth even though it was a day ago 0 0.8888888888888888\n",
            "RT @MarcusRashford: Guys I can’t find any pics of me and Donny to wish him a happy birthday, can you help?? Tag him to show some love! @Don… 1 0.5555555555555556\n",
            "Females really be out here getting done dirty and it’s sickening seeing that normalized all the time.. it’s good se… https://t.co/UP7liFHiWe 0 0.5555555555555556\n",
            "RT @13chnwar: 210405 Happy Belated Birthday, Hanky! \n",
            "\n",
            "#ROSÉ #로제 #HANK @BLACKPINK https://t.co/MSuiy15MKd 0 0.5555555555555556\n",
            "@livefree_nofear @YourBestAnswer @ChickFrmOntario @fordnation @joe_warmington @anthonyfurey @brianlilley… https://t.co/efQ5MNYh0u 1 0.5555555555555556\n",
            "RT @pep_vilamala: Happy birthday dear @AndreiAndrei63  🎂🕺\n",
            "Wish U all the best on Ur special day 🥂\n",
            "A big hug from @Gatuflis \n",
            "@Gia___Carangi… 0 0.5555555555555556\n",
            "RT @DineshDSouza: Biden is controlled by the radical left.\n",
            "https://t.co/EvtM8vyFYK 0 0.8888888888888888\n",
            "RT @TheLeoTerrell: Democrats are afraid of black conservatives more than any group. The reason is simple. Democrats cannot win a flea fight… 0 0.5555555555555556\n",
            "RT @hfields95: Wishing my friend, @kayleighmcenany, a happy birthday! \n",
            "\n",
            "May the Lord bless you and keep you. \n",
            "\n",
            "🎂🎉🎁 https://t.co/fRVFnOVtMK 1 0.7777777777777778\n",
            "RT @thehistoryguy: Happy #WorldHeritageDay, folks https://t.co/7FaHVBrdzD 1 1.0\n",
            "RT @Max33Verstappen: YES BOYS, very happy with this win! 🏆 It was tricky out there! Simply lovely performance 🤘 🇮🇹 #ImolaGP https://t.co/bb… 1 0.7777777777777778\n",
            "@ivan_ramos83 @CarlosVerareal ,👍 be happy 1 0.7777777777777778\n",
            "@Aubreychiibi Just to see her happy man. No mathata but good vibes. 1 0.8888888888888888\n",
            "\"That's a good girl... Now come on, let's get some protein in you...\"\n",
            "\n",
            "Eva is currently being petted. 1 0.6666666666666666\n",
            "RT @TheDonSweeney: Hathaway should be happy.\n",
            "The refs throwing him out just saved his life.\n",
            "You know the Bruins would go after him.\n",
            "\n",
            "Go Awa… 0 0.5555555555555556\n",
            "RT @lacampanule: To the boy who sought freedom, happy birthday.\n",
            "\n",
            "#ErenJaeger https://t.co/oHwI8p0NF6 1 0.6666666666666666\n",
            "RT @19Phranchize: When Eddie Kang had to let MFs know who the man was in this bitch! https://t.co/oemdYIR6D3 0 0.5555555555555556\n",
            "@davidtennantcom Happy Birthday David 🎉💙🎉 0 0.5555555555555556\n",
            "RT @PG_0419: \\🖤/毎日プレゼント企画\\🖤/\n",
            "前垢からの継続再開\n",
            "【397日目】\n",
            "\n",
            "今年もついに来ました!!㊗️飼育の日!!\n",
            "PG🧸&amp;ぱぴんぬ3世\n",
            ".*･♥ﾟHappy Birthday °･♥*.\n",
            "🧸(@PG_0419)(@punkypunky777)のフォロー&amp;… 0 0.5555555555555556\n",
            "RT @hellow_society: #DELTARUNE \n",
            "#DELTARUNE_1st\n",
            "#deltarune_1st_Anniversary\n",
            "#HappyBirthday_deltarune\n",
            "#happybirthdaydeltarune \n",
            "#Happy_Birthday… 0 0.5555555555555556\n",
            "RT @CityDogsRescue: 🚨Sweet Pup Alert🚨\n",
            "\n",
            "Mila is a beautiful and loving pup looking for her furever home. She would do best in a house withou… 1 0.7777777777777778\n",
            "RT @IbiSmiles: Happy weekend 🙌🏽🎉☀️\n",
            "\n",
            "https://t.co/5RPTYult1j https://t.co/ezs7Sl1WJi 0 0.5555555555555556\n",
            "@ibkandri Happy birthday to my little badarii ILOVEYOU can’t believe that small badari is 18 now🥺💕 0 0.5555555555555556\n",
            "I am a digital marketer. I specialize in Social Media Marketing.\n",
            "\n",
            "https://t.co/Yqc3LcrA9P\n",
            "\n",
            "#ImolaGP #ImolaF1 1 0.7777777777777778\n",
            "Yo Dears!! haha  Lovely Dears now time for your creativity!! lets see who can do better then Nikita!! 'Congratulati… https://t.co/2BQ7o307fR 1 0.7777777777777778\n",
            "RT @msheendtlove: happy birthday david!! https://t.co/r0u4RpkKFP 1 0.8888888888888888\n",
            "@lawrencekingyo Accept everything, expect nothing, and let go and live. Happy Life. 0 0.5555555555555556\n",
            "@MarcusRashford @Donny_beek6 Happy birthday Donny, nice assist, you’re starting to show some confidence and moving forward. 1 0.5555555555555556\n",
            "RT @KaceyKells: #RT @WeissJsw819 💖 0 0.5555555555555556\n",
            "RT @avercwh: happy 10th anniversary !! #portal2 https://t.co/XhanK4BvpQ 1 0.8888888888888888\n",
            "RT @Vintage_Utd: When Donny’s happy, we’re all happy. https://t.co/AxdoCdzt4W 1 0.7777777777777778\n",
            "@pizzalover4189 Happy Birthday!!! 1 0.5555555555555556\n",
            "RT @lapi_staff: ＼✨Happy Birthday✨／\n",
            "\n",
            "本日はシュガーポケッツ所属・メアリーベリー(CV:#赤尾ひかる)のお誕生日🎂\n",
            "\n",
            "ゲーム公式Twitterでは運営チームによる描き下ろしイラストを公開！\n",
            "\n",
            "学会で講義を頼まれるほどの天才発明家メアさん☺️\n",
            "ぜ… 0 0.5555555555555556\n",
            "RT @RenaultSpSeries: Happy to help @MercedesAMGF1, just fill in the empty spaces, we’ll pay the entry fees 😉 https://t.co/apaQZua7WQ 1 0.5555555555555556\n",
            "RT @checkouters: Meanwhile our user are feasting with tons of Hyper, we are happy to announce our new partnership with @ShinobiScripts ! 🥳… 1 0.7777777777777778\n",
            "RT @Perayafan3: Forever Together 😍💖\n",
            "Happy 4th Anniversary PERAYA 🦁🐢❤️\n",
            "@stjinx_maya \n",
            "@kristtps \n",
            "#TimelessLoveForSK \n",
            "#SingtoPrachaya \n",
            "#kristP… 0 0.5555555555555556\n",
            "RT @kobehighlight: Flashback to the 2000 champion Lakers locker room with Kobe and Vanessa Bryant\n",
            "\n",
            "Happy Anniversary 🙏 https://t.co/MhN0HxL… 1 0.6666666666666666\n",
            "RT @RokerReport: 5️⃣2️⃣ today! \n",
            "\n",
            "Happy Birthday Stefan Schwarz! 🇸🇪\n",
            "\n",
            " https://t.co/Us4oJvjdiP 1 0.6666666666666666\n",
            "RT @StrictlyChristo: This happy pup spending his first night at his new home after being adopted from the shelter. https://t.co/IzceUV1cnF 1 0.6666666666666666\n",
            "RT @ahriuwu: Happy #NationalHornyDay 💦\n",
            "\n",
            "uhm, it seems ive forgotten how to take a shower... do you think you could help me out? 🚿 https://t… 0 0.5555555555555556\n",
            "@slutdestroyer42 @TrapThighz Thank you so much! I am happy to see that you enjoy them 😊 1 0.8888888888888888\n",
            "RT @BatimReiru: Happy Birthday to Sammy🌟 https://t.co/7WF2vvuSRd 0 0.5555555555555556\n",
            "RT @KUWTK: I swear Kourtney has not aged since season 1 😍 Hit that like button to wish this Kween a happy birthday!!! 🎉 #KUWTK https://t.co… 1 0.5555555555555556\n",
            "@CullerSports Happy Birthday🥳🔥 0 0.5555555555555556\n",
            "RT @jniml209: Happy Sunday ☺️♥️\n",
            "#JOHNNY #쟈니         \n",
            "#ジャニー #จอห์นนี่ \n",
            "#JOHFAM #NCT https://t.co/xsxrKhOstv 1 0.5555555555555556\n",
            "RT @hesobellyb: 魈くんHappy birthday!※クリック推奨\n",
            "Day 7:Free Day\n",
            "鍾魈/zhongxiao #ZhongXiaoWeek #魈生誕祭2021 https://t.co/4xGOVIDRde 1 0.6666666666666666\n",
            "Why 0 0.5555555555555556\n",
            "mak, my bday is coming, can u say happy bday to me???ily! 🤍\n",
            "@Makhylis 0 0.5555555555555556\n",
            "ㅤ\n",
            "ㅤ❝ That's what Happy told me, yeah! Happy's pretty smart about stuff like that so I believe him! ❞\n",
            "\n",
            "Placing all o… https://t.co/RDcR40jaDI 1 0.7777777777777778\n",
            "@Pastel_Shinki IKR 😭😭 they make me so happy looking at them!! 1 0.7777777777777778\n",
            "no one move 0 0.8888888888888888\n",
            "RT @StrictlyChristo: This happy pup spending his first night at his new home after being adopted from the shelter. https://t.co/IzceUV1cnF 1 0.6666666666666666\n",
            "RT @5uppps: HAPPY BIRTHDAY @itshafu !!!!!!!\n",
            "TYSM FOR ALL YOU DO AND HOPE YOU HAVE A GREAT TIME!!! 1 0.6666666666666666\n",
            "HAPOY birthday @Tobisawa_ 1 0.5555555555555556\n",
            "@btserotonindan I LOVE THIS FANCAM SO MUCH HE WAS SO HAPPY THIS ENTIRE PERFORMANCE 0 0.5555555555555556\n",
            "RT @Manifest_Rwanda: Happy birthday Pastor Rohi 🙏🙏 https://t.co/OvyyjdJYh4 0 0.5555555555555556\n",
            "RT @rishikeshdto535: Kya sir bas postpone karwane ko hi bola h jan dene ko ni karwa do sir\n",
            "Shri Ram apka bhala karenge... \n",
            "#postpone_chsl20… 1 0.8888888888888888\n",
            "RT @RangersFC: Happy Birthday, @MauriceEdu  🥳 https://t.co/Oywia5Xo9x 1 0.5555555555555556\n",
            "RT @DillenMasawi: Happy Valentine's day Zimbabwe. i data rangu, ndotaura zvandoda 1 0.5555555555555556\n",
            "RT @nerdist: Happy birthday, David Tennant 💜 https://t.co/osmPU0ouCk 0 0.5555555555555556\n"
          ],
          "name": "stdout"
        },
        {
          "output_type": "error",
          "ename": "ProtocolError",
          "evalue": "ignored",
          "traceback": [
            "\u001b[0;31m---------------------------------------------------------------------------\u001b[0m",
            "\u001b[0;31mValueError\u001b[0m                                Traceback (most recent call last)",
            "\u001b[0;32m/usr/lib/python3.7/http/client.py\u001b[0m in \u001b[0;36m_get_chunk_left\u001b[0;34m(self)\u001b[0m\n\u001b[1;32m    557\u001b[0m             \u001b[0;32mtry\u001b[0m\u001b[0;34m:\u001b[0m\u001b[0;34m\u001b[0m\u001b[0;34m\u001b[0m\u001b[0m\n\u001b[0;32m--> 558\u001b[0;31m                 \u001b[0mchunk_left\u001b[0m \u001b[0;34m=\u001b[0m \u001b[0mself\u001b[0m\u001b[0;34m.\u001b[0m\u001b[0m_read_next_chunk_size\u001b[0m\u001b[0;34m(\u001b[0m\u001b[0;34m)\u001b[0m\u001b[0;34m\u001b[0m\u001b[0;34m\u001b[0m\u001b[0m\n\u001b[0m\u001b[1;32m    559\u001b[0m             \u001b[0;32mexcept\u001b[0m \u001b[0mValueError\u001b[0m\u001b[0;34m:\u001b[0m\u001b[0;34m\u001b[0m\u001b[0;34m\u001b[0m\u001b[0m\n",
            "\u001b[0;32m/usr/lib/python3.7/http/client.py\u001b[0m in \u001b[0;36m_read_next_chunk_size\u001b[0;34m(self)\u001b[0m\n\u001b[1;32m    524\u001b[0m         \u001b[0;32mtry\u001b[0m\u001b[0;34m:\u001b[0m\u001b[0;34m\u001b[0m\u001b[0;34m\u001b[0m\u001b[0m\n\u001b[0;32m--> 525\u001b[0;31m             \u001b[0;32mreturn\u001b[0m \u001b[0mint\u001b[0m\u001b[0;34m(\u001b[0m\u001b[0mline\u001b[0m\u001b[0;34m,\u001b[0m \u001b[0;36m16\u001b[0m\u001b[0;34m)\u001b[0m\u001b[0;34m\u001b[0m\u001b[0;34m\u001b[0m\u001b[0m\n\u001b[0m\u001b[1;32m    526\u001b[0m         \u001b[0;32mexcept\u001b[0m \u001b[0mValueError\u001b[0m\u001b[0;34m:\u001b[0m\u001b[0;34m\u001b[0m\u001b[0;34m\u001b[0m\u001b[0m\n",
            "\u001b[0;31mValueError\u001b[0m: invalid literal for int() with base 16: b''",
            "\nDuring handling of the above exception, another exception occurred:\n",
            "\u001b[0;31mIncompleteRead\u001b[0m                            Traceback (most recent call last)",
            "\u001b[0;32m/usr/lib/python3.7/http/client.py\u001b[0m in \u001b[0;36m_readinto_chunked\u001b[0;34m(self, b)\u001b[0m\n\u001b[1;32m    589\u001b[0m             \u001b[0;32mwhile\u001b[0m \u001b[0;32mTrue\u001b[0m\u001b[0;34m:\u001b[0m\u001b[0;34m\u001b[0m\u001b[0;34m\u001b[0m\u001b[0m\n\u001b[0;32m--> 590\u001b[0;31m                 \u001b[0mchunk_left\u001b[0m \u001b[0;34m=\u001b[0m \u001b[0mself\u001b[0m\u001b[0;34m.\u001b[0m\u001b[0m_get_chunk_left\u001b[0m\u001b[0;34m(\u001b[0m\u001b[0;34m)\u001b[0m\u001b[0;34m\u001b[0m\u001b[0;34m\u001b[0m\u001b[0m\n\u001b[0m\u001b[1;32m    591\u001b[0m                 \u001b[0;32mif\u001b[0m \u001b[0mchunk_left\u001b[0m \u001b[0;32mis\u001b[0m \u001b[0;32mNone\u001b[0m\u001b[0;34m:\u001b[0m\u001b[0;34m\u001b[0m\u001b[0;34m\u001b[0m\u001b[0m\n",
            "\u001b[0;32m/usr/lib/python3.7/http/client.py\u001b[0m in \u001b[0;36m_get_chunk_left\u001b[0;34m(self)\u001b[0m\n\u001b[1;32m    559\u001b[0m             \u001b[0;32mexcept\u001b[0m \u001b[0mValueError\u001b[0m\u001b[0;34m:\u001b[0m\u001b[0;34m\u001b[0m\u001b[0;34m\u001b[0m\u001b[0m\n\u001b[0;32m--> 560\u001b[0;31m                 \u001b[0;32mraise\u001b[0m \u001b[0mIncompleteRead\u001b[0m\u001b[0;34m(\u001b[0m\u001b[0;34mb''\u001b[0m\u001b[0;34m)\u001b[0m\u001b[0;34m\u001b[0m\u001b[0;34m\u001b[0m\u001b[0m\n\u001b[0m\u001b[1;32m    561\u001b[0m             \u001b[0;32mif\u001b[0m \u001b[0mchunk_left\u001b[0m \u001b[0;34m==\u001b[0m \u001b[0;36m0\u001b[0m\u001b[0;34m:\u001b[0m\u001b[0;34m\u001b[0m\u001b[0;34m\u001b[0m\u001b[0m\n",
            "\u001b[0;31mIncompleteRead\u001b[0m: IncompleteRead(0 bytes read)",
            "\nDuring handling of the above exception, another exception occurred:\n",
            "\u001b[0;31mIncompleteRead\u001b[0m                            Traceback (most recent call last)",
            "\u001b[0;32m/usr/local/lib/python3.7/dist-packages/urllib3/response.py\u001b[0m in \u001b[0;36m_error_catcher\u001b[0;34m(self)\u001b[0m\n\u001b[1;32m    361\u001b[0m             \u001b[0;32mtry\u001b[0m\u001b[0;34m:\u001b[0m\u001b[0;34m\u001b[0m\u001b[0;34m\u001b[0m\u001b[0m\n\u001b[0;32m--> 362\u001b[0;31m                 \u001b[0;32myield\u001b[0m\u001b[0;34m\u001b[0m\u001b[0;34m\u001b[0m\u001b[0m\n\u001b[0m\u001b[1;32m    363\u001b[0m \u001b[0;34m\u001b[0m\u001b[0m\n",
            "\u001b[0;32m/usr/local/lib/python3.7/dist-packages/urllib3/response.py\u001b[0m in \u001b[0;36mread\u001b[0;34m(self, amt, decode_content, cache_content)\u001b[0m\n\u001b[1;32m    443\u001b[0m                 \u001b[0mcache_content\u001b[0m \u001b[0;34m=\u001b[0m \u001b[0;32mFalse\u001b[0m\u001b[0;34m\u001b[0m\u001b[0;34m\u001b[0m\u001b[0m\n\u001b[0;32m--> 444\u001b[0;31m                 \u001b[0mdata\u001b[0m \u001b[0;34m=\u001b[0m \u001b[0mself\u001b[0m\u001b[0;34m.\u001b[0m\u001b[0m_fp\u001b[0m\u001b[0;34m.\u001b[0m\u001b[0mread\u001b[0m\u001b[0;34m(\u001b[0m\u001b[0mamt\u001b[0m\u001b[0;34m)\u001b[0m\u001b[0;34m\u001b[0m\u001b[0;34m\u001b[0m\u001b[0m\n\u001b[0m\u001b[1;32m    445\u001b[0m                 \u001b[0;32mif\u001b[0m \u001b[0mamt\u001b[0m \u001b[0;34m!=\u001b[0m \u001b[0;36m0\u001b[0m \u001b[0;32mand\u001b[0m \u001b[0;32mnot\u001b[0m \u001b[0mdata\u001b[0m\u001b[0;34m:\u001b[0m  \u001b[0;31m# Platform-specific: Buggy versions of Python.\u001b[0m\u001b[0;34m\u001b[0m\u001b[0;34m\u001b[0m\u001b[0m\n",
            "\u001b[0;32m/usr/lib/python3.7/http/client.py\u001b[0m in \u001b[0;36mread\u001b[0;34m(self, amt)\u001b[0m\n\u001b[1;32m    460\u001b[0m             \u001b[0mb\u001b[0m \u001b[0;34m=\u001b[0m \u001b[0mbytearray\u001b[0m\u001b[0;34m(\u001b[0m\u001b[0mamt\u001b[0m\u001b[0;34m)\u001b[0m\u001b[0;34m\u001b[0m\u001b[0;34m\u001b[0m\u001b[0m\n\u001b[0;32m--> 461\u001b[0;31m             \u001b[0mn\u001b[0m \u001b[0;34m=\u001b[0m \u001b[0mself\u001b[0m\u001b[0;34m.\u001b[0m\u001b[0mreadinto\u001b[0m\u001b[0;34m(\u001b[0m\u001b[0mb\u001b[0m\u001b[0;34m)\u001b[0m\u001b[0;34m\u001b[0m\u001b[0;34m\u001b[0m\u001b[0m\n\u001b[0m\u001b[1;32m    462\u001b[0m             \u001b[0;32mreturn\u001b[0m \u001b[0mmemoryview\u001b[0m\u001b[0;34m(\u001b[0m\u001b[0mb\u001b[0m\u001b[0;34m)\u001b[0m\u001b[0;34m[\u001b[0m\u001b[0;34m:\u001b[0m\u001b[0mn\u001b[0m\u001b[0;34m]\u001b[0m\u001b[0;34m.\u001b[0m\u001b[0mtobytes\u001b[0m\u001b[0;34m(\u001b[0m\u001b[0;34m)\u001b[0m\u001b[0;34m\u001b[0m\u001b[0;34m\u001b[0m\u001b[0m\n",
            "\u001b[0;32m/usr/lib/python3.7/http/client.py\u001b[0m in \u001b[0;36mreadinto\u001b[0;34m(self, b)\u001b[0m\n\u001b[1;32m    494\u001b[0m         \u001b[0;32mif\u001b[0m \u001b[0mself\u001b[0m\u001b[0;34m.\u001b[0m\u001b[0mchunked\u001b[0m\u001b[0;34m:\u001b[0m\u001b[0;34m\u001b[0m\u001b[0;34m\u001b[0m\u001b[0m\n\u001b[0;32m--> 495\u001b[0;31m             \u001b[0;32mreturn\u001b[0m \u001b[0mself\u001b[0m\u001b[0;34m.\u001b[0m\u001b[0m_readinto_chunked\u001b[0m\u001b[0;34m(\u001b[0m\u001b[0mb\u001b[0m\u001b[0;34m)\u001b[0m\u001b[0;34m\u001b[0m\u001b[0;34m\u001b[0m\u001b[0m\n\u001b[0m\u001b[1;32m    496\u001b[0m \u001b[0;34m\u001b[0m\u001b[0m\n",
            "\u001b[0;32m/usr/lib/python3.7/http/client.py\u001b[0m in \u001b[0;36m_readinto_chunked\u001b[0;34m(self, b)\u001b[0m\n\u001b[1;32m    605\u001b[0m         \u001b[0;32mexcept\u001b[0m \u001b[0mIncompleteRead\u001b[0m\u001b[0;34m:\u001b[0m\u001b[0;34m\u001b[0m\u001b[0;34m\u001b[0m\u001b[0m\n\u001b[0;32m--> 606\u001b[0;31m             \u001b[0;32mraise\u001b[0m \u001b[0mIncompleteRead\u001b[0m\u001b[0;34m(\u001b[0m\u001b[0mbytes\u001b[0m\u001b[0;34m(\u001b[0m\u001b[0mb\u001b[0m\u001b[0;34m[\u001b[0m\u001b[0;36m0\u001b[0m\u001b[0;34m:\u001b[0m\u001b[0mtotal_bytes\u001b[0m\u001b[0;34m]\u001b[0m\u001b[0;34m)\u001b[0m\u001b[0;34m)\u001b[0m\u001b[0;34m\u001b[0m\u001b[0;34m\u001b[0m\u001b[0m\n\u001b[0m\u001b[1;32m    607\u001b[0m \u001b[0;34m\u001b[0m\u001b[0m\n",
            "\u001b[0;31mIncompleteRead\u001b[0m: IncompleteRead(0 bytes read)",
            "\nDuring handling of the above exception, another exception occurred:\n",
            "\u001b[0;31mProtocolError\u001b[0m                             Traceback (most recent call last)",
            "\u001b[0;32m<ipython-input-76-132ebb7adb67>\u001b[0m in \u001b[0;36m<module>\u001b[0;34m()\u001b[0m\n\u001b[1;32m      1\u001b[0m \u001b[0mkeywords\u001b[0m \u001b[0;34m=\u001b[0m \u001b[0;34m[\u001b[0m\u001b[0;34m\"happy\"\u001b[0m\u001b[0;34m]\u001b[0m\u001b[0;34m\u001b[0m\u001b[0;34m\u001b[0m\u001b[0m\n\u001b[1;32m      2\u001b[0m \u001b[0mtwitterStream\u001b[0m \u001b[0;34m=\u001b[0m \u001b[0mStream\u001b[0m\u001b[0;34m(\u001b[0m\u001b[0mauth\u001b[0m\u001b[0;34m,\u001b[0m \u001b[0mlistener\u001b[0m\u001b[0;34m(\u001b[0m\u001b[0;34m)\u001b[0m\u001b[0;34m)\u001b[0m\u001b[0;34m\u001b[0m\u001b[0;34m\u001b[0m\u001b[0m\n\u001b[0;32m----> 3\u001b[0;31m \u001b[0mtwitterStream\u001b[0m\u001b[0;34m.\u001b[0m\u001b[0mfilter\u001b[0m\u001b[0;34m(\u001b[0m\u001b[0mtrack\u001b[0m\u001b[0;34m=\u001b[0m\u001b[0mkeywords\u001b[0m\u001b[0;34m)\u001b[0m\u001b[0;34m\u001b[0m\u001b[0;34m\u001b[0m\u001b[0m\n\u001b[0m",
            "\u001b[0;32m/usr/local/lib/python3.7/dist-packages/tweepy/streaming.py\u001b[0m in \u001b[0;36mfilter\u001b[0;34m(self, follow, track, is_async, locations, stall_warnings, languages, encoding, filter_level)\u001b[0m\n\u001b[1;32m    472\u001b[0m             \u001b[0mself\u001b[0m\u001b[0;34m.\u001b[0m\u001b[0mbody\u001b[0m\u001b[0;34m[\u001b[0m\u001b[0;34m'filter_level'\u001b[0m\u001b[0;34m]\u001b[0m \u001b[0;34m=\u001b[0m \u001b[0mfilter_level\u001b[0m\u001b[0;34m.\u001b[0m\u001b[0mencode\u001b[0m\u001b[0;34m(\u001b[0m\u001b[0mencoding\u001b[0m\u001b[0;34m)\u001b[0m\u001b[0;34m\u001b[0m\u001b[0;34m\u001b[0m\u001b[0m\n\u001b[1;32m    473\u001b[0m         \u001b[0mself\u001b[0m\u001b[0;34m.\u001b[0m\u001b[0msession\u001b[0m\u001b[0;34m.\u001b[0m\u001b[0mparams\u001b[0m \u001b[0;34m=\u001b[0m \u001b[0;34m{\u001b[0m\u001b[0;34m'delimited'\u001b[0m\u001b[0;34m:\u001b[0m \u001b[0;34m'length'\u001b[0m\u001b[0;34m}\u001b[0m\u001b[0;34m\u001b[0m\u001b[0;34m\u001b[0m\u001b[0m\n\u001b[0;32m--> 474\u001b[0;31m         \u001b[0mself\u001b[0m\u001b[0;34m.\u001b[0m\u001b[0m_start\u001b[0m\u001b[0;34m(\u001b[0m\u001b[0mis_async\u001b[0m\u001b[0;34m)\u001b[0m\u001b[0;34m\u001b[0m\u001b[0;34m\u001b[0m\u001b[0m\n\u001b[0m\u001b[1;32m    475\u001b[0m \u001b[0;34m\u001b[0m\u001b[0m\n\u001b[1;32m    476\u001b[0m     def sitestream(self, follow, stall_warnings=False,\n",
            "\u001b[0;32m/usr/local/lib/python3.7/dist-packages/tweepy/streaming.py\u001b[0m in \u001b[0;36m_start\u001b[0;34m(self, is_async)\u001b[0m\n\u001b[1;32m    387\u001b[0m             \u001b[0mself\u001b[0m\u001b[0;34m.\u001b[0m\u001b[0m_thread\u001b[0m\u001b[0;34m.\u001b[0m\u001b[0mstart\u001b[0m\u001b[0;34m(\u001b[0m\u001b[0;34m)\u001b[0m\u001b[0;34m\u001b[0m\u001b[0;34m\u001b[0m\u001b[0m\n\u001b[1;32m    388\u001b[0m         \u001b[0;32melse\u001b[0m\u001b[0;34m:\u001b[0m\u001b[0;34m\u001b[0m\u001b[0;34m\u001b[0m\u001b[0m\n\u001b[0;32m--> 389\u001b[0;31m             \u001b[0mself\u001b[0m\u001b[0;34m.\u001b[0m\u001b[0m_run\u001b[0m\u001b[0;34m(\u001b[0m\u001b[0;34m)\u001b[0m\u001b[0;34m\u001b[0m\u001b[0;34m\u001b[0m\u001b[0m\n\u001b[0m\u001b[1;32m    390\u001b[0m \u001b[0;34m\u001b[0m\u001b[0m\n\u001b[1;32m    391\u001b[0m     \u001b[0;32mdef\u001b[0m \u001b[0mon_closed\u001b[0m\u001b[0;34m(\u001b[0m\u001b[0mself\u001b[0m\u001b[0;34m,\u001b[0m \u001b[0mresp\u001b[0m\u001b[0;34m)\u001b[0m\u001b[0;34m:\u001b[0m\u001b[0;34m\u001b[0m\u001b[0;34m\u001b[0m\u001b[0m\n",
            "\u001b[0;32m/usr/local/lib/python3.7/dist-packages/tweepy/streaming.py\u001b[0m in \u001b[0;36m_run\u001b[0;34m(self)\u001b[0m\n\u001b[1;32m    318\u001b[0m             \u001b[0;31m# call a handler first so that the exception can be logged.\u001b[0m\u001b[0;34m\u001b[0m\u001b[0;34m\u001b[0m\u001b[0;34m\u001b[0m\u001b[0m\n\u001b[1;32m    319\u001b[0m             \u001b[0mself\u001b[0m\u001b[0;34m.\u001b[0m\u001b[0mlistener\u001b[0m\u001b[0;34m.\u001b[0m\u001b[0mon_exception\u001b[0m\u001b[0;34m(\u001b[0m\u001b[0mexc_info\u001b[0m\u001b[0;34m[\u001b[0m\u001b[0;36m1\u001b[0m\u001b[0;34m]\u001b[0m\u001b[0;34m)\u001b[0m\u001b[0;34m\u001b[0m\u001b[0;34m\u001b[0m\u001b[0m\n\u001b[0;32m--> 320\u001b[0;31m             \u001b[0msix\u001b[0m\u001b[0;34m.\u001b[0m\u001b[0mreraise\u001b[0m\u001b[0;34m(\u001b[0m\u001b[0;34m*\u001b[0m\u001b[0mexc_info\u001b[0m\u001b[0;34m)\u001b[0m\u001b[0;34m\u001b[0m\u001b[0;34m\u001b[0m\u001b[0m\n\u001b[0m\u001b[1;32m    321\u001b[0m \u001b[0;34m\u001b[0m\u001b[0m\n\u001b[1;32m    322\u001b[0m     \u001b[0;32mdef\u001b[0m \u001b[0m_data\u001b[0m\u001b[0;34m(\u001b[0m\u001b[0mself\u001b[0m\u001b[0;34m,\u001b[0m \u001b[0mdata\u001b[0m\u001b[0;34m)\u001b[0m\u001b[0;34m:\u001b[0m\u001b[0;34m\u001b[0m\u001b[0;34m\u001b[0m\u001b[0m\n",
            "\u001b[0;32m/usr/local/lib/python3.7/dist-packages/six.py\u001b[0m in \u001b[0;36mreraise\u001b[0;34m(tp, value, tb)\u001b[0m\n\u001b[1;32m    701\u001b[0m             \u001b[0;32mif\u001b[0m \u001b[0mvalue\u001b[0m\u001b[0;34m.\u001b[0m\u001b[0m__traceback__\u001b[0m \u001b[0;32mis\u001b[0m \u001b[0;32mnot\u001b[0m \u001b[0mtb\u001b[0m\u001b[0;34m:\u001b[0m\u001b[0;34m\u001b[0m\u001b[0;34m\u001b[0m\u001b[0m\n\u001b[1;32m    702\u001b[0m                 \u001b[0;32mraise\u001b[0m \u001b[0mvalue\u001b[0m\u001b[0;34m.\u001b[0m\u001b[0mwith_traceback\u001b[0m\u001b[0;34m(\u001b[0m\u001b[0mtb\u001b[0m\u001b[0;34m)\u001b[0m\u001b[0;34m\u001b[0m\u001b[0;34m\u001b[0m\u001b[0m\n\u001b[0;32m--> 703\u001b[0;31m             \u001b[0;32mraise\u001b[0m \u001b[0mvalue\u001b[0m\u001b[0;34m\u001b[0m\u001b[0;34m\u001b[0m\u001b[0m\n\u001b[0m\u001b[1;32m    704\u001b[0m         \u001b[0;32mfinally\u001b[0m\u001b[0;34m:\u001b[0m\u001b[0;34m\u001b[0m\u001b[0;34m\u001b[0m\u001b[0m\n\u001b[1;32m    705\u001b[0m             \u001b[0mvalue\u001b[0m \u001b[0;34m=\u001b[0m \u001b[0;32mNone\u001b[0m\u001b[0;34m\u001b[0m\u001b[0;34m\u001b[0m\u001b[0m\n",
            "\u001b[0;32m/usr/local/lib/python3.7/dist-packages/tweepy/streaming.py\u001b[0m in \u001b[0;36m_run\u001b[0;34m(self)\u001b[0m\n\u001b[1;32m    287\u001b[0m                     \u001b[0mself\u001b[0m\u001b[0;34m.\u001b[0m\u001b[0msnooze_time\u001b[0m \u001b[0;34m=\u001b[0m \u001b[0mself\u001b[0m\u001b[0;34m.\u001b[0m\u001b[0msnooze_time_step\u001b[0m\u001b[0;34m\u001b[0m\u001b[0;34m\u001b[0m\u001b[0m\n\u001b[1;32m    288\u001b[0m                     \u001b[0mself\u001b[0m\u001b[0;34m.\u001b[0m\u001b[0mlistener\u001b[0m\u001b[0;34m.\u001b[0m\u001b[0mon_connect\u001b[0m\u001b[0;34m(\u001b[0m\u001b[0;34m)\u001b[0m\u001b[0;34m\u001b[0m\u001b[0;34m\u001b[0m\u001b[0m\n\u001b[0;32m--> 289\u001b[0;31m                     \u001b[0mself\u001b[0m\u001b[0;34m.\u001b[0m\u001b[0m_read_loop\u001b[0m\u001b[0;34m(\u001b[0m\u001b[0mresp\u001b[0m\u001b[0;34m)\u001b[0m\u001b[0;34m\u001b[0m\u001b[0;34m\u001b[0m\u001b[0m\n\u001b[0m\u001b[1;32m    290\u001b[0m             \u001b[0;32mexcept\u001b[0m \u001b[0;34m(\u001b[0m\u001b[0mTimeout\u001b[0m\u001b[0;34m,\u001b[0m \u001b[0mssl\u001b[0m\u001b[0;34m.\u001b[0m\u001b[0mSSLError\u001b[0m\u001b[0;34m)\u001b[0m \u001b[0;32mas\u001b[0m \u001b[0mexc\u001b[0m\u001b[0;34m:\u001b[0m\u001b[0;34m\u001b[0m\u001b[0;34m\u001b[0m\u001b[0m\n\u001b[1;32m    291\u001b[0m                 \u001b[0;31m# This is still necessary, as a SSLError can actually be\u001b[0m\u001b[0;34m\u001b[0m\u001b[0;34m\u001b[0m\u001b[0;34m\u001b[0m\u001b[0m\n",
            "\u001b[0;32m/usr/local/lib/python3.7/dist-packages/tweepy/streaming.py\u001b[0m in \u001b[0;36m_read_loop\u001b[0;34m(self, resp)\u001b[0m\n\u001b[1;32m    337\u001b[0m             \u001b[0mlength\u001b[0m \u001b[0;34m=\u001b[0m \u001b[0;36m0\u001b[0m\u001b[0;34m\u001b[0m\u001b[0;34m\u001b[0m\u001b[0m\n\u001b[1;32m    338\u001b[0m             \u001b[0;32mwhile\u001b[0m \u001b[0;32mnot\u001b[0m \u001b[0mresp\u001b[0m\u001b[0;34m.\u001b[0m\u001b[0mraw\u001b[0m\u001b[0;34m.\u001b[0m\u001b[0mclosed\u001b[0m\u001b[0;34m:\u001b[0m\u001b[0;34m\u001b[0m\u001b[0;34m\u001b[0m\u001b[0m\n\u001b[0;32m--> 339\u001b[0;31m                 \u001b[0mline\u001b[0m \u001b[0;34m=\u001b[0m \u001b[0mbuf\u001b[0m\u001b[0;34m.\u001b[0m\u001b[0mread_line\u001b[0m\u001b[0;34m(\u001b[0m\u001b[0;34m)\u001b[0m\u001b[0;34m\u001b[0m\u001b[0;34m\u001b[0m\u001b[0m\n\u001b[0m\u001b[1;32m    340\u001b[0m                 \u001b[0mstripped_line\u001b[0m \u001b[0;34m=\u001b[0m \u001b[0mline\u001b[0m\u001b[0;34m.\u001b[0m\u001b[0mstrip\u001b[0m\u001b[0;34m(\u001b[0m\u001b[0;34m)\u001b[0m \u001b[0;32mif\u001b[0m \u001b[0mline\u001b[0m \u001b[0;32melse\u001b[0m \u001b[0mline\u001b[0m \u001b[0;31m# line is sometimes None so we need to check here\u001b[0m\u001b[0;34m\u001b[0m\u001b[0;34m\u001b[0m\u001b[0m\n\u001b[1;32m    341\u001b[0m                 \u001b[0;32mif\u001b[0m \u001b[0;32mnot\u001b[0m \u001b[0mstripped_line\u001b[0m\u001b[0;34m:\u001b[0m\u001b[0;34m\u001b[0m\u001b[0;34m\u001b[0m\u001b[0m\n",
            "\u001b[0;32m/usr/local/lib/python3.7/dist-packages/tweepy/streaming.py\u001b[0m in \u001b[0;36mread_line\u001b[0;34m(self, sep)\u001b[0m\n\u001b[1;32m    198\u001b[0m             \u001b[0;32melse\u001b[0m\u001b[0;34m:\u001b[0m\u001b[0;34m\u001b[0m\u001b[0;34m\u001b[0m\u001b[0m\n\u001b[1;32m    199\u001b[0m                 \u001b[0mstart\u001b[0m \u001b[0;34m=\u001b[0m \u001b[0mlen\u001b[0m\u001b[0;34m(\u001b[0m\u001b[0mself\u001b[0m\u001b[0;34m.\u001b[0m\u001b[0m_buffer\u001b[0m\u001b[0;34m)\u001b[0m\u001b[0;34m\u001b[0m\u001b[0;34m\u001b[0m\u001b[0m\n\u001b[0;32m--> 200\u001b[0;31m             \u001b[0mself\u001b[0m\u001b[0;34m.\u001b[0m\u001b[0m_buffer\u001b[0m \u001b[0;34m+=\u001b[0m \u001b[0mself\u001b[0m\u001b[0;34m.\u001b[0m\u001b[0m_stream\u001b[0m\u001b[0;34m.\u001b[0m\u001b[0mread\u001b[0m\u001b[0;34m(\u001b[0m\u001b[0mself\u001b[0m\u001b[0;34m.\u001b[0m\u001b[0m_chunk_size\u001b[0m\u001b[0;34m)\u001b[0m\u001b[0;34m\u001b[0m\u001b[0;34m\u001b[0m\u001b[0m\n\u001b[0m\u001b[1;32m    201\u001b[0m         \u001b[0;32mreturn\u001b[0m \u001b[0msix\u001b[0m\u001b[0;34m.\u001b[0m\u001b[0mb\u001b[0m\u001b[0;34m(\u001b[0m\u001b[0;34m''\u001b[0m\u001b[0;34m)\u001b[0m\u001b[0;34m\u001b[0m\u001b[0;34m\u001b[0m\u001b[0m\n\u001b[1;32m    202\u001b[0m \u001b[0;34m\u001b[0m\u001b[0m\n",
            "\u001b[0;32m/usr/local/lib/python3.7/dist-packages/urllib3/response.py\u001b[0m in \u001b[0;36mread\u001b[0;34m(self, amt, decode_content, cache_content)\u001b[0m\n\u001b[1;32m    459\u001b[0m                         \u001b[0;31m# raised during streaming, so all calls with incorrect\u001b[0m\u001b[0;34m\u001b[0m\u001b[0;34m\u001b[0m\u001b[0;34m\u001b[0m\u001b[0m\n\u001b[1;32m    460\u001b[0m                         \u001b[0;31m# Content-Length are caught.\u001b[0m\u001b[0;34m\u001b[0m\u001b[0;34m\u001b[0m\u001b[0;34m\u001b[0m\u001b[0m\n\u001b[0;32m--> 461\u001b[0;31m                         \u001b[0;32mraise\u001b[0m \u001b[0mIncompleteRead\u001b[0m\u001b[0;34m(\u001b[0m\u001b[0mself\u001b[0m\u001b[0;34m.\u001b[0m\u001b[0m_fp_bytes_read\u001b[0m\u001b[0;34m,\u001b[0m \u001b[0mself\u001b[0m\u001b[0;34m.\u001b[0m\u001b[0mlength_remaining\u001b[0m\u001b[0;34m)\u001b[0m\u001b[0;34m\u001b[0m\u001b[0;34m\u001b[0m\u001b[0m\n\u001b[0m\u001b[1;32m    462\u001b[0m \u001b[0;34m\u001b[0m\u001b[0m\n\u001b[1;32m    463\u001b[0m         \u001b[0;32mif\u001b[0m \u001b[0mdata\u001b[0m\u001b[0;34m:\u001b[0m\u001b[0;34m\u001b[0m\u001b[0;34m\u001b[0m\u001b[0m\n",
            "\u001b[0;32m/usr/lib/python3.7/contextlib.py\u001b[0m in \u001b[0;36m__exit__\u001b[0;34m(self, type, value, traceback)\u001b[0m\n\u001b[1;32m    128\u001b[0m                 \u001b[0mvalue\u001b[0m \u001b[0;34m=\u001b[0m \u001b[0mtype\u001b[0m\u001b[0;34m(\u001b[0m\u001b[0;34m)\u001b[0m\u001b[0;34m\u001b[0m\u001b[0;34m\u001b[0m\u001b[0m\n\u001b[1;32m    129\u001b[0m             \u001b[0;32mtry\u001b[0m\u001b[0;34m:\u001b[0m\u001b[0;34m\u001b[0m\u001b[0;34m\u001b[0m\u001b[0m\n\u001b[0;32m--> 130\u001b[0;31m                 \u001b[0mself\u001b[0m\u001b[0;34m.\u001b[0m\u001b[0mgen\u001b[0m\u001b[0;34m.\u001b[0m\u001b[0mthrow\u001b[0m\u001b[0;34m(\u001b[0m\u001b[0mtype\u001b[0m\u001b[0;34m,\u001b[0m \u001b[0mvalue\u001b[0m\u001b[0;34m,\u001b[0m \u001b[0mtraceback\u001b[0m\u001b[0;34m)\u001b[0m\u001b[0;34m\u001b[0m\u001b[0;34m\u001b[0m\u001b[0m\n\u001b[0m\u001b[1;32m    131\u001b[0m             \u001b[0;32mexcept\u001b[0m \u001b[0mStopIteration\u001b[0m \u001b[0;32mas\u001b[0m \u001b[0mexc\u001b[0m\u001b[0;34m:\u001b[0m\u001b[0;34m\u001b[0m\u001b[0;34m\u001b[0m\u001b[0m\n\u001b[1;32m    132\u001b[0m                 \u001b[0;31m# Suppress StopIteration *unless* it's the same exception that\u001b[0m\u001b[0;34m\u001b[0m\u001b[0;34m\u001b[0m\u001b[0;34m\u001b[0m\u001b[0m\n",
            "\u001b[0;32m/usr/local/lib/python3.7/dist-packages/urllib3/response.py\u001b[0m in \u001b[0;36m_error_catcher\u001b[0;34m(self)\u001b[0m\n\u001b[1;32m    378\u001b[0m             \u001b[0;32mexcept\u001b[0m \u001b[0;34m(\u001b[0m\u001b[0mHTTPException\u001b[0m\u001b[0;34m,\u001b[0m \u001b[0mSocketError\u001b[0m\u001b[0;34m)\u001b[0m \u001b[0;32mas\u001b[0m \u001b[0me\u001b[0m\u001b[0;34m:\u001b[0m\u001b[0;34m\u001b[0m\u001b[0;34m\u001b[0m\u001b[0m\n\u001b[1;32m    379\u001b[0m                 \u001b[0;31m# This includes IncompleteRead.\u001b[0m\u001b[0;34m\u001b[0m\u001b[0;34m\u001b[0m\u001b[0;34m\u001b[0m\u001b[0m\n\u001b[0;32m--> 380\u001b[0;31m                 \u001b[0;32mraise\u001b[0m \u001b[0mProtocolError\u001b[0m\u001b[0;34m(\u001b[0m\u001b[0;34m'Connection broken: %r'\u001b[0m \u001b[0;34m%\u001b[0m \u001b[0me\u001b[0m\u001b[0;34m,\u001b[0m \u001b[0me\u001b[0m\u001b[0;34m)\u001b[0m\u001b[0;34m\u001b[0m\u001b[0;34m\u001b[0m\u001b[0m\n\u001b[0m\u001b[1;32m    381\u001b[0m \u001b[0;34m\u001b[0m\u001b[0m\n\u001b[1;32m    382\u001b[0m             \u001b[0;31m# If no exception is thrown, we should avoid cleaning up\u001b[0m\u001b[0;34m\u001b[0m\u001b[0;34m\u001b[0m\u001b[0;34m\u001b[0m\u001b[0m\n",
            "\u001b[0;31mProtocolError\u001b[0m: ('Connection broken: IncompleteRead(0 bytes read)', IncompleteRead(0 bytes read))"
          ]
        }
      ]
    },
    {
      "cell_type": "markdown",
      "metadata": {
        "id": "OuptBVyxlSQb"
      },
      "source": [
        "### Clasificación de tweets por usuario\n",
        "En la siguiente celda se prende el stream para buscar por un usuario. En caso de que se quiera cambiar, basta con cambiar la variable **user_name** por otro string. **Se debe colocar el nombre que tenga usuario justo después de su @**, de lo contrario Tweepy no lo va a encontrar y la celda va a marcar un error.\n",
        "\n",
        "**Al igual que con la búsqueda por palabras, el stream debe interrumpirse manualmente, cortando la ejecución de la celda.**"
      ]
    },
    {
      "cell_type": "code",
      "metadata": {
        "id": "txk2qqQ-JQOw",
        "colab": {
          "base_uri": "https://localhost:8080/",
          "height": 575
        },
        "outputId": "75cabc18-be10-41db-f435-f48d5d16ffc9"
      },
      "source": [
        "user_name = \"IGN\"\n",
        "api = API(auth)\n",
        "\n",
        "user = api.get_user(user_name)\n",
        "print(f\"ID del usuario encontrado: {user.id_str}\")\n",
        "\n",
        "twitterStream = Stream(auth, listener())\n",
        "twitterStream.filter(follow=[user.id_str])"
      ],
      "execution_count": null,
      "outputs": [
        {
          "output_type": "stream",
          "text": [
            "ID del usuario encontrado: 18927441\n",
            "@IGN New* 0 0.5555555555555556\n",
            "@IGN Make a game that's great and not meh and then people will gladly pay full price. https://t.co/3MFzCV5911 0 0.6666666666666667\n",
            "@IGN Justice for Helena #ResidentEvil6 1 0.5555555555555556\n",
            "@IGN @DillonODay 1 0.5555555555555556\n",
            "@IGN They can't just expect everyone to be able to pay full price for a AAA game. More importantly, why should it b… https://t.co/SyBtSg9XmG 0 0.6666666666666667\n",
            "@IGN Fuck off, make a good game then we’ll think about it 1 0.7777777777777778\n",
            "@IGN Who cares? 1 1.0\n",
            "RT @IGN: Days Gone creative director and writer John Garvin said that, if you love a game and want a sequel, you should \"buy it at f******… 0 0.5555555555555556\n",
            "@IGN I buy it at relase 0 0.7777777777777778\n",
            "RT @IGN: Amazon has canceled its The Lord of the Rings MMORPG that was first announced in 2019. https://t.co/S9gYQkBfRH https://t.co/Q5jY6e… 1 0.5555555555555556\n",
            "RT @IGN: Days Gone creative director and writer John Garvin said that, if you love a game and want a sequel, you should \"buy it at f******… 0 0.5555555555555556\n",
            "RT @IGN: Days Gone creative director and writer John Garvin said that, if you love a game and want a sequel, you should \"buy it at f******… 0 0.5555555555555556\n"
          ],
          "name": "stdout"
        },
        {
          "output_type": "error",
          "ename": "KeyboardInterrupt",
          "evalue": "ignored",
          "traceback": [
            "\u001b[0;31m---------------------------------------------------------------------------\u001b[0m",
            "\u001b[0;31mKeyboardInterrupt\u001b[0m                         Traceback (most recent call last)",
            "\u001b[0;32m<ipython-input-79-4648185677a3>\u001b[0m in \u001b[0;36m<module>\u001b[0;34m()\u001b[0m\n\u001b[1;32m      6\u001b[0m \u001b[0;34m\u001b[0m\u001b[0m\n\u001b[1;32m      7\u001b[0m \u001b[0mtwitterStream\u001b[0m \u001b[0;34m=\u001b[0m \u001b[0mStream\u001b[0m\u001b[0;34m(\u001b[0m\u001b[0mauth\u001b[0m\u001b[0;34m,\u001b[0m \u001b[0mlistener\u001b[0m\u001b[0;34m(\u001b[0m\u001b[0;34m)\u001b[0m\u001b[0;34m)\u001b[0m\u001b[0;34m\u001b[0m\u001b[0;34m\u001b[0m\u001b[0m\n\u001b[0;32m----> 8\u001b[0;31m \u001b[0mtwitterStream\u001b[0m\u001b[0;34m.\u001b[0m\u001b[0mfilter\u001b[0m\u001b[0;34m(\u001b[0m\u001b[0mfollow\u001b[0m\u001b[0;34m=\u001b[0m\u001b[0;34m[\u001b[0m\u001b[0muser\u001b[0m\u001b[0;34m.\u001b[0m\u001b[0mid_str\u001b[0m\u001b[0;34m]\u001b[0m\u001b[0;34m)\u001b[0m\u001b[0;34m\u001b[0m\u001b[0;34m\u001b[0m\u001b[0m\n\u001b[0m",
            "\u001b[0;32m/usr/local/lib/python3.7/dist-packages/tweepy/streaming.py\u001b[0m in \u001b[0;36mfilter\u001b[0;34m(self, follow, track, is_async, locations, stall_warnings, languages, encoding, filter_level)\u001b[0m\n\u001b[1;32m    472\u001b[0m             \u001b[0mself\u001b[0m\u001b[0;34m.\u001b[0m\u001b[0mbody\u001b[0m\u001b[0;34m[\u001b[0m\u001b[0;34m'filter_level'\u001b[0m\u001b[0;34m]\u001b[0m \u001b[0;34m=\u001b[0m \u001b[0mfilter_level\u001b[0m\u001b[0;34m.\u001b[0m\u001b[0mencode\u001b[0m\u001b[0;34m(\u001b[0m\u001b[0mencoding\u001b[0m\u001b[0;34m)\u001b[0m\u001b[0;34m\u001b[0m\u001b[0;34m\u001b[0m\u001b[0m\n\u001b[1;32m    473\u001b[0m         \u001b[0mself\u001b[0m\u001b[0;34m.\u001b[0m\u001b[0msession\u001b[0m\u001b[0;34m.\u001b[0m\u001b[0mparams\u001b[0m \u001b[0;34m=\u001b[0m \u001b[0;34m{\u001b[0m\u001b[0;34m'delimited'\u001b[0m\u001b[0;34m:\u001b[0m \u001b[0;34m'length'\u001b[0m\u001b[0;34m}\u001b[0m\u001b[0;34m\u001b[0m\u001b[0;34m\u001b[0m\u001b[0m\n\u001b[0;32m--> 474\u001b[0;31m         \u001b[0mself\u001b[0m\u001b[0;34m.\u001b[0m\u001b[0m_start\u001b[0m\u001b[0;34m(\u001b[0m\u001b[0mis_async\u001b[0m\u001b[0;34m)\u001b[0m\u001b[0;34m\u001b[0m\u001b[0;34m\u001b[0m\u001b[0m\n\u001b[0m\u001b[1;32m    475\u001b[0m \u001b[0;34m\u001b[0m\u001b[0m\n\u001b[1;32m    476\u001b[0m     def sitestream(self, follow, stall_warnings=False,\n",
            "\u001b[0;32m/usr/local/lib/python3.7/dist-packages/tweepy/streaming.py\u001b[0m in \u001b[0;36m_start\u001b[0;34m(self, is_async)\u001b[0m\n\u001b[1;32m    387\u001b[0m             \u001b[0mself\u001b[0m\u001b[0;34m.\u001b[0m\u001b[0m_thread\u001b[0m\u001b[0;34m.\u001b[0m\u001b[0mstart\u001b[0m\u001b[0;34m(\u001b[0m\u001b[0;34m)\u001b[0m\u001b[0;34m\u001b[0m\u001b[0;34m\u001b[0m\u001b[0m\n\u001b[1;32m    388\u001b[0m         \u001b[0;32melse\u001b[0m\u001b[0;34m:\u001b[0m\u001b[0;34m\u001b[0m\u001b[0;34m\u001b[0m\u001b[0m\n\u001b[0;32m--> 389\u001b[0;31m             \u001b[0mself\u001b[0m\u001b[0;34m.\u001b[0m\u001b[0m_run\u001b[0m\u001b[0;34m(\u001b[0m\u001b[0;34m)\u001b[0m\u001b[0;34m\u001b[0m\u001b[0;34m\u001b[0m\u001b[0m\n\u001b[0m\u001b[1;32m    390\u001b[0m \u001b[0;34m\u001b[0m\u001b[0m\n\u001b[1;32m    391\u001b[0m     \u001b[0;32mdef\u001b[0m \u001b[0mon_closed\u001b[0m\u001b[0;34m(\u001b[0m\u001b[0mself\u001b[0m\u001b[0;34m,\u001b[0m \u001b[0mresp\u001b[0m\u001b[0;34m)\u001b[0m\u001b[0;34m:\u001b[0m\u001b[0;34m\u001b[0m\u001b[0;34m\u001b[0m\u001b[0m\n",
            "\u001b[0;32m/usr/local/lib/python3.7/dist-packages/tweepy/streaming.py\u001b[0m in \u001b[0;36m_run\u001b[0;34m(self)\u001b[0m\n\u001b[1;32m    287\u001b[0m                     \u001b[0mself\u001b[0m\u001b[0;34m.\u001b[0m\u001b[0msnooze_time\u001b[0m \u001b[0;34m=\u001b[0m \u001b[0mself\u001b[0m\u001b[0;34m.\u001b[0m\u001b[0msnooze_time_step\u001b[0m\u001b[0;34m\u001b[0m\u001b[0;34m\u001b[0m\u001b[0m\n\u001b[1;32m    288\u001b[0m                     \u001b[0mself\u001b[0m\u001b[0;34m.\u001b[0m\u001b[0mlistener\u001b[0m\u001b[0;34m.\u001b[0m\u001b[0mon_connect\u001b[0m\u001b[0;34m(\u001b[0m\u001b[0;34m)\u001b[0m\u001b[0;34m\u001b[0m\u001b[0;34m\u001b[0m\u001b[0m\n\u001b[0;32m--> 289\u001b[0;31m                     \u001b[0mself\u001b[0m\u001b[0;34m.\u001b[0m\u001b[0m_read_loop\u001b[0m\u001b[0;34m(\u001b[0m\u001b[0mresp\u001b[0m\u001b[0;34m)\u001b[0m\u001b[0;34m\u001b[0m\u001b[0;34m\u001b[0m\u001b[0m\n\u001b[0m\u001b[1;32m    290\u001b[0m             \u001b[0;32mexcept\u001b[0m \u001b[0;34m(\u001b[0m\u001b[0mTimeout\u001b[0m\u001b[0;34m,\u001b[0m \u001b[0mssl\u001b[0m\u001b[0;34m.\u001b[0m\u001b[0mSSLError\u001b[0m\u001b[0;34m)\u001b[0m \u001b[0;32mas\u001b[0m \u001b[0mexc\u001b[0m\u001b[0;34m:\u001b[0m\u001b[0;34m\u001b[0m\u001b[0;34m\u001b[0m\u001b[0m\n\u001b[1;32m    291\u001b[0m                 \u001b[0;31m# This is still necessary, as a SSLError can actually be\u001b[0m\u001b[0;34m\u001b[0m\u001b[0;34m\u001b[0m\u001b[0;34m\u001b[0m\u001b[0m\n",
            "\u001b[0;32m/usr/local/lib/python3.7/dist-packages/tweepy/streaming.py\u001b[0m in \u001b[0;36m_read_loop\u001b[0;34m(self, resp)\u001b[0m\n\u001b[1;32m    337\u001b[0m             \u001b[0mlength\u001b[0m \u001b[0;34m=\u001b[0m \u001b[0;36m0\u001b[0m\u001b[0;34m\u001b[0m\u001b[0;34m\u001b[0m\u001b[0m\n\u001b[1;32m    338\u001b[0m             \u001b[0;32mwhile\u001b[0m \u001b[0;32mnot\u001b[0m \u001b[0mresp\u001b[0m\u001b[0;34m.\u001b[0m\u001b[0mraw\u001b[0m\u001b[0;34m.\u001b[0m\u001b[0mclosed\u001b[0m\u001b[0;34m:\u001b[0m\u001b[0;34m\u001b[0m\u001b[0;34m\u001b[0m\u001b[0m\n\u001b[0;32m--> 339\u001b[0;31m                 \u001b[0mline\u001b[0m \u001b[0;34m=\u001b[0m \u001b[0mbuf\u001b[0m\u001b[0;34m.\u001b[0m\u001b[0mread_line\u001b[0m\u001b[0;34m(\u001b[0m\u001b[0;34m)\u001b[0m\u001b[0;34m\u001b[0m\u001b[0;34m\u001b[0m\u001b[0m\n\u001b[0m\u001b[1;32m    340\u001b[0m                 \u001b[0mstripped_line\u001b[0m \u001b[0;34m=\u001b[0m \u001b[0mline\u001b[0m\u001b[0;34m.\u001b[0m\u001b[0mstrip\u001b[0m\u001b[0;34m(\u001b[0m\u001b[0;34m)\u001b[0m \u001b[0;32mif\u001b[0m \u001b[0mline\u001b[0m \u001b[0;32melse\u001b[0m \u001b[0mline\u001b[0m \u001b[0;31m# line is sometimes None so we need to check here\u001b[0m\u001b[0;34m\u001b[0m\u001b[0;34m\u001b[0m\u001b[0m\n\u001b[1;32m    341\u001b[0m                 \u001b[0;32mif\u001b[0m \u001b[0;32mnot\u001b[0m \u001b[0mstripped_line\u001b[0m\u001b[0;34m:\u001b[0m\u001b[0;34m\u001b[0m\u001b[0;34m\u001b[0m\u001b[0m\n",
            "\u001b[0;32m/usr/local/lib/python3.7/dist-packages/tweepy/streaming.py\u001b[0m in \u001b[0;36mread_line\u001b[0;34m(self, sep)\u001b[0m\n\u001b[1;32m    198\u001b[0m             \u001b[0;32melse\u001b[0m\u001b[0;34m:\u001b[0m\u001b[0;34m\u001b[0m\u001b[0;34m\u001b[0m\u001b[0m\n\u001b[1;32m    199\u001b[0m                 \u001b[0mstart\u001b[0m \u001b[0;34m=\u001b[0m \u001b[0mlen\u001b[0m\u001b[0;34m(\u001b[0m\u001b[0mself\u001b[0m\u001b[0;34m.\u001b[0m\u001b[0m_buffer\u001b[0m\u001b[0;34m)\u001b[0m\u001b[0;34m\u001b[0m\u001b[0;34m\u001b[0m\u001b[0m\n\u001b[0;32m--> 200\u001b[0;31m             \u001b[0mself\u001b[0m\u001b[0;34m.\u001b[0m\u001b[0m_buffer\u001b[0m \u001b[0;34m+=\u001b[0m \u001b[0mself\u001b[0m\u001b[0;34m.\u001b[0m\u001b[0m_stream\u001b[0m\u001b[0;34m.\u001b[0m\u001b[0mread\u001b[0m\u001b[0;34m(\u001b[0m\u001b[0mself\u001b[0m\u001b[0;34m.\u001b[0m\u001b[0m_chunk_size\u001b[0m\u001b[0;34m)\u001b[0m\u001b[0;34m\u001b[0m\u001b[0;34m\u001b[0m\u001b[0m\n\u001b[0m\u001b[1;32m    201\u001b[0m         \u001b[0;32mreturn\u001b[0m \u001b[0msix\u001b[0m\u001b[0;34m.\u001b[0m\u001b[0mb\u001b[0m\u001b[0;34m(\u001b[0m\u001b[0;34m''\u001b[0m\u001b[0;34m)\u001b[0m\u001b[0;34m\u001b[0m\u001b[0;34m\u001b[0m\u001b[0m\n\u001b[1;32m    202\u001b[0m \u001b[0;34m\u001b[0m\u001b[0m\n",
            "\u001b[0;32m/usr/local/lib/python3.7/dist-packages/urllib3/response.py\u001b[0m in \u001b[0;36mread\u001b[0;34m(self, amt, decode_content, cache_content)\u001b[0m\n\u001b[1;32m    442\u001b[0m             \u001b[0;32melse\u001b[0m\u001b[0;34m:\u001b[0m\u001b[0;34m\u001b[0m\u001b[0;34m\u001b[0m\u001b[0m\n\u001b[1;32m    443\u001b[0m                 \u001b[0mcache_content\u001b[0m \u001b[0;34m=\u001b[0m \u001b[0;32mFalse\u001b[0m\u001b[0;34m\u001b[0m\u001b[0;34m\u001b[0m\u001b[0m\n\u001b[0;32m--> 444\u001b[0;31m                 \u001b[0mdata\u001b[0m \u001b[0;34m=\u001b[0m \u001b[0mself\u001b[0m\u001b[0;34m.\u001b[0m\u001b[0m_fp\u001b[0m\u001b[0;34m.\u001b[0m\u001b[0mread\u001b[0m\u001b[0;34m(\u001b[0m\u001b[0mamt\u001b[0m\u001b[0;34m)\u001b[0m\u001b[0;34m\u001b[0m\u001b[0;34m\u001b[0m\u001b[0m\n\u001b[0m\u001b[1;32m    445\u001b[0m                 \u001b[0;32mif\u001b[0m \u001b[0mamt\u001b[0m \u001b[0;34m!=\u001b[0m \u001b[0;36m0\u001b[0m \u001b[0;32mand\u001b[0m \u001b[0;32mnot\u001b[0m \u001b[0mdata\u001b[0m\u001b[0;34m:\u001b[0m  \u001b[0;31m# Platform-specific: Buggy versions of Python.\u001b[0m\u001b[0;34m\u001b[0m\u001b[0;34m\u001b[0m\u001b[0m\n\u001b[1;32m    446\u001b[0m                     \u001b[0;31m# Close the connection when no data is returned\u001b[0m\u001b[0;34m\u001b[0m\u001b[0;34m\u001b[0m\u001b[0;34m\u001b[0m\u001b[0m\n",
            "\u001b[0;32m/usr/lib/python3.7/http/client.py\u001b[0m in \u001b[0;36mread\u001b[0;34m(self, amt)\u001b[0m\n\u001b[1;32m    459\u001b[0m             \u001b[0;31m# Amount is given, implement using readinto\u001b[0m\u001b[0;34m\u001b[0m\u001b[0;34m\u001b[0m\u001b[0;34m\u001b[0m\u001b[0m\n\u001b[1;32m    460\u001b[0m             \u001b[0mb\u001b[0m \u001b[0;34m=\u001b[0m \u001b[0mbytearray\u001b[0m\u001b[0;34m(\u001b[0m\u001b[0mamt\u001b[0m\u001b[0;34m)\u001b[0m\u001b[0;34m\u001b[0m\u001b[0;34m\u001b[0m\u001b[0m\n\u001b[0;32m--> 461\u001b[0;31m             \u001b[0mn\u001b[0m \u001b[0;34m=\u001b[0m \u001b[0mself\u001b[0m\u001b[0;34m.\u001b[0m\u001b[0mreadinto\u001b[0m\u001b[0;34m(\u001b[0m\u001b[0mb\u001b[0m\u001b[0;34m)\u001b[0m\u001b[0;34m\u001b[0m\u001b[0;34m\u001b[0m\u001b[0m\n\u001b[0m\u001b[1;32m    462\u001b[0m             \u001b[0;32mreturn\u001b[0m \u001b[0mmemoryview\u001b[0m\u001b[0;34m(\u001b[0m\u001b[0mb\u001b[0m\u001b[0;34m)\u001b[0m\u001b[0;34m[\u001b[0m\u001b[0;34m:\u001b[0m\u001b[0mn\u001b[0m\u001b[0;34m]\u001b[0m\u001b[0;34m.\u001b[0m\u001b[0mtobytes\u001b[0m\u001b[0;34m(\u001b[0m\u001b[0;34m)\u001b[0m\u001b[0;34m\u001b[0m\u001b[0;34m\u001b[0m\u001b[0m\n\u001b[1;32m    463\u001b[0m         \u001b[0;32melse\u001b[0m\u001b[0;34m:\u001b[0m\u001b[0;34m\u001b[0m\u001b[0;34m\u001b[0m\u001b[0m\n",
            "\u001b[0;32m/usr/lib/python3.7/http/client.py\u001b[0m in \u001b[0;36mreadinto\u001b[0;34m(self, b)\u001b[0m\n\u001b[1;32m    493\u001b[0m \u001b[0;34m\u001b[0m\u001b[0m\n\u001b[1;32m    494\u001b[0m         \u001b[0;32mif\u001b[0m \u001b[0mself\u001b[0m\u001b[0;34m.\u001b[0m\u001b[0mchunked\u001b[0m\u001b[0;34m:\u001b[0m\u001b[0;34m\u001b[0m\u001b[0;34m\u001b[0m\u001b[0m\n\u001b[0;32m--> 495\u001b[0;31m             \u001b[0;32mreturn\u001b[0m \u001b[0mself\u001b[0m\u001b[0;34m.\u001b[0m\u001b[0m_readinto_chunked\u001b[0m\u001b[0;34m(\u001b[0m\u001b[0mb\u001b[0m\u001b[0;34m)\u001b[0m\u001b[0;34m\u001b[0m\u001b[0;34m\u001b[0m\u001b[0m\n\u001b[0m\u001b[1;32m    496\u001b[0m \u001b[0;34m\u001b[0m\u001b[0m\n\u001b[1;32m    497\u001b[0m         \u001b[0;32mif\u001b[0m \u001b[0mself\u001b[0m\u001b[0;34m.\u001b[0m\u001b[0mlength\u001b[0m \u001b[0;32mis\u001b[0m \u001b[0;32mnot\u001b[0m \u001b[0;32mNone\u001b[0m\u001b[0;34m:\u001b[0m\u001b[0;34m\u001b[0m\u001b[0;34m\u001b[0m\u001b[0m\n",
            "\u001b[0;32m/usr/lib/python3.7/http/client.py\u001b[0m in \u001b[0;36m_readinto_chunked\u001b[0;34m(self, b)\u001b[0m\n\u001b[1;32m    588\u001b[0m         \u001b[0;32mtry\u001b[0m\u001b[0;34m:\u001b[0m\u001b[0;34m\u001b[0m\u001b[0;34m\u001b[0m\u001b[0m\n\u001b[1;32m    589\u001b[0m             \u001b[0;32mwhile\u001b[0m \u001b[0;32mTrue\u001b[0m\u001b[0;34m:\u001b[0m\u001b[0;34m\u001b[0m\u001b[0;34m\u001b[0m\u001b[0m\n\u001b[0;32m--> 590\u001b[0;31m                 \u001b[0mchunk_left\u001b[0m \u001b[0;34m=\u001b[0m \u001b[0mself\u001b[0m\u001b[0;34m.\u001b[0m\u001b[0m_get_chunk_left\u001b[0m\u001b[0;34m(\u001b[0m\u001b[0;34m)\u001b[0m\u001b[0;34m\u001b[0m\u001b[0;34m\u001b[0m\u001b[0m\n\u001b[0m\u001b[1;32m    591\u001b[0m                 \u001b[0;32mif\u001b[0m \u001b[0mchunk_left\u001b[0m \u001b[0;32mis\u001b[0m \u001b[0;32mNone\u001b[0m\u001b[0;34m:\u001b[0m\u001b[0;34m\u001b[0m\u001b[0;34m\u001b[0m\u001b[0m\n\u001b[1;32m    592\u001b[0m                     \u001b[0;32mreturn\u001b[0m \u001b[0mtotal_bytes\u001b[0m\u001b[0;34m\u001b[0m\u001b[0;34m\u001b[0m\u001b[0m\n",
            "\u001b[0;32m/usr/lib/python3.7/http/client.py\u001b[0m in \u001b[0;36m_get_chunk_left\u001b[0;34m(self)\u001b[0m\n\u001b[1;32m    556\u001b[0m                 \u001b[0mself\u001b[0m\u001b[0;34m.\u001b[0m\u001b[0m_safe_read\u001b[0m\u001b[0;34m(\u001b[0m\u001b[0;36m2\u001b[0m\u001b[0;34m)\u001b[0m  \u001b[0;31m# toss the CRLF at the end of the chunk\u001b[0m\u001b[0;34m\u001b[0m\u001b[0;34m\u001b[0m\u001b[0m\n\u001b[1;32m    557\u001b[0m             \u001b[0;32mtry\u001b[0m\u001b[0;34m:\u001b[0m\u001b[0;34m\u001b[0m\u001b[0;34m\u001b[0m\u001b[0m\n\u001b[0;32m--> 558\u001b[0;31m                 \u001b[0mchunk_left\u001b[0m \u001b[0;34m=\u001b[0m \u001b[0mself\u001b[0m\u001b[0;34m.\u001b[0m\u001b[0m_read_next_chunk_size\u001b[0m\u001b[0;34m(\u001b[0m\u001b[0;34m)\u001b[0m\u001b[0;34m\u001b[0m\u001b[0;34m\u001b[0m\u001b[0m\n\u001b[0m\u001b[1;32m    559\u001b[0m             \u001b[0;32mexcept\u001b[0m \u001b[0mValueError\u001b[0m\u001b[0;34m:\u001b[0m\u001b[0;34m\u001b[0m\u001b[0;34m\u001b[0m\u001b[0m\n\u001b[1;32m    560\u001b[0m                 \u001b[0;32mraise\u001b[0m \u001b[0mIncompleteRead\u001b[0m\u001b[0;34m(\u001b[0m\u001b[0;34mb''\u001b[0m\u001b[0;34m)\u001b[0m\u001b[0;34m\u001b[0m\u001b[0;34m\u001b[0m\u001b[0m\n",
            "\u001b[0;32m/usr/lib/python3.7/http/client.py\u001b[0m in \u001b[0;36m_read_next_chunk_size\u001b[0;34m(self)\u001b[0m\n\u001b[1;32m    516\u001b[0m     \u001b[0;32mdef\u001b[0m \u001b[0m_read_next_chunk_size\u001b[0m\u001b[0;34m(\u001b[0m\u001b[0mself\u001b[0m\u001b[0;34m)\u001b[0m\u001b[0;34m:\u001b[0m\u001b[0;34m\u001b[0m\u001b[0;34m\u001b[0m\u001b[0m\n\u001b[1;32m    517\u001b[0m         \u001b[0;31m# Read the next chunk size from the file\u001b[0m\u001b[0;34m\u001b[0m\u001b[0;34m\u001b[0m\u001b[0;34m\u001b[0m\u001b[0m\n\u001b[0;32m--> 518\u001b[0;31m         \u001b[0mline\u001b[0m \u001b[0;34m=\u001b[0m \u001b[0mself\u001b[0m\u001b[0;34m.\u001b[0m\u001b[0mfp\u001b[0m\u001b[0;34m.\u001b[0m\u001b[0mreadline\u001b[0m\u001b[0;34m(\u001b[0m\u001b[0m_MAXLINE\u001b[0m \u001b[0;34m+\u001b[0m \u001b[0;36m1\u001b[0m\u001b[0;34m)\u001b[0m\u001b[0;34m\u001b[0m\u001b[0;34m\u001b[0m\u001b[0m\n\u001b[0m\u001b[1;32m    519\u001b[0m         \u001b[0;32mif\u001b[0m \u001b[0mlen\u001b[0m\u001b[0;34m(\u001b[0m\u001b[0mline\u001b[0m\u001b[0;34m)\u001b[0m \u001b[0;34m>\u001b[0m \u001b[0m_MAXLINE\u001b[0m\u001b[0;34m:\u001b[0m\u001b[0;34m\u001b[0m\u001b[0;34m\u001b[0m\u001b[0m\n\u001b[1;32m    520\u001b[0m             \u001b[0;32mraise\u001b[0m \u001b[0mLineTooLong\u001b[0m\u001b[0;34m(\u001b[0m\u001b[0;34m\"chunk size\"\u001b[0m\u001b[0;34m)\u001b[0m\u001b[0;34m\u001b[0m\u001b[0;34m\u001b[0m\u001b[0m\n",
            "\u001b[0;32m/usr/lib/python3.7/socket.py\u001b[0m in \u001b[0;36mreadinto\u001b[0;34m(self, b)\u001b[0m\n\u001b[1;32m    587\u001b[0m         \u001b[0;32mwhile\u001b[0m \u001b[0;32mTrue\u001b[0m\u001b[0;34m:\u001b[0m\u001b[0;34m\u001b[0m\u001b[0;34m\u001b[0m\u001b[0m\n\u001b[1;32m    588\u001b[0m             \u001b[0;32mtry\u001b[0m\u001b[0;34m:\u001b[0m\u001b[0;34m\u001b[0m\u001b[0;34m\u001b[0m\u001b[0m\n\u001b[0;32m--> 589\u001b[0;31m                 \u001b[0;32mreturn\u001b[0m \u001b[0mself\u001b[0m\u001b[0;34m.\u001b[0m\u001b[0m_sock\u001b[0m\u001b[0;34m.\u001b[0m\u001b[0mrecv_into\u001b[0m\u001b[0;34m(\u001b[0m\u001b[0mb\u001b[0m\u001b[0;34m)\u001b[0m\u001b[0;34m\u001b[0m\u001b[0;34m\u001b[0m\u001b[0m\n\u001b[0m\u001b[1;32m    590\u001b[0m             \u001b[0;32mexcept\u001b[0m \u001b[0mtimeout\u001b[0m\u001b[0;34m:\u001b[0m\u001b[0;34m\u001b[0m\u001b[0;34m\u001b[0m\u001b[0m\n\u001b[1;32m    591\u001b[0m                 \u001b[0mself\u001b[0m\u001b[0;34m.\u001b[0m\u001b[0m_timeout_occurred\u001b[0m \u001b[0;34m=\u001b[0m \u001b[0;32mTrue\u001b[0m\u001b[0;34m\u001b[0m\u001b[0;34m\u001b[0m\u001b[0m\n",
            "\u001b[0;32m/usr/lib/python3.7/ssl.py\u001b[0m in \u001b[0;36mrecv_into\u001b[0;34m(self, buffer, nbytes, flags)\u001b[0m\n\u001b[1;32m   1069\u001b[0m                   \u001b[0;34m\"non-zero flags not allowed in calls to recv_into() on %s\"\u001b[0m \u001b[0;34m%\u001b[0m\u001b[0;34m\u001b[0m\u001b[0;34m\u001b[0m\u001b[0m\n\u001b[1;32m   1070\u001b[0m                   self.__class__)\n\u001b[0;32m-> 1071\u001b[0;31m             \u001b[0;32mreturn\u001b[0m \u001b[0mself\u001b[0m\u001b[0;34m.\u001b[0m\u001b[0mread\u001b[0m\u001b[0;34m(\u001b[0m\u001b[0mnbytes\u001b[0m\u001b[0;34m,\u001b[0m \u001b[0mbuffer\u001b[0m\u001b[0;34m)\u001b[0m\u001b[0;34m\u001b[0m\u001b[0;34m\u001b[0m\u001b[0m\n\u001b[0m\u001b[1;32m   1072\u001b[0m         \u001b[0;32melse\u001b[0m\u001b[0;34m:\u001b[0m\u001b[0;34m\u001b[0m\u001b[0;34m\u001b[0m\u001b[0m\n\u001b[1;32m   1073\u001b[0m             \u001b[0;32mreturn\u001b[0m \u001b[0msuper\u001b[0m\u001b[0;34m(\u001b[0m\u001b[0;34m)\u001b[0m\u001b[0;34m.\u001b[0m\u001b[0mrecv_into\u001b[0m\u001b[0;34m(\u001b[0m\u001b[0mbuffer\u001b[0m\u001b[0;34m,\u001b[0m \u001b[0mnbytes\u001b[0m\u001b[0;34m,\u001b[0m \u001b[0mflags\u001b[0m\u001b[0;34m)\u001b[0m\u001b[0;34m\u001b[0m\u001b[0;34m\u001b[0m\u001b[0m\n",
            "\u001b[0;32m/usr/lib/python3.7/ssl.py\u001b[0m in \u001b[0;36mread\u001b[0;34m(self, len, buffer)\u001b[0m\n\u001b[1;32m    927\u001b[0m         \u001b[0;32mtry\u001b[0m\u001b[0;34m:\u001b[0m\u001b[0;34m\u001b[0m\u001b[0;34m\u001b[0m\u001b[0m\n\u001b[1;32m    928\u001b[0m             \u001b[0;32mif\u001b[0m \u001b[0mbuffer\u001b[0m \u001b[0;32mis\u001b[0m \u001b[0;32mnot\u001b[0m \u001b[0;32mNone\u001b[0m\u001b[0;34m:\u001b[0m\u001b[0;34m\u001b[0m\u001b[0;34m\u001b[0m\u001b[0m\n\u001b[0;32m--> 929\u001b[0;31m                 \u001b[0;32mreturn\u001b[0m \u001b[0mself\u001b[0m\u001b[0;34m.\u001b[0m\u001b[0m_sslobj\u001b[0m\u001b[0;34m.\u001b[0m\u001b[0mread\u001b[0m\u001b[0;34m(\u001b[0m\u001b[0mlen\u001b[0m\u001b[0;34m,\u001b[0m \u001b[0mbuffer\u001b[0m\u001b[0;34m)\u001b[0m\u001b[0;34m\u001b[0m\u001b[0;34m\u001b[0m\u001b[0m\n\u001b[0m\u001b[1;32m    930\u001b[0m             \u001b[0;32melse\u001b[0m\u001b[0;34m:\u001b[0m\u001b[0;34m\u001b[0m\u001b[0;34m\u001b[0m\u001b[0m\n\u001b[1;32m    931\u001b[0m                 \u001b[0;32mreturn\u001b[0m \u001b[0mself\u001b[0m\u001b[0;34m.\u001b[0m\u001b[0m_sslobj\u001b[0m\u001b[0;34m.\u001b[0m\u001b[0mread\u001b[0m\u001b[0;34m(\u001b[0m\u001b[0mlen\u001b[0m\u001b[0;34m)\u001b[0m\u001b[0;34m\u001b[0m\u001b[0;34m\u001b[0m\u001b[0m\n",
            "\u001b[0;31mKeyboardInterrupt\u001b[0m: "
          ]
        }
      ]
    },
    {
      "cell_type": "markdown",
      "metadata": {
        "id": "E4CuwhZ3dBkz"
      },
      "source": [
        "Cuando se haya prendido el stream y se tengan algunos tweets ya clasificados, corremos la función para obtener la tendencia de las clasificaciones."
      ]
    },
    {
      "cell_type": "code",
      "metadata": {
        "id": "sTJdb_ucb9Al",
        "colab": {
          "base_uri": "https://localhost:8080/",
          "height": 265
        },
        "outputId": "3579449a-22ba-4d5a-d0a6-5a8b15cd0020"
      },
      "source": [
        "plot_text_trendline()"
      ],
      "execution_count": null,
      "outputs": [
        {
          "output_type": "display_data",
          "data": {
            "image/png": "[encoded data removed]",
            "text/plain": [
              "<Figure size 432x288 with 1 Axes>"
            ]
          },
          "metadata": {
            "tags": []
          }
        }
      ]
    },
    {
      "cell_type": "markdown",
      "metadata": {
        "id": "u57XW6kDGJ7w"
      },
      "source": [
        "### Clasificación de Audio\n",
        "La siguiente aplicación tiene que ver con clasificación de audio. Básicamente, lo que se está haciendo es que importamos un modelo pre-entrenado de reconocimiento de texto de **SpeechBrain**. A partir de este, podemos meter un archivo de audio, transcribir el audio a texto, y posteriormente hacer la clasificación del texto con nuestro modelo. \n",
        "\n",
        "**Nota: los archivos de audio que se le proporcionen al modelo deben estar en formato WAV, de lo contrario puede que este no funcione correctamente.** Nosotros proporcionamos dos ejemplos para probar el modelo.\n",
        "\n",
        "Lo primero que se hace es descargar el modelo de SpeechBrain"
      ]
    },
    {
      "cell_type": "code",
      "metadata": {
        "id": "SGEKonRBm057",
        "colab": {
          "base_uri": "https://localhost:8080/",
          "height": 212,
          "referenced_widgets": [
            "a56c8e83cd4642b4a88d48b9f77f58cb",
            "2b72013c505e4e7c81252837a3a01dc8",
            "9de7c4e7091743359219a0424cfbf88f",
            "fa8fb4ef14df4ada8a4715b3895b8a32",
            "936d013a35d64a51b8b6abd3959e5584",
            "ecdffacf33064017a72a08fddf186d4a",
            "acd37c3d78ab42b993860c5fb85c4728",
            "2ed2afbec4614bccbed27e9aacb76a99",
            "ab620f9e122243c997da215778965845",
            "74b5c27c46d3483eb878d83582655c0e",
            "1bd5289598784af599844eae942c3326",
            "1e14cffb33e04cca8b6b5f6279054dc5",
            "caa7b0ba9d7d44d1840737874f1beb6b",
            "1aa198c190e9467da76be636145c8676",
            "7c92c81ac2de4f77a1197b90f78f7b2a",
            "7a06f9cef79c4479a77721a3d18aaa3b",
            "9d42ef5dd49942e89c3d70c3e6139734",
            "99623c5f50924628883c061706873d50",
            "7c3079614154459da378b03f5bfbd1f9",
            "855075775fc74d8d9c4d419c97eb4f7a",
            "bc97f8115bf248c799eb621597e6942e",
            "8e534266eabe4f9fa7c1f4bde3f8c6c8",
            "8262d6138a4b41e8a5726899bd7659c4",
            "6e537b02b0394455b0867889061dddbf",
            "3f137c6d075b4c7eba9a14f9ebff44a1",
            "7eb95e0a12d44da180b9f5954d0e84cb",
            "2a4f9aa004f146299e63e540b5015415",
            "4732a415943444029a891bfd65d6f283",
            "fae7362be7c14b6399c09bcb60885677",
            "02f409dac9e543c59b2862f1e54ffce0",
            "288872fdf0dd480687e54e3b5f88a633",
            "83555b10912a458db2aa376dcb47471c"
          ]
        },
        "outputId": "341c4a65-9bc4-4661-860a-102eaefd5fd3"
      },
      "source": [
        "asr_model = EncoderDecoderASR.from_hparams(source=\"speechbrain/asr-crdnn-rnnlm-librispeech\", savedir=\"pretrained_model\")"
      ],
      "execution_count": null,
      "outputs": [
        {
          "output_type": "display_data",
          "data": {
            "application/vnd.jupyter.widget-view+json": {
              "model_id": "a56c8e83cd4642b4a88d48b9f77f58cb",
              "version_minor": 0,
              "version_major": 2
            },
            "text/plain": [
              "HBox(children=(FloatProgress(value=0.0, description='Downloading', max=4317.0, style=ProgressStyle(description…"
            ]
          },
          "metadata": {
            "tags": []
          }
        },
        {
          "output_type": "stream",
          "text": [
            "\n"
          ],
          "name": "stdout"
        },
        {
          "output_type": "display_data",
          "data": {
            "application/vnd.jupyter.widget-view+json": {
              "model_id": "ab620f9e122243c997da215778965845",
              "version_minor": 0,
              "version_major": 2
            },
            "text/plain": [
              "HBox(children=(FloatProgress(value=0.0, description='Downloading', max=479555971.0, style=ProgressStyle(descri…"
            ]
          },
          "metadata": {
            "tags": []
          }
        },
        {
          "output_type": "stream",
          "text": [
            "\n"
          ],
          "name": "stdout"
        },
        {
          "output_type": "display_data",
          "data": {
            "application/vnd.jupyter.widget-view+json": {
              "model_id": "9d42ef5dd49942e89c3d70c3e6139734",
              "version_minor": 0,
              "version_major": 2
            },
            "text/plain": [
              "HBox(children=(FloatProgress(value=0.0, description='Downloading', max=212420087.0, style=ProgressStyle(descri…"
            ]
          },
          "metadata": {
            "tags": []
          }
        },
        {
          "output_type": "stream",
          "text": [
            "\n"
          ],
          "name": "stdout"
        },
        {
          "output_type": "display_data",
          "data": {
            "application/vnd.jupyter.widget-view+json": {
              "model_id": "3f137c6d075b4c7eba9a14f9ebff44a1",
              "version_minor": 0,
              "version_major": 2
            },
            "text/plain": [
              "HBox(children=(FloatProgress(value=0.0, description='Downloading', max=253217.0, style=ProgressStyle(descripti…"
            ]
          },
          "metadata": {
            "tags": []
          }
        },
        {
          "output_type": "stream",
          "text": [
            "\n"
          ],
          "name": "stdout"
        }
      ]
    },
    {
      "cell_type": "markdown",
      "metadata": {
        "id": "UPapYhpY54UM"
      },
      "source": [
        "En la siguiente celda, se señala el nombre del archivo de audio, que después se transcribe usando el modelo. Para claridad, se imprime el resultado del texto transcrito."
      ]
    },
    {
      "cell_type": "code",
      "metadata": {
        "id": "6nctArIoqSXz",
        "colab": {
          "base_uri": "https://localhost:8080/"
        },
        "outputId": "bad76da5-7cee-4639-bc28-848ecfa73124"
      },
      "source": [
        "audio_file = 'ActInt1Ex2.wav'\n",
        "result = asr_model.transcribe_file(audio_file).lower()\n",
        "print(result)"
      ],
      "execution_count": null,
      "outputs": [
        {
          "output_type": "stream",
          "text": [
            "oh my god till they was a really difficulty\n"
          ],
          "name": "stdout"
        }
      ]
    },
    {
      "cell_type": "markdown",
      "metadata": {
        "id": "HLDi-xjK6pFd"
      },
      "source": [
        "Finalmente, se realiza la clasificación sobre el texto transcrito con nuestro modelo"
      ]
    },
    {
      "cell_type": "code",
      "metadata": {
        "id": "7fGYQ9CwIxtT",
        "colab": {
          "base_uri": "https://localhost:8080/"
        },
        "outputId": "d0b3e43d-6964-42a6-fec4-e80c4a0416c6"
      },
      "source": [
        "sentiment_value, confidence = sentiment(result)\n",
        "print(result, sentiment_value, confidence)"
      ],
      "execution_count": null,
      "outputs": [
        {
          "output_type": "stream",
          "text": [
            "oh my god till they was a really difficulty 0 0.6666666666666667\n"
          ],
          "name": "stdout"
        }
      ]
    },
    {
      "cell_type": "markdown",
      "metadata": {
        "id": "DumgCG3O7Dg2"
      },
      "source": [
        "### Clasificación de Texto de Reddit\n",
        "La tercera aplicación tiene que ver con clasificar texto proveniente de Reddit. Esto se realizó utilizando la librería de PRAW Lo que se está haciendo es que, dado un nombre de usuario, el API trae textos de los posts que este haya creado, incluyendo el título, cuerpo del post y comentarios. Los comentarios no necesariamente son del usuario en cuestión."
      ]
    },
    {
      "cell_type": "markdown",
      "metadata": {
        "id": "eN4vC7K-TMC0"
      },
      "source": [
        "Antes de pasar a la implementación de las requests al API, en la siguiente celda declaramos una función saca las clasificaciones de un set de textos y las guarda en un archivo de texto, el mismo que leerá la función para graficar la tendencia de las clasificaciones. Esta función será muy útil para las siguientes 3 aplicaciones y la estaremos usando con las 3."
      ]
    },
    {
      "cell_type": "code",
      "metadata": {
        "id": "-JcG5qSMYW91"
      },
      "source": [
        "def classify_text_set(texts):\n",
        "    for text in texts:\n",
        "        if text == '': continue\n",
        "        sentiment_value, confidence = sentiment(text)\n",
        "        print(text, sentiment_value, confidence)\n",
        "        if confidence*100 >= 60:\n",
        "            with open('twitter-out.txt', 'a') as writefile:\n",
        "              writefile.write(f\"{sentiment_value}\\n\")"
      ],
      "execution_count": null,
      "outputs": []
    },
    {
      "cell_type": "markdown",
      "metadata": {
        "id": "ydtGmVMta6XK"
      },
      "source": [
        "Ahora sí, se crea el objeto de PRAW para hacer las clasificaciones. Aquí se necesita proporcionar un token, así como ciertos detalles de la cuenta con la que se obtuvo el token (el ID del cliente, su username y password)."
      ]
    },
    {
      "cell_type": "code",
      "metadata": {
        "id": "bYku33jHF-XV"
      },
      "source": [
        "reddit = praw.Reddit(client_id = '',\n",
        "                     client_secret = '',\n",
        "                     username = '',\n",
        "                     password = '',\n",
        "                     user_agent='praw tutorialv1')"
      ],
      "execution_count": null,
      "outputs": []
    },
    {
      "cell_type": "markdown",
      "metadata": {
        "id": "hA7Lh3jPbJTd"
      },
      "source": [
        "Ahora sí, se puede proporcionar un nombre de usuario de Reddit, y en la siguiente celda se obtiene su ID para poder obtener sus posts."
      ]
    },
    {
      "cell_type": "code",
      "metadata": {
        "colab": {
          "base_uri": "https://localhost:8080/"
        },
        "id": "aGK0CGPeFXkU",
        "outputId": "9066a1ed-b2bd-4321-b063-d7d6d8588e70"
      },
      "source": [
        "redditor_name = \"GuchiDroid\"\n",
        "redditor_id = reddit.redditor(redditor_name)\n",
        "print(\"User chosen: {}\".format(redditor_id.name))\n",
        "reddit_user_content = list()\n",
        "print(\"current elements in user content list: {}\".format(len(reddit_user_content)))"
      ],
      "execution_count": null,
      "outputs": [
        {
          "output_type": "stream",
          "text": [
            "User chosen: GuchiDroid\n",
            "current elements in user content list: 0\n"
          ],
          "name": "stdout"
        }
      ]
    },
    {
      "cell_type": "markdown",
      "metadata": {
        "id": "5fdTk9VXbR7c"
      },
      "source": [
        "En la siguiente celda se utiliza el ID obtenido para sacar los textos. **Nota:** por cuestiones de memoria y velocidad, decidimos limitar la cantidad de textos a sólo 200."
      ]
    },
    {
      "cell_type": "code",
      "metadata": {
        "colab": {
          "base_uri": "https://localhost:8080/"
        },
        "id": "ex8ZlIhxGOPo",
        "outputId": "7b566751-f812-4fd0-87e6-18449541e01a"
      },
      "source": [
        "print(\"-- User contents now being examined --\")\n",
        "for submission in reddit.redditor(\"GuchiDroid\").submissions.top(\"all\"):\n",
        "  #Ideas to implement later. Separate by posts\n",
        "  #sTitle = submission.title\n",
        "  # nuevaLista = []\n",
        "  #bText = submission.selftext \n",
        "  print(\"Submission Title: {}\".format(submission.title))\n",
        "  reddit_user_content.append(submission.title)\n",
        "  print(\"Submission Body: \\n{}\\n\".format(submission.selftext))\n",
        "  reddit_user_content.append(submission.selftext)\n",
        "  print(\"Comments: \\n\\n\")\n",
        "  submission.comments.replace_more(limit=0)\n",
        "  for comment in submission.comments.list():\n",
        "    if (len(reddit_user_content)) < 200:\n",
        "      reddit_user_content.append(comment.body)\n",
        "      print(comment.body)\n",
        "    else:\n",
        "      break\n",
        "  #reddit_user_content.append()\n",
        "  print(\"\\n\\n\")\n",
        "print(\"----------------------------------------------------------------------------\")\n",
        "print(\"The posts and their contents have been retrieved.\")\n",
        "print(\"Current elements in user content list: {}\".format(len(reddit_user_content)))"
      ],
      "execution_count": null,
      "outputs": [
        {
          "output_type": "stream",
          "text": [
            "WARNING:praw:It appears that you are using PRAW in an asynchronous environment.\n",
            "It is strongly recommended to use Async PRAW: https://asyncpraw.readthedocs.io.\n",
            "See https://praw.readthedocs.io/en/latest/getting_started/multiple_instances.html#discord-bots-and-asynchronous-environments for more info.\n",
            "\n"
          ],
          "name": "stderr"
        },
        {
          "output_type": "stream",
          "text": [
            "-- User contents now being examined --\n"
          ],
          "name": "stdout"
        },
        {
          "output_type": "stream",
          "text": [
            "WARNING:praw:It appears that you are using PRAW in an asynchronous environment.\n",
            "It is strongly recommended to use Async PRAW: https://asyncpraw.readthedocs.io.\n",
            "See https://praw.readthedocs.io/en/latest/getting_started/multiple_instances.html#discord-bots-and-asynchronous-environments for more info.\n",
            "\n",
            "WARNING:praw:It appears that you are using PRAW in an asynchronous environment.\n",
            "It is strongly recommended to use Async PRAW: https://asyncpraw.readthedocs.io.\n",
            "See https://praw.readthedocs.io/en/latest/getting_started/multiple_instances.html#discord-bots-and-asynchronous-environments for more info.\n",
            "\n"
          ],
          "name": "stderr"
        },
        {
          "output_type": "stream",
          "text": [
            "Submission Title: Kyogre raid on me. Be online pls. 7849 1239 3005\n",
            "Submission Body: \n",
            "7849 1239 3005\n",
            "\n",
            "Comments: \n",
            "\n",
            "\n",
            "Hey host and people adding. If this is a raid, be sure to leave a comment with your in game name. If the host ADDS you, assume you are doing the raid and do not spam other posts please. Host, please make sure to only add those who are doing the raid! Do not leave the raid with less than 20 seconds left! Please be courteous to other raiders.\n",
            "\n",
            "*I am a bot, and this action was performed automatically. Please [contact the moderators of this subreddit](/message/compose/?to=/r/PokemonGoRaids) if you have any questions or concerns.*\n",
            "Just added MELOncholly\n",
            "JRTucker418\n",
            "added Milan6\n",
            "RockettBunny lvl41\n",
            "Myke4\n",
            "Joatk1\n",
            "golfulum\n",
            "added\n",
            "||Oases||\n",
            "TrainerElijahh lvl 37\n",
            "\n",
            "\n",
            "\n",
            "Submission Title: Looking for Doduo!\n",
            "Submission Body: \n",
            "Will add anyone :D\n",
            "\n",
            "Comments: \n",
            "\n",
            "\n"
          ],
          "name": "stdout"
        },
        {
          "output_type": "stream",
          "text": [
            "WARNING:praw:It appears that you are using PRAW in an asynchronous environment.\n",
            "It is strongly recommended to use Async PRAW: https://asyncpraw.readthedocs.io.\n",
            "See https://praw.readthedocs.io/en/latest/getting_started/multiple_instances.html#discord-bots-and-asynchronous-environments for more info.\n",
            "\n",
            "WARNING:praw:It appears that you are using PRAW in an asynchronous environment.\n",
            "It is strongly recommended to use Async PRAW: https://asyncpraw.readthedocs.io.\n",
            "See https://praw.readthedocs.io/en/latest/getting_started/multiple_instances.html#discord-bots-and-asynchronous-environments for more info.\n",
            "\n"
          ],
          "name": "stderr"
        },
        {
          "output_type": "stream",
          "text": [
            "Added!\n",
            "Added u back!\n",
            "\n",
            "\n",
            "\n",
            "Submission Title: Adding Everyone!\n",
            "Submission Body: \n",
            "Looking forward to add new safari friends.\n",
            "I dunno what’s in my Safari...\n",
            "\n",
            "Comments: \n",
            "\n",
            "\n",
            "Added, I’ll let you know what’s in your safari :)\n",
            "Yours is flying type with Doduo and Tranquill. I can’t see the third get, to get get the third, you need to be online in the game and have beaten the elite 4\n",
            "Added :)\n",
            "I added you :)\n",
            "Added!\n",
            "Added\n",
            "Wooo Thanks! \n",
            "Added you\n",
            "Alright, I’m now online c: \n",
            "Thanks a lot btw\n",
            "I added u back! :D\n",
            "Added! :D\n",
            "The third is Tropius. And no problem, happy to help :)\n",
            "Thanks :)\n",
            "Thanks!\n",
            "Thanks!\n",
            "\n",
            "\n",
            "\n",
            "Submission Title: Mega Blastoise\n",
            "Submission Body: \n",
            "7849 1239 3005\n",
            "Be online\n",
            "\n",
            "Comments: \n",
            "\n",
            "\n"
          ],
          "name": "stdout"
        },
        {
          "output_type": "stream",
          "text": [
            "WARNING:praw:It appears that you are using PRAW in an asynchronous environment.\n",
            "It is strongly recommended to use Async PRAW: https://asyncpraw.readthedocs.io.\n",
            "See https://praw.readthedocs.io/en/latest/getting_started/multiple_instances.html#discord-bots-and-asynchronous-environments for more info.\n",
            "\n",
            "WARNING:praw:It appears that you are using PRAW in an asynchronous environment.\n",
            "It is strongly recommended to use Async PRAW: https://asyncpraw.readthedocs.io.\n",
            "See https://praw.readthedocs.io/en/latest/getting_started/multiple_instances.html#discord-bots-and-asynchronous-environments for more info.\n",
            "\n"
          ],
          "name": "stderr"
        },
        {
          "output_type": "stream",
          "text": [
            "Hey host and people adding. If this is a raid, be sure to leave a comment with your in game name. If the host ADDS you, assume you are doing the raid and do not spam other posts please. Host, please make sure to only add those who are doing the raid! Do not leave the raid with less than 20 seconds left! Please be courteous to other raiders. After the raid is done, add the remaining people that added you and then remove them to save your friends list space. If you decline it, they will be unable to add you in the future.\n",
            "\n",
            "*I am a bot, and this action was performed automatically. Please [contact the moderators of this subreddit](/message/compose/?to=/r/PokemonGoRaids) if you have any questions or concerns.*\n",
            "Kilu8\n",
            "Added you. Name: Kreuzl\n",
            "added rockynoi1991 lvl41\n",
            "\n",
            "\n",
            "\n",
            "Submission Title: Landorus on me!!\n",
            "Submission Body: \n",
            "7849 1239 3005\n",
            "\n",
            "Comments: \n",
            "\n",
            "\n",
            "Hey host and people adding. If this is a raid, be sure to leave a comment with your in game name. If the host ADDS you, assume you are doing the raid and do not spam other posts please. Host, please make sure to only add those who are doing the raid! Do not leave the raid with less than 20 seconds left! Please be courteous to other raiders. After the raid is done, add the remaining people that added you and then remove them to save your friends list space. If you decline it, they will be unable to add you in the future.\n",
            "\n",
            "*I am a bot, and this action was performed automatically. Please [contact the moderators of this subreddit](/message/compose/?to=/r/PokemonGoRaids) if you have any questions or concerns.*\n",
            "babycookie\n",
            "Added Neady9\n",
            "Lukepage12\n",
            "breeeeeeeentsa\n",
            "Shellleelondon\n",
            "YeNitemanCometh\n",
            " Added, DocShock87, lvl33, got my Ice Types lined up\n",
            "Haihai411\n",
            "Koalawar\n",
            "Added nmduffy\n",
            "chickensneeze added\n",
            "\n",
            "\n",
            "\n",
            "Submission Title: Adding Everyone!!\n",
            "Submission Body: \n",
            "[removed]\n",
            "\n",
            "Comments: \n",
            "\n",
            "\n"
          ],
          "name": "stdout"
        },
        {
          "output_type": "stream",
          "text": [
            "WARNING:praw:It appears that you are using PRAW in an asynchronous environment.\n",
            "It is strongly recommended to use Async PRAW: https://asyncpraw.readthedocs.io.\n",
            "See https://praw.readthedocs.io/en/latest/getting_started/multiple_instances.html#discord-bots-and-asynchronous-environments for more info.\n",
            "\n"
          ],
          "name": "stderr"
        },
        {
          "output_type": "stream",
          "text": [
            "\n",
            "\n",
            "\n",
            "Submission Title: Could anyone please help me identify this fly?\n",
            "Submission Body: \n",
            "\n",
            "\n",
            "Comments: \n",
            "\n",
            "\n",
            "\n",
            "\n",
            "\n",
            "----------------------------------------------------------------------------\n",
            "The posts and their contents have been retrieved.\n",
            "Current elements in user content list: 57\n"
          ],
          "name": "stdout"
        }
      ]
    },
    {
      "cell_type": "markdown",
      "metadata": {
        "id": "tjvsO4ZRbeH2"
      },
      "source": [
        "Ya que se tienen los textos, estos se pasan por la función de preprocesamiento para quitar dos cosas principalmente: menciones a subreddits y menciones a otros usuarios. "
      ]
    },
    {
      "cell_type": "code",
      "metadata": {
        "colab": {
          "base_uri": "https://localhost:8080/"
        },
        "id": "NiARGehtKOKr",
        "outputId": "49d3674a-db48-436a-8633-2be5b34c348c"
      },
      "source": [
        "processed_comments = [process_text(comment) for comment in reddit_user_content]\n",
        "print(processed_comments[:3])"
      ],
      "execution_count": null,
      "outputs": [
        {
          "output_type": "stream",
          "text": [
            "['Kyogre raid on me. Be online pls. 7849 1239 3005', '7849 1239 3005', 'Hey host and people adding. If this is a raid, be sure to leave a comment with your in game name. If the host ADDS you, assume you are doing the raid and do not spam other posts please. Host, please make sure to only add those who are doing the raid! Do not leave the raid with less than 20 seconds left! Please be courteous to other raiders.\\n\\n*I am a bot, and this action was performed automatically. Please [contact the moderators of this subreddit](/ if you have any questions or concerns.*']\n"
          ],
          "name": "stdout"
        }
      ]
    },
    {
      "cell_type": "markdown",
      "metadata": {
        "id": "0Kl2LQ_qbo7r"
      },
      "source": [
        "Finalmente, sobre los textos procesados se obtienen las clasificaciones utilizando la función antes definida."
      ]
    },
    {
      "cell_type": "code",
      "metadata": {
        "colab": {
          "base_uri": "https://localhost:8080/"
        },
        "id": "2Qov2dR9KOKw",
        "outputId": "e46e1deb-8d62-4323-8458-99c6a9ea59f0"
      },
      "source": [
        "classify_text_set(processed_comments)"
      ],
      "execution_count": null,
      "outputs": [
        {
          "output_type": "stream",
          "text": [
            "Kyogre raid on me. Be online pls. 7849 1239 3005 1 0.5555555555555556\n",
            "7849 1239 3005 1 1.0\n",
            "Hey host and people adding. If this is a raid, be sure to leave a comment with your in game name. If the host ADDS you, assume you are doing the raid and do not spam other posts please. Host, please make sure to only add those who are doing the raid! Do not leave the raid with less than 20 seconds left! Please be courteous to other raiders.\n",
            "\n",
            "*I am a bot, and this action was performed automatically. Please [contact the moderators of this subreddit](/ if you have any questions or concerns.* 1 0.6666666666666666\n",
            "Just added MELOncholly 1 0.8888888888888888\n",
            "JRTucker418 1 0.8888888888888888\n",
            "added Milan6 1 0.8888888888888888\n",
            "RockettBunny lvl41 1 0.5555555555555556\n",
            "Myke4 1 0.6666666666666666\n",
            "Joatk1 1 0.7777777777777778\n",
            "golfulum 1 0.5555555555555556\n",
            "added 1 1.0\n",
            "||Oases|| 1 0.8888888888888888\n",
            "TrainerElijahh lvl 37 1 0.5555555555555556\n",
            "Looking for Doduo! 1 0.6666666666666666\n",
            "Will add anyone  happyemoticon  1 0.8888888888888888\n",
            "Added! 1 0.7777777777777778\n",
            "Added u back! 1 0.5555555555555556\n",
            "Adding Everyone! 0 0.5555555555555556\n",
            "Looking forward to add new safari friends.\n",
            "I dunno what’s in my Safari.. 1 0.6666666666666666\n",
            "Added, I’ll let you know what’s in your safari  happyemoticon  1 0.5555555555555556\n",
            "Yours is flying type with Doduo and Tranquill. I can’t see the third get, to get get the third, you need to be online in the game and have beaten the elite 4 1 0.5555555555555556\n",
            "Added  happyemoticon  1 0.6666666666666666\n",
            "I added you  happyemoticon  1 0.8888888888888888\n",
            "Added! 1 0.7777777777777778\n",
            "Added 1 0.7777777777777778\n",
            "Woo Thanks! \n",
            "Added you 1 0.6666666666666666\n",
            "Alright, I’m now online c: \n",
            "Thanks a lot btw 0 0.5555555555555556\n",
            "I added u back!  happyemoticon  1 0.7777777777777778\n",
            "Added!  happyemoticon  1 0.6666666666666666\n",
            "The third is Tropius. And no problem, happy to help  happyemoticon  1 0.7777777777777778\n",
            "Thanks  happyemoticon  1 0.8888888888888888\n",
            "Thanks! 1 0.7777777777777778\n",
            "Thanks! 1 0.7777777777777778\n",
            "Mega Blastoise 0 0.5555555555555556\n",
            "7849 1239 3005\n",
            "Be online 1 0.5555555555555556\n",
            "Hey host and people adding. If this is a raid, be sure to leave a comment with your in game name. If the host ADDS you, assume you are doing the raid and do not spam other posts please. Host, please make sure to only add those who are doing the raid! Do not leave the raid with less than 20 seconds left! Please be courteous to other raiders. After the raid is done, add the remaining people that added you and then remove them to save your friends list space. If you decline it, they will be unable to add you in the future.\n",
            "\n",
            "*I am a bot, and this action was performed automatically. Please [contact the moderators of this subreddit](/ if you have any questions or concerns.* 1 0.7777777777777778\n",
            "Kilu8 1 0.7777777777777778\n",
            "Added you. Name: Kreuzl 1 0.7777777777777778\n",
            "added rockynoi1991 lvl41 1 0.7777777777777778\n",
            "Landorus on me!! 0 0.6666666666666667\n",
            "7849 1239 3005 1 1.0\n",
            "Hey host and people adding. If this is a raid, be sure to leave a comment with your in game name. If the host ADDS you, assume you are doing the raid and do not spam other posts please. Host, please make sure to only add those who are doing the raid! Do not leave the raid with less than 20 seconds left! Please be courteous to other raiders. After the raid is done, add the remaining people that added you and then remove them to save your friends list space. If you decline it, they will be unable to add you in the future.\n",
            "\n",
            "*I am a bot, and this action was performed automatically. Please [contact the moderators of this subreddit](/ if you have any questions or concerns.* 1 0.7777777777777778\n",
            "babycookie 0 0.5555555555555556\n",
            "Added Neady9 1 0.6666666666666666\n",
            "Lukepage12 1 0.8888888888888888\n",
            "breentsa 1 0.5555555555555556\n",
            "Shelleelondon 1 0.5555555555555556\n",
            "YeNitemanCometh 0 0.5555555555555556\n",
            " Added, DocShock87, lvl33, got my Ice Types lined up 0 0.5555555555555556\n",
            "Haihai411 1 0.5555555555555556\n",
            "Koalawar 0 0.6666666666666667\n",
            "Added nmduffy 1 0.6666666666666666\n",
            "chickensneeze added 1 1.0\n",
            "Adding Everyone!! 0 0.5555555555555556\n",
            "[removed] 0 0.6666666666666667\n",
            "Could anyone please help me identify this fly? 0 0.6666666666666667\n"
          ],
          "name": "stdout"
        }
      ]
    },
    {
      "cell_type": "markdown",
      "metadata": {
        "id": "S0xZJf2UbyEi"
      },
      "source": [
        "Al terminar de clasificar, se puede correr la siguiente celda para ver la gráfica con la tendencia de las clasificaciones."
      ]
    },
    {
      "cell_type": "code",
      "metadata": {
        "colab": {
          "base_uri": "https://localhost:8080/",
          "height": 265
        },
        "id": "2ecymJPrKOKx",
        "outputId": "69396b11-ba77-4202-faf3-6fae3ec523f6"
      },
      "source": [
        "plot_text_trendline()"
      ],
      "execution_count": null,
      "outputs": [
        {
          "output_type": "display_data",
          "data": {
            "image/png": "[encoded data removed]",
            "text/plain": [
              "<Figure size 432x288 with 1 Axes>"
            ]
          },
          "metadata": {
            "tags": []
          }
        }
      ]
    },
    {
      "cell_type": "markdown",
      "metadata": {
        "id": "5U0jUdSpUvwz"
      },
      "source": [
        "### Adicional 2: Clasificación de Texto de Youtube\n",
        "La cuarta aplicación que nos pareció muy interesante es clasificar texto proveniente de los comentarios de un video específico de Youtube. Esto lo vamos a hacer utilizando la API que proporciona Youtube, con antemano obtuvimos una llave para poder hacer los requests. (https://developers.google.com/youtube/v3/docs/commentThreads/list)"
      ]
    },
    {
      "cell_type": "markdown",
      "metadata": {
        "id": "kvs-e6-2R3He"
      },
      "source": [
        "Primero declaramos dos cosas muy importante, la llave para poder hacer las requests al API, así como el objeto que se encargará de hacer dichas requests."
      ]
    },
    {
      "cell_type": "code",
      "metadata": {
        "id": "N0X0GJguWZ9I"
      },
      "source": [
        "yt_api_key = ''\n",
        "youtube = build('youtube', 'v3', developerKey=yt_api_key)"
      ],
      "execution_count": null,
      "outputs": []
    },
    {
      "cell_type": "markdown",
      "metadata": {
        "id": "ghoJ7_eESKQO"
      },
      "source": [
        "Para poder hacer las requests, necesitamos obtener el ID del video del cual queremos extraer sus comentarios. Esta funcion hace la request correspondiente para que, dado un URL, se pueda obtener el ID del video."
      ]
    },
    {
      "cell_type": "code",
      "metadata": {
        "id": "ORhmC89cWikz"
      },
      "source": [
        "def get_video_id_from_url(video_url):   \n",
        "    response = youtube.search().list(\n",
        "        part=\"snippet\",\n",
        "        maxResults=1,\n",
        "        q=video_url\n",
        "    ).execute()\n",
        "    \n",
        "    if len(response['items']) == 0:\n",
        "        print(\"Incorrect URL, please try again\")\n",
        "        return \"\"\n",
        "    \n",
        "    videoId = response['items'][0]['id']['videoId']\n",
        "    return videoId"
      ],
      "execution_count": null,
      "outputs": []
    },
    {
      "cell_type": "markdown",
      "metadata": {
        "id": "1HCXOTdGSsHz"
      },
      "source": [
        "La siguiente celda muestra otra función, la cual está encargada de traer los comentarios del ID proporcionado. \n",
        "\n",
        "Por razones de memoria y velocidad, decidimos limitar la cantidad que trae a sólo **200 comentarios**. Sabemos que hay video con miles, incluso millones, de comentarios, sin embargo, para este proyecto creemos que 200 sería suficiente para brindar un panorama suficiente bueno."
      ]
    },
    {
      "cell_type": "code",
      "metadata": {
        "id": "ulKM95PFWndQ"
      },
      "source": [
        "def get_video_comments(video_id):\n",
        "    all_comments = []\n",
        "\n",
        "    # retrieve youtube video results\n",
        "    video_response = youtube.commentThreads().list(\n",
        "        part=\"snippet, replies\",\n",
        "        maxResults = 200,\n",
        "        videoId=video_id\n",
        "    ).execute()    \n",
        "    \n",
        "    # iterate video response\n",
        "    while video_response:\n",
        "        for item in video_response['items']:\n",
        "            # Extracting comments\n",
        "            comment = item['snippet']['topLevelComment']['snippet']['textDisplay']\n",
        "            \n",
        "            all_comments.append(comment)\n",
        "            \n",
        "        if 'nextPageToken' in video_response and len(all_comments) < 200:\n",
        "            video_response = youtube.commentThreads().list(\n",
        "                part = 'snippet, replies',\n",
        "                videoId = video_id\n",
        "            ).execute()\n",
        "        else:\n",
        "            break\n",
        "    \n",
        "    return all_comments"
      ],
      "execution_count": null,
      "outputs": []
    },
    {
      "cell_type": "markdown",
      "metadata": {
        "id": "xiUCMJxVTjnH"
      },
      "source": [
        "Finalmente, en la siguiente celda se puede escribir un URL para obtener sus comentarios y clasificarlos.\n",
        "\n",
        "**Nota importante:** el URL tiene que proporcionarse sin los parámetros que usualmente agrega Youtube, aquí se muestra un URL correcto vs. uno incorrecto.\n",
        "- Correcto: https://www.youtube.com/watch?v=XXXXXXXXXXX\n",
        "- Incorrecto: https://www.youtube.com/watch?v=XXXXXXXXXXX&t=4973s\n",
        "\n",
        "**Nota importante 2:** Youtube tiene restringido su API para que tenga un límite de 10,000 unidades máximo que se pueden utilizar por día. La operación para buscar el ID consume 100 unidades mientras que la de recuperar los comentarios consume 1 unidad. "
      ]
    },
    {
      "cell_type": "code",
      "metadata": {
        "colab": {
          "base_uri": "https://localhost:8080/"
        },
        "id": "pWWoo4S-Wy_o",
        "outputId": "7dd1ebd2-5d4c-4e69-9d8e-e8a58297bbf5"
      },
      "source": [
        "video_url = \"https://www.youtube.com/watch?v=W5AZeNGB6Ds\"\n",
        "video_id = get_video_id_from_url(video_url)\n",
        "video_comments = get_video_comments(video_id)\n",
        "print(len(video_comments))"
      ],
      "execution_count": null,
      "outputs": [
        {
          "output_type": "stream",
          "text": [
            "200\n"
          ],
          "name": "stdout"
        }
      ]
    },
    {
      "cell_type": "code",
      "metadata": {
        "colab": {
          "base_uri": "https://localhost:8080/"
        },
        "id": "aNkqu8quXaOn",
        "outputId": "5a6d8179-e1a6-44ac-e3d9-0aa2ce75f2b4"
      },
      "source": [
        "processed_comments = [process_text(comment) for comment in video_comments]\n",
        "print(processed_comments[:3])"
      ],
      "execution_count": null,
      "outputs": [
        {
          "output_type": "stream",
          "text": [
            "['Me trás Nostalgia e gratidão 3', 'I listen to this every day and I think it amazing!THANK YOU', 'Amazing, tysm']\n"
          ],
          "name": "stdout"
        }
      ]
    },
    {
      "cell_type": "code",
      "metadata": {
        "id": "qtlaBSVGa-36",
        "colab": {
          "base_uri": "https://localhost:8080/"
        },
        "outputId": "66e9fd8f-cef3-45b8-bb8e-a91596ac8918"
      },
      "source": [
        "classify_text_set(processed_comments)"
      ],
      "execution_count": null,
      "outputs": [
        {
          "output_type": "stream",
          "text": [
            "Me trás Nostalgia e gratidão 3 0 0.5555555555555556\n",
            "I listen to this every day and I think it amazing!THANK YOU 1 0.6666666666666666\n",
            "Amazing, tysm 1 0.5555555555555556\n",
            "this playlist fills you with NOSTALGIA 1 0.6666666666666666\n",
            "This keeps me calm during online school. Thanks man 1 0.7777777777777778\n",
            "Zelda is the best thing I know.. in this world of ours. 0 0.5555555555555556\n",
            "the music is awesome 1 0.5555555555555556\n",
            "1:26:53 hits me so hard - 2017 feels so nostalgic. what a beautiful game, had great moments with my friend playing this! 1 0.8888888888888888\n",
            "The best ever. I love listening to this while stretching 💛 1 0.7777777777777778\n",
            "Next Video NO! loop it for ever :..) 0 0.7777777777777778\n",
            "I like how chill the Zelda community is in this comments. 1 0.6666666666666666\n",
            "ever since ocarina of times these games have all used an ocarina. 0 0.6666666666666667\n",
            "I love this I use it for dnd and for studying.  Thanks 1 0.6666666666666666\n",
            "Hey guys, The purpose of my youtube channel is to make a archive of good songs from old games. if you have any song from a game that you like, please let me know and i will post a video of it. I will be posting a new song every day. 0 0.5555555555555556\n",
            "Just wanted to say thank you for posting this. I listen to it every day when Im working, no other Zelda playlist will do it. Its the best one! 1 0.5555555555555556\n",
            "This is going to save my A-Level. 0 0.8888888888888888\n",
            "O.O =D 1 1.0\n",
            "😄😄 1 0.8888888888888888\n",
            "Good job!! 1 0.8888888888888888\n",
            "These are amazing! 1 0.8888888888888888\n",
            "33 1 1.0\n",
            "I just realized this is Vic from the beefy smash doods wtf lol. This man’s got good taste! 1 0.5555555555555556\n",
            "1:24:45 nostalgie. 1 0.5555555555555556\n",
            "The  frequent payment lovely cycle because crawdad pertinently interfere plus a pastoral brandy. bawdy, placid freezer 0 0.5555555555555556\n",
            "okay but the Tarrey Town themes are just so wholesome i love it 1 0.7777777777777778\n",
            "Hey i was wondering, would i be able to use this in a youtube video, ill make sure to credit you. If i cant use this its fine. 1 0.8888888888888888\n",
            "The bustling capricorn trivially double because conga steadily frighten opposite a ordinary pentagon. parallel, spotty raincoat 1 0.6666666666666666\n",
            "A very pleasant music ! 0 0.5555555555555556\n",
            "may god bless legends of zelda fans with taste 0 0.5555555555555556\n",
            "Love this, have been a Zelda fan since the 80s 0 0.5555555555555556\n",
            "Fumar porros 1 0.5555555555555556\n",
            "Tarry Towns music always makes me so happy and uplifted 😊 Easily one of the best sidequests 0 0.5555555555555556\n",
            "You really had to put the Ocarina of Time - Staff Roll at the end 😢 0 0.5555555555555556\n",
            "The endurable shorts commonly slap because burn demographically obey across a languid order. misty, bite-sized statement 0 0.6666666666666667\n",
            "0 songs from phantom hourglass, spirit tracks, or minish cap. Nice youve managed to make me depressed. 0 0.8888888888888888\n",
            "Why are the comments from youtube videos like these the only place a talk about my emotions lol 0 0.6666666666666667\n",
            "The voiceless anethesiologist histologically hang because methane intringuingly divide within a beautiful lasagna. old-fashioned, scary shock 1 0.6666666666666666\n",
            "Omg so nice❤ 0 0.7777777777777778\n",
            "P CD ppoh 1 0.7777777777777778\n",
            "The 600+ dislikes were all from popsicled bokoblins 0 0.5555555555555556\n",
            "The temporary screen reciprocally flood because freon acutely sneeze toward a physical mexico. teeny-tiny, belligerent centimeter 1 0.5555555555555556\n",
            "The squealing tongue psychologically pretend because pantyhose cephalometrically tease about a tangy band. clear, forgetful glockenspiel 1 0.8888888888888888\n",
            "Quick before they take it down 0 0.5555555555555556\n",
            "The ad patricia directly bury because armchair repressingly search from a boorish step-daughter. educated, scary illegal 0 0.6666666666666667\n",
            "The eager shelf latterly waste because jeep substantially enjoy before a selective breath. mixed, alike hour 1 0.6666666666666666\n",
            "The thinkable birch microscopically drum because shingle accidentally brush apropos a jazzy purpose. subdued, nauseating bench 1 0.5555555555555556\n",
            "Just scroll. I´m just vibing here to the godly music. btw thx for no ad  happyemoticon  1 0.7777777777777778\n",
            "The six canvas additionaly fill because crop arthroscopically switch about a slim pea. wicked, economic pair 1 0.5555555555555556\n",
            "Ive never had a more enjoyable time doing an online quiz. Thank you for this  happyemoticon  1 0.8888888888888888\n",
            "1:24:31 COMO ALGUEM ESTUDA COM ISSO? EU LITERALMENTE VIREI O REI GORON DANÇANDO 1 1.0\n",
            "The devilish powder congruently moor because flame alternatively excite save a woozy dew. living, hanging fairies 0 0.5555555555555556\n",
            "for great fary shrine its the same as in wind waker 1 0.7777777777777778\n",
            "The painstaking sailor aditionally complete because sweater algorithmically explain since a maniacal box. bouncy, hushed sleet 1 0.5555555555555556\n",
            "Im listening to this everyday, and I just noticed that theres no music from Zelda spirit tracks, when it actually has nice musics !! Still a very good playlist tho it makes me feel very relaxed, thank you !! 1 0.5555555555555556\n",
            "The wary packet peripherally balance because skirt kinetically camp beyond a depressed stone. penitent, grouchy spider 0 0.7777777777777778\n",
            "More reasons why hes better than cFive 0 0.7777777777777778\n",
            "and u got windfall island slightly wrong. This version has a slightly guitar-ish thign in it, while in the real game, it doesnt. Then again, I play the new HD Wii U version, so i could be slightly different in the original GameCube one, such as the attition of an extra-fast sail you can get after the Tower of the Gods.. 1 0.5555555555555556\n",
            "for inside the house, you made a mistake. I play wind-waker, thats the WIND WAKER inside a house theme, not twilite princess. 1 0.5555555555555556\n",
            "i like it i could llike more if there were farones forest, eldins vulcano and Lanayrus desert themes 1 0.5555555555555556\n",
            "really nice gotta admit 1 0.7777777777777778\n",
            "The parallel feedback immunophenotypically trust because repair overwhelmingly grate inside a hurried mayonnaise. naughty, agreeable vietnam 0 0.5555555555555556\n",
            "The learned home pathogenetically fax because toad rheologically open like a chubby beauty. eager, long-term crown 0 0.5555555555555556\n",
            "I have only now played some Zelda games, after almost 20 years of being a gamer and all these songs dont bring nostalgia from the times I was a kid and was playing the games.But it brings me a feeling of home, I can almost feel like the days I was a child and my mother was together with me, we were watching that cartoon Little Bear.Its so strange how this music brings you to places. 0 0.6666666666666667\n",
            "Majoras mask is my favorite game to play and to listen to music 1 0.6666666666666666\n",
            "2:48:10​ Ocarina Of Time - Staff Roll 1 0.7777777777777778\n",
            "Really enjoying listening to this at work. Thanks for no ads! 1 1.0\n",
            "Rito village theme always makes me cry lol wtf is happening man 0 0.8888888888888888\n",
            "The handsome pediatrician energetically man because delivery kelly argue an a eatable linda. threatening, quizzical jogging 1 0.5555555555555556\n",
            "Does anybody else think that Breath Of The Wild - Lurelin Village has no reason to slap so hard 0 0.8888888888888888\n",
            "The zelda games have probably the prettiest soundtracks of any gaming series. 0 0.6666666666666667\n",
            "The teeny-tiny east additionaly bare because supply socially shock inside a damaged lyre. heavenly heavy hellish, bouncy mall 0 0.5555555555555556\n",
            "How in the hell is the desert Devine beast (name escapes me) NOT on this list?? 0 0.8888888888888888\n",
            ": D 1 0.8888888888888888\n",
            "I always stay in the shops, stables, towns cuz I feel safe there 0 0.8888888888888888\n",
            "The painful nut trivially travel because employee contemporaneously detect amongst a steep option. broad, loutish processing 0 0.5555555555555556\n",
            "The bitter asparagus contrastingly drag because attic biomechanically prepare mid a cuddly question. abandoned, incompetent technician 1 0.8888888888888888\n",
            "The rigid maria bailly hang because honey nationally bake by a deranged duck. ethereal, inconclusive fork 1 0.5555555555555556\n",
            "ilias theme is so good 1 0.5555555555555556\n",
            "Songlist with timestamps:tag​ Twilight Princess - Couragetag​ Twilight Princess - Prince Ralis is savedtag​ Wind Waker - Grandmas Themetag​ Ocarina Of Time - Kakariko Villagetag​ Breath Of The Wild - Lurelin Villagetag​ Skyward Sword - Skylofttag​ Twilight Princess - Meet Illiatag​ Ocarina Of Time - Zoras Domaintag​ Wind Waker - Sage Larutotag​ Breath Of The Wild - Hateno Village (Day)tag​ Skyward Sword - Fis Farewelltag​ Twilight Princess - Departuretag​ Ocarina Of Time - Title Themetag​ Breath Of The Wild - Gerudo Town (Night)tag​ Wind Waker - Title Themetag​ Skyward Sword - Crimson Loftwingtag​ Twilight Princess - Inside A Housetag​ Ocarina Of Time - Lon Lon Ranchtag​ Breath Of The Wild - Tarrey Town (Normal)tag​ Breath Of The Wild - Tarrey Town (Wedding)tag​ Wind Waker - Outset Islandtag​ Skyward Sword - Romancetag​ Twilight Princess - Ordon Villagetag​ Ocarina Of Time - Lost Woodstag​ Breath Of The Wild - Rito Village (Day)tag​ Skyward Sword - Bamboo Islandtag​ Wind Waker - Windfall Islandtag​ Ocarina Of Time - Gerudo Valleytag​ Twilight Princess - Kakariko Is Savedtag​ Breath Of The Wild - Miphas Themetag​ Skyward Sword - Island In The Skytag​ Wind Waker - Dragon Roost Islandtag​ Twilight Princess - Ordon Ranchtag​ Ocarina Of Time - Kokiri Foresttag​ Breath Of The Wild - Horse Stabletag​ Wind Waker - The Great Seatag​ Skyward Sword - Knight Academytag​ Twilight Princess - Lake Hyliatag​ Ocarina Of Time - Zeldas Lullabytag​ Breath Of The Wild - Zoras Domain (Day)tag​ Wind Waker - Forest Haventag​ Skyward Sword - Isle Of Songstag​ Twilight Princess - Enter The Twillight Realmtag​ Ocarina Of Time - Great Fairys Fountaintag​ Breath Of The Wild - Korok Foresttag​ Skyward Sword - Gate Of Timetag​ Twilight Princess - Ilias Themetag​ Wind Waker - Beedles Shoptag​ Skyward Sword - Message From The Goddesstag​ Ocarina Of Time - Staff Roll 1 0.7777777777777778\n",
            "thanks 1 1.0\n",
            "My cat love this songs 1 0.6666666666666666\n",
            "good music ,i like programing with this ,relax and remember me zelda 1 0.6666666666666666\n",
            "This was perfect for a night road trip for 2 hours 0 0.5555555555555556\n",
            "The kakriko village theme brings to me a loot of nostalgic feelings, When i hear it i remember every moment that i had at those days, Idk why but it hurts because id like to live those days again. 0 0.5555555555555556\n",
            "The needless raincoat emotionally disappear because beetle proportionately separate absent a irate beer. sordid, sturdy eye 0 0.5555555555555556\n",
            "I am playing this to James, my baby brother. 0 0.7777777777777778\n",
            "The lewd hawk extraorally pour because climb enzymatically grin amongst a damaging quality. better, comfortable sunflower 0 0.5555555555555556\n",
            "The hungry fire jelly hunt because dredger only measure modulo a crabby card. scintillating, wholesale jaguar 0 0.8888888888888888\n",
            "The tricky driving uniformly whine because fairies canonically introduce at a lopsided budget. curly, psychedelic chill 0 0.5555555555555556\n",
            "The nostalgia I got from hearing the opening theme to Ocarina of time stopped me in my tracks  sademoticon  Such a lovely playlist.. thank you 3 1 0.5555555555555556\n",
            "The puny wasp unquestionably push because town holly chop beside a kaput kidney. entertaining, literate hip 1 0.7777777777777778\n",
            "This is so good thank you 1 1.0\n",
            "This music fits perfectly while playing breath of the wild. I wish it had a soundtrack as killer as this 0 0.6666666666666667\n",
            "Ive heard its possible to learn gerudo valley on the piano, so imma learn it. Lets see how much time itll take 0 0.5555555555555556\n",
            "The knotty peony eventually hang because cabinet probably knot about a previous stopsign. adjoining, cowardly panty 1 0.8888888888888888\n",
            "The damp garden reassuringly walk because bush chemically answer absent a null magic. paltry, two onion 1 0.6666666666666666\n",
            "what game is the screen grab of? 1 0.5555555555555556\n",
            "The astonishing crown metrically borrow because flute arthroscopically bless opposite a four frail chicken. embarrassed, certain mini-skirt 1 0.6666666666666666\n",
            "AH YES TO GAME MY FAVORITE ACTIVITY. 1 1.0\n",
            "Me trás Nostalgia e gratidão 3 0 0.5555555555555556\n",
            "I listen to this every day and I think it amazing!THANK YOU 1 0.6666666666666666\n",
            "Amazing, tysm 1 0.5555555555555556\n",
            "this playlist fills you with NOSTALGIA 1 0.6666666666666666\n",
            "This keeps me calm during online school. Thanks man 1 0.7777777777777778\n",
            "Zelda is the best thing I know.. in this world of ours. 0 0.5555555555555556\n",
            "the music is awesome 1 0.5555555555555556\n",
            "1:26:53 hits me so hard - 2017 feels so nostalgic. what a beautiful game, had great moments with my friend playing this! 1 0.8888888888888888\n",
            "The best ever. I love listening to this while stretching 💛 1 0.7777777777777778\n",
            "Next Video NO! loop it for ever :..) 0 0.7777777777777778\n",
            "I like how chill the Zelda community is in this comments. 1 0.6666666666666666\n",
            "ever since ocarina of times these games have all used an ocarina. 0 0.6666666666666667\n",
            "I love this I use it for dnd and for studying.  Thanks 1 0.6666666666666666\n",
            "Hey guys, The purpose of my youtube channel is to make a archive of good songs from old games. if you have any song from a game that you like, please let me know and i will post a video of it. I will be posting a new song every day. 0 0.5555555555555556\n",
            "Just wanted to say thank you for posting this. I listen to it every day when Im working, no other Zelda playlist will do it. Its the best one! 1 0.5555555555555556\n",
            "This is going to save my A-Level. 0 0.8888888888888888\n",
            "O.O =D 1 1.0\n",
            "😄😄 1 0.8888888888888888\n",
            "Good job!! 1 0.8888888888888888\n",
            "Me trás Nostalgia e gratidão 3 0 0.5555555555555556\n",
            "I listen to this every day and I think it amazing!THANK YOU 1 0.6666666666666666\n",
            "Amazing, tysm 1 0.5555555555555556\n",
            "this playlist fills you with NOSTALGIA 1 0.6666666666666666\n",
            "This keeps me calm during online school. Thanks man 1 0.7777777777777778\n",
            "Zelda is the best thing I know.. in this world of ours. 0 0.5555555555555556\n",
            "the music is awesome 1 0.5555555555555556\n",
            "1:26:53 hits me so hard - 2017 feels so nostalgic. what a beautiful game, had great moments with my friend playing this! 1 0.8888888888888888\n",
            "The best ever. I love listening to this while stretching 💛 1 0.7777777777777778\n",
            "Next Video NO! loop it for ever :..) 0 0.7777777777777778\n",
            "I like how chill the Zelda community is in this comments. 1 0.6666666666666666\n",
            "ever since ocarina of times these games have all used an ocarina. 0 0.6666666666666667\n",
            "I love this I use it for dnd and for studying.  Thanks 1 0.6666666666666666\n",
            "Hey guys, The purpose of my youtube channel is to make a archive of good songs from old games. if you have any song from a game that you like, please let me know and i will post a video of it. I will be posting a new song every day. 0 0.5555555555555556\n",
            "Just wanted to say thank you for posting this. I listen to it every day when Im working, no other Zelda playlist will do it. Its the best one! 1 0.5555555555555556\n",
            "This is going to save my A-Level. 0 0.8888888888888888\n",
            "O.O =D 1 1.0\n",
            "😄😄 1 0.8888888888888888\n",
            "Good job!! 1 0.8888888888888888\n",
            "Me trás Nostalgia e gratidão 3 0 0.5555555555555556\n",
            "I listen to this every day and I think it amazing!THANK YOU 1 0.6666666666666666\n",
            "Amazing, tysm 1 0.5555555555555556\n",
            "this playlist fills you with NOSTALGIA 1 0.6666666666666666\n",
            "This keeps me calm during online school. Thanks man 1 0.7777777777777778\n",
            "Zelda is the best thing I know.. in this world of ours. 0 0.5555555555555556\n",
            "the music is awesome 1 0.5555555555555556\n",
            "1:26:53 hits me so hard - 2017 feels so nostalgic. what a beautiful game, had great moments with my friend playing this! 1 0.8888888888888888\n",
            "The best ever. I love listening to this while stretching 💛 1 0.7777777777777778\n",
            "Next Video NO! loop it for ever :..) 0 0.7777777777777778\n",
            "I like how chill the Zelda community is in this comments. 1 0.6666666666666666\n",
            "ever since ocarina of times these games have all used an ocarina. 0 0.6666666666666667\n",
            "I love this I use it for dnd and for studying.  Thanks 1 0.6666666666666666\n",
            "Hey guys, The purpose of my youtube channel is to make a archive of good songs from old games. if you have any song from a game that you like, please let me know and i will post a video of it. I will be posting a new song every day. 0 0.5555555555555556\n",
            "Just wanted to say thank you for posting this. I listen to it every day when Im working, no other Zelda playlist will do it. Its the best one! 1 0.5555555555555556\n",
            "This is going to save my A-Level. 0 0.8888888888888888\n",
            "O.O =D 1 1.0\n",
            "😄😄 1 0.8888888888888888\n",
            "Good job!! 1 0.8888888888888888\n",
            "Me trás Nostalgia e gratidão 3 0 0.5555555555555556\n",
            "I listen to this every day and I think it amazing!THANK YOU 1 0.6666666666666666\n",
            "Amazing, tysm 1 0.5555555555555556\n",
            "this playlist fills you with NOSTALGIA 1 0.6666666666666666\n",
            "This keeps me calm during online school. Thanks man 1 0.7777777777777778\n",
            "Zelda is the best thing I know.. in this world of ours. 0 0.5555555555555556\n",
            "the music is awesome 1 0.5555555555555556\n",
            "1:26:53 hits me so hard - 2017 feels so nostalgic. what a beautiful game, had great moments with my friend playing this! 1 0.8888888888888888\n",
            "The best ever. I love listening to this while stretching 💛 1 0.7777777777777778\n",
            "Next Video NO! loop it for ever :..) 0 0.7777777777777778\n",
            "I like how chill the Zelda community is in this comments. 1 0.6666666666666666\n",
            "ever since ocarina of times these games have all used an ocarina. 0 0.6666666666666667\n",
            "I love this I use it for dnd and for studying.  Thanks 1 0.6666666666666666\n",
            "Hey guys, The purpose of my youtube channel is to make a archive of good songs from old games. if you have any song from a game that you like, please let me know and i will post a video of it. I will be posting a new song every day. 0 0.5555555555555556\n",
            "Just wanted to say thank you for posting this. I listen to it every day when Im working, no other Zelda playlist will do it. Its the best one! 1 0.5555555555555556\n",
            "This is going to save my A-Level. 0 0.8888888888888888\n",
            "O.O =D 1 1.0\n",
            "😄😄 1 0.8888888888888888\n",
            "Good job!! 1 0.8888888888888888\n",
            "Me trás Nostalgia e gratidão 3 0 0.5555555555555556\n",
            "I listen to this every day and I think it amazing!THANK YOU 1 0.6666666666666666\n",
            "Amazing, tysm 1 0.5555555555555556\n",
            "this playlist fills you with NOSTALGIA 1 0.6666666666666666\n",
            "This keeps me calm during online school. Thanks man 1 0.7777777777777778\n",
            "Zelda is the best thing I know.. in this world of ours. 0 0.5555555555555556\n",
            "the music is awesome 1 0.5555555555555556\n",
            "1:26:53 hits me so hard - 2017 feels so nostalgic. what a beautiful game, had great moments with my friend playing this! 1 0.8888888888888888\n",
            "The best ever. I love listening to this while stretching 💛 1 0.7777777777777778\n",
            "Next Video NO! loop it for ever :..) 0 0.7777777777777778\n",
            "I like how chill the Zelda community is in this comments. 1 0.6666666666666666\n",
            "ever since ocarina of times these games have all used an ocarina. 0 0.6666666666666667\n",
            "I love this I use it for dnd and for studying.  Thanks 1 0.6666666666666666\n",
            "Hey guys, The purpose of my youtube channel is to make a archive of good songs from old games. if you have any song from a game that you like, please let me know and i will post a video of it. I will be posting a new song every day. 0 0.5555555555555556\n",
            "Just wanted to say thank you for posting this. I listen to it every day when Im working, no other Zelda playlist will do it. Its the best one! 1 0.5555555555555556\n",
            "This is going to save my A-Level. 0 0.8888888888888888\n",
            "O.O =D 1 1.0\n",
            "😄😄 1 0.8888888888888888\n",
            "Good job!! 1 0.8888888888888888\n"
          ],
          "name": "stdout"
        }
      ]
    },
    {
      "cell_type": "code",
      "metadata": {
        "colab": {
          "base_uri": "https://localhost:8080/",
          "height": 265
        },
        "id": "8V2plsDUPP4F",
        "outputId": "31bf4fe7-5d2c-4741-ef1f-3b36e5234aba"
      },
      "source": [
        "plot_text_trendline()"
      ],
      "execution_count": null,
      "outputs": [
        {
          "output_type": "display_data",
          "data": {
            "image/png": "[encoded data removed]",
            "text/plain": [
              "<Figure size 432x288 with 1 Axes>"
            ]
          },
          "metadata": {
            "tags": []
          }
        }
      ]
    },
    {
      "cell_type": "markdown",
      "metadata": {
        "id": "c9LsPFO7XA54"
      },
      "source": [
        "### Adicional 3: Clasificación de Lyrics de Genius.com\n",
        "La quinta y última aplicación, que nos pareció muy interesante es la clasificación de letras de canciones provenientes de Genius.com. Tradicionalmente las canciones suelen tener textos muy expresivos, por lo que nos pareció un muy buen lugar donde probar nuestros modelos."
      ]
    },
    {
      "cell_type": "markdown",
      "metadata": {
        "id": "XQ0AAC83h5zL"
      },
      "source": [
        "Generamos una aplicación en la Client API de Genius.com (http://genius.com/api-clients). **Nota**: es necesario tener una cuenta de Genius para poder usar su API. De aquí también seleccionamos algunos parámetros para la request que queremos hacer."
      ]
    },
    {
      "cell_type": "code",
      "metadata": {
        "id": "mtr_8rk0XgQ_"
      },
      "source": [
        "# Configuración de la clase Genius\n",
        "token_genius = ''\n",
        "genius = Genius(token_genius)\n",
        "genius.remove_section_headers = True\n",
        "genius.excluded_terms = [\"(Remix)\", \"(Live)\"]"
      ],
      "execution_count": null,
      "outputs": []
    },
    {
      "cell_type": "markdown",
      "metadata": {
        "id": "FziOJjI2m6iw"
      },
      "source": [
        "En la siguiente celda, se puede seleccionar el nombre del artista y la canción sobre la cual se quieren obtener los lyrics. **Nota:** ambos parámetros son necesarios para poder hacer la request."
      ]
    },
    {
      "cell_type": "code",
      "metadata": {
        "colab": {
          "base_uri": "https://localhost:8080/"
        },
        "id": "7yRuufCF-4EP",
        "outputId": "d7ed559e-267e-42c5-9d41-2d9a8c7e6bf6"
      },
      "source": [
        "## By song\n",
        "artist_name = 'Weyes Blood'\n",
        "songname = \"Andromeda\"\n",
        "song = genius.search_song(songname, artist_name)\n",
        "print(song.lyrics)"
      ],
      "execution_count": null,
      "outputs": [
        {
          "output_type": "stream",
          "text": [
            "Searching for \"Andromeda\" by Weyes Blood...\n",
            "Done.\n",
            "Andromeda's a big wide open galaxy\n",
            "Nothing in it for me\n",
            "'Cept my heart that's lazy\n",
            "Runnin' from my own life now\n",
            "I'm really turnin' some time\n",
            "Looking up to the sky for something I may never find\n",
            "\n",
            "Stop calling\n",
            "It's time to let me be\n",
            "If you think you can save me\n",
            "I dare you to try\n",
            "\n",
            "Lift the heart from the depths it's fallen to\n",
            "We all want something new\n",
            "But can't seem to follow through\n",
            "Something's better than nothing\n",
            "Or so that I thought\n",
            "Now I know it's just one dream\n",
            "All these others gonna tear me apart\n",
            "\n",
            "Love is calling\n",
            "It's time to let it through\n",
            "Find a love that will make you\n",
            "I dare you to try\n",
            "\n",
            "Crazy guy\n",
            "I think this is deep\n",
            "Think it's meant to be\n",
            "More than anything I can think of\n",
            "I'm ready to try\n",
            "\n",
            "Treat me right\n",
            "I'm still a good man's daughter\n",
            "Let me in if I break\n",
            "And be quiet if I shatter\n",
            "Gettin' tired of looking\n",
            "You know that I hate the game\n",
            "Don't wanna waste any more time\n",
            "You know I been holdin' out\n",
            "\n",
            "Love is calling\n",
            "It's time to give to you\n",
            "Something you can hold onto\n",
            "I dare you to try\n"
          ],
          "name": "stdout"
        }
      ]
    },
    {
      "cell_type": "markdown",
      "metadata": {
        "id": "82tmO02qsUcC"
      },
      "source": [
        "La API nos regresa el texto como un sólo string, sin embargo, nosotros queremos hacer las clasificaciones por verso. En la siguiente celda separamos los lyrics por vero, antes de clasificarlos. Cabe mencionar también que a estos no les hacemos ningún otro tipo de procesamiento. Esto es debido a que este ya viene prácticamente limpio del API, no creemos que haya necesidad de pasarlo por nuestra función de procesamiento."
      ]
    },
    {
      "cell_type": "code",
      "metadata": {
        "id": "oug78lDJYEUN"
      },
      "source": [
        "lyrics = song.lyrics.splitlines()"
      ],
      "execution_count": null,
      "outputs": []
    },
    {
      "cell_type": "markdown",
      "metadata": {
        "id": "vkICwUpwnHib"
      },
      "source": [
        "Ya con los lyrics, corremos la función para clasificarlos por verso"
      ]
    },
    {
      "cell_type": "code",
      "metadata": {
        "colab": {
          "base_uri": "https://localhost:8080/"
        },
        "id": "fKUljaql_ysw",
        "outputId": "0f8b577b-18bf-4135-8944-7fdf07cff60a"
      },
      "source": [
        "classify_text_set(lyrics)"
      ],
      "execution_count": null,
      "outputs": [
        {
          "output_type": "stream",
          "text": [
            "Andromeda's a big wide open galaxy 0 0.5555555555555556\n",
            "Nothing in it for me 0 0.7777777777777778\n",
            "'Cept my heart that's lazy 0 0.7777777777777778\n",
            "Runnin' from my own life now 1 0.5555555555555556\n",
            "I'm really turnin' some time 0 0.7777777777777778\n",
            "Looking up to the sky for something I may never find 0 0.8888888888888888\n",
            "Stop calling 0 0.6666666666666667\n",
            "It's time to let me be 1 0.5555555555555556\n",
            "If you think you can save me 1 0.5555555555555556\n",
            "I dare you to try 1 0.6666666666666666\n",
            "Lift the heart from the depths it's fallen to 1 0.6666666666666666\n",
            "We all want something new 0 0.8888888888888888\n",
            "But can't seem to follow through 0 0.8888888888888888\n",
            "Something's better than nothing 0 0.5555555555555556\n",
            "Or so that I thought 0 0.7777777777777778\n",
            "Now I know it's just one dream 0 0.5555555555555556\n",
            "All these others gonna tear me apart 0 0.8888888888888888\n",
            "Love is calling 0 0.5555555555555556\n",
            "It's time to let it through 1 0.5555555555555556\n",
            "Find a love that will make you 1 0.5555555555555556\n",
            "I dare you to try 1 0.6666666666666666\n",
            "Crazy guy 1 0.7777777777777778\n",
            "I think this is deep 1 0.8888888888888888\n",
            "Think it's meant to be 1 0.5555555555555556\n",
            "More than anything I can think of 1 0.6666666666666666\n",
            "I'm ready to try 1 0.8888888888888888\n",
            "Treat me right 0 0.5555555555555556\n",
            "I'm still a good man's daughter 1 0.5555555555555556\n",
            "Let me in if I break 0 0.7777777777777778\n",
            "And be quiet if I shatter 1 0.7777777777777778\n",
            "Gettin' tired of looking 0 0.5555555555555556\n",
            "You know that I hate the game 0 0.8888888888888888\n",
            "Don't wanna waste any more time 0 0.8888888888888888\n",
            "You know I been holdin' out 0 0.7777777777777778\n",
            "Love is calling 0 0.5555555555555556\n",
            "It's time to give to you 1 0.5555555555555556\n",
            "Something you can hold onto 1 0.5555555555555556\n",
            "I dare you to try 1 0.6666666666666666\n"
          ],
          "name": "stdout"
        }
      ]
    },
    {
      "cell_type": "markdown",
      "metadata": {
        "id": "ElN1FLLXnNsF"
      },
      "source": [
        "Y finalmente, corremos la función para generar la gráfica de tendencia."
      ]
    },
    {
      "cell_type": "code",
      "metadata": {
        "id": "0XgjkxkCADIi",
        "colab": {
          "base_uri": "https://localhost:8080/",
          "height": 265
        },
        "outputId": "5bd72315-f7d0-4cf9-d176-fbb8b6b8588e"
      },
      "source": [
        "plot_text_trendline()"
      ],
      "execution_count": null,
      "outputs": [
        {
          "output_type": "display_data",
          "data": {
            "image/png": "[encoded data removed]",
            "text/plain": [
              "<Figure size 432x288 with 1 Axes>"
            ]
          },
          "metadata": {
            "tags": []
          }
        }
      ]
    },
    {
      "cell_type": "code",
      "metadata": {
        "id": "mgn9GdrOZDx0"
      },
      "source": [
        "# Comando para obtener el archivo de requerimientos\n",
        "# pip freeze > requirements.txt"
      ],
      "execution_count": null,
      "outputs": []
    },
    {
      "cell_type": "code",
      "metadata": {
        "id": "ZXpNd6zUZUnq"
      },
      "source": [
        ""
      ],
      "execution_count": null,
      "outputs": []
    }
  ]
}